{
 "cells": [
  {
   "cell_type": "code",
   "execution_count": 41,
   "id": "ec77f66f",
   "metadata": {},
   "outputs": [],
   "source": [
    "#!/usr/bin/env python\n",
    "# -*- coding: utf-8 -*-\n",
    "\n",
    "HOST = \"localhost\"\n",
    "PORT = 4223\n",
    "SS1_UID = \"6wVow5\"\n",
    "# SS2_UID = \"6CQ4nA\"\n",
    "# LC1_UID = 'Khd'\n",
    "LC2_UID = 'KiG'\n",
    "import time\n",
    "\n",
    "from tinkerforge.ip_connection import IPConnection\n",
    "from tinkerforge.brick_silent_stepper import BrickSilentStepper\n",
    "from tinkerforge.bricklet_load_cell_v2 import BrickletLoadCellV2\n",
    "import numpy as np\n",
    "from tqdm import tqdm\n",
    "import pandas as pd\n",
    "import time\n",
    "\n",
    "# 10.4 initial distance, 2.8 mm thickness\n",
    "# SAVE_FILENAME = \"04.03.25_WT_idx0.csv\"\n",
    "\n",
    "# 7.8 initial distance, 2.8mm thickness\n",
    "# SAVE_FILENAME = \"tensile_tests/04.03.25_WT_idx1_already_stressed.csv\"\n",
    "\n",
    "\n",
    "# 5.2 initial distance, 2.2mm thickness\n",
    "# SAVE_FILENAME = \"tensile_tests/04.03.25_WT_idx2.csv\"\n",
    "\n",
    "# 5.2 initial distance, 4.5mm width, 0.4mm thickness\n",
    "# SAVE_FILENAME = \"tensile_tests/04.03.25_BslA_idx0.csv\"\n",
    "\n",
    "# 5.1 initial distance, 4.5mm width, 0.4mm thickness\n",
    "# SAVE_FILENAME = \"tensile_tests/04.03.25_BslA_idx1.csv\"\n",
    "\n",
    "\n",
    "# # 5.2 initial distance, 6mm width, 0.8mm thickness\n",
    "# SAVE_FILENAME = \"tensile_tests/04.03.25_WT_idx3_pressed_dry.csv\"\n",
    "\n",
    "\n",
    "# 5.1 initial distance, 3.4mm width, 0.4mm thickness\n",
    "# SAVE_FILENAME = \"tensile_tests/04.03.25_BslA_idx2.csv\"\n",
    "\n",
    "\n",
    "# 6.1 initial distance, 4.5mm width, 0.16mm thickness\n",
    "# SAVE_FILENAME = \"tensile_tests/04.06.25_WT_dry_idx0.csv\"\n",
    "\n",
    "\n",
    "# 5.3 initial distance, 2mm width, 0.5mm thickness, slipped...\n",
    "# SAVE_FILENAME = \"tensile_tests/04.06.25_WT_dry_idx1.csv\"\n",
    "\n",
    "# # 5.3 initial distance, 2mm width, 0.5mm thickness, retry!\n",
    "# SAVE_FILENAME = \"tensile_tests/04.06.25_WT_dry_idx2.csv\"\n",
    "\n",
    "\n",
    "# 5.6 initial distance, 4.5mm width, 0.25mm thickness\n",
    "SAVE_FILENAME = \"tensile_tests/04.06.25_BslA_dry_idx0.csv\"\n",
    "\n",
    "\n",
    "ipcon = IPConnection() # Create IP connection\n",
    "ss1 = BrickSilentStepper(SS1_UID, ipcon) # Create device object\n",
    "# ss2 = BrickSilentStepper(SS2_UID, ipcon) # Create device object\n",
    "# lc1 = BrickletLoadCellV2(LC1_UID, ipcon) # Create device object\n",
    "lc2 = BrickletLoadCellV2(LC2_UID, ipcon) # Create device object\n",
    "ipcon.connect(HOST, PORT) # Connect to brickd"
   ]
  },
  {
   "cell_type": "code",
   "execution_count": 42,
   "id": "1d8ed7d3",
   "metadata": {},
   "outputs": [],
   "source": [
    "PITCH = 5  # millimeters / turn\n",
    "GEAR_RATIO = 1  # Assuming no gear ratio? https://www.omc-stepperonline.com/download/11HS12-0956D.pdf\n",
    "MICRO_STEPS_PER_REV, RESOLUTION_SETTING = (\n",
    "    256,\n",
    "    ss1.STEP_RESOLUTION_256,\n",
    ")  # 256 micro-steps per macro-step\n",
    "MACRO_STEPS_PER_REV = 200  # 200 macro-steps per revolution (1.8 degree step angle)\n",
    "STEPS_PER_REV = GEAR_RATIO * MACRO_STEPS_PER_REV * MICRO_STEPS_PER_REV\n",
    "FINAL_DISTANCE = 5  # mm\n",
    "MEASURE_FREQ = 0.1  # mm per measurement\n",
    "\n",
    "\n",
    "MAX_VELOCITY = 0.1  # mm / s\n",
    "MAX_STEPS_PER_SECOND = (\n",
    "    MAX_VELOCITY * STEPS_PER_REV\n",
    ") / PITCH  # Velocity: steps / sec\n",
    "FINAL_STEPS = (FINAL_DISTANCE * STEPS_PER_REV) / PITCH\n",
    "# MEASURE_FREQ_IN_STEPS = (STEPS_PER_REV * MEASURE_FREQ) / PITCH\n",
    "\n"
   ]
  },
  {
   "cell_type": "code",
   "execution_count": 43,
   "id": "10b316af",
   "metadata": {},
   "outputs": [
    {
     "name": "stdout",
     "output_type": "stream",
     "text": [
      "30255.973\n"
     ]
    }
   ],
   "source": [
    "df = pd.DataFrame(columns = ['Time', 'Force (Newtons)', 'Distance (millimeters)'])\n",
    "\n",
    "ss1.enable() \n",
    "ss1.set_current_position(0) # Initialize to 0\n",
    "ss1.set_motor_current(800) # 800 mA\n",
    "ss1.set_step_configuration(RESOLUTION_SETTING, True) # 1 / RESOLUTION_SETTING steps (interpolated)\n",
    "ss1.set_max_velocity(MAX_STEPS_PER_SECOND) # Velocity: steps/s\n",
    "ss1.set_speed_ramping(500, 5000) # Fast deacceleration (5000 steps/s^2) for stopping\n",
    "\n",
    "# Initialize Tar & Set Stepper position to 0\n",
    "\n",
    "# lc1_tar = np.mean([lc1.get_weight() for i in range(1000)])\n",
    "lc2_tar = np.mean([lc2.get_weight() for i in range(1000)])\n",
    "\n",
    "print(lc2_tar)"
   ]
  },
  {
   "cell_type": "code",
   "execution_count": 44,
   "id": "2acd84db",
   "metadata": {},
   "outputs": [
    {
     "name": "stderr",
     "output_type": "stream",
     "text": [
      "/var/folders/_t/vlf4bw_n38x9ytx94_479wt80000gp/T/ipykernel_24667/2621264185.py:19: FutureWarning:\n",
      "\n",
      "The behavior of DataFrame concatenation with empty or all-NA entries is deprecated. In a future version, this will no longer exclude empty or all-NA columns when determining the result dtypes. To retain the old behavior, exclude the relevant entries before the concat operation.\n",
      "\n"
     ]
    }
   ],
   "source": [
    "STARTING_TIME = time.time_ns() // 1_000_000\n",
    "total_steps, total_distance, total_time, total_newtons, idx = 0, 0, 0, 0, 0\n",
    "\n",
    "INITIALIZATION_TIME = 5 # 60 seconds to measure creep...\n",
    "\n",
    "for idx in range(INITIALIZATION_TIME * 100):\n",
    "    lc2_weight = (lc2.get_weight()) - lc2_tar\n",
    "    total_weight = lc2_weight / 10000\n",
    "    total_newtons = -total_weight / 1000 * 9.80665\n",
    "    total_time = (time.time_ns() // 1_000_000) - STARTING_TIME\n",
    "    total_distance = total_steps / STEPS_PER_REV * PITCH\n",
    "    new_row = pd.DataFrame(\n",
    "        {\n",
    "            \"Time\": [total_time],\n",
    "            \"Distance (millimeters)\": [total_distance],\n",
    "            \"Force (Newtons)\": [total_newtons],\n",
    "        }\n",
    "    )\n",
    "    df = pd.concat([df, new_row], ignore_index=True)\n",
    "    time.sleep(0.01)"
   ]
  },
  {
   "cell_type": "code",
   "execution_count": 45,
   "id": "079710a7",
   "metadata": {},
   "outputs": [],
   "source": [
    "# LETS RUN IT! NOTE: slapping on the negative sign sets the stepper to stretch\n",
    "ss1.set_steps(-FINAL_STEPS)"
   ]
  },
  {
   "cell_type": "code",
   "execution_count": 46,
   "id": "12904439",
   "metadata": {},
   "outputs": [
    {
     "data": {
      "text/plain": [
       "'time 58588, lc2_weight -24665.0, Total Time 58588.0, Total Weight -2.46650, Total Newtons 0.02419'"
      ]
     },
     "metadata": {},
     "output_type": "display_data"
    }
   ],
   "source": [
    "from IPython.display import clear_output\n",
    "\n",
    "while total_distance < FINAL_DISTANCE:\n",
    "    total_steps = -ss1.get_current_position()\n",
    "    total_time = (time.time_ns() // 1_000_000) - STARTING_TIME\n",
    "    total_distance = total_steps / STEPS_PER_REV * PITCH\n",
    "    # lc1_weight = lc1_tar - lc1.get_weight()  # gramspp\n",
    "    lc2_weight = (lc2.get_weight()) - lc2_tar\n",
    "    # NOTE: Yitong calibrated the load cells to 10,000x\n",
    "    # sensitivity.... (with a 50gram weight said it was 500000 grams)\n",
    "    total_weight = lc2_weight / 10000 #(lc1_weight + lc2_weight) / (2 * 10000)\n",
    "    # TODO: DOES THIS COME OUT IN GRAMS?\n",
    "    total_newtons = -total_weight / 1000 * 9.80665  # m/s^2\n",
    "    clear_output(wait=True)  # Clear the previous output\n",
    "\n",
    "    display(\n",
    "        f\"time {total_time:.0f}, lc2_weight {lc2_weight:.1f}, Total Time {total_time:.1f}, Total Weight {total_weight:.5f}, Total Newtons {total_newtons:.5f}\"\n",
    "    )\n",
    "\n",
    "    # display(f'{idx} Total Distance {total_distance:.5f}, Total Force {total_newtons:.5f}, Total Time {total_time:.5f}')\n",
    "\n",
    "    # Create a new row as a DataFrame\n",
    "    new_row = pd.DataFrame(\n",
    "        {\n",
    "            \"Time\": [total_time],\n",
    "            \"Distance (millimeters)\": [total_distance],\n",
    "            \"Force (Newtons)\": [total_newtons],\n",
    "        }\n",
    "    )\n",
    "\n",
    "    # Use pd.concat to add the new row to the existing DataFrame\n",
    "    df = pd.concat([df, new_row], ignore_index=True)\n",
    "\n",
    "    time.sleep(0.01)\n",
    "    # clear_output(wait=True)\n",
    "    df.to_csv(SAVE_FILENAME)"
   ]
  },
  {
   "cell_type": "code",
   "execution_count": 47,
   "id": "4110fc30",
   "metadata": {},
   "outputs": [],
   "source": [
    "time.sleep(2) # Wait for motor to actually stop\n",
    "ss1.disable()\n",
    "ipcon.disconnect()"
   ]
  },
  {
   "cell_type": "code",
   "execution_count": 48,
   "id": "dfe5c22e",
   "metadata": {},
   "outputs": [
    {
     "data": {
      "text/html": [
       "<div>\n",
       "<style scoped>\n",
       "    .dataframe tbody tr th:only-of-type {\n",
       "        vertical-align: middle;\n",
       "    }\n",
       "\n",
       "    .dataframe tbody tr th {\n",
       "        vertical-align: top;\n",
       "    }\n",
       "\n",
       "    .dataframe thead th {\n",
       "        text-align: right;\n",
       "    }\n",
       "</style>\n",
       "<table border=\"1\" class=\"dataframe\">\n",
       "  <thead>\n",
       "    <tr style=\"text-align: right;\">\n",
       "      <th></th>\n",
       "      <th>Time</th>\n",
       "      <th>Force (Newtons)</th>\n",
       "      <th>Distance (millimeters)</th>\n",
       "    </tr>\n",
       "  </thead>\n",
       "  <tbody>\n",
       "    <tr>\n",
       "      <th>0</th>\n",
       "      <td>59</td>\n",
       "      <td>0.002536</td>\n",
       "      <td>0.000000</td>\n",
       "    </tr>\n",
       "    <tr>\n",
       "      <th>1</th>\n",
       "      <td>83</td>\n",
       "      <td>0.002415</td>\n",
       "      <td>0.000000</td>\n",
       "    </tr>\n",
       "    <tr>\n",
       "      <th>2</th>\n",
       "      <td>99</td>\n",
       "      <td>0.002415</td>\n",
       "      <td>0.000000</td>\n",
       "    </tr>\n",
       "    <tr>\n",
       "      <th>3</th>\n",
       "      <td>116</td>\n",
       "      <td>0.002310</td>\n",
       "      <td>0.000000</td>\n",
       "    </tr>\n",
       "    <tr>\n",
       "      <th>4</th>\n",
       "      <td>130</td>\n",
       "      <td>0.002310</td>\n",
       "      <td>0.000000</td>\n",
       "    </tr>\n",
       "    <tr>\n",
       "      <th>...</th>\n",
       "      <td>...</td>\n",
       "      <td>...</td>\n",
       "      <td>...</td>\n",
       "    </tr>\n",
       "    <tr>\n",
       "      <th>2469</th>\n",
       "      <td>58466</td>\n",
       "      <td>0.024200</td>\n",
       "      <td>4.996875</td>\n",
       "    </tr>\n",
       "    <tr>\n",
       "      <th>2470</th>\n",
       "      <td>58501</td>\n",
       "      <td>0.024200</td>\n",
       "      <td>4.998535</td>\n",
       "    </tr>\n",
       "    <tr>\n",
       "      <th>2471</th>\n",
       "      <td>58530</td>\n",
       "      <td>0.024200</td>\n",
       "      <td>4.999414</td>\n",
       "    </tr>\n",
       "    <tr>\n",
       "      <th>2472</th>\n",
       "      <td>58558</td>\n",
       "      <td>0.024188</td>\n",
       "      <td>4.999902</td>\n",
       "    </tr>\n",
       "    <tr>\n",
       "      <th>2473</th>\n",
       "      <td>58588</td>\n",
       "      <td>0.024188</td>\n",
       "      <td>5.000000</td>\n",
       "    </tr>\n",
       "  </tbody>\n",
       "</table>\n",
       "<p>2474 rows × 3 columns</p>\n",
       "</div>"
      ],
      "text/plain": [
       "       Time  Force (Newtons)  Distance (millimeters)\n",
       "0        59         0.002536                0.000000\n",
       "1        83         0.002415                0.000000\n",
       "2        99         0.002415                0.000000\n",
       "3       116         0.002310                0.000000\n",
       "4       130         0.002310                0.000000\n",
       "...     ...              ...                     ...\n",
       "2469  58466         0.024200                4.996875\n",
       "2470  58501         0.024200                4.998535\n",
       "2471  58530         0.024200                4.999414\n",
       "2472  58558         0.024188                4.999902\n",
       "2473  58588         0.024188                5.000000\n",
       "\n",
       "[2474 rows x 3 columns]"
      ]
     },
     "execution_count": 48,
     "metadata": {},
     "output_type": "execute_result"
    }
   ],
   "source": [
    "df.to_csv(SAVE_FILENAME)\n",
    "df"
   ]
  },
  {
   "cell_type": "code",
   "execution_count": 49,
   "id": "f48848dc",
   "metadata": {},
   "outputs": [
    {
     "ename": "SyntaxError",
     "evalue": "'break' outside loop (668683560.py, line 1)",
     "output_type": "error",
     "traceback": [
      "\u001b[0;36m  Cell \u001b[0;32mIn[49], line 1\u001b[0;36m\u001b[0m\n\u001b[0;31m    break\u001b[0m\n\u001b[0m    ^\u001b[0m\n\u001b[0;31mSyntaxError\u001b[0m\u001b[0;31m:\u001b[0m 'break' outside loop\n"
     ]
    }
   ],
   "source": [
    "break"
   ]
  },
  {
   "cell_type": "markdown",
   "id": "7c018740",
   "metadata": {},
   "source": [
    "# BslA-modified leather Young's Modulus Calculation"
   ]
  },
  {
   "cell_type": "code",
   "execution_count": 51,
   "id": "15df0834",
   "metadata": {},
   "outputs": [],
   "source": [
    "import plotly.express as px\n",
    "import matplotlib.pyplot as plt\n",
    "import plotly.express as px\n",
    "import matplotlib.pyplot as plt\n",
    "\n",
    "\n",
    "def plot_force_distance(filename):\n",
    "    df = pd.read_csv(filename)\n",
    "    fig = px.line(\n",
    "        df,\n",
    "        x=\"Distance (millimeters)\",\n",
    "        y=\"Force (Newtons)\",\n",
    "        title=f\"Force / Distance of {filename}\",\n",
    "    )\n",
    "    fig.show()\n",
    "    return df\n",
    "\n",
    "\n",
    "def calculate_stress_strain(\n",
    "    filename,\n",
    "    df,\n",
    "    width,\n",
    "    thickness,\n",
    "    total_length,\n",
    "    init_distance,\n",
    "    final_distance,\n",
    "    filter_to_strain_range=(0, 0.5),\n",
    "):\n",
    "    cross_sectional_area = (width * thickness) / 10**6  # mm^2 turned into m^2\n",
    "    filtered_df = df\n",
    "    filtered_df[\"Strain (%)\"] = (\n",
    "        filtered_df[\"Distance (millimeters)\"] - init_distance\n",
    "    ) / total_length\n",
    "    # Divide by 1e6 to convert to MPa\n",
    "    filtered_df[\"Stress (MPa)\"] = filtered_df[\"Force (Newtons)\"] / (\n",
    "        cross_sectional_area * 1e6\n",
    "    )\n",
    "    peak_force_row = filtered_df.loc[filtered_df[\"Force (Newtons)\"].idxmax()]\n",
    "    if filter_to_strain_range is not None:\n",
    "        filtered_df = filtered_df[\n",
    "            (filtered_df[\"Strain (%)\"] >= filter_to_strain_range[0])\n",
    "            & (filtered_df[\"Strain (%)\"] <= filter_to_strain_range[1])\n",
    "        ]\n",
    "    print(\"Peak Force Row:\", peak_force_row)\n",
    "    fig = px.line(\n",
    "        filtered_df,\n",
    "        x=\"Strain (%)\",\n",
    "        y=\"Stress (MPa)\",\n",
    "        title=f\"Stress / Strain of {filename}\",\n",
    "    )\n",
    "    fig.show()\n",
    "    return filtered_df\n",
    "\n",
    "\n",
    "def calculate_youngs_modulus(filtered_df, final_strain, final_stress):\n",
    "    init_strain, init_stress = 0, 0\n",
    "    filtered_df[\"Delta Strain (%)\"] = filtered_df[\"Strain (%)\"].diff()\n",
    "    # Use the trapezoidal rule to calculate the area under the curve\n",
    "    # for \"toughness\" in terms of energy per unit area (Joules per square meter, for instance)\n",
    "\n",
    "    print(f\"Failure Strain {final_strain:.4f} Peak Stress (MPa) {final_stress:.4f}\")\n",
    "    youngs_modulus = (final_stress - init_stress) / (final_strain - init_strain)\n",
    "    print(f\"Young's Modulus {youngs_modulus:.4f} MPa\")\n",
    "    filtered_df[\"Trapezoid Area (J/m^3)\"] = (\n",
    "        0.5\n",
    "        * (filtered_df[\"Stress (MPa)\"] + filtered_df[\"Stress (MPa)\"].shift(1))\n",
    "        * filtered_df[\"Delta Strain (%)\"]\n",
    "    )\n",
    "    filtered_df[\"Trapezoid Area (J/m^3)\"].fillna(0, inplace=True)\n",
    "    total_toughness = filtered_df[\"Trapezoid Area (J/m^3)\"].sum()\n",
    "    print(f\"Total Toughness: {total_toughness:.6f} J/m^3\")"
   ]
  },
  {
   "cell_type": "code",
   "execution_count": 52,
   "id": "e83590cc",
   "metadata": {},
   "outputs": [
    {
     "data": {
      "application/vnd.plotly.v1+json": {
       "config": {
        "plotlyServerURL": "https://plot.ly"
       },
       "data": [
        {
         "hovertemplate": "Distance (millimeters)=%{x}<br>Force (Newtons)=%{y}<extra></extra>",
         "legendgroup": "",
         "line": {
          "color": "#636efa",
          "dash": "solid"
         },
         "marker": {
          "symbol": "circle"
         },
         "mode": "lines",
         "name": "",
         "showlegend": false,
         "type": "scattergl",
         "x": {
          "bdata": "AAAAAAAAAAAAAAAAAAAAAAAAAAAAAAAAAAAAAAAAAAAAAAAAAAAAAAAAAAAAAAAAAAAAAAAAAAAAAAAAAAAAAAAAAAAAAAAAAAAAAAAAAAAAAAAAAAAAAAAAAAAAAAAAAAAAAAAAAAAAAAAAAAAAAAAAAAAAAAAAAAAAAAAAAAAAAAAAAAAAAAAAAAAAAAAAAAAAAAAAAAAAAAAAAAAAAAAAAAAAAAAAAAAAAAAAAAAAAAAAAAAAAAAAAAAAAAAAAAAAAAAAAAAAAAAAAAAAAAAAAAAAAAAAAAAAAAAAAAAAAAAAAAAAAAAAAAAAAAAAAAAAAAAAAAAAAAAAAAAAAAAAAAAAAAAAAAAAAAAAAAAAAAAAAAAAAAAAAAAAAAAAAAAAAAAAAAAAAAAAAAAAAAAAAAAAAAAAAAAAAAAAAAAAAAAAAAAAAAAAAAAAAAAAAAAAAAAAAAAAAAAAAAAAAAAAAAAAAAAAAAAAAAAAAAAAAAAAAAAAAAAAAAAAAAAAAAAAAAAAAAAAAAAAAAAAAAAAAAAAAAAAAAAAAAAAAAAAAAAAAAAAAAAAAAAAAAAAAAAAAAAAAAAAAAAAAAAAAAAAAAAAAAAAAAAAAAAAAAAAAAAAAAAAAAAAAAAAAAAAAAAAAAAAAAAAAAAAAAAAAAAAAAAAAAAAAAAAAAAAAAAAAAAAAAAAAAAAAAAAAAAAAAAAAAAAAAAAAAAAAAAAAAAAAAAAAAAAAAAAAAAAAAAAAAAAAAAAAAAAAAAAAAAAAAAAAAAAAAAAAAAAAAAAAAAAAAAAAAAAAAAAAAAAAAAAAAAAAAAAAAAAAAAAAAAAAAAAAAAAAAAAAAAAAAAAAAAAAAAAAAAAAAAAAAAAAAAAAAAAAAAAAAAAAAAAAAAAAAAAAAAAAAAAAAAAAAAAAAAAAAAAAAAAAAAAAAAAAAAAAAAAAAAAAAAAAAAAAAAAAAAAAAAAAAAAAAAAAAAAAAAAAAAAAAAAAAAAAAAAAAAAAAAAAAAAAAAAAAAAAAAAAAAAAAAAAAAAAAAAAAAAAAAAAAAAAAAAAAAAAAAAAAAAAAAAAAAAAAAAAAAAAAAAAAAAAAAAAAAAAAAAAAAAAAAAAAAAAAAAAAAAAAAAAAAAAAAAAAAAAAAAAAAAAAAAAAAAAAAAAAAAAAAAAAAAAAAAAAAAAAAAAAAAAAAAAAAAAAAAAAAAAAAAAAAAAAAAAAAAAAAAAAAAAAAAAAAAAAAAAAAAAAAAAAAAAAAAAAAAAAAAAAAAAAAAAAAAAAAAAAAAAAAAAAAAAAAAAAAAAAAAAAAAAAAAAAAAAAAAAAAAAAAAAAAAAAAAAAAAAAAAAAAAAAAAAAAAAAAAAAAAAAAAAAAAAAAAAAAAAAAAAAAAAAAAAAAAAAAAAAAAAAAAAAAAAAAAAAAAAAAAAAAAAAAAAAAAAAAAAAAAAAAAAAAAAAAAAAAAAAAAAAAAAAAAAAAAAAAAAAAAAAAAAAAAAAAAAAAAAAAAAAAAAAAAAAAAAAAAAAAAAAAAAAAAAAAAAAAAAAAAAAAAAAAAAAAAAAAAAAAAAAAAAAAAAAAAAAAAAAAAAAAAAAAAAAAAAAAAAAAAAAAAAAAAAAAAAAAAAAAAAAAAAAAAAAAAAAAAAAAAAAAAAAAAAAAAAAAAAAAAAAAAAAAAAAAAAAAAAAAAAAAAAAAAAAAAAAAAAAAAAAAAAAAAAAAAAAAAAAAAAAAAAAAAAAAAAAAAAAAAAAAAAAAAAAAAAAAAAAAAAAAAAAAAAAAAAAAAAAAAAAAAAAAAAAAAAAAAAAAAAAAAAAAAAAAAAAAAAAAAAAAAAAAAAAAAAAAAAAAAAAAAAAAAAAAAAAAAAAAAAAAAAAAAAAAAAAAAAAAAAAAAAAAAAAAAAAAAAAAAAAAAAAAAAAAAAAAAAAAAAAAAAAAAAAAAAAAAAAAAAAAAAAAAAAAAAAAAAAAAAAAAAAAAAAAAAAAAAAAAAAAAAAAAAAAAAAAAAAAAAAAAAAAAAAAAAAAAAAAAAAAAAAAAAAAAAAAAAAAAAAAAAAAAAAAAAAAAAAAAAAAAAAAAAAAAAAAAAAAAAAAAAAAAAAAAAAAAAAAAAAAAAAAAAAAAAAAAAAAAAAAAAAAAAAAAAAAAAAAAAAAAAAAAAAAAAAAAAAAAAAAAAAAAAAAAAAAAAAAAAAAAAAAAAAAAAAAAAAAAAAAAAAAAAAAAAAAAAAAAAAAAAAAAAAAAAAAAAAAAAAAAAAAAAAAAAAAAAAAAAAAAAAAAAAAAAAAAAAAAAAAAAAAAAAAAAAAAAAAAAAAAAAAAAAAAAAAAAAAAAAAAAAAAAAAAAAAAAAAAAAAAAAAAAAAAAAAAAAAAAAAAAAAAAAAAAAAAAAAAAAAAAAAAAAAAAAAAAAAAAAAAAAAAAAAAAAAAAAAAAAAAAAAAAAAAAAAAAAAAAAAAAAAAAAAAAAAAAAAAAAAAAAAAAAAAAAAAAAAAAAAAAAAAAAAAAAAAAAAAAAAAAAAAAAAAAAAAAAAAAAAAAAAAAAAAAAAAAAAAAAAAAAAAAAAAAAAAAAAAAAAAAAAAAAAAAAAAAAAAAAAAAAAAAAAAAAAAAAAAAAAAAAAAAAAAAAAAAAAAAAAAAAAAAAAAAAAAAAAAAAAAAAAAAAAAAAAAAAAAAAAAAAAAAAAAAAAAAAAAAAAAAAAAAAAAAAAAAAAAAAAAAAAAAAAAAAAAAAAAAAAAAAAAAAAAAAAAAAAAAAAAAAAAAAAAAAAAAAAAAAAAAAAAAAAAAAAAAAAAAAAAAAAAAAAAAAAAAAAAAAAAAAAAAAAAAAAAAAAAAAAAAAAAAAAAAAAAAAAAAAAAAAAAAAAAAAAAAAAAAAAAAAAAAAAAAAAAAAAAAAAAAAAAAAAAAAAAAAAAAAAAAAAAAAAAAAAAAAAAAAAAAAAAAAAAAAAAAAAAAAAAAAAAAAAAAAAAAAAAAAAAAAAAAAAAAAAAAAAAAAAAAAAAAAAAAAAAAAAAAAAAAAAAAAAAAAAAAAAAAAAAAAAAAAAAAAAAAAAAAAAAAAAAAAAAAAAAAAAAAAAAAAAAAAAAAAAAAAAAAAAAAAAAAAAAAAAAAAAAAAAAAAAAAAAAAAAAAAAAAAAAAAAAAAAAAAAAAAAAAAAAAAAAAAAAAAAAAAAAAAAAAAAAAAAAAAAAAAAAAAAAAAAAAAAAAAAAAAAAAAAAAAAAAAAAAAAAAAAAAAAAAAAAAAAAAAAAAAAAAAAAAAAAAAAAAAAAAAAAAAAAAAAAAAAAAAAAAAAAAAAAAAAAAAAAAAAAAAAAAAAAAAAAAAAAAAAAAAAAAAAAAAAAAAAAAAAAAAAAAAAAAAAAAAAAAAAAAAAAAAAAAAAAAAAAAAAAAAAAAAAAAAAAAAAAAAAAAAAAAAAAAAAAAAAAAAAAAAAAAAAAAAAAAAAAAAAAAAAAAAAAAAAAAAAAAAAAAAAAAAAAAAAAAAAAAAAAAAAAAAAAAAAAAAAAAAAAAAAAAAAAAAAAAAAAAAAAAAAAAAAAAAAAAAAAAAAAAAAAAAAAAAAAAAAAAAAAAAAAAAAAAAAAAAAAAAAAAAAAAAAAAAAAAAAAAAAAAAAAAAAAAAAAAAAAAAAAAAAAAAAAAAAAAAAAAAAAAAAAAAAAAAAAAAAAAAAAAAAAAAAAAAAAAAAAAAAAAAAAAAAAAAAAAAAAAAAAAAAAAAAAAAAAAAAAAAAAAAAAAAAAAAAAAAAAAAAAAAAAAAAAAAAAAAAAAAAAAAAAAAAAAAAAAAAAAAAAAAAAAAAAAAAAAAAAAAAAAAAAAAAAAAAAAAAAAAAAAAAAAAAAAAAAAAAAAAAAAAAAAAAAAAAAAAAAAAAAAAAAAAAAAAAAAAAAAAAAAAAAAAAAAAAAAAAAAAAAAAAAAAAAAAAAAAAAAAAAAAAAAAAAAAAAAAAAAAAAAAAAAAAAAAAAAAAAAAAAAAAAAAAAAAAAAAAAAAAAAAAAAAAAAAAAAAAAAAAAAAAAAAAAAAAAAAAAAAAAAAAAAAAAAAAAAAAAAAAAAAAAAAAAAAAAAAAAAAAAAAAAAAAAAAAAAAAAAAAAAAAAAAAAAAAAAAAAAAAAAAAAAAAAAAAAAAAAAAAAAAAAAAAAAAAAAAAAAAAAAAAAAAAAAAAAAAAAAAAAAAAAAAAAAAAAAAAAAAAAAAAAAAAAAAAAAAAAAAAAAAAAAAAAAAAAAAAAAAAAAAAAAAAAAAAAAAAAAAAAAAAAAAAAAAAAAAAAAAAAAAAAAAAAAAAAAAAAAAAAAAAAAAAAAAAAAAAAAAAAAAAAAAAAAAAAAAAAAAAAAAAAAAAAAAAAAAAAAAAAAAAAAAAAAAAAAAAAAAAAAAAAAAAAAAAAAAAAAAAAAAAAAAAAAAAAAAAAAAAAAAAAAAAAAAAAAAAAAAAAAAAAAAAAAAAAAAAAAAAAAAAAAAAAAAAAAAAAAAAAAAAAAAAAAAAAAAAAAAAAAAAAAAAAAAAAAAAAAAAAAAAAAAAAAAAAAAAAAAAAAAAAAAAAAAAAAAAAAAAAAAAAAAAAAAAAAAAAAAAAAAAAAAAAAAAAAAAAAAAAAAAAAAAAAAAAAAAAAAAAAAAAAAAAAAAAAAAAAAAAAAAAAAAAAAAAAAAAAAAAAAAAAAAAAAAAAAAAAAAAAAAAAAAAAAAAAAAAAAAAAAAAAAAAAAAAAAAAAAAAAAAAAAAAAAAAAAAAAAAAAAAAAAAAAAAAAAAAAAAAAAAAAAAAAAAAAAAAAAAAAAAAAAAAAAAAAAAAAAAAAAAAAAAAAAAAAAAAAAAAAAAAAAAAAAAAAAAAAAAAAAAAAAAAAAAAAAAAAAAAAAAAAAAAAAAAAAAAAAAAAAAAAAAAAAAAAAAAAAAAAAAAAAAAAAAAAAAAAAAAAAAAAAAAAAAAAAAAAAAAAAAAAAAAAAAAAAAAAAAAAAAAAAAAAAAAAAAAAAAAAAAAAAAAAAAAAAAAAAAAAAAAAAAAAAAAAAAAAAAAAAAAAAAAAAAAAAAAAAAAAAAAAAAAAAAAAAAAAAAAAAAAAAAAAAAAAAAAAAAAAAAAAAAAAAAAAAAAAAAAAAAAAAAAAAAAAAAAAAAAAAAAAAAAAAAAAAAAAAAAAAAAAAAAAAAAAAAAAAAAAAAAAAAAAAAAAAAAAAAAAAAAAAAAAAAAAAAAAAAAAAAAAAAAAAAAAAAAAAAAAAAAAAAAAAAAAAAAAAAAAAAAAAAAAAAAAAAAAAAAAAAAAAAAAAAAAAAAAAAAAAAAAAAAAAAAAAAAAAAAAAAAAAAAAAAAAAAAAAAAAAAAAAAAAAAAAAAAAAAAAAAAAAAAAAAAAJqZmZmZmRk/mpmZmZmZUT8zMzMzMzNbP2ZmZmZmZl4/mpmZmZmZYT8zMzMzMzNjP5qZmZmZmWU/AAAAAAAAaD8zMzMzMzNrP5qZmZmZmW0/AAAAAAAAcD+amZmZmZlxPzMzMzMzM3M/zczMzMzMdD9azMzMzMx2P83MzMzMzHg/zczMzMzMej9azMzMzMx8PzMzMzMzM38/zczMzMzMgD/NzMzMzMyBPwAAAAAAAIM/zczMzMzMhD8AAAAAAACGP2ZmZmZmZoc/zczMzMzMiD9mZmZmZmaKP5PMzMzMzIs/MzMzMzMzjT/NzMzMzMyOPzMzMzMzM5A/ZmZmZmbmkD+amZmZmZmTP83MzMzMzJQ/mpmZmZmZlT8zMzMzM7OWPwAAAAAAgJc/ZmZmZmZmmD+wzMzMzEyZP2ZmZmZmZpo/ZmZmZmZmmz8AAAAAAICcP83MzMzMzJ0/AAAAAAAAnz/NzMzMzAygP2ZmZmZmpqA/AAAAAABAoT/NzMzMzMyhP2ZmZmZmZqI/MzMzMzMzoz/NzMzMzMyjP83MzMzMjKQ/ZmZmZmYmpT+amZmZmdmlPwAAAAAAgKY/ZmZmZmYmpz8AAAAAAMCnP2ZmZmZmZqg/AAAAAAAAqT8zMzMzM7OpPwAAAAAAgKo/ZmZmZmYmqz+amZmZmdmrP83MzMzMjKw/zczMzMxMrT+LmZmZmRmuP5qZmZmZWbA/ZmZmZmbGsD8zMzMzMzOxP5qZmZmZmbE/mpmZmZn5sT/NzMzMzGyyP5qZmZmZ2bI/AAAAAABAsz8AAAAAAMCzP2ZmZmZmJrQ/MzMzMzOTtD8AAAAAACC1PwAAAAAAwLU/MzMzMzNTtj/GzMzMzMy2P5KZmZmZObc/ZmZmZmbGtz9mZmZmZka4PwAAAAAAwLg/mpmZmZk5uT/NzMzMzMy5P8bMzMzMTLo/ZmZmZmbGuj9mZmZmZka7P2ZmZmZmxrs/mpmZmZlZvD8AAAAAAOC8P2ZmZmZmZr0/AAAAAAAAvj9mZmZmZoa+PwAAAAAAAL8/ZmZmZmaGvz9mZmZmZgbAP5aZmZmZScA/mpmZmZmJwD9mZmZmZtbAPzMzMzMzE8E/MzMzMzNTwT8zMzMzM5PBP2ZmZmZm1sE/ZmZmZmb2wj9mZmZmZjbDP5qZmZmZecM/lpmZmZm5wz+amZmZmfnDP2ZmZmZmNsQ/lpmZmZl5xD/NzMzMzLzEPzMzMzMzA8U/MzMzMzNDxT9mZmZmZobFPzMzMzMzw8U/zczMzMwMxj/NzMzMzEzGP8nMzMzMjMY/mpmZmZnJxj+amZmZmQnHP5qZmZmZWcc/MzMzMzOjxz+WmZmZmenHP2ZmZmZmNsg/ZmZmZmZ2yD9mZmZmZrbIP8nMzMzM/Mg/zczMzMw8yT8AAAAAAIDJP83MzMzMvMk/yczMzMz8yT8zMzMzM0PKPzMzMzMzg8o/ZmZmZmbGyj9mZmZmZgbLP5aZmZmZScs/yczMzMyMyz/JzMzMzMzLP83MzMzMDMw/zczMzMxMzD8AAAAAAJDMP2ZmZmZm1sw/MzMzMzOjzT/JzMzMzAzOP2ZmZmZmVs4/yczMzMyczj/NzMzMzNzOPwAAAAAAIM8/MzMzMzNjzz8zMzMzM6PPPzMzMzMz488/mpmZmZkR0D/NzMzMzDTQP5qZmZmZWdA/MzMzMzN70D/LzMzMzJzQP83MzMzMvNA/mpmZmZnh0D8zMzMzMwPRPzMzMzMzI9E/mpmZmZlB0T8zMzMzM2PRPzMzMzMzg9E/zczMzMyk0T8AAAAAAMjRPwAAAAAA6NE/mpmZmZkR0j+amZmZmTHSP5iZmZmZUdI/zczMzMx00j+amZmZmZnSP5qZmZmZudI/zczMzMzc0j9mZmZmZv7SPzMzMzMzI9M/y8zMzMxE0z9mZmZmZmbTP5qZmZmZidM/MzMzMzOr0z9mZmZmZs7TP5qZmZmZ8dM/zczMzMwU1D+amZmZmTnUPzMzMzMzs9Q/ZmZmZmbW1D+amZmZmfnUP83MzMzMHNU/AAAAAABA1T8zMzMzM2PVP83MzMzMhNU/AAAAAACo1T/NzMzMzMzVP2ZmZmZm7tU/AAAAAAAQ1j/NzMzMzDTWP8vMzMzMVNY/ZmZmZmZ21j9mZmZmZpbWP5qZmZmZudY/y8zMzMzc1j/NzMzMzPzWP8vMzMzMHNc/ZmZmZmY+1z8zMzMzM2PXP2ZmZmZmhtc/AAAAAACo1z8zMzMzM9PXPzMzMzMz89c/MzMzMzMT2D+amZmZmTHYP5iZmZmZUdg/ZmZmZmZ22D8AAAAAAJjYP2ZmZmZmttg/AAAAAADY2D/LzMzMzPzYP83MzMzMHNk/zczMzMw82T/LzMzMzFzZPwAAAAAAgNk/mJmZmZkJ2j8zMzMzMyvaP2ZmZmZmTto/mpmZmZlx2j+YmZmZmZHaPzMzMzMzs9o/MzMzMzPT2j/NzMzMzPTaPwAAAAAAGNs/ZmZmZmY+2z9mZmZmZl7bP5iZmZmZgds/MzMzMzOj2z/NzMzMzMTbPwAAAAAA6Ns/MzMzMzML3D9mZmZmZi7cP5qZmZmZUdw/zczMzMx03D+YmZmZmZncP5qZmZmZudw/MzMzMzPb3D8zMzMzM/vcPzMzMzMzG90/zczMzMw83T/LzMzMzFzdP83MzMzMfN0/AAAAAACg3T8AAAAAAMDdP8vMzMzM5N0/AAAAAAAI3j8zMzMzMyveP8vMzMzMTN4/AAAAAABw3j8AAAAAAJDeP5qZmZmZsd4/mpmZmZnR3j9mZmZmZvbeP5qZmZmZcd8/ZmZmZmaW3z8AAAAAALjfP5qZmZmZ2d8/ZmZmZmb+3z8AAAAAABDgP83MzMzMIOA/mpmZmZkx4D9mZmZmZkLgPzMzMzMzU+A/AAAAAABk4D8AAAAAAHTgP83MzMzMhOA/zczMzMyU4D+amZmZmaXgPzMzMzMzu+A/AAAAAADw4D8AAAAAABDhP5qZmZmZIeE/Z2ZmZmY64T80MzMzM0vhP83MzMzMXOE/zczMzMxs4T/NzMzMzHzhP2ZmZmZmjuE/MzMzMzOf4T8AAAAAALDhPwAAAAAAwOE/mpmZmZnR4T8zMzMzM+PhP5qZmZmZ9eE/mpmZmZkF4j8zMzMzMxfiP5mZmZmZKeI/NDMzMzM74j/NzMzMzEziPzMzMzMzX+I/ZmZmZmZy4j9mZmZmZobiP83MzMzMwOI/MzMzMzPT4j+amZmZmeXiP2ZmZmZm9uI/AAAAAAAI4z+ZmZmZmRnjP5mZmZmZLeM/mpmZmZk94z8AAAAAAFDjP83MzMzMYOM/ZmZmZmZy4z8AAAAAAITjPwAAAAAAmOM/mpmZmZmp4z+ZmZmZmbnjP2ZmZmZmyuM/MzMzMzPb4z8zMzMzM+vjP2ZmZmZm+uM/MzMzMzML5D/NzMzMzBzkP2ZmZmZmLuQ/zczMzMxA5D/NzMzMzFDkP83MzMzMZOQ/mpmZmZl15D9nZmZmZobkPwAAAAAAmOQ/mpmZmZmp5D9mZmZmZrrkPzQzMzMzy+Q/ZmZmZmbe5D8zMzMzM+/kPwAAAAAAAOU/mpmZmZkR5T8zMzMzMyPlPzMzMzMzN+U/zczMzMxI5T9mZmZmZlrlP2ZmZmZmauU/Z2ZmZmZ65T9nZmZmZrblPwAAAAAAyOU/AAAAAADY5T+amZmZmenlP2ZmZmZm+uU/AAAAAAAM5j/NzMzMzBzmP83MzMzMMOY/mpmZmZlB5j8AAAAAAFTmP8zMzMzMZOY/MzMzMzN35j/NzMzMzIjmP83MzMzMmOY/mZmZmZmp5j8zMzMzM7vmPwAAAAAAzOY/zMzMzMzc5j8zMzMzM+/mP83MzMzMAOc/ZmZmZmYS5z9mZmZmZiLnP83MzMzMNOc/Z2ZmZmZG5z9nZmZmZlbnPzMzMzMzZ+c/zczMzMx45z+ZmZmZmYnnP5mZmZmZmec/AAAAAACs5z9nZmZmZr7nP8zMzMzM0Oc/MzMzMzPj5z+amZmZmfXnP2ZmZmZmBug/mZmZmZkV6D+ZmZmZmSXoPwAAAAAAOOg/AAAAAABI6D+amZmZmVnoP5qZmZmZaeg/mZmZmZl56D8AAAAAAIzoPwAAAAAAnOg/mpmZmZmt6D8zMzMzM7/oP5qZmZmZ0eg/zMzMzMzk6D+amZmZmfXoPwAAAAAACOk/mZmZmZkZ6T+ZmZmZmSnpP5mZmZmZPek/MzMzMzNP6T+amZmZmW3pPwAAAAAAfOk/AAAAAACM6T+amZmZmZ3pP2dmZmZmruk/zMzMzMzA6T80MzMzMxvqPwAAAAAALOo/zMzMzMw86j+amZmZmU3qP5qZmZmZXeo/mZmZmZlt6j/NzMzMzHzqP5qZmZmZjeo/Z2ZmZmae6j8zMzMzM6/qPzQzMzMzv+o/AAAAAADQ6j8AAAAAAODqPwAAAAAA8Oo/mpmZmZkB6z8zMzMzMxPrP2ZmZmZmIus/mZmZmZkx6z9nZmZmZkLrPzMzMzMzU+s/MzMzMzNj6z80MzMzM3PrPwAAAAAAhOs/ZmZmZmaW6z/NzMzMzKjrPwAAAAAAvOs/Z2ZmZmbO6z8zMzMzM9/rP5qZmZmZ8es/mpmZmZkB7D80MzMzMxPsPwAAAAAAJOw/ZmZmZmY27D8zMzMzM0fsPzMzMzMzV+w/AAAAAABo7D8AAAAAAHjsPzQzMzMzi+w/mZmZmZmd7D80MzMzM6/sP5mZmZmZwew/zczMzMzU7D9mZmZmZubsPzMzMzMz9+w/zczMzMwI7T/NzMzMzBjtP83MzMzMKO0/zczMzMw47T8zMzMzM0vtP5qZmZmZXe0/MzMzMzNv7T9mZmZmZoLtPzMzMzMzk+0/ZmZmZmai7T8zMzMzM7PtPwAAAAAAyO0/mpmZmZnZ7T8zMzMzM+vtPwAAAAAA/O0/mpmZmZkN7j/NzMzMzBzuP5qZmZmZLe4/mpmZmZk97j/NzMzMzFDuP83MzMzMlO4/AAAAAACo7j9mZmZmZrruP83MzMzMzO4/mpmZmZnd7j8zMzMzM+/uP2ZmZmZmAu8/AAAAAAAU7z8AAAAAACTvP83MzMzMNO8/ZmZmZmZG7z9mZmZmZlbvP83MzMzMaO8/MzMzMzN77z8AAAAAAIzvP2ZmZmZmnu8/mpmZmZmx7z8AAAAAAMTvP83MzMzM1O8/AAAAAADo7z/NzMzMzPjvPzMzMzMzBfA/AAAAAAAO8D8zMzMzMxfwP5qZmZmZH/A/ZmZmZmYo8D+amZmZmTHwP2ZmZmZmOvA/MzMzMzND8D8zMzMzM03wPwAAAAAAVvA/MzMzMzNf8D/NzMzMzGjwPwAAAAAAcvA/ZmZmZmZ68D+amZmZmYPwP2ZmZmZmjPA/zczMzMyU8D8zMzMzM53wP2ZmZmZmpvA/mpmZmZmv8D9mZmZmZrjwPwAAAAAAwvA/zczMzMzK8D/NzMzMzNTwP5qZmZmZ3fA/NDMzMzP78D8AAAAAAAjxP83MzMzMEPE/mpmZmZkZ8T9mZmZmZiLxP5qZmZmZK/E/zczMzMw08T9mZmZmZj7xP5qZmZmZR/E/zczMzMxS8T+amZmZmVvxP8zMzMzMZPE/AAAAAABu8T/NzMzMzHbxPwAAAAAAgPE/zczMzMyI8T8AAAAAAJLxP83MzMzMmvE/MzMzMzOj8T+amZmZmavxP2ZmZmZmtPE/MzMzMzO98T9mZmZmZsbxP83MzMzMzvE/mpmZmZnX8T9mZmZmZuDxP83MzMzM6PE/AAAAAADy8T8zMzMzM/vxP5qZmZmZA/I/AAAAAAAM8j/NzMzMzBTyP2ZmZmZmHvI/mpmZmZkn8j8AAAAAADDyP83MzMzMOPI/MzMzMzNB8j9mZmZmZkryP5qZmZmZU/I/ZmZmZmZc8j8zMzMzM2XyPwAAAAAAbvI/NDMzMzN38j+amZmZmX/yPwAAAAAAiPI/mpmZmZmR8j9mZmZmZpryPzMzMzMzo/I/AAAAAACs8j+amZmZmbXyP2ZmZmZmvvI/AAAAAADI8j/NzMzMzNDyPzMzMzMz2fI/ZmZmZmbi8j8zMzMzM+vyP5qZmZmZCfM/MzMzMzMT8z9mZmZmZhzzP83MzMzMJPM/AAAAAAAu8z8AAAAAADjzP2ZmZmZmQPM/zczMzMxI8z9mZmZmZlLzP5qZmZmZW/M/ZmZmZmZk8z+amZmZmW3zP8zMzMzMdvM/AAAAAACA8z8zMzMzM4nzP83MzMzMkvM/mpmZmZmb8z9mZmZmZqTzP83MzMzMrPM/ZmZmZma28z8zMzMzM7/zP2ZmZmZmyPM/AAAAAADS8z8zMzMzM9vzP8zMzMzM5PM/ZmZmZmbu8z8AAAAAAPjzP83MzMzMAPQ/AAAAAAAK9D8zMzMzMxP0PwAAAAAAHPQ/AAAAAAAm9D9mZmZmZi70PwAAAAAAOPQ/ZmZmZmZA9D80MzMzM0n0P5qZmZmZUfQ/MzMzMzNb9D9mZmZmZmT0PzMzMzMzbfQ/AAAAAAB29D+amZmZmX/0P2ZmZmZmiPQ/MzMzMzOR9D/NzMzMzJr0PwAAAAAApPQ/NDMzMzOt9D8AAAAAALb0P83MzMzMvvQ/MzMzMzPH9D/NzMzMzND0P5qZmZmZ2fQ/zMzMzMzi9D8AAAAAAOz0P83MzMzM9PQ/AAAAAAD+9D8AAAAAAAj1P2ZmZmZmEPU/mpmZmZkZ9T+amZmZmSP1P2ZmZmZmLPU/AAAAAAA29T8zMzMzMz/1P8zMzMzMYPU/MzMzMzNp9T8AAAAAAHL1P83MzMzMevU/NDMzMzOD9T8AAAAAAIz1P5qZmZmZlfU/ZmZmZmae9T/MzMzMzKb1PwAAAAAAsPU/MzMzMzO59T/NzMzMzML1P2ZmZmZmzPU/mpmZmZnV9T+amZmZmd/1PzMzMzMz6fU/ZmZmZmby9T8AAAAAAPz1P5qZmZmZBfY/ZmZmZmYO9j8AAAAAABj2P83MzMzMIPY/AAAAAAAq9j/MzMzMzDL2PwAAAAAAPPY/mpmZmZlF9j9mZmZmZk72PzMzMzMzV/Y/ZmZmZmZg9j+amZmZmWn2P2ZmZmZmcvY/mpmZmZl79j9mZmZmZoT2P8zMzMzMjPY/AAAAAACW9j+amZmZmZ/2PwAAAAAAqPY/ZmZmZmaw9j/NzMzMzLr2P5qZmZmZw/Y/zMzMzMzM9j/MzMzMzNb2PwAAAAAA4PY/MzMzMzPp9j/NzMzMzPL2PzMzMzMz/fY/ZmZmZmYG9z+amZmZmQ/3P2ZmZmZmGPc/mpmZmZkh9z9mZmZmZir3PwAAAAAANPc/mpmZmZk99z8zMzMzM0f3PzMzMzMzUfc/zczMzMxa9z/NzMzMzGT3P5qZmZmZbfc/ZmZmZmZ29z8zMzMzM3/3PzMzMzMzifc/zczMzMyS9z9mZmZmZpz3PzQzMzMzpfc/AAAAAACu9z+amZmZmbf3PzMzMzMzwfc/MzMzMzPL9z9mZmZmZtT3PwAAAAAA3vc/zczMzMzm9z80MzMzM+/3P2ZmZmZm+Pc/MzMzMzMB+D/NzMzMzAr4P2ZmZmZmFPg/ZmZmZmYe+D+amZmZmSf4P8zMzMzMMPg/ZmZmZmY6+D+amZmZmUP4PzMzMzMzTfg/zczMzMxW+D+amZmZmV/4PzMzMzMzafg/ZmZmZmZy+D+amZmZmX34P2ZmZmZmhvg/AAAAAACQ+D/MzMzMzJj4P5qZmZmZofg/zczMzMyq+D/NzMzMzLT4P2ZmZmZmvvg/AAAAAADI+D80MzMzM9H4PzQzMzMz2/g/zMzMzMzk+D8AAAAAAO74P2ZmZmZm+Pg/MzMzMzMB+T8AAAAAAAr5P2ZmZmZmFPk/ZmZmZmYe+T8AAAAAACj5PzMzMzMzMfk/AAAAAAA8+T+amZmZmUX5P5qZmZmZT/k/MzMzMzNZ+T8AAAAAAGL5P2ZmZmZmbPk/AAAAAAB2+T80MzMzM3/5P8zMzMzMiPk/NDMzMzOT+T80MzMzM535P2ZmZmZmpvk/zMzMzMyw+T+amZmZmbn5P2ZmZmZmwvk/ZmZmZmbM+T+amZmZmdX5P2ZmZmZm4Pk/NDMzMzPp+T8AAAAAAPL5P83MzMzM+vk/AAAAAAAE+j/NzMzMzAz6PwAAAAAAFvo/zMzMzMwe+j8AAAAAACj6PwAAAAAAMvo/mpmZmZk7+j8zMzMzM0X6P2ZmZmZmTvo/AAAAAABY+j80MzMzM2H6P2ZmZmZmavo/ZmZmZmZ0+j8AAAAAAH76PzMzMzMzh/o/MzMzMzOR+j9mZmZmZpr6PwAAAAAApPo/MzMzMzOt+j8zMzMzM7f6PwAAAAAAwvo/mpmZmZnL+j8zMzMzM9X6PwAAAAAA3vo/zMzMzMzm+j8AAAAAAPD6PwAAAAAA+vo/ZmZmZmYE+z/MzMzMzA77P2ZmZmZmGPs/mpmZmZkh+z9mZmZmZir7P5qZmZmZM/s/zMzMzMw8+z8zMzMzM0X7PzMzMzMzT/s/AAAAAABY+z+amZmZmWH7PwAAAAAAbPs/mpmZmZl1+z+amZmZmX/7P5qZmZmZifs/zczMzMyS+z9mZmZmZpz7P5qZmZmZpfs/zMzMzMyu+z8AAAAAALj7P2ZmZmZmwPs/mpmZmZnJ+z/MzMzMzNL7PzMzMzMz2/s/AAAAAADk+z9mZmZmZuz7P8zMzMzM9Ps/zczMzMz8+z9mZmZmZgT8PzMzMzMzDfw/AAAAAAAW/D8AAAAAAB78PwAAAAAAJvw/ZmZmZmYu/D80MzMzMzf8PwAAAAAAQPw/ZmZmZmZI/D8AAAAAAFD8PwAAAAAAWPw/ZmZmZmZg/D9mZmZmZmj8PwAAAAAAcPw/AAAAAAB4/D8AAAAAAID8PwAAAAAAiPw/AAAAAACQ/D8AAAAAAJj8P2ZmZmZmoPw/NDMzMzOp/D8AAAAAALL8P83MzMzMuvw/AAAAAADE/D8AAAAAAND8PzMzMzMz2fw/ZmZmZmbi/D/NzMzMzOr8P83MzMzM8vw/mpmZmZn7/D9mZmZmZgT9P83MzMzMDP0/MzMzMzMV/T+amZmZmR39P2ZmZmZmJv0/MzMzMzMv/T+amZmZmTf9P2ZmZmZmQP0/zczMzMxI/T+amZmZmVH9PzMzMzMzbf0/mpmZmZl1/T9mZmZmZn79P5qZmZmZh/0/AAAAAACQ/T8AAAAAAJj9P2ZmZmZmoP0/MzMzMzOp/T8AAAAAALL9PwAAAAAAuv0/MzMzMzPD/T8AAAAAAMz9P2ZmZmZm1P0/zczMzMzc/T+amZmZmeX9PwAAAAAA7v0/zczMzMz2/T8zMzMzM//9PzMzMzMzB/4/AAAAAAAQ/j/NzMzMzBj+P5qZmZmZIf4/mpmZmZkr/j8AAAAAADT+P2ZmZmZmPP4/MzMzMzNF/j8AAAAAAE7+PwAAAAAAVv4/mpmZmZlf/j+amZmZmWn+P83MzMzMcv4/ZmZmZmZ8/j8AAAAAAIb+PzMzMzMzj/4/MzMzMzOZ/j/NzMzMzKL+P5qZmZmZq/4/zczMzMzO/j/NzMzMzNj+PzMzMzMz4/4/MzMzMzPt/j9mZmZmZvj+PwAAAAAAAv8/MzMzMzML/z+amZmZmRX/P83MzMzMHv8/zczMzMwo/z/NzMzMzDL/P5qZmZmZPf8/MzMzMzNH/z+amZmZmVH/P5qZmZmZW/8/ZmZmZmZm/z/NzMzMzHD/P83MzMzMev8/zczMzMyE/z/NzMzMzI7/PzMzMzMzmf8/mpmZmZmj/z9mZmZmZq7/P2ZmZmZmuP8/ZmZmZmbC/z8zMzMzM83/P5qZmZmZ1/8/MzMzMzPh/z+amZmZmev/P2ZmZmZm9v8/mpmZmZkAAEBmZmZmZgUAQDMzMzMzCgBAMzMzMzMPAEAzMzMzMxQAQDMzMzMzGQBAzczMzMwdAEBmZmZmZi0AQDMzMzMzNABAAAAAAAA5AEAAAAAAAD4AQDMzMzMzQwBAmpmZmZlIAECamZmZmU0AQJqZmZmZUgBAmpmZmZlXAEDNzMzMzFwAQM3MzMzMYQBAMzMzMzNnAEAzMzMzM2wAQJqZmZmZcQBAmpmZmZl2AEBmZmZmZnsAQDMzMzMzgABAAAAAAACFAEBmZmZmZooAQAAAAAAAjwBAZmZmZmaUAEAzMzMzM5kAQJqZmZmZngBAmpmZmZmsAEAAAAAAALEAQAAAAAAAtgBAzczMzMy6AEAAAAAAAMAAQAAAAAAAxQBAMzMzMzPKAECamZmZmc8AQDMzMzMz1ABAZmZmZmbZAECamZmZmd4AQJqZmZmZ4wBAZmZmZmboAEDNzMzMzO0AQDMzMzMz8wBAAAAAAAD4AECamZmZmfwAQM3MzMzMDAFAMzMzMzMSAUAAAAAAABcBQDMzMzMzHAFAZ2ZmZmYhAUCamZmZmSYBQDMzMzMzKwFAMzMzMzMwAUCamZmZmTUBQGdmZmZmOgFAZ2ZmZmY/AUAzMzMzM0QBQDMzMzMzSQFAAAAAAABOAUBnZmZmZlMBQGdmZmZmWAFAzczMzMxdAUDNzMzMzGIBQM3MzMzMZwFAAAAAAABtAUAzMzMzM3IBQM3MzMzMdgFAAAAAAAB8AUAAAAAAAIEBQM3MzMzMhQFAzczMzMyKAUDNzMzMzI8BQM3MzMzMlAFAmpmZmZmZAUAzMzMzM58BQJqZmZmZpAFAZmZmZmapAUDNzMzMzK4BQJqZmZmZswFAAAAAAAC4AUAAAAAAAL0BQM3MzMzMwQFAMzMzMzPHAUCamZmZmcwBQJqZmZmZ2QFAZmZmZmbeAUCamZmZmeMBQJqZmZmZ6AFAzczMzMztAUAAAAAAAPMBQM3MzMzM9wFAzczMzMz8AUAzMzMzMwICQM3MzMzMBgJAmpmZmZkLAkCamZmZmRACQM3MzMzMFQJAZmZmZmYaAkBmZmZmZh8CQJqZmZmZJAJAzczMzMwpAkCamZmZmS4CQM3MzMzMMwJAAAAAAAA5AkCamZmZmT4CQDMzMzMzQwJAmpmZmZlIAkDNzMzMzE0CQJqZmZmZUgJAmpmZmZlXAkCamZmZmVwCQM3MzMzMYQJAmpmZmZlnAkAzMzMzM2wCQDMzMzMzcQJAAAAAAAB2AkCamZmZmXoCQJqZmZmZfwJAZ2ZmZmaEAkBnZmZmZokCQGdmZmZmjgJAAAAAAACUAkAAAAAAAJkCQGZmZmZmngJAAAAAAACuAkCamZmZmbMCQJqZmZmZuAJAzczMzMy9AkDNzMzMzMICQM3MzMzMxwJAmpmZmZnMAkCamZmZmdECQJqZmZmZ1gJAAAAAAADcAkAzMzMzM+ECQJqZmZmZ5gJAZmZmZmbrAkCamZmZmfACQGZmZmZm9QJAAAAAAAD7AkDNzMzMzP8CQM3MzMzMBANAAAAAAAAKA0BmZmZmZg8DQGZmZmZmFANAzczMzMwZA0BmZmZmZh4DQGZmZmZmIwNAzczMzMwoA0AzMzMzMy4DQAAAAAAAMwNAMzMzMzM4A0BnZmZmZj0DQJqZmZmZQgNAZ2ZmZmZHA0DNzMzMzEwDQDMzMzMzUgNAMzMzMzNXA0AAAAAAAFwDQGZmZmZmYQNAZmZmZmZmA0CamZmZmWsDQM3MzMzMcANAZmZmZmZ2A0CamZmZmYQDQGZmZmZmiwNAMzMzMzOQA0AAAAAAAJUDQGZmZmZmmgNAZmZmZmafA0AAAAAAAKQDQAAAAAAAqQNAzczMzMytA0DNzMzMzLIDQM3MzMzMtwNAAAAAAAC9A0AzMzMzM8IDQGZmZmZmxwNAZmZmZmbMA0AzMzMzM9IDQDMzMzMz2ANAAAAAAADdA0AAAAAAAOIDQAAAAAAA5wNAMzMzMzPsA0AzMzMzM/EDQM3MzMzM9gNAmpmZmZn7A0DNzMzMzAAEQM3MzMzMBQRAzczMzMwYBEAAAAAAAB4EQJqZmZmZIwRAZmZmZmYoBEAzMzMzMy4EQJqZmZmZMwRAzczMzMw4BECamZmZmT0EQJqZmZmZQgRAmpmZmZlHBEAAAAAAAE0EQJqZmZmZWwRAmpmZmZlgBECamZmZmWUEQM3MzMzMagRAmpmZmZlvBECamZmZmXQEQM3MzMzMeQRAzczMzMx+BEAAAAAAAIQEQAAAAAAAiQRAmpmZmZmOBEBnZmZmZpQEQDQzMzMzmQRAZ2ZmZmaeBEDNzMzMzKMEQDMzMzMzqQRAMzMzMzOuBEBnZmZmZrMEQAAAAAAAuARAMzMzMzO9BEBnZmZmZsIEQAAAAAAAyARAMzMzMzPNBEBmZmZmZtIEQDMzMzMz1wRAmpmZmZncBEDNzMzMzOEEQM3MzMzM5gRAAAAAAADsBECamZmZmfEEQJqZmZmZ9gRAZmZmZmb7BECamZmZmQAFQM3MzMzMBQVAAAAAAAALBUAAAAAAABAFQGZmZmZmFQVAzczMzMwfBUAAAAAAACUFQJqZmZmZNAVAAAAAAAA8BUAzMzMzM0EFQJqZmZmZRgVAAAAAAABMBUDNzMzMzFAFQJqZmZmZVQVAmpmZmZlaBUA0MzMzM2AFQGZmZmZmZQVAZmZmZmZqBUDNzMzMzG8FQAAAAAAAdQVAzczMzMx5BUCamZmZmX8FQJqZmZmZhAVAzczMzMyJBUDNzMzMzI4FQJqZmZmZkwVAzczMzMyYBUDNzMzMzJ0FQAAAAAAAowVAzczMzMynBUAAAAAAAK0FQGdmZmZmsgVAmpmZmZm3BUCamZmZmbwFQJqZmZmZwQVAAAAAAADHBUDNzMzMzMsFQM3MzMzM0AVAMzMzMzPWBUCamZmZmdsFQGZmZmZm4AVAMzMzMzPmBUAzMzMzM+sFQGZmZmZm8AVAmpmZmZn1BUAAAAAAAPsFQDQzMzMzCgZAZmZmZmYPBkDNzMzMzBQGQM3MzMzMGQZAAAAAAAAfBkAAAAAAACQGQAAAAAAAKQZAZ2ZmZmYuBkBnZmZmZjMGQDMzMzMzOQZAAAAAAAA/BkBmZmZmZkQGQJqZmZmZSQZAAAAAAABPBkAzMzMzM1QGQJqZmZmZWQZAmpmZmZleBkBmZmZmZmMGQM3MzMzMaAZANDMzMzNuBkA0MzMzM3MGQM3MzMzMeAZAzczMzMx9BkAAAAAAAIMGQM3MzMzMhwZAzczMzMyMBkAAAAAAAJIGQDQzMzMzlwZAAAAAAACcBkAAAAAAAKEGQDQzMzMzpgZAmpmZmZmrBkCamZmZmbAGQM3MzMzMtQZAzczMzMy6BkAAAAAAAMAGQM3MzMzMxAZAzczMzMzJBkAAAAAAANkGQJqZmZmZ3gZAAAAAAADkBkAzMzMzM+kGQGZmZmZm7gZAZmZmZmbzBkAzMzMzM/gGQJqZmZmZ/QZAzczMzMwCB0DNzMzMzAcHQDMzMzMzDQdAmpmZmZkSB0AAAAAAABgHQDQzMzMzHQdAmpmZmZkiB0BmZmZmZicHQJqZmZmZLAdANDMzMzMyB0CamZmZmTcHQAAAAAAAPQdAZ2ZmZmZCB0CamZmZmUcHQAAAAAAATQdAZmZmZmZSB0DNzMzMzFcHQM3MzMzMXAdAAAAAAABiB0AzMzMzM2cHQGZmZmZmbAdAAAAAAAByB0A0MzMzM3cHQJqZmZmZfAdAZmZmZmaBB0DNzMzMzIYHQDQzMzMzjAdAZ2ZmZmaRB0CamZmZmZYHQAAAAAAAnAdAmpmZmZmhB0DNzMzMzLEHQAAAAAAAtwdAMzMzMzO8B0DNzMzMzMEHQAAAAAAAxwdAAAAAAADMB0BmZmZmZtEHQJqZmZmZ1gdANDMzMzPcB0BnZmZmZuEHQJqZmZmZ5gdAMzMzMzPsB0CamZmZmfEHQJqZmZmZ9gdAzczMzMz7B0AzMzMzMwEIQDMzMzMzBghAzczMzMwLCEAAAAAAABEIQDMzMzMzFghAZmZmZmYbCEAAAAAAACEIQJqZmZmZJghAzczMzMwrCEAAAAAAADEIQAAAAAAANghAZ2ZmZmY7CEDNzMzMzEAIQGdmZmZmRghAmpmZmZlLCEDNzMzMzFAIQGZmZmZmVghAMzMzMzNbCEAzMzMzM2EIQGZmZmZmZghAzczMzMxrCEDNzMzMzHAIQDQzMzMzdghAAAAAAACFCEA0MzMzM4oIQAAAAAAAjwhAZmZmZmaUCEA0MzMzM5kIQM3MzMzMnghAzczMzMykCEDNzMzMzKkIQGdmZmZmrwhAmpmZmZm0CECamZmZmbkIQDMzMzMzvwhAmpmZmZnECEAAAAAAAMoIQGZmZmZmzwhAmpmZmZnUCEAAAAAAANoIQJqZmZmZ3whAAAAAAADlCEBnZmZmZuoIQAAAAAAA8AhAAAAAAAD1CEAAAAAAAPsIQAAAAAAAAAlAZmZmZmYFCUAAAAAAAAsJQGZmZmZmEAlAmpmZmZkVCUCamZmZmRoJQGdmZmZmJwlAMzMzMzMuCUAzMzMzMzMJQJqZmZmZOAlAmpmZmZk9CUA0MzMzM0MJQAAAAAAASQlANDMzMzNOCUCamZmZmVMJQAAAAAAAWQlAAAAAAABoCUAAAAAAAHAJQJqZmZmZdQlAzczMzMx6CUBnZmZmZoAJQAAAAAAAhglAMzMzMzOLCUAAAAAAAJEJQAAAAAAAlglAzczMzMybCUDNzMzMzKAJQDMzMzMzpglAzczMzMyrCUCamZmZmbAJQM3MzMzMtQlAzczMzMy6CUDNzMzMzL8JQDQzMzMzxQlAmpmZmZnKCUAAAAAAANAJQJqZmZmZ1QlAZ2ZmZmbaCUAAAAAAAOAJQDMzMzMz5QlAZ2ZmZmbqCUBnZmZmZu8JQGdmZmZm9AlAAAAAAAD6CUAAAAAAAP8JQM3MzMzMBApAMzMzMzMKCkDNzMzMzA8KQJqZmZmZFQpAAAAAAAAbCkBnZmZmZiAKQM3MzMzMJQpAAAAAAAArCkCamZmZmTAKQGZmZmZmQQpAzczMzMxGCkBmZmZmZkwKQJqZmZmZUQpAmpmZmZlWCkAAAAAAAFwKQJqZmZmZYQpAMzMzMzNnCkBnZmZmZmwKQGZmZmZmcgpAmpmZmZl3CkAAAAAAAH0KQDMzMzMzggpAMzMzMzOHCkBmZmZmZowKQJqZmZmZkQpAAAAAAACXCkCamZmZmZwKQDQzMzMzogpAmpmZmZmnCkDNzMzMzKwKQM3MzMzMsQpAAAAAAAC3CkBnZmZmZrwKQAAAAAAAwgpAmpmZmZnHCkBmZmZmZswKQAAAAAAA0gpAMzMzMzPXCkDNzMzMzNwKQM3MzMzM4QpAzczMzMzmCkBmZmZmZuwKQM3MzMzM8QpAzczMzMz3CkAzMzMzM/0KQM3MzMzMAgtAZmZmZmYIC0AAAAAAAA4LQAAAAAAAHQtAzczMzMwiC0BmZmZmZigLQDQzMzMzLgtAzczMzMwzC0AzMzMzMzkLQDMzMzMzPwtAMzMzMzNEC0DNzMzMzEkLQGZmZmZmTwtAZmZmZmZUC0DNzMzMzFkLQM3MzMzMXgtANDMzMzNkC0CamZmZmWkLQDQzMzMzbwtAzczMzMx0C0BnZmZmZnoLQDMzMzMzgAtAmpmZmZmFC0AzMzMzM4sLQAAAAAAAkQtAAAAAAACWC0DNzMzMzJsLQAAAAAAAoQtAZ2ZmZmamC0AAAAAAAKwLQDMzMzMzsQtAmpmZmZm2C0AzMzMzM7wLQGZmZmZmwQtAMzMzMzPHC0AzMzMzM8wLQM3MzMzM0QtANDMzMzPXC0AAAAAAAN0LQAAAAAAA4wtAZ2ZmZmboC0CamZmZme0LQJqZmZmZ/wtANDMzMzMFDEDNzMzMzAoMQJqZmZmZEAxAmpmZmZkWDEAzMzMzMxwMQM3MzMzMIQxAZmZmZmYnDEA0MzMzMy0MQDQzMzMzMgxAmpmZmZk4DEAAAAAAAD4MQGZmZmZmQwxAAAAAAABJDEAzMzMzM04MQDQzMzMzVAxAzczMzMxZDEDNzMzMzF4MQGdmZmZmZAxAmpmZmZlpDEAzMzMzM28MQJqZmZmZdAxAAAAAAAB6DEDNzMzMzH8MQDMzMzMzhQxAzczMzMyKDEDNzMzMzJAMQDQzMzMzlgxAAAAAAACcDEBnZmZmZqEMQJqZmZmZpgxAAAAAAACsDEAzMzMzM7EMQJqZmZmZtgxAMzMzMzO8DEBmZmZmZsEMQDQzMzMzxwxAmpmZmZnMDEAAAAAAAN0MQAAAAAAA5AxAmpmZmZnpDEBmZmZmZu8MQAAAAAAA9QxAAAAAAAD7DEAzMzMzMwANQJqZmZmZBQ1AMzMzMzMLDUBmZmZmZhANQGZmZmZmFg1AMzMzMzMcDUDNzMzMzCENQGZmZmZmJw1AmpmZmZksDUDNzMzMzDENQAAAAAAANw1AAAAAAAA9DUCamZmZmUINQDMzMzMzSA1AzczMzMxNDUBmZmZmZlMNQAAAAAAAWQ1AMzMzMzNeDUCamZmZmWMNQDMzMzMzaQ1AzczMzMxuDUAAAAAAAHQNQJqZmZmZeQ1AZmZmZmZ/DUDNzMzMzIQNQM3MzMzMig1AMzMzMzOQDUBmZmZmZpUNQAAAAAAAmw1AzczMzMygDUAAAAAAAKYNQAAAAAAArA1AMzMzMzO8DUCamZmZmcENQM3MzMzMxg1AZmZmZmbMDUBmZmZmZtINQAAAAAAA2A1AZmZmZmbdDUBmZmZmZuMNQM3MzMzM6A1AZmZmZmbuDUAzMzMzM/QNQAAAAAAA+g1AmpmZmZn/DUAzMzMzMwUOQGZmZmZmCg5AMzMzMzMQDkDNzMzMzBUOQDMzMzMzGw5AZmZmZmYgDkCamZmZmSYOQGZmZmZmLA5AAAAAAAAyDkCamZmZmTcOQDMzMzMzPQ5AAAAAAABDDkAAAAAAAEkOQJqZmZmZTg5AZmZmZmZUDkCamZmZmVoOQAAAAAAAYA5AzczMzMxlDkDNzMzMzGsOQJqZmZmZcQ5AMzMzMzN3DkAAAAAAAH0OQGZmZmZmgg5AzczMzMyHDkAAAAAAAI0OQJqZmZmZnQ5AMzMzMzOjDkAAAAAAAKkOQDMzMzMzrg5AzczMzMyzDkAAAAAAALoOQJqZmZmZvw5AzczMzMzEDkAAAAAAAMoOQJqZmZmZzw5AAAAAAADVDkBmZmZmZtoOQAAAAAAA4A5AmpmZmZnlDkDNzMzMzOoOQDMzMzMz8A5AAAAAAAD2DkDNzMzMzPsOQJqZmZmZAQ9AAAAAAAAHD0CamZmZmQwPQJqZmZmZEQ9AZmZmZmYXD0AzMzMzMx0PQJqZmZmZIg9AzczMzMwnD0DNzMzMzCwPQAAAAAAAMg9AmpmZmZk3D0DNzMzMzDwPQJqZmZmZQg9AmpmZmZlHD0AzMzMzM00PQAAAAAAAUw9AMzMzMzNYD0AAAAAAAF4PQJqZmZmZYw9AAAAAAABpD0CamZmZmW4PQJqZmZmZfA9AAAAAAACDD0AzMzMzM4gPQM3MzMzMjQ9AAAAAAACTD0BmZmZmZpgPQDMzMzMzng9AZmZmZmajD0AzMzMzM6kPQDMzMzMzrw9AMzMzMzO0D0AzMzMzM7oPQAAAAAAAwA9AZmZmZmbFD0CamZmZmcoPQAAAAAAA0A9AmpmZmZnVD0AzMzMzM9sPQM3MzMzM4A9AZmZmZmbmD0DNzMzMzOsPQGZmZmZm8Q9AAAAAAAD3D0DNzMzMzPwPQM3MzMxMARBAAAAAAAAEEEAAAAAAgAYQQDMzMzMzCRBAmpmZmRkMEEAAAAAAAA8QQM3MzMzMERBAmpmZmZkUEEDNzMzMTBcQQAAAAAAAGhBANDMzM7McEEBnZmZm5h8QQGZmZmbmIhBAmpmZmZklEEDNzMzMzC8QQMzMzMzMMxBAzczMzMw2EEBmZmZm5jkQQGZmZmbmPBBAzczMzMw/EECamZmZmUIQQJqZmZmZRRBAzczMzExIEEDNzMzMTEsQQAAAAAAAThBAZmZmZuZQEEAAAAAAgFMQQAAAAACAVhBAMzMzMzNZEEDNzMzMTFwQQDMzMzMzXxBAMzMzMzNiEEAAAAAAgGUQQM3MzMzMaBBAmpmZmZlrEEAzMzMzs24QQAAAAACAcRBAzczMzEx0EECamZmZmXcQQDMzMzOzehBAZmZmZmZ9EECamZmZGYAQQJqZmZkZgxBAMzMzMzOGEEBnZmZm5ogQQJqZmZkZjBBAMzMzMzOPEEDNzMzMTJgQQGdmZmbmnBBAZmZmZuafEEAzMzMzs6IQQDMzMzOzpRBAmpmZmZmoEECamZmZmasQQJqZmZmZrhBAMzMzMzOxEEAAAAAAALQQQDMzMzOzthBAMzMzM7O5EEBmZmZm5rwQQMzMzMzMvxBAAAAAAIDCEEDNzMzMTMUQQDMzMzMzyBBAAAAAAADLEEAAAAAAgM4QQDMzMzOz0RBAMzMzM7PUEEBmZmZmZtcQQDMzMzMz2hBAzczMzMzcEECamZmZmd8QQAAAAACA4hBAZ2ZmZmblEECamZmZGegQQAAAAAAA6xBAAAAAAADyEEAzMzMzs/UQQDQzMzOz+BBAMzMzM7P7EEBnZmZmZv4QQJqZmZkZARFAMzMzM7MDEUAAAAAAgAYRQJqZmZkZCRFAzMzMzEwNEUDNzMzMTBURQM3MzMxMGBFAMzMzMzMbEUAAAAAAAB4RQJqZmZmZIBFAzczMzEwjEUAzMzMzMyYRQMzMzMzMKBFAmpmZmZkrEUAzMzMzMy4RQGZmZmbmMBFAmpmZmRk0EUAzMzMzszYRQJqZmZmZORFAZmZmZmY8EUAzMzMzMz8RQGdmZmbmQRFAzczMzMxEEUBmZmZmZkcRQAAAAACAShFAzczMzExNEUBmZmZm5k8RQAAAAAAAUxFAzczMzExWEUAAAAAAAFkRQGZmZmbmWxFAZmZmZuZeEUBmZmZm5mERQAAAAACAZBFAZ2ZmZmZnEUBmZmZmZmoRQDMzMzOzbRFAzczMzExwEUAAAAAAAHMRQAAAAACAdRFAAAAAAIB9EUAAAAAAgIARQM3MzMxMgxFAMzMzMzOGEUCamZmZGYkRQM3MzMzMixFAzczMzMyOEUAzMzMzs5ERQDMzMzOzlBFAAAAAAICXEUAAAAAAgJoRQM3MzMxMnRFANDMzMzOgEUCamZmZGaMRQGdmZmbmpRFAMzMzM7OoEUBmZmZmZqwRQM3MzMxMrxFAMzMzMzOyEUDMzMzMzLQRQM3MzMzMtxFAzczMzMy6EUBmZmZmZr0RQDMzMzMzwBFAmpmZmZnDEUDMzMzMTMYRQJqZmZkZyRFAmpmZmRnMEUDNzMzMTM8RQM3MzMxM0hFAMzMzMzPVEUAAAAAAANgRQGZmZmbm2hFAmpmZmZndEUAzMzMzM+ARQAAAAAAA4xFAZmZmZublEUAAAAAAAOkRQJqZmZkZ8RFAzczMzEz1EUAAAAAAgPgRQGZmZmZm+xFAMzMzMzP+EUAzMzMzMwESQM3MzMxMBBJAMzMzMzMHEkCamZmZGQoSQAAAAAAADRJAAAAAAIAQEkDNzMzMTBMSQAAAAAAAFhJAmpmZmRkZEkAzMzMzMxwSQGZmZmbmHhJAzczMzMwhEkBmZmZm5iQSQGZmZmZmKBJAZmZmZmYrEkAAAAAAAC4SQGZmZmbmMBJAmpmZmRk0EkAAAAAAADcSQM3MzMzMORJAmpmZmZk8EkDNzMzMTD8SQM3MzMxMQhJAzczMzExFEkAAAAAAAEgSQM3MzMxMSxJAzczMzExOEkDNzMzMTFESQDQzMzMzVBJAAAAAAIBXEkDNzMzMTFoSQJqZmZkZXRJAZ2ZmZuZjEkDNzMzMTGgSQJqZmZmZaxJAMzMzM7NuEkBmZmZmZngSQGZmZmZmexJANDMzM7N+EkAAAAAAgIESQGdmZmZmhBJAZ2ZmZuaGEkAzMzMzs4kSQJqZmZkZjBJAzczMzMyOEkAzMzMzM5ESQGZmZmbmkxJAzczMzEyWEkBmZmZm5pgSQM3MzMxMmxJAmpmZmRmeEkCamZmZmaASQM3MzMxMoxJAZmZmZualEkAzMzMzs6gSQJqZmZmZqxJANDMzMzOuEkAAAAAAALESQMzMzMzMsxJAzMzMzEy2EkAAAAAAgLkSQM3MzMxMvBJAZmZmZua+EkDNzMzMzMESQAAAAACAxBJAZmZmZmbHEkDNzMzMzMoSQGZmZmbmzRJAmpmZmZnQEkDNzMzMTNMSQAAAAAAA1hJAmpmZmZnYEkA0MzMzM+ASQMzMzMxM4xJAMzMzMzPmEkAAAAAAAOkSQJqZmZmZ6xJAMzMzMzPuEkDNzMzMzPASQAAAAACA8xJAAAAAAAD2EkDNzMzMzPgSQAAAAACA+xJAmpmZmRn+EkA0MzMzswATQM3MzMxMAxNAMzMzMzMGE0DMzMzMzAgTQJqZmZmZCxNAZmZmZmYOE0AzMzMzMxETQJqZmZkZFBNAzczMzEwXE0DMzMzMTBoTQAAAAAAAHRNAzczMzEwgE0DNzMzMzCMTQDMzMzMzLBNAAAAAAAAyE0CamZmZGTcTQAAAAACAOxNAMzMzMzNCE0BnZmZmZkwTQGZmZmbmTxNAmpmZmRlTE0CamZmZGVcTQM3MzMzMXBNAmpmZmRlhE0CamZmZGWQTQJqZmZkZZxNAZmZmZuZpE0AzMzMzs2wTQDMzMzOzbxNAzczMzExyE0CamZmZGXUTQAAAAAAAeBNAAAAAAAB7E0AzMzMzM34TQAAAAAAAgRNAMzMzMzOEE0BmZmZmZocTQDQzMzMzihNAMzMzMzONE0AzMzMzM5ATQAAAAAAAlBNAmpmZmZmXE0AAAAAAAJsTQAAAAACAnhNAZmZmZuahE0AzMzMzM6UTQJqZmZkZqBNANDMzM7OqE0BmZmZmZq0TQGdmZmZmsBNAMzMzMzOzE0AAAAAAALYTQM3MzMxMuRNAmpmZmRm8E0AAAAAAAL8TQJqZmZkZwhNAZmZmZubEE0CamZmZmccTQAAAAACAyhNAAAAAAIDNE0BmZmZmZtATQGdmZmZm0xNAmpmZmZnWE0AzMzMzs9kTQGZmZmbm3BNAAAAAAADgE0AAAAAAAOMTQGZmZmbm5RNAmpmZmZnoE0AAAAAAgOsTQAAAAACA7hNAZ2ZmZmbxE0CamZmZGfQTQAAAAAAA9xNAAAAAAID5E0CamZmZmfsTQM3MzMxM/RNAmpmZmZn+E0BmZmZmZv8TQGZmZmbm/xNAAAAAAAAAFEA=",
          "dtype": "f8"
         },
         "xaxis": "x",
         "y": {
          "bdata": "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",
          "dtype": "f8"
         },
         "yaxis": "y"
        }
       ],
       "layout": {
        "legend": {
         "tracegroupgap": 0
        },
        "template": {
         "data": {
          "bar": [
           {
            "error_x": {
             "color": "#2a3f5f"
            },
            "error_y": {
             "color": "#2a3f5f"
            },
            "marker": {
             "line": {
              "color": "#E5ECF6",
              "width": 0.5
             },
             "pattern": {
              "fillmode": "overlay",
              "size": 10,
              "solidity": 0.2
             }
            },
            "type": "bar"
           }
          ],
          "barpolar": [
           {
            "marker": {
             "line": {
              "color": "#E5ECF6",
              "width": 0.5
             },
             "pattern": {
              "fillmode": "overlay",
              "size": 10,
              "solidity": 0.2
             }
            },
            "type": "barpolar"
           }
          ],
          "carpet": [
           {
            "aaxis": {
             "endlinecolor": "#2a3f5f",
             "gridcolor": "white",
             "linecolor": "white",
             "minorgridcolor": "white",
             "startlinecolor": "#2a3f5f"
            },
            "baxis": {
             "endlinecolor": "#2a3f5f",
             "gridcolor": "white",
             "linecolor": "white",
             "minorgridcolor": "white",
             "startlinecolor": "#2a3f5f"
            },
            "type": "carpet"
           }
          ],
          "choropleth": [
           {
            "colorbar": {
             "outlinewidth": 0,
             "ticks": ""
            },
            "type": "choropleth"
           }
          ],
          "contour": [
           {
            "colorbar": {
             "outlinewidth": 0,
             "ticks": ""
            },
            "colorscale": [
             [
              0,
              "#0d0887"
             ],
             [
              0.1111111111111111,
              "#46039f"
             ],
             [
              0.2222222222222222,
              "#7201a8"
             ],
             [
              0.3333333333333333,
              "#9c179e"
             ],
             [
              0.4444444444444444,
              "#bd3786"
             ],
             [
              0.5555555555555556,
              "#d8576b"
             ],
             [
              0.6666666666666666,
              "#ed7953"
             ],
             [
              0.7777777777777778,
              "#fb9f3a"
             ],
             [
              0.8888888888888888,
              "#fdca26"
             ],
             [
              1,
              "#f0f921"
             ]
            ],
            "type": "contour"
           }
          ],
          "contourcarpet": [
           {
            "colorbar": {
             "outlinewidth": 0,
             "ticks": ""
            },
            "type": "contourcarpet"
           }
          ],
          "heatmap": [
           {
            "colorbar": {
             "outlinewidth": 0,
             "ticks": ""
            },
            "colorscale": [
             [
              0,
              "#0d0887"
             ],
             [
              0.1111111111111111,
              "#46039f"
             ],
             [
              0.2222222222222222,
              "#7201a8"
             ],
             [
              0.3333333333333333,
              "#9c179e"
             ],
             [
              0.4444444444444444,
              "#bd3786"
             ],
             [
              0.5555555555555556,
              "#d8576b"
             ],
             [
              0.6666666666666666,
              "#ed7953"
             ],
             [
              0.7777777777777778,
              "#fb9f3a"
             ],
             [
              0.8888888888888888,
              "#fdca26"
             ],
             [
              1,
              "#f0f921"
             ]
            ],
            "type": "heatmap"
           }
          ],
          "histogram": [
           {
            "marker": {
             "pattern": {
              "fillmode": "overlay",
              "size": 10,
              "solidity": 0.2
             }
            },
            "type": "histogram"
           }
          ],
          "histogram2d": [
           {
            "colorbar": {
             "outlinewidth": 0,
             "ticks": ""
            },
            "colorscale": [
             [
              0,
              "#0d0887"
             ],
             [
              0.1111111111111111,
              "#46039f"
             ],
             [
              0.2222222222222222,
              "#7201a8"
             ],
             [
              0.3333333333333333,
              "#9c179e"
             ],
             [
              0.4444444444444444,
              "#bd3786"
             ],
             [
              0.5555555555555556,
              "#d8576b"
             ],
             [
              0.6666666666666666,
              "#ed7953"
             ],
             [
              0.7777777777777778,
              "#fb9f3a"
             ],
             [
              0.8888888888888888,
              "#fdca26"
             ],
             [
              1,
              "#f0f921"
             ]
            ],
            "type": "histogram2d"
           }
          ],
          "histogram2dcontour": [
           {
            "colorbar": {
             "outlinewidth": 0,
             "ticks": ""
            },
            "colorscale": [
             [
              0,
              "#0d0887"
             ],
             [
              0.1111111111111111,
              "#46039f"
             ],
             [
              0.2222222222222222,
              "#7201a8"
             ],
             [
              0.3333333333333333,
              "#9c179e"
             ],
             [
              0.4444444444444444,
              "#bd3786"
             ],
             [
              0.5555555555555556,
              "#d8576b"
             ],
             [
              0.6666666666666666,
              "#ed7953"
             ],
             [
              0.7777777777777778,
              "#fb9f3a"
             ],
             [
              0.8888888888888888,
              "#fdca26"
             ],
             [
              1,
              "#f0f921"
             ]
            ],
            "type": "histogram2dcontour"
           }
          ],
          "mesh3d": [
           {
            "colorbar": {
             "outlinewidth": 0,
             "ticks": ""
            },
            "type": "mesh3d"
           }
          ],
          "parcoords": [
           {
            "line": {
             "colorbar": {
              "outlinewidth": 0,
              "ticks": ""
             }
            },
            "type": "parcoords"
           }
          ],
          "pie": [
           {
            "automargin": true,
            "type": "pie"
           }
          ],
          "scatter": [
           {
            "fillpattern": {
             "fillmode": "overlay",
             "size": 10,
             "solidity": 0.2
            },
            "type": "scatter"
           }
          ],
          "scatter3d": [
           {
            "line": {
             "colorbar": {
              "outlinewidth": 0,
              "ticks": ""
             }
            },
            "marker": {
             "colorbar": {
              "outlinewidth": 0,
              "ticks": ""
             }
            },
            "type": "scatter3d"
           }
          ],
          "scattercarpet": [
           {
            "marker": {
             "colorbar": {
              "outlinewidth": 0,
              "ticks": ""
             }
            },
            "type": "scattercarpet"
           }
          ],
          "scattergeo": [
           {
            "marker": {
             "colorbar": {
              "outlinewidth": 0,
              "ticks": ""
             }
            },
            "type": "scattergeo"
           }
          ],
          "scattergl": [
           {
            "marker": {
             "colorbar": {
              "outlinewidth": 0,
              "ticks": ""
             }
            },
            "type": "scattergl"
           }
          ],
          "scattermap": [
           {
            "marker": {
             "colorbar": {
              "outlinewidth": 0,
              "ticks": ""
             }
            },
            "type": "scattermap"
           }
          ],
          "scattermapbox": [
           {
            "marker": {
             "colorbar": {
              "outlinewidth": 0,
              "ticks": ""
             }
            },
            "type": "scattermapbox"
           }
          ],
          "scatterpolar": [
           {
            "marker": {
             "colorbar": {
              "outlinewidth": 0,
              "ticks": ""
             }
            },
            "type": "scatterpolar"
           }
          ],
          "scatterpolargl": [
           {
            "marker": {
             "colorbar": {
              "outlinewidth": 0,
              "ticks": ""
             }
            },
            "type": "scatterpolargl"
           }
          ],
          "scatterternary": [
           {
            "marker": {
             "colorbar": {
              "outlinewidth": 0,
              "ticks": ""
             }
            },
            "type": "scatterternary"
           }
          ],
          "surface": [
           {
            "colorbar": {
             "outlinewidth": 0,
             "ticks": ""
            },
            "colorscale": [
             [
              0,
              "#0d0887"
             ],
             [
              0.1111111111111111,
              "#46039f"
             ],
             [
              0.2222222222222222,
              "#7201a8"
             ],
             [
              0.3333333333333333,
              "#9c179e"
             ],
             [
              0.4444444444444444,
              "#bd3786"
             ],
             [
              0.5555555555555556,
              "#d8576b"
             ],
             [
              0.6666666666666666,
              "#ed7953"
             ],
             [
              0.7777777777777778,
              "#fb9f3a"
             ],
             [
              0.8888888888888888,
              "#fdca26"
             ],
             [
              1,
              "#f0f921"
             ]
            ],
            "type": "surface"
           }
          ],
          "table": [
           {
            "cells": {
             "fill": {
              "color": "#EBF0F8"
             },
             "line": {
              "color": "white"
             }
            },
            "header": {
             "fill": {
              "color": "#C8D4E3"
             },
             "line": {
              "color": "white"
             }
            },
            "type": "table"
           }
          ]
         },
         "layout": {
          "annotationdefaults": {
           "arrowcolor": "#2a3f5f",
           "arrowhead": 0,
           "arrowwidth": 1
          },
          "autotypenumbers": "strict",
          "coloraxis": {
           "colorbar": {
            "outlinewidth": 0,
            "ticks": ""
           }
          },
          "colorscale": {
           "diverging": [
            [
             0,
             "#8e0152"
            ],
            [
             0.1,
             "#c51b7d"
            ],
            [
             0.2,
             "#de77ae"
            ],
            [
             0.3,
             "#f1b6da"
            ],
            [
             0.4,
             "#fde0ef"
            ],
            [
             0.5,
             "#f7f7f7"
            ],
            [
             0.6,
             "#e6f5d0"
            ],
            [
             0.7,
             "#b8e186"
            ],
            [
             0.8,
             "#7fbc41"
            ],
            [
             0.9,
             "#4d9221"
            ],
            [
             1,
             "#276419"
            ]
           ],
           "sequential": [
            [
             0,
             "#0d0887"
            ],
            [
             0.1111111111111111,
             "#46039f"
            ],
            [
             0.2222222222222222,
             "#7201a8"
            ],
            [
             0.3333333333333333,
             "#9c179e"
            ],
            [
             0.4444444444444444,
             "#bd3786"
            ],
            [
             0.5555555555555556,
             "#d8576b"
            ],
            [
             0.6666666666666666,
             "#ed7953"
            ],
            [
             0.7777777777777778,
             "#fb9f3a"
            ],
            [
             0.8888888888888888,
             "#fdca26"
            ],
            [
             1,
             "#f0f921"
            ]
           ],
           "sequentialminus": [
            [
             0,
             "#0d0887"
            ],
            [
             0.1111111111111111,
             "#46039f"
            ],
            [
             0.2222222222222222,
             "#7201a8"
            ],
            [
             0.3333333333333333,
             "#9c179e"
            ],
            [
             0.4444444444444444,
             "#bd3786"
            ],
            [
             0.5555555555555556,
             "#d8576b"
            ],
            [
             0.6666666666666666,
             "#ed7953"
            ],
            [
             0.7777777777777778,
             "#fb9f3a"
            ],
            [
             0.8888888888888888,
             "#fdca26"
            ],
            [
             1,
             "#f0f921"
            ]
           ]
          },
          "colorway": [
           "#636efa",
           "#EF553B",
           "#00cc96",
           "#ab63fa",
           "#FFA15A",
           "#19d3f3",
           "#FF6692",
           "#B6E880",
           "#FF97FF",
           "#FECB52"
          ],
          "font": {
           "color": "#2a3f5f"
          },
          "geo": {
           "bgcolor": "white",
           "lakecolor": "white",
           "landcolor": "#E5ECF6",
           "showlakes": true,
           "showland": true,
           "subunitcolor": "white"
          },
          "hoverlabel": {
           "align": "left"
          },
          "hovermode": "closest",
          "mapbox": {
           "style": "light"
          },
          "paper_bgcolor": "white",
          "plot_bgcolor": "#E5ECF6",
          "polar": {
           "angularaxis": {
            "gridcolor": "white",
            "linecolor": "white",
            "ticks": ""
           },
           "bgcolor": "#E5ECF6",
           "radialaxis": {
            "gridcolor": "white",
            "linecolor": "white",
            "ticks": ""
           }
          },
          "scene": {
           "xaxis": {
            "backgroundcolor": "#E5ECF6",
            "gridcolor": "white",
            "gridwidth": 2,
            "linecolor": "white",
            "showbackground": true,
            "ticks": "",
            "zerolinecolor": "white"
           },
           "yaxis": {
            "backgroundcolor": "#E5ECF6",
            "gridcolor": "white",
            "gridwidth": 2,
            "linecolor": "white",
            "showbackground": true,
            "ticks": "",
            "zerolinecolor": "white"
           },
           "zaxis": {
            "backgroundcolor": "#E5ECF6",
            "gridcolor": "white",
            "gridwidth": 2,
            "linecolor": "white",
            "showbackground": true,
            "ticks": "",
            "zerolinecolor": "white"
           }
          },
          "shapedefaults": {
           "line": {
            "color": "#2a3f5f"
           }
          },
          "ternary": {
           "aaxis": {
            "gridcolor": "white",
            "linecolor": "white",
            "ticks": ""
           },
           "baxis": {
            "gridcolor": "white",
            "linecolor": "white",
            "ticks": ""
           },
           "bgcolor": "#E5ECF6",
           "caxis": {
            "gridcolor": "white",
            "linecolor": "white",
            "ticks": ""
           }
          },
          "title": {
           "x": 0.05
          },
          "xaxis": {
           "automargin": true,
           "gridcolor": "white",
           "linecolor": "white",
           "ticks": "",
           "title": {
            "standoff": 15
           },
           "zerolinecolor": "white",
           "zerolinewidth": 2
          },
          "yaxis": {
           "automargin": true,
           "gridcolor": "white",
           "linecolor": "white",
           "ticks": "",
           "title": {
            "standoff": 15
           },
           "zerolinecolor": "white",
           "zerolinewidth": 2
          }
         }
        },
        "title": {
         "text": "Force / Distance of tensile_tests/04.06.25_WT_dry_idx0.csv"
        },
        "xaxis": {
         "anchor": "y",
         "domain": [
          0,
          1
         ],
         "title": {
          "text": "Distance (millimeters)"
         }
        },
        "yaxis": {
         "anchor": "x",
         "domain": [
          0,
          1
         ],
         "title": {
          "text": "Force (Newtons)"
         }
        }
       }
      }
     },
     "metadata": {},
     "output_type": "display_data"
    }
   ],
   "source": [
    "wt_dry_filename = \"tensile_tests/04.06.25_WT_dry_idx0.csv\"\n",
    "wt_dry_df = plot_force_distance(wt_dry_filename)"
   ]
  },
  {
   "cell_type": "code",
   "execution_count": 53,
   "id": "cc307935",
   "metadata": {},
   "outputs": [
    {
     "name": "stdout",
     "output_type": "stream",
     "text": [
      "Peak Force Row: Unnamed: 0                 1311.000000\n",
      "Time                      25559.000000\n",
      "Force (Newtons)               3.737339\n",
      "Distance (millimeters)        1.749219\n",
      "Strain (%)                    0.286757\n",
      "Stress (MPa)                  5.190749\n",
      "Name: 1311, dtype: float64\n"
     ]
    },
    {
     "data": {
      "application/vnd.plotly.v1+json": {
       "config": {
        "plotlyServerURL": "https://plot.ly"
       },
       "data": [
        {
         "hovertemplate": "Strain (%)=%{x}<br>Stress (MPa)=%{y}<extra></extra>",
         "legendgroup": "",
         "line": {
          "color": "#636efa",
          "dash": "solid"
         },
         "marker": {
          "symbol": "circle"
         },
         "mode": "lines",
         "name": "",
         "showlegend": false,
         "type": "scattergl",
         "x": {
          "bdata": "AAAAAAAAAAAAAAAAAAAAAAAAAAAAAAAAAAAAAAAAAAAAAAAAAAAAAAAAAAAAAAAAAAAAAAAAAAAAAAAAAAAAAAAAAAAAAAAAAAAAAAAAAAAAAAAAAAAAAAAAAAAAAAAAAAAAAAAAAAAAAAAAAAAAAAAAAAAAAAAAAAAAAAAAAAAAAAAAAAAAAAAAAAAAAAAAAAAAAAAAAAAAAAAAAAAAAAAAAAAAAAAAAAAAAAAAAAAAAAAAAAAAAAAAAAAAAAAAAAAAAAAAAAAAAAAAAAAAAAAAAAAAAAAAAAAAAAAAAAAAAAAAAAAAAAAAAAAAAAAAAAAAAAAAAAAAAAAAAAAAAAAAAAAAAAAAAAAAAAAAAAAAAAAAAAAAAAAAAAAAAAAAAAAAAAAAAAAAAAAAAAAAAAAAAAAAAAAAAAAAAAAAAAAAAAAAAAAAAAAAAAAAAAAAAAAAAAAAAAAAAAAAAAAAAAAAAAAAAAAAAAAAAAAAAAAAAAAAAAAAAAAAAAAAAAAAAAAAAAAAAAAAAAAAAAAAAAAAAAAAAAAAAAAAAAAAAAAAAAAAAAAAAAAAAAAAAAAAAAAAAAAAAAAAAAAAAAAAAAAAAAAAAAAAAAAAAAAAAAAAAAAAAAAAAAAAAAAAAAAAAAAAAAAAAAAAAAAAAAAAAAAAAAAAAAAAAAAAAAAAAAAAAAAAAAAAAAAAAAAAAAAAAAAAAAAAAAAAAAAAAAAAAAAAAAAAAAAAAAAAAAAAAAAAAAAAAAAAAAAAAAAAAAAAAAAAAAAAAAAAAAAAAAAAAAAAAAAAAAAAAAAAAAAAAAAAAAAAAAAAAAAAAAAAAAAAAAAAAAAAAAAAAAAAAAAAAAAAAAAAAAAAAAAAAAAAAAAAAAAAAAAAAAAAAAAAAAAAAAAAAAAAAAAAAAAAAAAAAAAAAAAAAAAAAAAAAAAAAAAAAAAAAAAAAAAAAAAAAAAAAAAAAAAAAAAAAAAAAAAAAAAAAAAAAAAAAAAAAAAAAAAAAAAAAAAAAAAAAAAAAAAAAAAAAAAAAAAAAAAAAAAAAAAAAAAAAAAAAAAAAAAAAAAAAAAAAAAAAAAAAAAAAAAAAAAAAAAAAAAAAAAAAAAAAAAAAAAAAAAAAAAAAAAAAAAAAAAAAAAAAAAAAAAAAAAAAAAAAAAAAAAAAAAAAAAAAAAAAAAAAAAAAAAAAAAAAAAAAAAAAAAAAAAAAAAAAAAAAAAAAAAAAAAAAAAAAAAAAAAAAAAAAAAAAAAAAAAAAAAAAAAAAAAAAAAAAAAAAAAAAAAAAAAAAAAAAAAAAAAAAAAAAAAAAAAAAAAAAAAAAAAAAAAAAAAAAAAAAAAAAAAAAAAAAAAAAAAAAAAAAAAAAAAAAAAAAAAAAAAAAAAAAAAAAAAAAAAAAAAAAAAAAAAAAAAAAAAAAAAAAAAAAAAAAAAAAAAAAAAAAAAAAAAAAAAAAAAAAAAAAAAAAAAAAAAAAAAAAAAAAAAAAAAAAAAAAAAAAAAAAAAAAAAAAAAAAAAAAAAAAAAAAAAAAAAAAAAAAAAAAAAAAAAAAAAAAAAAAAAAAAAAAAAAAAAAAAAAAAAAAAAAAAAAAAAAAAAAAAAAAAAAAAAAAAAAAAAAAAAAAAAAAAAAAAAAAAAAAAAAAAAAAAAAAAAAAAAAAAAAAAAAAAAAAAAAAAAAAAAAAAAAAAAAAAAAAAAAAAAAAAAAAAAAAAAAAAAAAAAAAAAAAAAAAAAAAAAAAAAAAAAAAAAAAAAAAAAAAAAAAAAAAAAAAAAAAAAAAAAAAAAAAAAAAAAAAAAAAAAAAAAAAAAAAAAAAAAAAAAAAAAAAAAAAAAAAAAAAAAAAAAAAAAAAAAAAAAAAAAAAAAAAAAAAAAAAAAAAAAAAAAAAAAAAAAAAAAAAAAAAAAAAAAAAAAAAAAAAAAAAAAAAAAAAAAAAAAAAAAAAAAAAAAAAAAAAAAAAAAAAAAAAAAAAAAAAAAAAAAAAAAAAAAAAAAAAAAAAAAAAAAAAAAAAAAAAAAAAAAAAAAAAAAAAAAAAAAAAAAAAAAAAAAAAAAAAAAAAAAAAAAAAAAAAAAAAAAAAAAAAAAAAAAAAAAAAAAAAAAAAAAAAAAAAAAAAAAAAAAAAAAAAAAAAAAAAAAAAAAAAAAAAAAAAAAAAAAAAAAAAAAAAAAAAAAAAAAAAAAAAAAAAAAAAAAAAAAAAAAAAAAAAAAAAAAAAAAAAAAAAAAAAAAAAAAAAAAAAAAAAAAAAAAAAAAAAAAAAAAAAAAAAAAAAAAAAAAAAAAAAAAAAAAAAAAAAAAAAAAAAAAAAAAAAAAAAAAAAAAAAAAAAAAAAAAAAAAAAAAAAAAAAAAAAAAAAAAAAAAAAAAAAAAAAAAAAAAAAAAAAAAAAAAAAAAAAAAAAAAAAAAAAAAAAAAAAAAAAAAAAAAAAAAAAAAAAAAAAAAAAAAAAAAAAAAAAAAAAAAAAAAAAAAAAAAAAAAAAAAAAAAAAAAAAAAAAAAAAAAAAAAAAAAAAAAAAAAAAAAAAAAAAAAAAAAAAAAAAAAAAAAAAAAAAAAAAAAAAAAAAAAAAAAAAAAAAAAAAAAAAAAAAAAAAAAAAAAAAAAAAAAAAAAAAAAAAAAAAAAAAAAAAAAAAAAAAAAAAAAAAAAAAAAAAAAAAAAAAAAAAAAAAAAAAAAAAAAAAAAAAAAAAAAAAAAAAAAAAAAAAAAAAAAAAAAAAAAAAAAAAAAAAAAAAAAAAAAAAAAAAAAAAAAAAAAAAAAAAAAAAAAAAAAAAAAAAAAAAAAAAAAAAAAAAAAAAAAAAAAAAAAAAAAAAAAAAAAAAAAAAAAAAAAAAAAAAAAAAAAAAAAAAAAAAAAAAAAAAAAAAAAAAAAAAAAAAAAAAAAAAAAAAAAAAAAAAAAAAAAAAAAAAAAAAAAAAAAAAAAAAAAAAAAAAAAAAAAAAAAAAAAAAAAAAAAAAAAAAAAAAAAAAAAAAAAAAAAAAAAAAAAAAAAAAAAAAAAAAAAAAAAAAAAAAAAAAAAAAAAAAAAAAAAAAAAAAAAAAAAAAAAAAAAAAAAAAAAAAAAAAAAAAAAAAAAAAAAAAAAAAAAAAAAAAAAAAAAAAAAAAAAAAAAAAAAAAAAAAAAAAAAAAAAAAAAAAAAAAAAAAAAAAAAAAAAAAAAAAAAAAAAAAAAAAAAAAAAAAAAAAAAAAAAAAAAAAAAAAAAAAAAAAAAAAAAAAAAAAAAAAAAAAAAAAAAAAAAAAAAAAAAAAAAAAAAAAAAAAAAAAAAAAAAAAAAAAAAAAAAAAAAAAAAAAAAAAAAAAAAAAAAAAAAAAAAAAAAAAAAAAAAAAAAAAAAAAAAAAAAAAAAAAAAAAAAAAAAAAAAAAAAAAAAAAAAAAAAAAAAAAAAAAAAAAAAAAAAAAAAAAAAAAAAAAAAAAAAAAAAAAAAAAAAAAAAAAAAAAAAAAAAAAAAAAAAAAAAAAAAAAAAAAAAAAAAAAAAAAAAAAAAAAAAAAAAAAAAAAAAAAAAAAAAAAAAAAAAAAAAAAAAAAAAAAAAAAAAAAAAAAAAAAAAAAAAAAAAAAAAAAAAAAAAAAAAAAAAAAAAAAAAAAAAAAAAAAAAAAAAAAAAAAAAAAAAAAAAAAAAAAAAAAAAAAAAAAAAAAAAAAAAAAAAAAAAAAAAAAAAAAAAAAAAAAAAAAAAAAAAAAAAAAAAAAAAAAAAAAAAAAAAAAAAAAAAAAAAAAAAAAAAAAAAAAAAAAAAAAAAAAAAAAAAAAAAAAAAAAAAAAAAAAAAAAAAAAAAAAAAAAAAAAAAAAAAAAAAAAAAAAAAAAAAAAAAAAAAAAAAAAAAAAAAAAAAAAAAAAAAAAAAAAAAAAAAAAAAAAAAAAAAAAAAAAAAAAAAAAAAAAAAAAAAAAAAAAAAAAAAAAAAAAAAAAAAAAAAAAAAAAAAAAAAAAAAAAAAAAAAAAAAAAAAAAAAAAAAAAAAAAAAAAAAAAAAAAAAAAAAAAAAAAAAAAAAAAAAAAAAAAAAAAAAAAAAAAAAAAAAAAAAAAAAAAAAAAAAAAAAAAAAAAAAAAAAAAAAAAAAAAAAAAAAAAAAAAAAAAAAAAAAAAAAAAAAAAAAAAAAAAAAAAAAAAAAAAAAAAAAAAAAAAAAAAAAAAAAAAAAAAAAAAAAAAAAAAAAAAAAAAAAAAAAAAAAAAAAAAAAAAAAAAAAAAAAAAAAAAAAAAAAAAAAAAAAAAAAAAAAAAAAAAAAAAAAAAAAAAAAAAAAAAAAAAAAAAAAAAAAAAAAAAAAAAAAAAAAAAAAAAAAAAAAAAAAAAAAAAAAAAAAAAAAAAAAAAAAAAAAAAAAAAAAAAAAAAAAAAAAAAAAAAAAAAAAAAAAAAAAAAAAAAAAAAAAAAAAAAAAAAAAAAAAAAAAAAAAAAAAAAAAAAAAAAAAAAAAAAAAAAAAAAAAAAAAAAAAAAAAAAAAAAAAAAAAAAAAAAAAAAAAAAAAAAAAAAAAAAAAAAAAAAAAAAAAAAAAAAAAAAAAAAAAAAAAAAAAAAAAAAAAAAAAAAAAAAAAAAAAAAAAAAAAAAAAAAAAAAAAAAAAAAAAAAAAAAAAAAAAAAAAAAAAAAAAAAAAAAAAAAAAAAAAAAAAAAAAAAAAAAAAAAAAAAAAAAAAAAAAAAAAAAAAAAAAAAAAAAAAAAAAAAAAAAAAAAAAAAAAAAAAAAAAAAAAAAAAAAAAAAAAAAAAAAAAAAAAAAAAAAAAAAAAAAAAAAAAAAAAAAAAAAAAAAAAAAAAAAAAAAAAAAAAAAAAAAAAAAAAAAAAAAAAAAAAAAAAAAAAAAAAAAAAAAAAAAAAAAAAAAAAAAAAAAAAAAAAAAAAAAAAAAAAAAAAAAAAAAAAAAAAAAAAAAAAAAAAAAAAAAAAAAAAAAAAAAAAAAAAAAAAAAAAAAAAAAAAAAAAAAAAAAAAAAAAAAAAAAAAAAAAAAAAAAAAAAAAAAAAAAAAAAAAAAAAAAAAAAAAAAAAAAAAAAAAAAAAAAAAAAAAAAAAAAAAAAAAAAAAAAAAAAAAAAAAAAAAAAAAAAAAAAAAAAAAAAAAAAAAAAAAAAAAAAAAAAAAAAAAAAAAAAAAAAAAAAAAAAAAAAAAAAAAAAAAAAAAAAAAAAAAAAAAAAAAAAAAAAAAAAAAAAAAAAAAAAAAAAAAAAAAAAAAAAAAAAAAAAAAAAAAAAAAAAAAAAAAAAAAAAAAAAAAAAAAAAAAAAAAAAAAAAAAAAAAAAAAAAAAAAAAAAAAAAAAAAAAAAAAAAAAAAAAAAAAAAAAAAAAAAAAAAAAAAAAAAAAAAAAAAAAAAAAAAAAAAAAAAAAAAAAAAAAAAAAAADvavE9xyfA+EqyjzfsUJz/fp7hkCNYxPyZDsI427zM/EqyjzfsUNz9YR5v3KS45P0SwjjbvUzw/LxmCdbR5Pz/fp7hkCNZBP1VcMgTraEM/yhCso837RD8SrKPN+xRHP1hHm/cpLkk/oOKSIVhHSz8jZAjW0eZNP2nzPsUlQ1A/drR5n+KSUT83dbR5n+JSP/gpLhmCdVQ/bt6nuGQIVj96n+KSIVhXP/BTXDIE61g/oOKSIVhHWz8VlwzBOtpcP/M+xSVDsF4/afM+xSVDYD8NwTravE9hP9YUlwzBOmI/62jzPsUlYz+PNu9TXDJkPzIE62jzPmU/IVhHm/cpZj8rLhmCdbRpP6DikiFYR2s/RLCONu9TbD8E62jzPsVtP6i4ZAjW0W4/AAAAAAAAcD+Zo837FJdwPw3BOtq8T3E/kyFYR5v3cT/0PsUlQ7ByPwnW0eZ9inM/Q7CONu9TdD+kzfsUlwx1P96nuGQI1nU/GoJ1tHmfdj96n+KSIVh3P7R5n+KSIXg/WEeb9ykueT+UIVhHm/d5P10yBOto83o/lwzBOtq8ez+HYB1t3qd8P5z3KS4Zgn0/sI4271Ncfj/saPM+xSV/PwAAAAAAAIA/Hm3ep7hkgD8VlwzBOtqAP+d9ikuGYIE/cckQrKPNgT9p8z7FJUOCP2Edbd6nuII/xiVDsI42gz+ODME62ryDP8I62rxPcYU/AAAAAAAAhj8/xSVDsI6GPxKso837FIc/drR5n+KShz8iWEeb9ymIP2Edbd6nuIg/MwTraPM+iT+5ZAjW0eaJP4pLhmAdbYo/yhCso837ij8qLhmCdbSLP9LmfYpLhow/oOKSIVhHjT+wZAjW0eaNP+4pLhmCdY4/WEeb9ykujz/ep7hkCNaPP/wUlwzBOpA/CdbR5n2KkD/wU1wyBOuQPy4E62jzPpE/P8UlQ7COkT+CdbR5n+KRP8UlQ7CONpI/raPN+xSXkj8mQ7CONu+SP6DikiFYR5M/vU9xyRCskz8371NcMgSUP0OwjjbvU5Q/vU9xyRCslD8271NcMgSVP6yONu9TXJU/9D7FJUOwlT8RrKPN+xSWPx1t3qe4ZJY/YR1t3qe4lj+kzfsUlwyXPx1t3qe4ZJc/S4ZgHW3emD+PNu9TXDKZPwnW0eZ9ipk/R4ZgHW3emT+QNu9TXDKaP5v3KS4Zgpo/EZcMwTramj+PNu9TXDKbPz/FJUOwjps/gnW0eZ/imz/8FJcMwTqcPwnW0eZ9ipw/8FNcMgTrnD8zBOto8z6dP3G0eZ/ikp0/g3W0eZ/inT/GJUOwjjaePxqCdbR5n54/AAAAAAAAnz+sjjbvU1yfP877FJcMwZ8/CNbR5n0KoD8qLhmCdTSgP4B1tHmfYqA/pM37FJeMoD9hHW3ep7igP+d9ikuG4KA/BtbR5n0KoT9hHW3epzihP4J1tHmfYqE/P8UlQ7COoT9hHW3ep7ihPxtt3qe45KE/2LxPcckQoj/6FJcMwTqiPx5t3qe4ZKI/P8UlQ7COoj/8FJcMwbqiP1RcMgTr6KI/JkOwjjZvoz8oLhmCdbSjPx1t3qe45KM/c7R5n+ISpD+YDME62jykP1RcMgTraKQ/EayjzfuUpD8zBOto876kP1RcMgTr6KQ/drR5n+ISpT/O+xSXDEGlP8I62rxPcaU/fopLhmCdpT852rxPccmlP10yBOto86U/UXHJEKwjpj8NwTravE+mPy4ZgnW0eaY/tXmf4pKhpj9xyRCso82mP5MhWEeb96Y/UHHJEKwjpz+ouGQI1lGnP8oQrKPNe6c/kDbvU1yypz+xjjbvU9ynP9DmfYpLBqg/Ky4ZgnU0qD8ebd6nuGSoP0DFJUOwjqg/mAzBOtq8qD9UXDIE6+ioP0eb9ykuGak/Auto8z5FqT/BOtq8T3GpPxqCdbR5n6k/1tHmfYrLqT8uGYJ1tPmpP4dgHW3eJ6o/36e4ZAhWqj/T5n2KS4aqP+to8z7FJas/Q7CONu9Tqz+c9ykuGYKrP/Q+xSVDsKs/TIZgHW3eqz+kzfsUlwysP2Edbd6nOKw/uWQI1tFmrD+to837FJesP2nzPsUlw6w/JkOwjjbvrD8agnW0eR+tPznavE9xSa0/+CkuGYJ1rT8ZgnW0eZ+tP3LJEKyjza0/yBCso837rT/saPM+xSWuPwvBOtq8T64/yRCso817rj+9T3HJEKyuPxWXDME62q4/0uZ9iksGrz8zBOto8z6vP1RcMgTraK8/drR5n+KSrz/9FJcMwbqvPxxt3qe45K8/CNbR5n0KsD/nfYpLhiCwPyouGYJ1NLA/CdbR5n1KsD+BdbR5n2KwP5MhWEebd7A/pM37FJeMsD+0eZ/ikqGwP2Edbd6nuLA/dbR5n+ISsT9UXDIE6yixPwAAAAAAQLE/raPN+xRXsT+8T3HJEGyxP5v3KS4ZgrE/rKPN+xSXsT+LS4ZgHa2xPzfvU1wyxLE/fopLhmDdsT+PNu9TXPKxPzravE9xCbI/GYJ1tHkfsj/4KS4ZgjWyP6TN+xSXTLI/UHHJEKxjsj/8FJcMwXqyP6i4ZAjWkbI/VFwyBOuosj/N+xSXDMGyP9+nuGQI1rI/vU9xyRDssj/O+xSXDAGzP9+nuGQIFrM/vU9xyRAssz/N+xSXDEGzP9+nuGQIVrM/i0uGYB1tsz+c9ykuGYKzPxSXDME6mrM/wTravE+xsz9t3qe4ZMizP0uGYB1t3rM/+CkuGYL1sz8J1tHmfQq0P+d9ikuGILQ/+CkuGYI1tD9xyRCso020P0yGYB1tnrQ/xSVDsI62tD+kzfsUl8y0P4N1tHmf4rQ//BSXDMH6tD/bvE9xyRC1P7lkCNbRJrU/mAzBOto8tT91tHmf4lK1P1RcMgTraLU/MwTraPN+tT9EsI4275O1PyJYR5v3qbU/MwTraPO+tT8SrKPN+9S1P8E62rxP8bU/xiVDsI42tj/nfYpLhmC2P5QhWEebd7Y/e5/ikiGYtj9aR5v3Ka62PwXraPM+xbY/FpcMwTratj8mQ7CONu+2P9LmfYpLBrc/sI4271Mctz+PNu9TXDK3P6DikiFYR7c/TIZgHW1etz/4KS4ZgnW3P3LJEKyjjbc/g3W0eZ+itz8uGYJ1tLm3P6e4ZAjW0bc/VVwyBOvotz8BAAAAAAC4P3qf4pIhGLg/wTravE8xuD/W0eZ9iku4P3qf4pIhmLg/9D7FJUOwuD9u3qe4ZMi4P0uGYB1t3rg/+CkuGYL1uD+jzfsUlwy5P7hkCNbRJrk/yhCso807uT9EsI4271O5PyJYR5v3abk/zvsUlwyBuT96n+KSIZi5P48271Ncsrk/PNq8T3HJuT9LhmAdbd65PyouGYJ19Lk/CdbR5n0Kuj8ZgnW0eR+6P1wyBOtoM7o/O9q8T3FJuj/ofYpLhmC6P5MhWEebd7o/DcE62ryPuj8ebd6nuKS6PzME62jzvro/EqyjzfvUuj/wU1wyBOu6P5z3KS4ZArs/SJv3KS4Zuz8mQ7CONi+7PwbraPM+Rbs/S4ZgHW1euz8qLhmCdXS7PwnW0eZ9irs/tXmf4pKhuz9hHW3ep7i7P3a0eZ/i0rs/IlhHm/fpuz/O+xSXDAG8P96nuGQIFrw/8FNcMgQrvD8vGYJ1tHm8P9u8T3HJkLw/62jzPsWlvD+YDME62ry8P3W0eZ/i0rw/IlhHm/fpvD8BAAAAAAC9PxaXDME6Gr0/9D7FJUMwvT9u3qe4ZEi9P0uGYB1tXr0/xSVDsI52vT9yyRCso429P4N1tHmfor0/YB1t3qe4vT8NwTravM+9P+xo8z7F5b0/yRCso837vT9DsI427xO+P/BTXDIEK74/m/cpLhlCvj+so837FFe+PydDsI42b74/0+Z9ikuGvj/kkiFYR5u+P8E62rxPsb4/bt6nuGTIvj9LhmAdbd6+P1wyBOto874/19HmfYoLvz9RcckQrCO/P8kQrKPNO78/Q7CONu9Tvz++T3HJEGy/P5v3KS4Zgr8/3qe4ZAiWvz/vU1wyBKu/P2nzPsUlw78/ep/ikiHYvz8nQ7CONu+/P5z3KS4ZAsA/pM37FJcMwD9hHW3epxjAP2nzPsUlI8A/P8UlQ7AuwD8VlwzBOjrAP9LmfYpLRsA/dbR5n+JSwD9lCNbR5l3APyJYR5v3acA/9ykuGYJ1wD8AAAAAAIDAP4pLhmAdjcA/YR1t3qeYwD+kzfsUl6zAP9+nuGQItsA/532KS4bAwD+9T3HJEMzAP62jzfsU18A/afM+xSXjwD9MhmAdbR7BPzvavE9xKcE/Ki4ZgnU0wT8agnW0eT/BPyJYR5v3ScE/Ki4ZgnVUwT9MhmAdbV7BPzvavE9xacE/Ky4ZgnV0wT8ZgnW0eX/BPyJYR5v3icE/EayjzfuUwT8ZgnW0eZ/BPyJYR5v3qcE/+CkuGYK1wT/O+xSXDMHBP+9TXDIEy8E/EayjzfvUwT8BAAAAAODBP+9TXDIE68E/+CkuGYL1wT8BAAAAAADCP/BTXDIEC8I/rKPN+xQXwj9p8z7FJSPCPw3BOtq8L8I/yhCso807wj+5ZAjW0UbCP3a0eZ/iUsI/fopLhmBdwj9VXDIE62jCP0Owjjbvc8I/AAAAAACAwj/vU1wyBIvCP/gpLhmClcI/532KS4agwj/wU1wyBKvCP5QhWEebt8I/UHHJEKzDwj8nQ7CONs/CP+OSIVhH28I/h2Adbd7nwj9cMgTraPPCP0yGYB1t/sI/IlhHm/cJwz8qLhmCdRTDPzME62jzHsM/O9q8T3Epwz/4KS4ZgjXDP7V5n+KSQcM/i0uGYB1Nwz8uGYJ1tFnDPx5t3qe4ZMM/P8UlQ7Buwz8uGYJ1tHnDP6DikiFYh8M/drR5n+KSwz9MhmAdbZ7DPzvavE9xqcM/Eayjzfu0wz8zBOto877DPyJYR5v3ycM/Ky4ZgnXUwz/O+xSXDOHDP3LJEKyjDcQ/FZcMwToaxD/S5n2KSybEP48271NcMsQ/fopLhmA9xD9UXDIE60jEP/gpLhmCVcQ/zvsUlwxhxD/W0eZ9imvEP8YlQ7COdsQ/m/cpLhmCxD+kzfsUl4zEP2Edbd6nmMQ/Hm3ep7ikxD8NwTravK/EP8oQrKPNu8Q/bt6nuGTIxD8qLhmCddTEPxqCdbR538Q/vU9xyRDsxD+to837FPfEP4J1tHmfAsU/WEeb9ykOxT8VlwzBOhrFPwXraPM+JcU/2rxPcckwxT+YDME62jzFP23ep7hkSMU/Q7CONu9TxT/O+xSXDGHFP6TN+xSXbMU/YR1t3qd4xT8F62jzPoXFP8E62rxPkcU/sI4271OcxT9u3qe4ZKjFP0Owjjbvs8U/MwTraPO+xT8iWEeb98nFP96nuGQI1sU/nPcpLhnixT9xyRCso+3FPxWXDME6+sU/7GjzPsUFxj92tHmf4hLGP0yGYB1tHsY/Buto8z5Fxj/fp7hkCFbGP7V5n+KSYcY/i0uGYB1txj9gHW3ep3jGPx5t3qe4hMY/27xPccmQxj9+ikuGYJ3GPzzavE9xqcY/ep/ikiG4xj9RcckQrMPGPwzBOtq8z8Y/yhCso83bxj+g4pIhWOfGP10yBOto88Y/MwTraPP+xj/wU1wyBAvHP8YlQ7COFsc/tXmf4pIhxz+lzfsUlyzHP3qf4pIhOMc/UHHJEKxDxz8MwTravE/HP/wUlwzBWsc/0+Z9iktmxz+ouGQI1nHHP5gMwTrafMc/VFwyBOuIxz8RrKPN+5THPwEAAAAAoMc/8FNcMgSrxz/GJUOwjrbHP2nzPsUlw8c/J0OwjjbPxz8VlwzBOtrHP+xo8z7F5cc/2rxPccnwxz+XDME62vzHP1VcMgTrCMg/Ki4ZgnUUyD8AAAAAACDIP9bR5n2KK8g/lCFYR5s3yD+DdbR5n0LIP3LJEKyjTcg/FpcMwTpayD/raPM+xWXIP8E62rxPccg/lwzBOtp8yD882rxPcYnIPxGso837lMg/tXmf4pKhyD+LS4ZgHa3IP3qf4pIhuMg/Nu9TXDLEyD8NwTravM/IP5QhWEeb98g/N+9TXDIEyT/zPsUlQxDJP+OSIVhHG8k/oOKSIVgnyT8qLhmCdTTJPxmCdbR5P8k/CdbR5n1KyT+so837FFfJP2rzPsUlY8k/P8UlQ7BuyT/9FJcMwXrJP7hkCNbRhsk/drR5n+KSyT8zBOto857JP9fR5n2Kq8k/raPN+xS3yT+CdbR5n8LJP3LJEKyjzck/FZcMwTrayT/raPM+xeXJP6i4ZAjW8ck/TIZgHW3+yT8J1tHmfQrKP6ujzfsUF8o/UHHJEKwjyj/0PsUlQzDKP8oQrKPNO8o/h2Adbd5Hyj9DsI4271PKPxqCdbR5X8o/pM37FJdsyj+TIVhHm3fKPzfvU1wyhMo/JkOwjjaPyj/9FJcMwZrKP+xo8z7Fpco/jzbvU1yyyj9LhmAdbb7KPyJYR5v3yco/+CkuGYLVyj+c9ykuGeLKP3HJEKyj7co/SJv3KS75yj/saPM+xQXLP6i4ZAjWEcs/ZgjW0eYdyz872rxPcSnLPxGso837NMs/AAAAAABAyz+kzfsUl0zLP3uf4pIhWMs/Nu9TXDJkyz/0PsUlQ3DLP8oQrKPNe8s/h2Adbd6Hyz8RrKPN+5TLPwAAAAAAoMs/vk9xyRCsyz9Im/cpLrnLPx1t3qe4xMs/wjravE/Ryz9+ikuGYN3LPzravE9xCcw/Ki4ZgnUUzD8AAAAAACDMP9fR5n2KK8w/xyVDsI42zD+c9ykuGULMP0DFJUOwTsw/FZcMwTpazD8E62jzPmXMP8I62rxPccw/fopLhmB9zD8iWEeb94nMP8UlQ7COlsw/g3W0eZ+izD8OwTravK/MP7CONu9TvMw/bd6nuGTIzD8RrKPN+9TMP7V5n+KS4cw/ikuGYB3tzD8vGYJ1tPnMPwXraPM+Bc0/wjravE8RzT+XDME62hzNP1RcMgTrKM0/+SkuGYI1zT/O+xSXDEHNP6TN+xSXTM0/YB1t3qdYzT8ebd6nuGTNP/M+xSVDcM0/sY4271N8zT+GYB1t3ofNP3W0eZ/iks0/MwTraPOezT/X0eZ9iqvNP8YlQ7COts0/tHmf4pLBzT8nQ7CONs/NP/0UlwzB2s0/uGQI1tHmzT9DsI427/PNPwAAAAAAAM4/vU9xyRAMzj9hHW3epxjOP9LmfYpLJs4/jzbvU1wyzj9NhmAdbT7OPyJYR5v3Sc4/36e4ZAhWzj+0eZ/ikmHOP1lHm/cpbs4//RSXDMF6zj+g4pIhWIfOPyouGYJ1lM4/zvsUlwyhzj9ZR5v3Ka7OPy8ZgnW0uc4/BOto8z7Fzj/avE9xydDOP2UI1tHm3c4/CdbR5n3qzj+so837FPfOP4R1tHmfAs8/WUeb9ykOzz/9FJcMwRrPP6DikiFYJ88/Ki4ZgnU0zz/nfYpLhkDPP4tLhmAdTc8/YR1t3qdYzz9RcckQrGPPPw3BOtq8b88/45IhWEd7zz+HYB1t3ofPPyouGYJ1lM8/tHmf4pKhzz9yyRCso63PPy4ZgnW0uc8/0uZ9ikvGzz+QNu9TXNLPPzME62jz3s8/19HmfYrrzz+to837FPfPP6i4ZAjWAdA/hmAdbd4H0D8mQ7CONg/QPxGso837FNA/45IhWEcb0D/N+xSXDCHQP7lkCNbRJtA/lwzBOtos0D9dMgTraDPQPy4ZgnW0OdA/AAAAAABA0D/fp7hkCEbQP6TN+xSXTNA/dbR5n+JS0D9UXDIE61jQPw3BOtq8X9A/+CkuGYJl0D/jkiFYR2vQP5v3KS4ZctA/YR1t3qd40D8zBOto837QPxGso837hNA/vU9xyRCM0D+PNu9TXJLQP1RcMgTrmNA/JkOwjjaf0D8RrKPN+6TQP8kQrKPNq9A/nPcpLhmy0D97n+KSIbjQP0uGYB1tvtA/Beto8z7F0D/KEKyjzcvQP6i4ZAjW0dA/YB1t3qfY0D9MhmAdbd7QPzfvU1wy5NA//BSXDMHq0D/bvE9xyfDQP4ZgHW3e99A/cskQrKP90D9dMgTraAPRP0ib9ykuCdE/JkOwjjYP0T8RrKPN+xTRP+9TXDIEG9E/2rxPcckg0T+5ZAjW0SbRP36KS4ZgLdE/UHHJEKwz0T8iWEeb9znRPwAAAAAAQNE/0uZ9iktG0T+xjjbvU0zRP48271NcUtE/VFwyBOtY0T8mQ7CONl/RPwTraPM+ZdE/yhCso81r0T+ouGQI1nHRP3qf4pIheNE/WEeb9yl+0T8ebd6nuITRP8oQrKPNi9E/nPcpLhmS0T9t3qe4ZJjRP1hHm/cpntE/Q7CONu+j0T8iWEeb96nRP+d9ikuGsNE/oOKSIVi30T9YR5v3Kb7RPyouGYJ1xNE/CdbR5n3K0T/zPsUlQ9DRP9LmfYpL1tE/sI4271Pc0T+ouGQI1uHRP23ep7hk6NE/WEeb9ynu0T8rLhmCdfTRP+OSIVhH+9E/tXmf4pIB0j96n+KSIQjSP0DFJUOwDtI/Hm3ep7gU0j/vU1wyBBvSP877FJcMIdI/rKPN+xQn0j+LS4ZgHS3SP4J1tHmfMtI/YR1t3qc40j8/xSVDsD7SPzfvU1wyRNI/IlhHm/dJ0j8ZgnW0eU/SPxGso837VNI/FZcMwTpa0j8mQ7CONl/SPxGso837ZNI//BSXDMFq0j8AAAAAAHDSPwTraPM+ddI//BSXDMF60j/ofYpLhoDSP9LmfYpLhtI/yRCso82L0j/bvE9xyZDSP9+nuGQIltI/1tHmfYqb0j/avE9xyaDSP+to8z7FpdI/8FNcMgSr0j/0PsUlQ7DSP/gpLhmCtdI//BSXDMG60j8AAAAAAMDSP/gpLhmCxdI/45IhWEfL0j/O+xSXDNHSP7lkCNbR1tI/lwzBOtrc0j8ebd6nuOTSP/wUlwzB6tI/2rxPccnw0j/S5n2KS/bSP9bR5n2K+9I/wjravE8B0z+so837FAfTP6TN+xSXDNM/m/cpLhkS0z+TIVhHmxfTP36KS4ZgHdM/afM+xSUj0z9hHW3epyjTP0yGYB1tLtM/RLCONu8z0z8vGYJ1tDnTP8oQrKPNS9M/wjravE9R0z+so837FFfTP4tLhmAdXdM/gnW0eZ9i0z+HYB1t3mfTP36KS4ZgbdM/afM+xSVz0z9UXDIE63jTP1hHm/cpftM/N+9TXDKE0z8iWEeb94nTPxmCdbR5j9M/EayjzfuU0z/8FJcMwZrTP/Q+xSVDoNM/36e4ZAim0z/W0eZ9iqvTP9q8T3HJsNM/xiVDsI620z+xjjbvU7zTP5z3KS4ZwtM/YR1t3qfI0z9YR5v3Kc7TP1BxyRCs09M/O9q8T3HZ0z8mQ7CONt/TPyouGYJ15NM//BSXDMHq0z/COtq8T/HTP6DikiFY99M/cckQrKP90z9DsI427wPUPyJYR5v3CdQ/532KS4YQ1D+5ZAjW0RbUP6TN+xSXHNQ/UHHJEKwz1D8VlwzBOjrUP877FJcMQdQ/kyFYR5tH1D8yBOto807UPwXraPM+VdQ/45IhWEdb1D+c9ykuGWLUP3qf4pIhaNQ/P8UlQ7Bu1D8F62jzPnXUP7GONu9TfNQ/gnW0eZ+C1D872rxPcYnUPwEAAAAAkNQ/rKPN+xSX1D9lCNbR5p3UPyouGYJ1pNQ/8FNcMgSr1D+1eZ/ikrHUP23ep7hkuNQ/JkOwjja/1D/S5n2KS8bUP5cMwTrazNQ/XDIE62jT1D8J1tHmfdrUP8I62rxP4dQ/kyFYR5vn1D9MhmAdbe7UP/gpLhmC9dQ/pc37FJf81D91tHmf4gLVP0eb9ykuCdU/DcE62rwP1T/S5n2KSxbVP5cMwTraHNU/drR5n+Ii1T+f4pIhWDfVP/M+xSVDQNU/xiVDsI5G1T+LS4ZgHU3VP0OwjjbvU9U/8FNcMgRb1T+1eZ/ikmHVP3uf4pIhaNU/QMUlQ7Bu1T/4KS4ZgnXVP71PcckQfNU/afM+xSWD1T8uGYJ1tInVP9u8T3HJkNU/oOKSIViX1T9xyRCso53VP0Owjjbvo9U/FZcMwTqq1T/BOtq8T7HVP6DikiFYt9U/S4ZgHW2+1T8dbd6nuMTVP8oQrKPNy9U/WUeb9yne1T9EsI427+PVPwnW0eZ96tU/27xPccnw1T+TIVhHm/fVP1hHm/cp/tU/EayjzfsE1j++T3HJEAzWP5v3KS4ZEtY/VFwyBOsY1j8NwTravB/WP9PmfYpLJtY/pM37FJcs1j9QcckQrDPWP/wUlwzBOtY/zvsUlwxB1j+to837FEfWP7GONu9TXNY/XDIE62hj1j8vGYJ1tGnWP+d9ikuGcNY/oeKSIVh31j9ZR5v3KX7WPzfvU1wyhNY//BSXDMGK1j+puGQI1pHWP3uf4pIhmNY/QMUlQ7Ce1j8RrKPN+6TWP9bR5n2Kq9Y/qLhkCNax1j9VXDIE67jWPxqCdbR5v9Y/xiVDsI7G1j+LS4ZgHc3WP1BxyRCs09Y/CdbR5n3a1j/BOtq8T+HWP6DikiFY59Y/WUeb9ynu1j8ebd6nuPTWP/BTXDIE+9Y/tXmf4pIB1z96n+KSIQjXP0DFJUOwDtc/EqyjzfsU1z+wjjbvUxzXP10yBOtoI9c/LhmCdbQp1z/bvE9xyTDXP62jzfsUN9c/lwzBOto81z9dMgTraEPXPy8ZgnW0Sdc/2rxPcclQ1z+HYB1t3lfXP1VcMgTraNc/JkOwjjZv1z/fp7hkCHbXP6XN+xSXfNc/XTIE62iD1z8VlwzBOorXP+d9ikuGkNc/raPN+xSX1z9YR5v3KZ7XPzfvU1wypNc/CdbR5n2q1z/P+xSXDLHXP4dgHW3et9c/ZQjW0ea91z8qLhmCdcTXP+SSIVhHy9c/nPcpLhnS1z9u3qe4ZNjXPyZDsI4239c/36e4ZAjm1z9/ikuGYO3XP1wyBOto89c/CdbR5n361z/COtq8TwHYP5QhWEebB9g/WUeb9ykO2D8ebd6nuBTYP9fR5n2KG9g/avM+xSUj2D9Hm/cpLinYPw3BOtq8L9g/36e4ZAg22D++T3HJEDzYP4N1tHmfQtg/VVwyBOtI2D8agnW0eU/YP+CnuGQIVtg/fopLhmBd2D9EsI4272PYP+9TXDIEa9g/GoJ1tHl/2D+6ZAjW0YbYP3+KS4Zgjdg/N+9TXDKU2D/8FJcMwZrYP8I62rxPodg/lCFYR5un2D9ZR5v3Ka7YPx5t3qe4tNg/yhCso8272D+CdbR5n8LYPy8ZgnW0ydg/AAAAAADQ2D+6ZAjW0dbYP4pLhmAd3dg/Ki4ZgnXk2D/8FJcMwerYP8I62rxP8dg/ep/ikiH42D8mQ7CONv/YP+to8z7FBdk/mAzBOtoM2T91tHmf4hLZPzvavE9xGdk/532KS4Yg2T+TIVhHmyfZP2UI1tHmLdk/Hm3ep7g02T/X0eZ9ijvZP5A271NcQtk/Yh1t3qdI2T8NwTravE/ZP7lkCNbRVtk/fopLhmBd2T9QcckQrGPZP/wUlwzBatk/wTravE9x2T97n+KSIXjZPzME62jzftk/0uZ9ikuG2T9VXDIE65jZP6i4ZAjWodk/ep/ikiGo2T9MhmAdba7ZP/gpLhmCtdk/vU9xyRC82T+c9ykuGcLZP2Edbd6nyNk/MwTraPPO2T/4KS4ZgtXZP75PcckQ3Nk/drR5n+Li2T8uGYJ1tOnZP+d9ikuG8Nk/rKPN+xT32T8/xSVDsP7ZP8UlQ7COBto/mAzBOtoM2j9dMgTraBPaPyJYR5v3Gdo/2rxPcckg2j+g4pIhWCfaP0DFJUOwLto/Eqyjzfs02j/KEKyjzTvaP48271NcQto/45IhWEdb2j+c9ykuGWLaPzzavE9xado/DME62rxv2j+g4pIhWHfaP0yGYB1tfto/Beto8z6F2j/X0eZ9iovaP5z3KS4Zkto/YR1t3qeY2j8NwTravJ/aP3a0eZ/isto/PNq8T3G52j8BAAAAAMDaP7lkCNbRxto/i0uGYB3N2j9RcckQrNPaPwnW0eZ92to/zvsUlwzh2j+HYB1t3ufaP0yGYB1t7to/7GjzPsX12j9/ikuGYP3aP1FxyRCsA9s/CtbR5n0K2z+1eZ/ikhHbP2Edbd6nGNs/JkOwjjYf2z/gp7hkCCbbP71PcckQLNs/drR5n+Iy2z8vGYJ1tDnbP877FJcMQds/hmAdbd5H2z8/xSVDsE7bPxGso837VNs/vk9xyRBc2z92tHmf4mLbPzvavE9xads/9D7FJUNw2z+UIVhHm3fbP1lHm/cpfts/Ki4ZgnWE2z/kkiFYR4vbP5z3KS4Zkts/VFwyBOuY2z8agnW0eZ/bP8UlQ7COpts/N+9TXDK02z/wU1wyBLvbPxqCdbR5z9s/SJv3KS7Z2z8AAAAAAODbP62jzfsU59s/WUeb9ynu2z8rLhmCdfTbP/0UlwzB+ts/wjravE8B3D9iHW3epwjcPxmCdbR5D9w/3qe4ZAgW3D+LS4ZgHR3cP0SwjjbvI9w/FpcMwToq3D+puGQI1jHcP27ep7hkONw/JkOwjjY/3D/saPM+xUXcP75PcckQTNw/drR5n+JS3D872rxPcVncP/Q+xSVDYNw/xiVDsI5m3D9+ikuGYG3cPysuGYJ1dNw/5JIhWEd73D+puGQI1oHcP27ep7hkiNw/GoJ1tHmP3D/saPM+xZXcP7GONu9TnNw/XTIE62ij3D8J1tHmfarcP9q8T3HJsNw/bd6nuGS43D8zBOto877cP+to8z7Fxdw/pc37FJfM3D9QcckQrNPcP5QhWEeb59w/S4ZgHW3u3D/4KS4ZgvXcP75PcckQ/Nw/drR5n+IC3T872rxPcQndPwAAAAAAEN0/raPN+xQX3T9zyRCsox3dPwTraPM+Jd0/mAzBOtos3T9DsI427zPdP/0UlwzBOt0/qLhkCNZB3T9hHW3ep0jdPw7BOtq8T90/0+Z9iktW3T+kzfsUl1zdP1BxyRCsY90//RSXDMFq3T/DOtq8T3HdP2Edbd6neN0/J0OwjjZ/3T/fp7hkCIbdP7GONu9TjN0/drR5n+KS3T8vGYJ1tJndP+h9ikuGoN0/uWQI1tGm3T9+ikuGYK3dPzjvU1wytN0/5JIhWEe73T+puGQI1sHdP2Edbd6nyN0/J0OwjjbP3T/fp7hkCNbdP7GONu9T3N0/drR5n+Li3T+5ZAjW0fbdP1lHm/cp/t0/Beto8z4F3j+9T3HJEAzeP3W0eZ/iEt4/O9q8T3EZ3j8NwTravB/eP7pkCNbRJt4/cskQrKMt3j8371NcMjTeP+OSIVhHO94/kDbvU1xC3j872rxPcUneP/U+xSVDUN4/oOKSIVhX3j9xyRCso13ePysuGYJ1ZN4/yxCso81r3j93tHmf4nLePyJYR5v3ed4/z/sUlwyB3j+HYB1t3ofePzME62jzjt4/3qe4ZAiW3j+LS4ZgHZ3eP1FxyRCso94/CdbR5n2q3j/BOtq8T7HeP3qf4pIhuN4/GoJ1tHm/3j/T5n2KS8beP3+KS4Zgzd4/UHHJEKzT3j/9FJcMwdreP6m4ZAjW4d4/Yh1t3qfo3j8agnW0ee/eP8YlQ7CO9t4/ZgjW0eb93j9q8z7FJRPfPyJYR5v3Gd8/2rxPcckg3z96n+KSISjfPzME62jzLt8/+CkuGYI13z+kzfsUlzzfP10yBOtoQ98//RSXDMFK3z+2eZ/iklHfP27ep7hkWN8/DcE62rxf3z+6ZAjW0WbfP3+KS4Zgbd8/N+9TXDJ03z/jkiFYR3vfP6i4ZAjWgd8/SJv3KS6J3z8BAAAAAJDfP7lkCNbRlt8/cckQrKOd3z8RrKPN+6TfP7GONu9TrN8/avM+xSWz3z8iWEeb97nfP+d9ikuGwN8/lCFYR5vH3z9AxSVDsM7fP+CnuGQI1t8/mAzBOtrc3z9RcckQrOPfP+9TXDIE698/wTravE/x3z9Im/cpLvnfPwAAAAAAAOA/",
          "dtype": "f8"
         },
         "xaxis": "x",
         "y": {
          "bdata": "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",
          "dtype": "f8"
         },
         "yaxis": "y"
        }
       ],
       "layout": {
        "legend": {
         "tracegroupgap": 0
        },
        "template": {
         "data": {
          "bar": [
           {
            "error_x": {
             "color": "#2a3f5f"
            },
            "error_y": {
             "color": "#2a3f5f"
            },
            "marker": {
             "line": {
              "color": "#E5ECF6",
              "width": 0.5
             },
             "pattern": {
              "fillmode": "overlay",
              "size": 10,
              "solidity": 0.2
             }
            },
            "type": "bar"
           }
          ],
          "barpolar": [
           {
            "marker": {
             "line": {
              "color": "#E5ECF6",
              "width": 0.5
             },
             "pattern": {
              "fillmode": "overlay",
              "size": 10,
              "solidity": 0.2
             }
            },
            "type": "barpolar"
           }
          ],
          "carpet": [
           {
            "aaxis": {
             "endlinecolor": "#2a3f5f",
             "gridcolor": "white",
             "linecolor": "white",
             "minorgridcolor": "white",
             "startlinecolor": "#2a3f5f"
            },
            "baxis": {
             "endlinecolor": "#2a3f5f",
             "gridcolor": "white",
             "linecolor": "white",
             "minorgridcolor": "white",
             "startlinecolor": "#2a3f5f"
            },
            "type": "carpet"
           }
          ],
          "choropleth": [
           {
            "colorbar": {
             "outlinewidth": 0,
             "ticks": ""
            },
            "type": "choropleth"
           }
          ],
          "contour": [
           {
            "colorbar": {
             "outlinewidth": 0,
             "ticks": ""
            },
            "colorscale": [
             [
              0,
              "#0d0887"
             ],
             [
              0.1111111111111111,
              "#46039f"
             ],
             [
              0.2222222222222222,
              "#7201a8"
             ],
             [
              0.3333333333333333,
              "#9c179e"
             ],
             [
              0.4444444444444444,
              "#bd3786"
             ],
             [
              0.5555555555555556,
              "#d8576b"
             ],
             [
              0.6666666666666666,
              "#ed7953"
             ],
             [
              0.7777777777777778,
              "#fb9f3a"
             ],
             [
              0.8888888888888888,
              "#fdca26"
             ],
             [
              1,
              "#f0f921"
             ]
            ],
            "type": "contour"
           }
          ],
          "contourcarpet": [
           {
            "colorbar": {
             "outlinewidth": 0,
             "ticks": ""
            },
            "type": "contourcarpet"
           }
          ],
          "heatmap": [
           {
            "colorbar": {
             "outlinewidth": 0,
             "ticks": ""
            },
            "colorscale": [
             [
              0,
              "#0d0887"
             ],
             [
              0.1111111111111111,
              "#46039f"
             ],
             [
              0.2222222222222222,
              "#7201a8"
             ],
             [
              0.3333333333333333,
              "#9c179e"
             ],
             [
              0.4444444444444444,
              "#bd3786"
             ],
             [
              0.5555555555555556,
              "#d8576b"
             ],
             [
              0.6666666666666666,
              "#ed7953"
             ],
             [
              0.7777777777777778,
              "#fb9f3a"
             ],
             [
              0.8888888888888888,
              "#fdca26"
             ],
             [
              1,
              "#f0f921"
             ]
            ],
            "type": "heatmap"
           }
          ],
          "histogram": [
           {
            "marker": {
             "pattern": {
              "fillmode": "overlay",
              "size": 10,
              "solidity": 0.2
             }
            },
            "type": "histogram"
           }
          ],
          "histogram2d": [
           {
            "colorbar": {
             "outlinewidth": 0,
             "ticks": ""
            },
            "colorscale": [
             [
              0,
              "#0d0887"
             ],
             [
              0.1111111111111111,
              "#46039f"
             ],
             [
              0.2222222222222222,
              "#7201a8"
             ],
             [
              0.3333333333333333,
              "#9c179e"
             ],
             [
              0.4444444444444444,
              "#bd3786"
             ],
             [
              0.5555555555555556,
              "#d8576b"
             ],
             [
              0.6666666666666666,
              "#ed7953"
             ],
             [
              0.7777777777777778,
              "#fb9f3a"
             ],
             [
              0.8888888888888888,
              "#fdca26"
             ],
             [
              1,
              "#f0f921"
             ]
            ],
            "type": "histogram2d"
           }
          ],
          "histogram2dcontour": [
           {
            "colorbar": {
             "outlinewidth": 0,
             "ticks": ""
            },
            "colorscale": [
             [
              0,
              "#0d0887"
             ],
             [
              0.1111111111111111,
              "#46039f"
             ],
             [
              0.2222222222222222,
              "#7201a8"
             ],
             [
              0.3333333333333333,
              "#9c179e"
             ],
             [
              0.4444444444444444,
              "#bd3786"
             ],
             [
              0.5555555555555556,
              "#d8576b"
             ],
             [
              0.6666666666666666,
              "#ed7953"
             ],
             [
              0.7777777777777778,
              "#fb9f3a"
             ],
             [
              0.8888888888888888,
              "#fdca26"
             ],
             [
              1,
              "#f0f921"
             ]
            ],
            "type": "histogram2dcontour"
           }
          ],
          "mesh3d": [
           {
            "colorbar": {
             "outlinewidth": 0,
             "ticks": ""
            },
            "type": "mesh3d"
           }
          ],
          "parcoords": [
           {
            "line": {
             "colorbar": {
              "outlinewidth": 0,
              "ticks": ""
             }
            },
            "type": "parcoords"
           }
          ],
          "pie": [
           {
            "automargin": true,
            "type": "pie"
           }
          ],
          "scatter": [
           {
            "fillpattern": {
             "fillmode": "overlay",
             "size": 10,
             "solidity": 0.2
            },
            "type": "scatter"
           }
          ],
          "scatter3d": [
           {
            "line": {
             "colorbar": {
              "outlinewidth": 0,
              "ticks": ""
             }
            },
            "marker": {
             "colorbar": {
              "outlinewidth": 0,
              "ticks": ""
             }
            },
            "type": "scatter3d"
           }
          ],
          "scattercarpet": [
           {
            "marker": {
             "colorbar": {
              "outlinewidth": 0,
              "ticks": ""
             }
            },
            "type": "scattercarpet"
           }
          ],
          "scattergeo": [
           {
            "marker": {
             "colorbar": {
              "outlinewidth": 0,
              "ticks": ""
             }
            },
            "type": "scattergeo"
           }
          ],
          "scattergl": [
           {
            "marker": {
             "colorbar": {
              "outlinewidth": 0,
              "ticks": ""
             }
            },
            "type": "scattergl"
           }
          ],
          "scattermap": [
           {
            "marker": {
             "colorbar": {
              "outlinewidth": 0,
              "ticks": ""
             }
            },
            "type": "scattermap"
           }
          ],
          "scattermapbox": [
           {
            "marker": {
             "colorbar": {
              "outlinewidth": 0,
              "ticks": ""
             }
            },
            "type": "scattermapbox"
           }
          ],
          "scatterpolar": [
           {
            "marker": {
             "colorbar": {
              "outlinewidth": 0,
              "ticks": ""
             }
            },
            "type": "scatterpolar"
           }
          ],
          "scatterpolargl": [
           {
            "marker": {
             "colorbar": {
              "outlinewidth": 0,
              "ticks": ""
             }
            },
            "type": "scatterpolargl"
           }
          ],
          "scatterternary": [
           {
            "marker": {
             "colorbar": {
              "outlinewidth": 0,
              "ticks": ""
             }
            },
            "type": "scatterternary"
           }
          ],
          "surface": [
           {
            "colorbar": {
             "outlinewidth": 0,
             "ticks": ""
            },
            "colorscale": [
             [
              0,
              "#0d0887"
             ],
             [
              0.1111111111111111,
              "#46039f"
             ],
             [
              0.2222222222222222,
              "#7201a8"
             ],
             [
              0.3333333333333333,
              "#9c179e"
             ],
             [
              0.4444444444444444,
              "#bd3786"
             ],
             [
              0.5555555555555556,
              "#d8576b"
             ],
             [
              0.6666666666666666,
              "#ed7953"
             ],
             [
              0.7777777777777778,
              "#fb9f3a"
             ],
             [
              0.8888888888888888,
              "#fdca26"
             ],
             [
              1,
              "#f0f921"
             ]
            ],
            "type": "surface"
           }
          ],
          "table": [
           {
            "cells": {
             "fill": {
              "color": "#EBF0F8"
             },
             "line": {
              "color": "white"
             }
            },
            "header": {
             "fill": {
              "color": "#C8D4E3"
             },
             "line": {
              "color": "white"
             }
            },
            "type": "table"
           }
          ]
         },
         "layout": {
          "annotationdefaults": {
           "arrowcolor": "#2a3f5f",
           "arrowhead": 0,
           "arrowwidth": 1
          },
          "autotypenumbers": "strict",
          "coloraxis": {
           "colorbar": {
            "outlinewidth": 0,
            "ticks": ""
           }
          },
          "colorscale": {
           "diverging": [
            [
             0,
             "#8e0152"
            ],
            [
             0.1,
             "#c51b7d"
            ],
            [
             0.2,
             "#de77ae"
            ],
            [
             0.3,
             "#f1b6da"
            ],
            [
             0.4,
             "#fde0ef"
            ],
            [
             0.5,
             "#f7f7f7"
            ],
            [
             0.6,
             "#e6f5d0"
            ],
            [
             0.7,
             "#b8e186"
            ],
            [
             0.8,
             "#7fbc41"
            ],
            [
             0.9,
             "#4d9221"
            ],
            [
             1,
             "#276419"
            ]
           ],
           "sequential": [
            [
             0,
             "#0d0887"
            ],
            [
             0.1111111111111111,
             "#46039f"
            ],
            [
             0.2222222222222222,
             "#7201a8"
            ],
            [
             0.3333333333333333,
             "#9c179e"
            ],
            [
             0.4444444444444444,
             "#bd3786"
            ],
            [
             0.5555555555555556,
             "#d8576b"
            ],
            [
             0.6666666666666666,
             "#ed7953"
            ],
            [
             0.7777777777777778,
             "#fb9f3a"
            ],
            [
             0.8888888888888888,
             "#fdca26"
            ],
            [
             1,
             "#f0f921"
            ]
           ],
           "sequentialminus": [
            [
             0,
             "#0d0887"
            ],
            [
             0.1111111111111111,
             "#46039f"
            ],
            [
             0.2222222222222222,
             "#7201a8"
            ],
            [
             0.3333333333333333,
             "#9c179e"
            ],
            [
             0.4444444444444444,
             "#bd3786"
            ],
            [
             0.5555555555555556,
             "#d8576b"
            ],
            [
             0.6666666666666666,
             "#ed7953"
            ],
            [
             0.7777777777777778,
             "#fb9f3a"
            ],
            [
             0.8888888888888888,
             "#fdca26"
            ],
            [
             1,
             "#f0f921"
            ]
           ]
          },
          "colorway": [
           "#636efa",
           "#EF553B",
           "#00cc96",
           "#ab63fa",
           "#FFA15A",
           "#19d3f3",
           "#FF6692",
           "#B6E880",
           "#FF97FF",
           "#FECB52"
          ],
          "font": {
           "color": "#2a3f5f"
          },
          "geo": {
           "bgcolor": "white",
           "lakecolor": "white",
           "landcolor": "#E5ECF6",
           "showlakes": true,
           "showland": true,
           "subunitcolor": "white"
          },
          "hoverlabel": {
           "align": "left"
          },
          "hovermode": "closest",
          "mapbox": {
           "style": "light"
          },
          "paper_bgcolor": "white",
          "plot_bgcolor": "#E5ECF6",
          "polar": {
           "angularaxis": {
            "gridcolor": "white",
            "linecolor": "white",
            "ticks": ""
           },
           "bgcolor": "#E5ECF6",
           "radialaxis": {
            "gridcolor": "white",
            "linecolor": "white",
            "ticks": ""
           }
          },
          "scene": {
           "xaxis": {
            "backgroundcolor": "#E5ECF6",
            "gridcolor": "white",
            "gridwidth": 2,
            "linecolor": "white",
            "showbackground": true,
            "ticks": "",
            "zerolinecolor": "white"
           },
           "yaxis": {
            "backgroundcolor": "#E5ECF6",
            "gridcolor": "white",
            "gridwidth": 2,
            "linecolor": "white",
            "showbackground": true,
            "ticks": "",
            "zerolinecolor": "white"
           },
           "zaxis": {
            "backgroundcolor": "#E5ECF6",
            "gridcolor": "white",
            "gridwidth": 2,
            "linecolor": "white",
            "showbackground": true,
            "ticks": "",
            "zerolinecolor": "white"
           }
          },
          "shapedefaults": {
           "line": {
            "color": "#2a3f5f"
           }
          },
          "ternary": {
           "aaxis": {
            "gridcolor": "white",
            "linecolor": "white",
            "ticks": ""
           },
           "baxis": {
            "gridcolor": "white",
            "linecolor": "white",
            "ticks": ""
           },
           "bgcolor": "#E5ECF6",
           "caxis": {
            "gridcolor": "white",
            "linecolor": "white",
            "ticks": ""
           }
          },
          "title": {
           "x": 0.05
          },
          "xaxis": {
           "automargin": true,
           "gridcolor": "white",
           "linecolor": "white",
           "ticks": "",
           "title": {
            "standoff": 15
           },
           "zerolinecolor": "white",
           "zerolinewidth": 2
          },
          "yaxis": {
           "automargin": true,
           "gridcolor": "white",
           "linecolor": "white",
           "ticks": "",
           "title": {
            "standoff": 15
           },
           "zerolinecolor": "white",
           "zerolinewidth": 2
          }
         }
        },
        "title": {
         "text": "Stress / Strain of tensile_tests/04.06.25_WT_dry_idx0.csv"
        },
        "xaxis": {
         "anchor": "y",
         "domain": [
          0,
          1
         ],
         "title": {
          "text": "Strain (%)"
         }
        },
        "yaxis": {
         "anchor": "x",
         "domain": [
          0,
          1
         ],
         "title": {
          "text": "Stress (MPa)"
         }
        }
       }
      }
     },
     "metadata": {},
     "output_type": "display_data"
    }
   ],
   "source": [
    "# 6.1 initial distance, 4.5mm width, 0.16mm thickness\n",
    "wt_dry_filtered_df = calculate_stress_strain(\n",
    "    filename=wt_dry_filename,\n",
    "    df=wt_dry_df,\n",
    "    width=4.5,\n",
    "    thickness=0.16,\n",
    "    total_length=6.1,\n",
    "    init_distance=0.0,\n",
    "    final_distance=1.757,\n",
    ")"
   ]
  },
  {
   "cell_type": "code",
   "execution_count": 54,
   "id": "cf75f15c",
   "metadata": {},
   "outputs": [
    {
     "name": "stdout",
     "output_type": "stream",
     "text": [
      "Failure Strain 0.2881 Peak Stress (MPa) 5.1900\n",
      "Young's Modulus 18.0158 MPa\n",
      "Total Toughness: 0.767455 J/m^3\n"
     ]
    },
    {
     "name": "stderr",
     "output_type": "stream",
     "text": [
      "/var/folders/_t/vlf4bw_n38x9ytx94_479wt80000gp/T/ipykernel_24667/155169248.py:57: SettingWithCopyWarning:\n",
      "\n",
      "\n",
      "A value is trying to be set on a copy of a slice from a DataFrame.\n",
      "Try using .loc[row_indexer,col_indexer] = value instead\n",
      "\n",
      "See the caveats in the documentation: https://pandas.pydata.org/pandas-docs/stable/user_guide/indexing.html#returning-a-view-versus-a-copy\n",
      "\n",
      "/var/folders/_t/vlf4bw_n38x9ytx94_479wt80000gp/T/ipykernel_24667/155169248.py:64: SettingWithCopyWarning:\n",
      "\n",
      "\n",
      "A value is trying to be set on a copy of a slice from a DataFrame.\n",
      "Try using .loc[row_indexer,col_indexer] = value instead\n",
      "\n",
      "See the caveats in the documentation: https://pandas.pydata.org/pandas-docs/stable/user_guide/indexing.html#returning-a-view-versus-a-copy\n",
      "\n",
      "/var/folders/_t/vlf4bw_n38x9ytx94_479wt80000gp/T/ipykernel_24667/155169248.py:69: FutureWarning:\n",
      "\n",
      "A value is trying to be set on a copy of a DataFrame or Series through chained assignment using an inplace method.\n",
      "The behavior will change in pandas 3.0. This inplace method will never work because the intermediate object on which we are setting values always behaves as a copy.\n",
      "\n",
      "For example, when doing 'df[col].method(value, inplace=True)', try using 'df.method({col: value}, inplace=True)' or df[col] = df[col].method(value) instead, to perform the operation inplace on the original object.\n",
      "\n",
      "\n",
      "\n",
      "/var/folders/_t/vlf4bw_n38x9ytx94_479wt80000gp/T/ipykernel_24667/155169248.py:69: SettingWithCopyWarning:\n",
      "\n",
      "\n",
      "A value is trying to be set on a copy of a slice from a DataFrame\n",
      "\n",
      "See the caveats in the documentation: https://pandas.pydata.org/pandas-docs/stable/user_guide/indexing.html#returning-a-view-versus-a-copy\n",
      "\n"
     ]
    }
   ],
   "source": [
    "calculate_youngs_modulus(wt_dry_filtered_df, final_strain=0.28808, final_stress=5.190)"
   ]
  },
  {
   "cell_type": "code",
   "execution_count": 55,
   "id": "a1583898",
   "metadata": {},
   "outputs": [
    {
     "data": {
      "application/vnd.plotly.v1+json": {
       "config": {
        "plotlyServerURL": "https://plot.ly"
       },
       "data": [
        {
         "hovertemplate": "Distance (millimeters)=%{x}<br>Force (Newtons)=%{y}<extra></extra>",
         "legendgroup": "",
         "line": {
          "color": "#636efa",
          "dash": "solid"
         },
         "marker": {
          "symbol": "circle"
         },
         "mode": "lines",
         "name": "",
         "showlegend": false,
         "type": "scattergl",
         "x": {
          "bdata": "AAAAAAAAAAAAAAAAAAAAAAAAAAAAAAAAAAAAAAAAAAAAAAAAAAAAAAAAAAAAAAAAAAAAAAAAAAAAAAAAAAAAAAAAAAAAAAAAAAAAAAAAAAAAAAAAAAAAAAAAAAAAAAAAAAAAAAAAAAAAAAAAAAAAAAAAAAAAAAAAAAAAAAAAAAAAAAAAAAAAAAAAAAAAAAAAAAAAAAAAAAAAAAAAAAAAAAAAAAAAAAAAAAAAAAAAAAAAAAAAAAAAAAAAAAAAAAAAAAAAAAAAAAAAAAAAAAAAAAAAAAAAAAAAAAAAAAAAAAAAAAAAAAAAAAAAAAAAAAAAAAAAAAAAAAAAAAAAAAAAAAAAAAAAAAAAAAAAAAAAAAAAAAAAAAAAAAAAAAAAAAAAAAAAAAAAAAAAAAAAAAAAAAAAAAAAAAAAAAAAAAAAAAAAAAAAAAAAAAAAAAAAAAAAAAAAAAAAAAAAAAAAAAAAAAAAAAAAAAAAAAAAAAAAAAAAAAAAAAAAAAAAAAAAAAAAAAAAAAAAAAAAAAAAAAAAAAAAAAAAAAAAAAAAAAAAAAAAAAAAAAAAAAAAAAAAAAAAAAAAAAAAAAAAAAAAAAAAAAAAAAAAAAAAAAAAAAAAAAAAAAAAAAAAAAAAAAAAAAAAAAAAAAAAAAAAAAAAAAAAAAAAAAAAAAAAAAAAAAAAAAAAAAAAAAAAAAAAAAAAAAAAAAAAAAAAAAAAAAAAAAAAAAAAAAAAAAAAAAAAAAAAAAAAAAAAAAAAAAAAAAAAAAAAAAAAAAAAAAAAAAAAAAAAAAAAAAAAAAAAAAAAAAAAAAAAAAAAAAAAAAAAAAAAAAAAAAAAAAAAAAAAAAAAAAAAAAAAAAAAAAAAAAAAAAAAAAAAAAAAAAAAAAAAAAAAAAAAAAAAAAAAAAAAAAAAAAAAAAAAAAAAAAAAAAAAAAAAAAAAAAAAAAAAAAAAAAAAAAAAAAAAAAAAAAAAAAAAAAAAAAAAAAAAAAAAAAAAAAAAAAAAAAAAAAAAAAAAAAAAAAAAAAAAAAAAAAAAAAAAAAAAAAAAAAAAAAAAAAAAAAAAAAAAAAAAAAAAAAAAAAAAAAAAAAAAAAAAAAAAAAAAAAAAAAAAAAAAAAAAAAAAAAAAAAAAAAAAAAAAAAAAAAAAAAAAAAAAAAAAAAAAAAAAAAAAAAAAAAAAAAAAAAAAAAAAAAAAAAAAAAAAAAAAAAAAAAAAAAAAAAAAAAAAAAAAAAAAAAAAAAAAAAAAAAAAAAAAAAAAAAAAAAAAAAAAAAAAAAAAAAAAAAAAAAAAAAAAAAAAAAAAAAAAAAAAAAAAAAAAAAAAAAAAAAAAAAAAAAAAAAAAAAAAAAAAAAAAAAAAAAAAAAAAAAAAAAAAAAAAAAAAAAAAAAAAAAAAAAAAAAAAAAAAAAAAAAAAAAAAAAAAAAAAAAAAAAAAAAAAAAAAAAAAAAAAAAAAAAAAAAAAAAAAAAAAAAAAAAAAAAAAAAAAAAAAAAAAAAAAAAAAAAAAAAAAAAAAAAAAAAAAAAAAAAAAAAAAAAAAAAAAAAAAAAAAAAAAAAAAAAAAAAAAAAAAAAAAAAAAAAAAAAAAAAAAAAAAAAAAAAAAAAAAAAAAAAAAAAAAAAAAAAAAAAAAAAAAAAAAAAAAAAAAAAAAAAAAAAAAAAAAAAAAAAAAAAAAAAAAAAAAAAAAAAAAAAAAAAAAAAAAAAAAAAAAAAAAAAAAAAAAAAAAAAAAAAAAAAAAAAAAAAAAAAAAAAAAAAAAAAAAAAAAAAAAAAAAAAAAAAAAAAAAAAAAAAAAAAAAAAAAAAAAAAAAAAAAAAAAAAAAAAAAAAAAAAAAAAAAAAAAAAAAAAAAAAAAAAAAAAAAAAAAAAAAAAAAAAAAAAAAAAAAAAAAAAAAAAAAAAAAAAAAAAAAAAAAAAAAAAAAAAAAAAAAAAAAAAAAAAAAAAAAAAAAAAAAAAAAAAAAAAAAAAAAAAAAAAAAAAAAAAAAAAAAAAAAAAAAAAAAAAAAAAAAAAAAAAAAAAAAAAAAAAAAAAAAAAAAAAAAAAAAAAAAAAAAAAAAAAAAAAAAAAAAAAAAAAAAAAAAAAAAAAAAAAAAAAAAAAAAAAAAAAAAAAAAAAAAAAAAAAAAAAAAAAAAAAAAAAAAAAAAAAAAAAAAAAAAAAAAAAAAAAAAAAAAAAAAAAAAAAAAAAAAAAAAAAAAAAAAAAAAAAAAAAAAAAAAAAAAAAAAAAAAAAAAAAAAAAAAAAAAAAAAAAAAAAAAAAAAAAAAAAAAAAAAAAAAAAAAAAAAAAAAAAAAAAAAAAAAAAAAAAAAAAAAAAAAAAAAAAAAAAAAAAAAAAAAAAAAAAAAAAAAAAAAAAAAAAAAAAAAAAAAAAAAAAAAAAAAAAAAAAAAAAAAAAAAAAAAAAAAAAAAAAAAAAAAAAAAAAAAAAAAAAAAAAAAAAAAAAAAAAAAAAAAAAAAAAAAAAAAAAAAAAAAAAAAAAAAAAAAAAAAAAAAAAAAAAAAAAAAAAAAAAAAAAAAAAAAAAAAAAAAAAAAAAAAAAAAAAAAAAAAAAAAAAAAAAAAAAAAAAAAAAAAAAAAAAAAAAAAAAAAAAAAAAAAAAAAAAAAAAAAAAAAAAAAAAAAAAAAAAAAAAAAAAAAAAAAAAAAAAAAAAAAAAAAAAAAAAAAAAAAAAAAAAAAAAAAAAAAAAAAAAAAAAAAAAAAAAAAAAAAAAAAAAAAAAAAAAAAAAAAAAAAAAAAAAAAAAAAAAAAAAAAAAAAAAAAAAAAAAAAAAAAAAAAAAAAAAAAAAAAAAAAAAAAAAAAAAAAAAAAAAAAAAAAAAAAAAAAAAAAAAAAAAAAAAAAAAAAAAAAAAAAAAAAAAAAAAAAAAAAAAAAAAAAAAAAAAAAAAAAAAAAAAAAAAAAAAAAAAAAAAAAAAAAAAAAAAAAAAAAAAAAAAAAAAAAAAAAAAAAAAAAAAAAAAAAAAAAAAAAAAAAAAAAAAAAAAAAAAAAAAAAAAAAAAAAAAAAAAAAAAAAAAAAAAAAAAAAAAAAAAAAAAAAAAAAAAAAAAAAAAAAAAAAAAAAAAAAAAAAAAAAAAAAAAAAAAAAAAAAAAAAAAAAAAAAAAAAAAAAAAAAAAAAAAAAAAAAAAAAAAAAAAAAAAAAAAAAAAAAAAAAAAAAAAAAAAAAAAAAAAAAAAAAAAAAAAAAAAAAAAAAAAAAAAAAAAAAAAAAAAAAAAAAAAAAAAAAAAAAAAAAAAAAAAAAAAAAAAAAAAAAAAAAAAAAAAAAAAAAAAAAAAAAAAAAAAAAAAAAAAAAAAAAAAAAAAAAAAAAAAAAAAAAAAAAAAAAAAAAAAAAAAAAAAAAAAAAAAAAAAAAAAAAAAAAAAAAAAAAAAAAAAAAAAAAAAAAAAAAAAAAAAAAAAAAAAAAAAAAAAAAAAAAAAAAAAAAAAAAAAAAAAAAAAAAAAAAAAAAAAAAAAAAAAAAAAAAAAAAAAAAAAAAAAAAAAAAAAAAAAAAAAAAAAAAAAAAAAAAAAAAAAAAAAAAAAAAAAAAAAAAAAAAAAAAAAAAAAAAAAAAAAAAAAAAAAAAAAAAAAAAAAAAAAAAAAAAAAAAAAAAAAAAAAAAAAAAAAAAAAAAAAAAAAAAAAAAAAAAAAAAAAAAAAAAAAAAAAAAAAAAAAAAAAAAAAAAAAAAAAAAAAAAAAAAAAAAAAAAAAAAAAAAAAAAAAAAAAAAAAAAAAAAAAAAAAAAAAAAAAAAAAAAAAAAAAAAAAAAAAAAAAAAAAAAAAAAAAAAAAAAAAAAAAAAAAAAAAAAAAAAAAAAAAAAAAAAAAAAAAAAAAAAAAAAAAAAAAAAAAAAAAAAAAAAAAAAAAAAAAAAAAAAAAAAAAAAAAAAAAAAAAAAAAAAAAAAAAAAAAAAAAAAAAAAAAAAAAAAAAAAAAAAAAAAAAAAAAAAAAAAAAAAAAAAAAAAAAAAAAAAAAAAAAAAAAAAAAAAAAAAAAAAAAAAAAAAAAAAAAAAAAAAAAAAAAAAAAAAAAAAAAAAAAAAAAAAAAAAAAAAAAAAAAAAAAAAAAAAAAAAAAAAAAAAAAAAAAAAAAAAAAAAAAAAAAAAAAAAAAAAAAAAAAAAAAAAAAAAAAAAAAAAAAAAAAAAAAAAAAAAAAAAAAAAAAAAAAAAAAAAAAAAAAAAAAAAAAAAAAAAAAAAAAAAAAAAAAAAAAAAAAAAAAAAAAAAAAAAAAAAAAAAAAAAAAAAAAAAAAAAAAAAAAAAAAAAAAAAAAAAAAAAAAAAAAAAAAAAAAAAAAAAAAAAAAAAAAAAAAAAAAAAAAAAAAAAAAAAAAAAAAAAAAAAAAAAAAAAAAAAAAAAAAAAAAAAAAAAAAAAAAAAAAAAAAAAAAAAAAAAAAAAAAAAAAAAAAAAAAAAAAAAAAAAAAAAAAAAAAAAAAAAAAAAAAAAAAAAAAAAAAAAAAAAAAAAAAAAAAAAAAAAAAAAAAAAAAAAAAAAAAAAAAAAAAAAAAAAAAAAAAAAAAAAAAAAAAAAAAAAAAAAAAAAAAAAAAAAAAAAAAAAAAAAAAAAAAAAAAAAAAAAAAAAAAAAAAAAAAAAAAAAAAAAAAAAAAAAAAAAAAAAAAAAAAAAAAAAAAAAAAAAAAAAAAAAAAAAAAAAAAAAAAAAAAAAAAAAAAAAAAAAAAAAAAAAAAAAAAAAAAAAAAAAAAAAAAAAAAAAAAAAAAAAAAAAAAAAAAAAAAAAAAAAAAAAAAAAAAAAAAAAAAAAAAAAAAAAAAAAAAAAAAAAAAAAAAAAAAAAAAAAAAAAAAAAAAAAAAAAAAAAAAAAAAAAAAAAAAAAAAAAAAAAAAAAAAAAAAAAAAAAAAAAAAAAAAAAAAAAAAAAAAAAAAAAAAAAAAAAAAAAAAAAAAAAAAAAAAAAAAAAAAAAAAAAAAAAAAAAAAAAAAAAAAAAAAAAAAAAAAAAAAAAAAAAAAAAAAAAAAAAAAAAAAAAAAAAAAAAAAAAAAAAAAAAAAAAAAAAAAAAAAAAAAAAAAAAAAAAAAAAAAAAAAAAAAAAAAAAAAAAAAAAAAAAAAAAAAAAAAAAAAAAAAAAAAAAAAAAAAAAAAAAAAAAAAAAAAAAAAAAAAAAAAAAAAAAAAAAAAAAAAAAAAAAAAAAAAAAAAAAAAAAAAAAAAAAAAAAAAAAAAAAAAAAAAAAAAAAAAAAAAAAAAAAAAAAAAAAAAAAAAAAAAAAAAAAAAAAAAAAAAAAAAAAAAAAAAAAAAAAAAAAAAAAAAAAAAAAAAAAAAAAAAAAAAAAAAAAAAAAAAAAAAAAAAAAAAAAAAAAAAAAAAAAAAAAAAAAAAAAAAAAAAAAAAAAAJqZmZmZmSk/MzMzMzMzMz+amZmZmZk5PwAAAAAAAEA/MzMzMzMzQz+amZmZmZlJPwAAAAAAAFA/mpmZmZmZUT/NzMzMzMxUPwAAAAAAAFg/AMvMzMzMXD8AAAAAAABgP2ZmZmZmZmI/zczMzMzMZD8AAAAAAABoPzMzMzMzM2s/ZmZmZmZmbj/NzMzMzMxwP2ZmZmZmZnI/AAAAAAAAdD8zMzMzMzN1PzMzMzMzM3c/zczMzMzMeD/NzMzMzMx6P1rMzMzMzHw/zczMzMzMfj9gmZmZmZmAP83MzMzMzIE/k8zMzMzMgj/NzMzMzMyDPwAAAAAAAIU/MzMzMzMzhj9mZmZmZmaHPwAAAAAAAIk/ZmZmZmZmij+TzMzMzMyLPwAAAAAAAI0/mpmZmZmZjj8zMzMzMzORPwAAAAAAAJI/sMzMzMzMkj8zMzMzM7OTPwAAAAAAgJQ/AAAAAACAlT9mZmZmZmaWPzMzMzMzM5c/mpmZmZkZmD8zMzMzMzOZP32ZmZmZGZo/mpmZmZkZmz+amZmZmRmcPzMzMzMzM50/sMzMzMxMnj+wzMzMzEyfP2ZmZmZmJqA/ZmZmZmamoD/NzMzMzEyhP4uZmZmZ2aE/MzMzMzNzoj8AAAAAAACjP2ZmZmZmpqM/vszMzMxMpD9mZmZmZuakPzMzMzMzc6U/AAAAAABApj9mZmZmZuamPwAAAAAAgKc/ZmZmZmYmqD9mZmZmZuaoP2ZmZmZmpqk/i5mZmZlZqj/NzMzMzAyrP77MzMzMzKs/AAAAAACArD8AAAAAAECtPzMzMzMz860/AAAAAADArj8AAAAAAICvPwAAAAAAILA/mpmZmZl5sD/GzMzMzOywP83MzMzMbLE/kpmZmZnZsT8AAAAAAECyP2ZmZmZmprI/MzMzMzMTsz+amZmZmXmzP2ZmZmZm5rM/mpmZmZlZtD/NzMzMzMy0PwAAAAAAQLU/zczMzMzMtT+amZmZmTm2P2ZmZmZmprY/MzMzMzMTtz8zMzMzM5O3P2ZmZmZmBrg/AAAAAACAuD8AAAAAAAC5P2ZmZmZmhrk/mpmZmZn5uT8zMzMzM3O6P5KZmZmZ+bo/ZmZmZmaGuz/NzMzMzAy8P83MzMzMjLw/xszMzMwMvT8AAAAAAKC9PzMzMzMzM74/MzMzMzOzvj8zMzMzMzO/PwAAAAAAwL8/mpmZmZkpwD8zMzMzMxPBP2ZmZmZmdsE/ZmZmZma2wT8zMzMzM/PBPzMzMzMzM8I/lpmZmZl5wj9mZmZmZrbCP83MzMzM7MI/ZmZmZmYmwz8zMzMzM2PDPwAAAAAAoMM/ZmZmZmbWwz8AAAAAABDEP8nMzMzMTMQ/AAAAAACQxD8AAAAAANDEP83MzMzMDMU/mpmZmZlJxT9mZmZmZobFP2ZmZmZmxsU/MzMzMzMDxj8zMzMzM1PGPzMzMzMzk8Y/ZmZmZmbWxj8AAAAAACDHPwAAAAAAYMc/ZmZmZmamxz+WmZmZmenHP83MzMzMPMg/lpmZmZl5yD+amZmZmbnIP5qZmZmZ+cg/zczMzMw8yT+amZmZmYnJP5aZmZmZyck/lpmZmZkJyj+amZmZmUnKP2ZmZmZmlso/mpmZmZnZyj/JzMzMzMzLP5qZmZmZGcw/mpmZmZlZzD+WmZmZmZnMP5aZmZmZ2cw/ZmZmZmYmzT/JzMzMzGzNP8nMzMzMrM0/MzMzMzPzzT9mZmZmZjbOP2ZmZmZmds4/MzMzMzOzzj/JzMzMzPzOP2ZmZmZmRs8/ZmZmZmaGzz9mZmZmZsbPP2ZmZmZmBtA/MzMzMzMr0D9mZmZmZk7QP5iZmZmZcdA/zczMzMyU0D8AAAAAALjQPzMzMzMz29A/ZmZmZmb+0D8zMzMzMyPRP2ZmZmZmRtE/mpmZmZlp0T/LzMzMzIzRP83MzMzMrNE/ZmZmZmbO0T8AAAAAAPDRPzMzMzMzG9I/ZmZmZmY+0j8zMzMzM2PSP83MzMzMhNI/ZmZmZmam0j8AAAAAAMjSP5qZmZmZ6dI/zczMzMwM0z8AAAAAADDTPwAAAAAAwNM/ZmZmZmbm0z8AAAAAAAjUPwAAAAAAKNQ/mpmZmZlJ1D+amZmZmXHUPzMzMzMzk9Q/MzMzMzOz1D+amZmZmdnUP5qZmZmZ+dQ/MzMzMzMb1T+amZmZmTnVP83MzMzMXNU/MzMzMzOD1T8zMzMzM6PVP2ZmZmZmxtU/MzMzMzPr1T9mZmZmZg7WP5iZmZmZMdY/AAAAAABY1j+amZmZmXnWP83MzMzMnNY/zczMzMzE1j9mZmZmZubWP2ZmZmZmBtc/y8zMzMws1z8AAAAAAFDXP5iZmZmZcdc/MzMzMzOT1z9mZmZmZrbXP5iZmZmZ2dc/mpmZmZn51z9mZmZmZh7YPzMzMzMzQ9g/ZmZmZmZm2D+YmZmZmYnYPwAAAAAAsNg/y8zMzMzU2D9mZmZmZvbYP83MzMzMHNk/ZmZmZmY+2T9mZmZmZrbZP83MzMzM3Nk/y8zMzMz82T9mZmZmZh7aPwAAAAAAQNo/y8zMzMxk2j9mZmZmZobaP2ZmZmZmpto/MzMzMzPL2j8AAAAAAPDaPzMzMzMzE9s/MzMzMzMz2z/LzMzMzFTbPwAAAAAAeNs/mJmZmZmZ2z+amZmZmbnbP5qZmZmZ2ds/ZmZmZmb+2z8AAAAAACDcP5qZmZmZQdw/zczMzMxk3D/NzMzMzIzcP2ZmZmZmrtw/ZmZmZmbO3D9mZmZmZvbcPwAAAAAAGN0/MzMzMzM73T9mZmZmZl7dP5qZmZmZgd0/zczMzMyk3T8AAAAAAMjdP5iZmZmZ8d0/MzMzMzMT3j8AAAAAADjeP8vMzMzMXN4/ZmZmZmZ+3j8AAAAAAKDeP8vMzMzMxN4/ZmZmZmbm3j/NzMzMzFTfPzMzMzMze98/AAAAAACg3z/LzMzMzMTfP2ZmZmZm5t8/ZmZmZmYG4D8zMzMzMxfgPwAAAAAAKOA/MzMzMzM74D/MzMzMzEzgP2dmZmZmXuA/ZmZmZmZu4D8AAAAAAIDgPzMzMzMzk+A/AAAAAACk4D/NzMzMzLTgP2ZmZmZmxuA/MzMzMzPX4D8AAAAAAOjgP2ZmZmZm+uA/zczMzMwM4T/NzMzMzBzhP2ZmZmZmLuE/mpmZmZlB4T+amZmZmVHhPzMzMzMzY+E/AAAAAAB04T9mZmZmZobhPzMzMzMzl+E/AAAAAACo4T8AAAAAALzhP83MzMzMzOE/zMzMzMzc4T8zMzMzM+/hP5mZmZmZAeI/mpmZmZkR4j9mZmZmZiLiP5qZmZmZNeI/MzMzMzNH4j8AAAAAAFjiP2ZmZmZmauI/AAAAAACo4j8zMzMzM7viP2ZmZmZmzuI/MzMzMzPf4j+ZmZmZmfHiP83MzMzMBOM/mpmZmZkV4z8zMzMzMyfjP5qZmZmZOeM/ZmZmZmZK4z8AAAAAAFzjPwAAAAAAbOM/MzMzMzN/4z+ZmZmZmZHjPzQzMzMzo+M/mpmZmZm14z8AAAAAAMjjP5qZmZmZ2eM/mpmZmZnt4z8zMzMzM//jPwAAAAAAFOQ/Z2ZmZmYm5D8zMzMzMzfkP2dmZmZmSuQ/zMzMzMxc5D+amZmZmW3kPzQzMzMzf+Q/mZmZmZmR5D9mZmZmZqLkPzMzMzMzs+Q/MzMzMzPH5D8zMzMzM9fkP5qZmZmZAeU/AAAAAAAU5T8AAAAAACjlP2dmZmZmOuU/AAAAAABM5T9mZmZmZl7lPwAAAAAAcOU/mpmZmZmt5T8AAAAAAMDlP2ZmZmZm0uU/mZmZmZnl5T9mZmZmZvblPzMzMzMzB+Y/mpmZmZkZ5j8zMzMzMyvmP5qZmZmZPeY/MzMzMzNP5j+amZmZmWHmPzQzMzMzc+Y/NDMzMzOD5j80MzMzM5fmP83MzMzMqOY/zczMzMy85j/NzMzMzNDmP2dmZmZm4uY/MzMzMzP35j/MzMzMzAjnP2dmZmZmGuc/Z2ZmZmYu5z8zMzMzMz/nPzQzMzMzT+c/mZmZmZlh5z80MzMzM3PnP83MzMzMhOc/AAAAAACY5z9nZmZmZqrnP5qZmZmZvec/AAAAAADQ5z+amZmZmeHnP5qZmZmZ8ec/ZmZmZmYC6D+ZmZmZmRXoPzQzMzMzJ+g/AAAAAAA46D+amZmZmUnoPzMzMzMzW+g/AAAAAACA6D+ZmZmZmd3oPwAAAAAA8Og/zczMzMwA6T+amZmZmRHpP8zMzMzMJOk/Z2ZmZmY26T8zMzMzM0fpP2ZmZmZmWuk/NDMzMzNr6T8AAAAAAHzpP5mZmZmZjek/mZmZmZmh6T8zMzMzM7PpP8zMzMzMxOk/mpmZmZnZ6T8AAAAAAOzpPwAAAAAAAOo/MzMzMzMT6j9nZmZmZibqP2dmZmZmOuo/ZmZmZmZK6j80MzMzM1vqPwAAAAAAcOo/NDMzMzOD6j/NzMzMzJTqPzQzMzMzp+o/ZmZmZma66j/NzMzMzMzqP2dmZmZm3uo/MzMzMzPv6j8AAAAAAADrP2ZmZmZmEus/zczMzMwk6z8AAAAAADjrP2ZmZmZmSus/mZmZmZld6z8AAAAAAHDrP5mZmZmZges/AAAAAACU6z8zMzMzM8frP5qZmZmZ2es/ZmZmZmbu6z8AAAAAAADsPwAAAAAAFOw/mZmZmZkl7D80MzMzMzfsP2ZmZmZmSuw/AAAAAABc7D9nZmZmZm7sPzMzMzMzg+w/mpmZmZmV7D8AAAAAAKjsP2dmZmZmuuw/MzMzMzPL7D+amZmZmd3sP5qZmZmZ8ew/AAAAAAAE7T+amZmZmRntP2ZmZmZmKu0/zczMzMw87T+amZmZmVHtP83MzMzMZO0/MzMzMzN37T9mZmZmZortP83MzMzMnO0/zczMzMyw7T+amZmZmcHtPzMzMzMz0+0/ZmZmZmbm7T8zMzMzM/ftP2ZmZmZmCu4/mpmZmZkd7j+amZmZmS3uP2ZmZmZmPu4/mpmZmZlR7j8AAAAAAGTuP83MzMzMdO4/ZmZmZmaG7j8zMzMzM5fuP5qZmZmZze4/mpmZmZnp7j8zMzMzM/vuPwAAAAAADO8/MzMzMzMf7z+amZmZmTHvPwAAAAAARO8/AAAAAABY7z9mZmZmZmrvPwAAAAAAgO8/ZmZmZmaS7z/NzMzMzKTvPwAAAAAAuO8/MzMzMzPL7z8zMzMzM9/vP83MzMzM8O8/mpmZmZkB8D/NzMzMzArwP5qZmZmZE/A/zczMzMwc8D8zMzMzMyfwP83MzMzMMPA/mpmZmZk78D/NzMzMzETwP5qZmZmZT/A/MzMzMzNZ8D8zMzMzM2PwP5qZmZmZa/A/ZmZmZmZ08D8zMzMzM33wP83MzMzMhvA/mpmZmZmP8D8AAAAAAJrwP83MzMzMovA/ZmZmZmas8D8AAAAAALbwPwAAAAAAwPA/ZmZmZmbK8D+amZmZmdPwP83MzMzM3PA/ZmZmZmb68D+amZmZmQXxPzQzMzMzD/E/ZmZmZmYY8T80MzMzMyPxP5qZmZmZK/E/MzMzMzM18T8zMzMzMz/xP83MzMzMSPE/ZmZmZmZS8T/MzMzMzFrxPwAAAAAAZPE/MzMzMzNt8T8AAAAAAHbxP5qZmZmZf/E/zczMzMyI8T8AAAAAAJLxP2ZmZmZmmvE/ZmZmZmak8T8AAAAAAK7xP2ZmZmZmuPE/MzMzMzPB8T/NzMzMzMrxP83MzMzM1PE/AAAAAADe8T9mZmZmZujxP5qZmZmZ8fE/ZmZmZmb68T8AAAAAAATyP2ZmZmZmDPI/AAAAAAAW8j+amZmZmR/yP83MzMzMKPI/AAAAAAAy8j/NzMzMzDryP5qZmZmZQ/I/ZmZmZmZM8j/NzMzMzFbyP2ZmZmZmYPI/mpmZmZlr8j/NzMzMzHbyP2ZmZmZmkvI/MzMzMzOb8j9mZmZmZqTyPwAAAAAArvI/zczMzMy28j8AAAAAAMDyPwAAAAAAyvI/MzMzMzPT8j/NzMzMzNzyP2ZmZmZm5vI/mpmZmZnv8j9mZmZmZvryPwAAAAAABPM/zczMzMwO8z9mZmZmZhjzP83MzMzMIvM/ZmZmZmYs8z+amZmZmTXzPzQzMzMzP/M/AAAAAABI8z9mZmZmZlLzPwAAAAAAXPM/AAAAAABm8z+amZmZmW/zPzMzMzMzefM/MzMzMzOD8z9mZmZmZozzP83MzMzMlvM/mpmZmZmf8z8AAAAAAKjzP2ZmZmZmsvM/zczMzMy68z9mZmZmZsTzP2ZmZmZmzvM/AAAAAADY8z+amZmZmeHzP2ZmZmZm6vM/AAAAAAD08z8AAAAAAP7zP2ZmZmZmGvQ/zczMzMwo9D/NzMzMzDL0PwAAAAAAPPQ/MzMzMzNF9D/NzMzMzE70P5qZmZmZV/Q/NDMzMzNh9D+amZmZmWv0P8zMzMzMdPQ/AAAAAAB+9D/NzMzMzIb0PzQzMzMzj/Q/NDMzMzOZ9D9mZmZmZqL0PzMzMzMzq/Q/ZmZmZma09D8zMzMzM730P2ZmZmZmxvQ/zczMzMzQ9D+amZmZmdn0P2ZmZmZm5PQ/AAAAAADu9D8AAAAAAPj0PwAAAAAAAvU/AAAAAAAM9T8AAAAAABb1P8zMzMzMHvU/zMzMzMwo9T9mZmZmZjL1P5qZmZmZO/U/mpmZmZlF9T9mZmZmZk71P83MzMzMWPU/AAAAAABi9T/MzMzMzGr1P2ZmZmZmdPU/AAAAAAB+9T8zMzMzM4f1P2ZmZmZmkPU/mpmZmZmZ9T9mZmZmZqT1P83MzMzMwvU/zczMzMzM9T+amZmZmdX1PwAAAAAA3vU/mpmZmZnn9T80MzMzM/H1PzQzMzMz+/U/ZmZmZmYE9j9mZmZmZg72P2ZmZmZmGPY/zczMzMwg9j+amZmZmSn2PzQzMzMzM/Y/ZmZmZmY89j8zMzMzM0X2P5qZmZmZT/Y/MzMzMzNZ9j/NzMzMzGL2PwAAAAAAbPY/MzMzMzN19j+amZmZmX/2PzMzMzMzifY/AAAAAACU9j+amZmZman2P83MzMzMtvY/mpmZmZm/9j/MzMzMzMj2PwAAAAAA0vY/mpmZmZnb9j8zMzMzM+X2P83MzMzM7vY/MzMzMzP59j9mZmZmZgL3P2ZmZmZmDPc/zczMzMwW9z8AAAAAACD3PzMzMzMzKfc/AAAAAAAy9z/MzMzMzDr3PzQzMzMzWfc/MzMzMzNl9z8AAAAAAHD3PzMzMzMzefc/mpmZmZmD9z9mZmZmZoz3P83MzMzMlvc/ZmZmZmag9z8AAAAAAKr3PzQzMzMzs/c/zMzMzMy89z+amZmZmcf3P8zMzMzM0Pc/NDMzMzPb9z/MzMzMzOT3P2ZmZmZm7vc/MzMzMzP39z8AAAAAAAD4P83MzMzMCvg/AAAAAAAU+D9mZmZmZh74P5qZmZmZJ/g/NDMzMzMx+D+amZmZmTv4PzQzMzMzRfg/mpmZmZlP+D9mZmZmZlj4PzMzMzMzYfg/MzMzMzNr+D9mZmZmZnT4PzMzMzMzf/g/AAAAAACI+D8zMzMzM5H4P83MzMzMmvg/ZmZmZmak+D+amZmZma/4PzMzMzMzufg/mpmZmZnD+D+amZmZmc34PwAAAAAA2Pg/AAAAAADy+D9mZmZmZv74PwAAAAAACPk/mpmZmZkR+T80MzMzMxv5P8zMzMzMJPk/ZmZmZmYu+T/MzMzMzDj5P5qZmZmZQfk/mpmZmZlL+T8zMzMzM1X5P83MzMzMXvk/AAAAAABo+T+amZmZmXH5P5qZmZmZe/k/mpmZmZmF+T9mZmZmZpD5PzQzMzMzmfk/zMzMzMyi+T/MzMzMzKz5P5qZmZmZtfk/mpmZmZm/+T9mZmZmZsj5P2ZmZmZm0vk/AAAAAADc+T+amZmZmeX5P2ZmZmZm8Pk/AAAAAAD6+T/NzMzMzAT6PwAAAAAADvo/mpmZmZkX+j/NzMzMzCD6P2ZmZmZmKvo/MzMzMzM1+j9mZmZmZkD6PwAAAAAASvo/zczMzMxS+j/NzMzMzFz6PwAAAAAAZvo/ZmZmZmZw+j+amZmZmXn6P2ZmZmZmmPo/NDMzMzOh+j9mZmZmZqr6P2ZmZmZmtPo/AAAAAAC++j8zMzMzM8f6P2ZmZmZm0vo/AAAAAADc+j+amZmZmeX6P2ZmZmZm7vo/mpmZmZn3+j80MzMzMwH7P8zMzMzMCvs/NDMzMzMV+z/MzMzMzB77P2ZmZmZmKPs/AAAAAAAy+z8zMzMzMzv7P83MzMzMRPs/ZmZmZmZO+z8zMzMzM1f7PzMzMzMzYfs/zczMzMxq+z8AAAAAAHb7P5qZmZmZf/s/mpmZmZmJ+z/NzMzMzJL7PwAAAAAAnvs/zczMzMym+z9mZmZmZrD7PwAAAAAAuvs/NDMzMzPD+z80MzMzM837P2ZmZmZm1vs/mpmZmZnh+z80MzMzM+v7P2ZmZmZm9vs/AAAAAAAA/D/MzMzMzAj8P2ZmZmZmEvw/mpmZmZkt/D80MzMzMzv8P8zMzMzMRPw/mpmZmZlP/D/MzMzMzFj8PzQzMzMzY/w/zMzMzMxs/D+amZmZmXf8P8zMzMzMgPw/ZmZmZmaK/D/MzMzMzJT8P8zMzMzMnvw/NDMzMzOp/D/MzMzMzLL8P5qZmZmZvfw/NDMzMzPH/D9mZmZmZtL8P5qZmZmZ2/w/AAAAAADm/D8AAAAAAPD8P83MzMzM+vw/ZmZmZmYE/T+amZmZmQ/9P83MzMzMGP0/MzMzMzMj/T/NzMzMzCz9PzMzMzMzN/0/MzMzMzNB/T9mZmZmZkr9PwAAAAAAVP0/ZmZmZmZe/T8AAAAAAGj9P5qZmZmZcf0/ZmZmZmZ8/T/NzMzMzIb9PzMzMzMzkf0/zczMzMya/T+amZmZmaX9P83MzMzMsP0/ZmZmZma6/T+amZmZmcP9PzMzMzMz5f0/ZmZmZmbw/T+amZmZmfn9PzMzMzMzBf4/MzMzMzMP/j/NzMzMzBj+P83MzMzMIv4/MzMzMzMt/j8zMzMzMzf+PwAAAAAAQv4/mpmZmZlL/j9mZmZmZlb+P5qZmZmZX/4/ZmZmZmZq/j+amZmZmXP+PzMzMzMzff4/zczMzMyG/j8AAAAAAJD+PzMzMzMzm/4/AAAAAACk/j/NzMzMzK7+P2ZmZmZmuP4/zczMzMzC/j9mZmZmZsz+P83MzMzM1v4/mpmZmZnh/j8zMzMzM+3+PwAAAAAA9v4/mpmZmZkB/z/NzMzMzAr/P2ZmZmZmFP8/AAAAAAAe/z+amZmZmSf/PwAAAAAAMv8/mpmZmZk7/z8AAAAAAEb/P83MzMzMTv8/mpmZmZlZ/z8zMzMzM2P/P5qZmZmZbf8/MzMzMzOL/z9mZmZmZpj/P2ZmZmZmov8/zczMzMys/z+amZmZmbf/P5qZmZmZwf8/mpmZmZnL/z+amZmZmdX/PzMzMzMz3/8/zczMzMzo/z9mZmZmZvL/PzMzMzMz/f8/mpmZmZkDAEAzMzMzMwkAQAAAAAAADgBAZ2ZmZmYTAEDNzMzMzBcAQAAAAAAAHQBAzczMzMwhAEBmZmZmZjgAQGZmZmZmPQBAMzMzMzNDAEAAAAAAAEgAQGZmZmZmTQBAZmZmZmZSAEAAAAAAAFcAQM3MzMzMWwBAAAAAAABhAEDNzMzMzGUAQGZmZmZmagBAmpmZmZlvAEDNzMzMzHQAQDMzMzMzegBAZmZmZmZ/AEBmZmZmZoQAQGZmZmZmiQBAzczMzMyOAEAzMzMzM5MAQJqZmZmZmABAmpmZmZmdAEAAAAAAAKMAQAAAAAAAsQBAMzMzMzO4AEDNzMzMzL0AQJqZmZmZwgBAMzMzMzPIAEDNzMzMzMwAQDMzMzMz0gBAzczMzMzWAEDNzMzMzNsAQJqZmZmZ4ABAMzMzMzPlAEBnZmZmZuoAQJqZmZmZ7wBAMzMzMzP1AEAzMzMzM/oAQGZmZmZm/wBAzczMzMwEAUCamZmZmQkBQJqZmZmZDgFAAAAAAAAUAUDNzMzMzBgBQAAAAAAAHgFAZmZmZmYjAUBmZmZmZigBQJqZmZmZLQFANDMzMzMyAUA0MzMzMzcBQGZmZmZmPAFAzczMzMxAAUBmZmZmZkYBQAAAAAAASwFAZmZmZmZQAUA0MzMzM1UBQGZmZmZmWgFAZmZmZmZfAUAAAAAAAGUBQM3MzMzMaQFAAAAAAABvAUDNzMzMzHMBQDMzMzMzeQFAAAAAAACIAUDNzMzMzIwBQDMzMzMzkgFAZmZmZmaXAUBmZmZmZpwBQM3MzMzMoQFAzczMzMymAUBmZmZmZqwBQDMzMzMzsQFAZmZmZma2AUBnZmZmZsEBQDQzMzMzyAFAAAAAAADNAUBmZmZmZtIBQAAAAAAA1wFAZmZmZmbcAUCamZmZmeEBQDMzMzMz5wFAMzMzMzPsAUDNzMzMzPEBQAAAAAAA9wFAMzMzMzP8AUBmZmZmZgECQGZmZmZmBgJAAAAAAAALAkBmZmZmZhACQAAAAAAAFgJAmpmZmZkbAkBmZmZmZiECQGZmZmZmJgJAzczMzMwrAkDNzMzMzDACQDQzMzMzNgJAmpmZmZk7AkCamZmZmUACQDMzMzMzRgJAAAAAAABLAkCamZmZmVACQJqZmZmZVQJAzczMzMxiAkAzMzMzM2kCQDMzMzMzbgJAmpmZmZlzAkAzMzMzM3gCQJqZmZmZfQJAZmZmZmaCAkBmZmZmZocCQAAAAAAAjAJAmpmZmZmRAkAzMzMzM5YCQJqZmZmZmwJAZmZmZmagAkAAAAAAAKYCQM3MzMzMqgJAMzMzMzOwAkBmZmZmZrUCQAAAAAAAuwJAzczMzMy/AkAAAAAAAMUCQDMzMzMzygJAmpmZmZnPAkAzMzMzM9QCQGdmZmZm2QJAZ2ZmZmbeAkAAAAAAAOQCQM3MzMzM6AJAMzMzMzPuAkCamZmZmfMCQGZmZmZm+AJAAAAAAAD+AkA0MzMzMwMDQM3MzMzMCANAzczMzMwNA0AzMzMzMxMDQGZmZmZmGANAmpmZmZkdA0AzMzMzMyIDQAAAAAAAJwNAAAAAAAAsA0BmZmZmZjkDQJqZmZmZQANAAAAAAABGA0AzMzMzM0sDQJqZmZmZUANAzczMzMxVA0CamZmZmVsDQM3MzMzMYANAzczMzMxlA0AAAAAAAGsDQM3MzMzMbwNAMzMzMzN0A0DNzMzMzHkDQM3MzMzMfgNAmpmZmZmEA0CamZmZmYkDQAAAAAAAjwNAAAAAAACUA0AAAAAAAJkDQGZmZmZmngNAmpmZmZmjA0BmZmZmZqgDQJqZmZmZrQNAMzMzMzOzA0BmZmZmZrgDQJqZmZmZvgNAzczMzMzDA0AAAAAAAMkDQM3MzMzMzQNAmpmZmZnSA0AAAAAAANgDQAAAAAAA3QNAAAAAAADiA0AzMzMzM+cDQM3MzMzM7ANAMzMzMzPyA0AAAAAAAPgDQDQzMzMz/QNAmpmZmZkCBECamZmZmQcEQDQzMzMzFwRANDMzMzMcBEDNzMzMzCEEQJqZmZmZJwRAZ2ZmZmYsBEBnZmZmZjEEQGdmZmZmNgRAMzMzMzM8BEAzMzMzM0EEQJqZmZmZRgRAAAAAAABMBECamZmZmVEEQJqZmZmZVgRAmpmZmZlbBEAAAAAAAGEEQDQzMzMzZgRAAAAAAABrBEA0MzMzM3AEQGZmZmZmdQRAZmZmZmZ6BECamZmZmX8EQGZmZmZmhARAAAAAAACJBEA0MzMzM44EQDQzMzMzkwRAmpmZmZmYBEDNzMzMzJ0EQDQzMzMzowRAmpmZmZmoBEDNzMzMzK0EQAAAAAAAswRAAAAAAAC4BEAzMzMzM74EQJqZmZmZwwRAAAAAAADJBECamZmZmc0EQM3MzMzM0gRAmpmZmZnXBEAAAAAAAOkEQGdmZmZm7gRAZ2ZmZmbzBEDNzMzMzPgEQAAAAAAA/gRAZ2ZmZmYDBUDNzMzMzAgFQAAAAAAADgVAZmZmZmYTBUAzMzMzMxgFQAAAAAAAHgVAAAAAAAAjBUAAAAAAACgFQDMzMzMzLQVAZmZmZmYyBUAAAAAAADgFQDQzMzMzPQVAAAAAAABCBUDNzMzMzEYFQAAAAAAATAVANDMzMzNRBUBmZmZmZlYFQAAAAAAAXAVANDMzMzNhBUCamZmZmWYFQGdmZmZmbAVAmpmZmZlxBUAAAAAAAHcFQJqZmZmZfAVAzczMzMyBBUBmZmZmZoYFQDMzMzMziwVAMzMzMzOQBUAzMzMzM5UFQGZmZmZmmgVAZmZmZmafBUCamZmZmaQFQJqZmZmZqgVAZ2ZmZma7BUCamZmZmcUFQGZmZmZmzAVAmpmZmZnRBUBmZmZmZtYFQAAAAAAA2wVAZ2ZmZmbfBUAzMzMzM+QFQJqZmZmZ6AVAAAAAAADtBUDNzMzMzPkFQJqZmZmZ/gVAZmZmZmYDBkAzMzMzMwgGQJqZmZmZDQZAAAAAAAATBkAzMzMzMxgGQDMzMzMzHQZAMzMzMzMiBkAzMzMzMycGQDMzMzMzLAZAmpmZmZkxBkDNzMzMzDYGQGZmZmZmPAZAzczMzMxBBkAAAAAAAEcGQGdmZmZmTAZAmpmZmZlRBkCamZmZmVYGQJqZmZmZWwZAzczMzMxgBkAAAAAAAGYGQDMzMzMzawZAMzMzMzNwBkAAAAAAAHUGQGdmZmZmegZAmpmZmZl/BkDNzMzMzIQGQDMzMzMziwZAMzMzMzOQBkCamZmZmaEGQAAAAAAApwZAMzMzMzOtBkDNzMzMzLIGQAAAAAAAuAZAzczMzMy9BkAAAAAAAMMGQM3MzMzMyAZANDMzMzPOBkBnZmZmZtMGQM3MzMzM2AZAzczMzMzdBkAAAAAAAOQGQM3MzMzM6QZAMzMzMzPvBkCamZmZmfQGQAAAAAAA+gZAzczMzMz/BkAAAAAAAAUHQAAAAAAACwdAmpmZmZkQB0AAAAAAABYHQDMzMzMzGwdAMzMzMzMgB0BmZmZmZiUHQGZmZmZmKwdAZmZmZmYwB0BmZmZmZjYHQAAAAAAAPAdANDMzMzNBB0AAAAAAAEcHQAAAAAAATAdAZ2ZmZmZRB0CamZmZmVYHQAAAAAAAXAdAzczMzMxhB0CamZmZmWYHQGZmZmZmbAdAAAAAAAByB0A0MzMzM4IHQJqZmZmZhwdAzczMzMyMB0BnZmZmZpIHQM3MzMzMlwdAZmZmZmadB0AzMzMzM6MHQDMzMzMzqAdAMzMzMzOtB0A0MzMzM7MHQDQzMzMzuAdAZmZmZma9B0A0MzMzM8IHQAAAAAAAxwdAmpmZmZnMB0CamZmZmdIHQGdmZmZm2AdAZ2ZmZmbdB0CamZmZmeMHQJqZmZmZ6AdAZmZmZmbuB0AzMzMzM/MHQM3MzMzM+AdANDMzMzP+B0CamZmZmQMIQJqZmZmZCQhAZ2ZmZmYPCEBnZmZmZhQIQM3MzMzMGQhAAAAAAAAfCEDNzMzMzCQIQGZmZmZmKghAmpmZmZkvCECamZmZmTQIQM3MzMzMOQhAzczMzMw/CEAAAAAAAEUIQJqZmZmZSghAMzMzMzNaCEAAAAAAAGIIQJqZmZmZZwhAmpmZmZlsCECamZmZmXEIQGZmZmZmfghAmpmZmZmDCECamZmZmYgIQM3MzMzMjghANDMzMzOUCEDNzMzMzJkIQJqZmZmZnwhAzczMzMykCECamZmZmaoIQJqZmZmZsAhAMzMzMzO2CEBmZmZmZrsIQGZmZmZmwQhAzczMzMzGCEBnZmZmZswIQGdmZmZm0QhAmpmZmZnWCEBnZmZmZtsIQJqZmZmZ4AhAMzMzMzPmCEAAAAAAAOsIQAAAAAAA8QhAAAAAAAD2CECamZmZmfsIQGZmZmZmAAlAzczMzMwFCUAAAAAAAAsJQM3MzMzMEAlAZmZmZmYWCUDNzMzMzBsJQM3MzMzMIQlAZ2ZmZmYnCUCamZmZmSwJQM3MzMzMMQlAzczMzMw2CUDNzMzMzEMJQJqZmZmZSglAAAAAAABQCUAAAAAAAFUJQAAAAAAAWwlAZmZmZmZgCUAAAAAAAGYJQAAAAAAAawlANDMzMzNwCUCamZmZmXUJQM3MzMzMeglAZ2ZmZmaACUBnZmZmZoUJQAAAAAAAiwlAZ2ZmZmaQCUDNzMzMzJUJQDMzMzMznAlAzczMzMyhCUAAAAAAAKcJQGZmZmZmrAlAzczMzMyxCUDNzMzMzLcJQGZmZmZmvglAmpmZmZnDCUDNzMzMzMgJQAAAAAAAzglAZmZmZmbTCUBmZmZmZtkJQDQzMzMz3glAZ2ZmZmbkCUBnZmZmZuoJQGdmZmZm7wlAMzMzMzP1CUBmZmZmZvoJQDMzMzMzAApANDMzMzMGCkAAAAAAAAwKQGdmZmZmEQpAmpmZmZkXCkAAAAAAAB0KQM3MzMzMKwpAMzMzMzMxCkBmZmZmZjYKQDMzMzMzPApAZmZmZmZBCkDNzMzMzEYKQM3MzMzMSwpAZmZmZmZRCkA0MzMzM1cKQJqZmZmZXApAZ2ZmZmZiCkAAAAAAAGgKQDMzMzMzbQpAzczMzMxyCkAAAAAAAHgKQM3MzMzMfQpANDMzMzODCkCamZmZmYgKQGdmZmZmjgpAzczMzMyTCkBnZmZmZpkKQDMzMzMznwpAZmZmZmakCkAAAAAAAKoKQM3MzMzMrwpANDMzMzO1CkBnZmZmZrsKQJqZmZmZwApAAAAAAADGCkBnZmZmZssKQGdmZmZm0ApAZmZmZmbWCkCamZmZmdsKQDMzMzMz4QpAZmZmZmbnCkAAAAAAAO0KQGdmZmZm8gpAZ2ZmZmb4CkAzMzMzM/4KQJqZmZmZAwtAzczMzMwIC0AzMzMzMxgLQGZmZmZmHgtAmpmZmZkkC0DNzMzMzCkLQGdmZmZmLwtAMzMzMzM1C0AzMzMzMzoLQDMzMzMzQAtAAAAAAABGC0A0MzMzM0sLQDQzMzMzUQtAmpmZmZlWC0AzMzMzM1wLQJqZmZmZYQtAzczMzMxmC0BmZmZmZmwLQAAAAAAAcgtAZmZmZmZ3C0CamZmZmX0LQDQzMzMzgwtAAAAAAACJC0AAAAAAAI8LQAAAAAAAlQtAMzMzMzOaC0DNzMzMzJ8LQDQzMzMzpQtAmpmZmZmqC0AzMzMzM7ELQGdmZmZmtgtAzczMzMy7C0AzMzMzM8ELQJqZmZmZxgtAZmZmZmbMC0AAAAAAANILQJqZmZmZ1wtANDMzMzPdC0AAAAAAAOILQGdmZmZm5wtAmpmZmZnsC0BnZmZmZvsLQDMzMzMzAwxAZmZmZmYJDEBmZmZmZg4MQAAAAAAAFAxAZ2ZmZmYaDEBnZmZmZh8MQAAAAAAAJQxAMzMzMzMqDEBmZmZmZi8MQM3MzMzMNAxAMzMzMzM6DECamZmZmUAMQGdmZmZmRgxAZ2ZmZmZLDECamZmZmVEMQDMzMzMzVwxAMzMzMzNcDEAzMzMzM2IMQDMzMzMzZwxAZmZmZmZsDEAAAAAAAHIMQGZmZmZmdwxANDMzMzN9DEAAAAAAAIMMQDMzMzMziQxAzczMzMyPDEBnZmZmZpYMQGZmZmZmnQxAZmZmZmajDEBnZmZmZqoMQAAAAAAAsQxAZmZmZma2DEAzMzMzM7wMQJqZmZmZwgxAZmZmZmbKDEAAAAAAAOAMQGZmZmZm6AxAmpmZmZnuDEBmZmZmZvQMQM3MzMzM+QxAMzMzMzP/DEAAAAAAAAUNQJqZmZmZCg1AMzMzMzMQDUDNzMzMzBUNQDMzMzMzGw1AmpmZmZkgDUAAAAAAACYNQM3MzMzMKw1AMzMzMzMxDUDNzMzMzDYNQAAAAAAAPQ1AMzMzMzNCDUBmZmZmZkcNQAAAAAAATQ1AZmZmZmZSDUBmZmZmZlgNQM3MzMzMXQ1AMzMzMzNkDUCamZmZmWkNQAAAAAAAcA1AmpmZmZl1DUDNzMzMzHoNQJqZmZmZgA1AAAAAAACGDUCamZmZmYsNQM3MzMzMkA1AzczMzMyVDUBmZmZmZpsNQM3MzMzMoA1AZmZmZmamDUAAAAAAAKwNQGZmZmZmsQ1AZmZmZma3DUAzMzMzM70NQDMzMzMzww1AzczMzMzIDUAAAAAAAM8NQAAAAAAA1Q1AZmZmZmbaDUAAAAAAAOANQGZmZmZm5Q1AZmZmZmbrDUAAAAAAAPYNQM3MzMzM/Q1AZmZmZmYEDkAAAAAAAAoOQAAAAAAAEA5AZmZmZmYWDkBmZmZmZh0OQGZmZmZmIg5AAAAAAAAnDkAAAAAAACwOQGZmZmZmMQ5AzczMzMw2DkCamZmZmTsOQGZmZmZmQA5AAAAAAABFDkDNzMzMzEkOQDMzMzMzTg5AmpmZmZlSDkDNzMzMzFcOQDMzMzMzXA5AMzMzMzNhDkAzMzMzM2YOQAAAAAAAbA5AzczMzMxwDkCamZmZmXUOQGZmZmZmeg5AAAAAAAB/DkAAAAAAAIQOQDMzMzMziA5AZmZmZmaNDkAAAAAAAJIOQAAAAAAAlw5AMzMzMzOcDkCamZmZmaEOQM3MzMzMpg5AZmZmZmasDkCamZmZmbEOQAAAAAAAtw5AmpmZmZm7DkBmZmZmZsAOQJqZmZmZxQ5AmpmZmZnKDkAAAAAAANAOQAAAAAAA1g5AZmZmZmbbDkAAAAAAAOEOQDMzMzMz5g5AMzMzMzPsDkCamZmZmfEOQM3MzMzM9g5AMzMzMzP8DkDNzMzMzAEPQAAAAAAABw9AZmZmZmYMD0DNzMzMzBEPQM3MzMzMFg9AmpmZmZkbD0CamZmZmSAPQAAAAAAAJg9AmpmZmZkrD0CamZmZmTEPQAAAAAAAOA9AMzMzMzM9D0AAAAAAAEMPQDMzMzMzSA9AAAAAAABND0AAAAAAAFIPQAAAAAAAWA9AMzMzMzNdD0CamZmZmWIPQDMzMzMzaA9AMzMzMzNtD0BmZmZmZnIPQGZmZmZmdw9AAAAAAAB9D0AAAAAAAIIPQAAAAAAAhw9AMzMzMzOMD0CamZmZmZEPQJqZmZmZlg9AMzMzMzOcD0AzMzMzM6EPQM3MzMzMpg9AMzMzMzOsD0DNzMzMzLEPQJqZmZmZxw9AMzMzMzPTD0BmZmZmZtkPQGZmZmZm3w9AMzMzMzPlD0CamZmZmeoPQM3MzMzM7w9AZmZmZmb1D0AAAAAAAPsPQDMzMzMzABBAzczMzEwDEEDNzMzMTAYQQJqZmZkZCRBAzMzMzMwLEECamZmZmQ4QQM3MzMxMERBAZmZmZmYUEEDNzMzMTBcQQJqZmZkZGhBAzczMzMwcEEDMzMzMzB8QQJqZmZmZIhBAMzMzMzMlEEAAAAAAACgQQM3MzMzMKhBAMzMzM7MtEEAzMzMzMzAQQGZmZmbmMhBAzczMzMw1EEAAAAAAgDgQQAAAAACAOxBAzczMzMw+EECamZmZmUEQQGZmZmZmRBBANDMzMzNHEEBmZmZm5kkQQDMzMzOzTBBAAAAAAIBPEEBmZmZmZlIQQDMzMzMzVRBAAAAAAABYEECamZmZmVoQQJqZmZmZXRBAZmZmZmZgEECamZmZGWMQQMzMzMzMZRBAmpmZmZloEEAzMzMzM2sQQM3MzMxMbhBAAAAAAABxEEDNzMzMzHMQQJqZmZmZdhBANDMzMzN5EEDMzMzMTHwQQMzMzMzMfhBAmpmZmZmBEEAAAAAAgIQQQAAAAAAAhxBAAAAAAACKEEDNzMzMzIwQQGZmZmZmjxBANDMzMzOSEECamZmZGZUQQMzMzMzMlxBAAAAAAICaEECamZmZGZ0QQGZmZmbmnxBAMzMzM7OiEEDNzMzMTKUQQJqZmZkZqBBAzczMzMyqEEA0MzMzs60QQJqZmZmZsBBAzMzMzEyzEEBmZmZmZrYQQDMzMzMzuRBAzczMzMy7EEBmZmZmZr4QQJqZmZkZwRBAzczMzMzDEEAAAAAAgMYQQM3MzMxMyRBAZmZmZubLEECamZmZmc4QQJqZmZmZ0RBAmpmZmZnUEEDNzMzMTNcQQM3MzMxM2hBAzczMzEzkEEA0MzMzM+cQQGdmZmZm6hBAMzMzMzPtEEBmZmZm5u8QQDMzMzOz8hBAzczMzEz1EEAAAAAAAPgQQAAAAAAA+xBAZmZmZub9EEA0MzMzMwURQM3MzMzMCBFAMzMzM7MLEUBmZmZmZg4RQJqZmZkZERFAzczMzEwUEUAzMzMzMxcRQM3MzMxMGhFAZmZmZuYcEUDNzMzMzB8RQJqZmZmZIhFAZmZmZmYlEUCamZmZmSgRQAAAAACAKxFAAAAAAAAuEUAAAAAAADERQDMzMzOzMxFAAAAAAIA2EUBmZmZmZjkRQJqZmZkZPBFAZmZmZuY+EUBmZmZmZkERQDMzMzMzRBFAZmZmZmZHEUDNzMzMTEoRQGZmZmbmTBFAZmZmZuZPEUAAAAAAAFMRQDMzMzOzVRFAmpmZmZlYEUAAAAAAAFwRQGZmZmbmXhFAZmZmZuZhEUCamZmZmWQRQJqZmZmZZxFAZmZmZmZqEUBmZmZmZnIRQGZmZmZmdRFAmpmZmRl4EUDNzMzMTHwRQDMzMzMzfxFAzczMzEyCEUAzMzMzM4sRQGZmZmbmjRFAzczMzMyQEUBmZmZmZpMRQDQzMzMzlhFAAAAAAICZEUBmZmZmZpwRQGZmZmZmnxFAMzMzMzOiEUAAAAAAAKURQJqZmZmZpxFAzczMzEyqEUCamZmZGa0RQMzMzMzMrxFAZmZmZuayEUAzMzMzs7URQAAAAACAuBFAzczMzEy7EUAAAAAAAL4RQM3MzMzMwBFAAAAAAIDDEUDMzMzMTMYRQJqZmZkZyRFAZmZmZubLEUAAAAAAAM8RQM3MzMzM0RFAZmZmZubUEUBnZmZm5tcRQDMzMzOz2hFAmpmZmZndEUDNzMzMTOARQAAAAACA4xFAZmZmZmbmEUDMzMzMTOkRQJqZmZkZ7BFAZmZmZubuEUCamZmZmfERQM3MzMxM9BFAAAAAAAD3EUBmZmZm5vkRQAAAAACA/BFAzMzMzMz/EUAAAAAAAAMSQAAAAAAABhJAMzMzM7MIEkCamZmZmQsSQAAAAACADhJAMzMzMzMREkDNzMzMTBQSQAAAAAAAFxJAMzMzM7MZEkAzMzMzsxwSQDQzMzOzHxJAzczMzEwiEkDMzMzMTCUSQJqZmZkZKBJAMzMzMzMrEkBmZmZm5i0SQM3MzMzMMBJAzczMzMwzEkCamZmZmTYSQDMzMzMzORJAMzMzMzM8EkCamZmZGT8SQGZmZmZmQhJAAAAAAIBFEkBnZmZmZkgSQJqZmZkZSxJAzczMzExOEkAzMzMzM1ESQJqZmZkZVBJAmpmZmRlXEkAzMzMzM1oSQDMzMzMzXRJAZmZmZmZgEkAAAAAAAGMSQDMzMzMzZhJAZmZmZmZpEkAzMzMzM2wSQGZmZmbmbhJAzczMzMxxEkBmZmZm5nQSQJqZmZmZdxJAZmZmZuZ6EkDNzMzMzH0SQAAAAACAgBJAzczMzEyDEkAAAAAAgIYSQGdmZmZmiRJAzczMzEyNEkAAAAAAAJESQJqZmZkZlBJAzczMzMyWEkAzMzMzs5kSQJqZmZmZnBJAmpmZmZmfEkDMzMzMTKISQM3MzMxMpRJAMzMzMzOoEkAzMzMzM6sSQJqZmZkZrhJAAAAAAACxEkAzMzMzs7MSQGdmZmZmthJAAAAAAIC5EkBmZmZmZrwSQJqZmZkZvxJAZmZmZmbCEkAzMzMzM8USQJqZmZkZyBJAMzMzMzPQEkCamZmZGdMSQGZmZmZm1hJAMzMzMzPZEkBnZmZm5tsSQGZmZmbm3hJAMzMzM7PhEkCamZmZmeQSQM3MzMzM5xJAMzMzM7PqEkAzMzMzs+0SQJqZmZmZ8BJAzczMzMzzEkDNzMzMzPYSQDMzMzOz+RJAZ2ZmZmb8EkAAAAAAAAATQAAAAAAAAxNAmpmZmZkFE0DNzMzMTAgTQJqZmZkZCxNAAAAAAAAOE0AAAAAAABETQAAAAACAFBNAmpmZmZkXE0CamZmZmRoTQJqZmZmZHRNAAAAAAIAgE0A0MzMzsyMTQGdmZmbmJhNAmpmZmZkpE0AAAAAAgCwTQAAAAACALxNAMzMzMzMyE0BmZmZmZjUTQDMzMzMzOBNAmpmZmRk7E0DNzMzMzD0TQM3MzMzMQBNAzczMzMxDE0A0MzMzs0YTQGZmZmZmSRNAmpmZmZlME0DNzMzMTE8TQJqZmZkZUhNAzczMzExVE0BmZmZmZlgTQDMzMzMzWxNAAAAAAABeE0CamZmZGWETQGZmZmbmYxNAMzMzM7NmE0AAAAAAgGkTQGZmZmZmbBNAmpmZmRlvE0BmZmZmZnITQM3MzMzMdRNAAAAAAAB5E0DMzMzMzHsTQJqZmZkZfxNAzczMzMyBE0A0MzMzM4UTQGdmZmZmiBNAMzMzMzOLE0BmZmZm5o0TQM3MzMzMkBNAMzMzM7OTE0AAAAAAAJcTQGdmZmbmmRNAzczMzMycE0AAAAAAgJ8TQM3MzMxMohNAMzMzMzOlE0A0MzMzM6gTQAAAAACAqxNAAAAAAICuE0AzMzMzM7ETQGZmZmbmsxNAzczMzMy2E0BmZmZm5rkTQGZmZmZmvRNAmpmZmZnAE0AAAAAAgMMTQDQzMzMzxhNAzMzMzEzJE0DNzMzMzMwTQM3MzMzMzxNAmpmZmRnTE0AAAAAAANYTQM3MzMzM2BNAmpmZmRncE0DNzMzMTN8TQJqZmZkZ4hNAZ2ZmZubkE0AAAAAAAOgTQM3MzMzM6xNAZ2ZmZubuE0AzMzMzM/ITQM3MzMzM9RNAAAAAAID4E0CamZmZmfoTQAAAAACA/BNAZ2ZmZub9E0BmZmZm5v4TQDQzMzOz/xNAAAAAAAAAFEA=",
          "dtype": "f8"
         },
         "xaxis": "x",
         "y": {
          "bdata": "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",
          "dtype": "f8"
         },
         "yaxis": "y"
        }
       ],
       "layout": {
        "legend": {
         "tracegroupgap": 0
        },
        "template": {
         "data": {
          "bar": [
           {
            "error_x": {
             "color": "#2a3f5f"
            },
            "error_y": {
             "color": "#2a3f5f"
            },
            "marker": {
             "line": {
              "color": "#E5ECF6",
              "width": 0.5
             },
             "pattern": {
              "fillmode": "overlay",
              "size": 10,
              "solidity": 0.2
             }
            },
            "type": "bar"
           }
          ],
          "barpolar": [
           {
            "marker": {
             "line": {
              "color": "#E5ECF6",
              "width": 0.5
             },
             "pattern": {
              "fillmode": "overlay",
              "size": 10,
              "solidity": 0.2
             }
            },
            "type": "barpolar"
           }
          ],
          "carpet": [
           {
            "aaxis": {
             "endlinecolor": "#2a3f5f",
             "gridcolor": "white",
             "linecolor": "white",
             "minorgridcolor": "white",
             "startlinecolor": "#2a3f5f"
            },
            "baxis": {
             "endlinecolor": "#2a3f5f",
             "gridcolor": "white",
             "linecolor": "white",
             "minorgridcolor": "white",
             "startlinecolor": "#2a3f5f"
            },
            "type": "carpet"
           }
          ],
          "choropleth": [
           {
            "colorbar": {
             "outlinewidth": 0,
             "ticks": ""
            },
            "type": "choropleth"
           }
          ],
          "contour": [
           {
            "colorbar": {
             "outlinewidth": 0,
             "ticks": ""
            },
            "colorscale": [
             [
              0,
              "#0d0887"
             ],
             [
              0.1111111111111111,
              "#46039f"
             ],
             [
              0.2222222222222222,
              "#7201a8"
             ],
             [
              0.3333333333333333,
              "#9c179e"
             ],
             [
              0.4444444444444444,
              "#bd3786"
             ],
             [
              0.5555555555555556,
              "#d8576b"
             ],
             [
              0.6666666666666666,
              "#ed7953"
             ],
             [
              0.7777777777777778,
              "#fb9f3a"
             ],
             [
              0.8888888888888888,
              "#fdca26"
             ],
             [
              1,
              "#f0f921"
             ]
            ],
            "type": "contour"
           }
          ],
          "contourcarpet": [
           {
            "colorbar": {
             "outlinewidth": 0,
             "ticks": ""
            },
            "type": "contourcarpet"
           }
          ],
          "heatmap": [
           {
            "colorbar": {
             "outlinewidth": 0,
             "ticks": ""
            },
            "colorscale": [
             [
              0,
              "#0d0887"
             ],
             [
              0.1111111111111111,
              "#46039f"
             ],
             [
              0.2222222222222222,
              "#7201a8"
             ],
             [
              0.3333333333333333,
              "#9c179e"
             ],
             [
              0.4444444444444444,
              "#bd3786"
             ],
             [
              0.5555555555555556,
              "#d8576b"
             ],
             [
              0.6666666666666666,
              "#ed7953"
             ],
             [
              0.7777777777777778,
              "#fb9f3a"
             ],
             [
              0.8888888888888888,
              "#fdca26"
             ],
             [
              1,
              "#f0f921"
             ]
            ],
            "type": "heatmap"
           }
          ],
          "histogram": [
           {
            "marker": {
             "pattern": {
              "fillmode": "overlay",
              "size": 10,
              "solidity": 0.2
             }
            },
            "type": "histogram"
           }
          ],
          "histogram2d": [
           {
            "colorbar": {
             "outlinewidth": 0,
             "ticks": ""
            },
            "colorscale": [
             [
              0,
              "#0d0887"
             ],
             [
              0.1111111111111111,
              "#46039f"
             ],
             [
              0.2222222222222222,
              "#7201a8"
             ],
             [
              0.3333333333333333,
              "#9c179e"
             ],
             [
              0.4444444444444444,
              "#bd3786"
             ],
             [
              0.5555555555555556,
              "#d8576b"
             ],
             [
              0.6666666666666666,
              "#ed7953"
             ],
             [
              0.7777777777777778,
              "#fb9f3a"
             ],
             [
              0.8888888888888888,
              "#fdca26"
             ],
             [
              1,
              "#f0f921"
             ]
            ],
            "type": "histogram2d"
           }
          ],
          "histogram2dcontour": [
           {
            "colorbar": {
             "outlinewidth": 0,
             "ticks": ""
            },
            "colorscale": [
             [
              0,
              "#0d0887"
             ],
             [
              0.1111111111111111,
              "#46039f"
             ],
             [
              0.2222222222222222,
              "#7201a8"
             ],
             [
              0.3333333333333333,
              "#9c179e"
             ],
             [
              0.4444444444444444,
              "#bd3786"
             ],
             [
              0.5555555555555556,
              "#d8576b"
             ],
             [
              0.6666666666666666,
              "#ed7953"
             ],
             [
              0.7777777777777778,
              "#fb9f3a"
             ],
             [
              0.8888888888888888,
              "#fdca26"
             ],
             [
              1,
              "#f0f921"
             ]
            ],
            "type": "histogram2dcontour"
           }
          ],
          "mesh3d": [
           {
            "colorbar": {
             "outlinewidth": 0,
             "ticks": ""
            },
            "type": "mesh3d"
           }
          ],
          "parcoords": [
           {
            "line": {
             "colorbar": {
              "outlinewidth": 0,
              "ticks": ""
             }
            },
            "type": "parcoords"
           }
          ],
          "pie": [
           {
            "automargin": true,
            "type": "pie"
           }
          ],
          "scatter": [
           {
            "fillpattern": {
             "fillmode": "overlay",
             "size": 10,
             "solidity": 0.2
            },
            "type": "scatter"
           }
          ],
          "scatter3d": [
           {
            "line": {
             "colorbar": {
              "outlinewidth": 0,
              "ticks": ""
             }
            },
            "marker": {
             "colorbar": {
              "outlinewidth": 0,
              "ticks": ""
             }
            },
            "type": "scatter3d"
           }
          ],
          "scattercarpet": [
           {
            "marker": {
             "colorbar": {
              "outlinewidth": 0,
              "ticks": ""
             }
            },
            "type": "scattercarpet"
           }
          ],
          "scattergeo": [
           {
            "marker": {
             "colorbar": {
              "outlinewidth": 0,
              "ticks": ""
             }
            },
            "type": "scattergeo"
           }
          ],
          "scattergl": [
           {
            "marker": {
             "colorbar": {
              "outlinewidth": 0,
              "ticks": ""
             }
            },
            "type": "scattergl"
           }
          ],
          "scattermap": [
           {
            "marker": {
             "colorbar": {
              "outlinewidth": 0,
              "ticks": ""
             }
            },
            "type": "scattermap"
           }
          ],
          "scattermapbox": [
           {
            "marker": {
             "colorbar": {
              "outlinewidth": 0,
              "ticks": ""
             }
            },
            "type": "scattermapbox"
           }
          ],
          "scatterpolar": [
           {
            "marker": {
             "colorbar": {
              "outlinewidth": 0,
              "ticks": ""
             }
            },
            "type": "scatterpolar"
           }
          ],
          "scatterpolargl": [
           {
            "marker": {
             "colorbar": {
              "outlinewidth": 0,
              "ticks": ""
             }
            },
            "type": "scatterpolargl"
           }
          ],
          "scatterternary": [
           {
            "marker": {
             "colorbar": {
              "outlinewidth": 0,
              "ticks": ""
             }
            },
            "type": "scatterternary"
           }
          ],
          "surface": [
           {
            "colorbar": {
             "outlinewidth": 0,
             "ticks": ""
            },
            "colorscale": [
             [
              0,
              "#0d0887"
             ],
             [
              0.1111111111111111,
              "#46039f"
             ],
             [
              0.2222222222222222,
              "#7201a8"
             ],
             [
              0.3333333333333333,
              "#9c179e"
             ],
             [
              0.4444444444444444,
              "#bd3786"
             ],
             [
              0.5555555555555556,
              "#d8576b"
             ],
             [
              0.6666666666666666,
              "#ed7953"
             ],
             [
              0.7777777777777778,
              "#fb9f3a"
             ],
             [
              0.8888888888888888,
              "#fdca26"
             ],
             [
              1,
              "#f0f921"
             ]
            ],
            "type": "surface"
           }
          ],
          "table": [
           {
            "cells": {
             "fill": {
              "color": "#EBF0F8"
             },
             "line": {
              "color": "white"
             }
            },
            "header": {
             "fill": {
              "color": "#C8D4E3"
             },
             "line": {
              "color": "white"
             }
            },
            "type": "table"
           }
          ]
         },
         "layout": {
          "annotationdefaults": {
           "arrowcolor": "#2a3f5f",
           "arrowhead": 0,
           "arrowwidth": 1
          },
          "autotypenumbers": "strict",
          "coloraxis": {
           "colorbar": {
            "outlinewidth": 0,
            "ticks": ""
           }
          },
          "colorscale": {
           "diverging": [
            [
             0,
             "#8e0152"
            ],
            [
             0.1,
             "#c51b7d"
            ],
            [
             0.2,
             "#de77ae"
            ],
            [
             0.3,
             "#f1b6da"
            ],
            [
             0.4,
             "#fde0ef"
            ],
            [
             0.5,
             "#f7f7f7"
            ],
            [
             0.6,
             "#e6f5d0"
            ],
            [
             0.7,
             "#b8e186"
            ],
            [
             0.8,
             "#7fbc41"
            ],
            [
             0.9,
             "#4d9221"
            ],
            [
             1,
             "#276419"
            ]
           ],
           "sequential": [
            [
             0,
             "#0d0887"
            ],
            [
             0.1111111111111111,
             "#46039f"
            ],
            [
             0.2222222222222222,
             "#7201a8"
            ],
            [
             0.3333333333333333,
             "#9c179e"
            ],
            [
             0.4444444444444444,
             "#bd3786"
            ],
            [
             0.5555555555555556,
             "#d8576b"
            ],
            [
             0.6666666666666666,
             "#ed7953"
            ],
            [
             0.7777777777777778,
             "#fb9f3a"
            ],
            [
             0.8888888888888888,
             "#fdca26"
            ],
            [
             1,
             "#f0f921"
            ]
           ],
           "sequentialminus": [
            [
             0,
             "#0d0887"
            ],
            [
             0.1111111111111111,
             "#46039f"
            ],
            [
             0.2222222222222222,
             "#7201a8"
            ],
            [
             0.3333333333333333,
             "#9c179e"
            ],
            [
             0.4444444444444444,
             "#bd3786"
            ],
            [
             0.5555555555555556,
             "#d8576b"
            ],
            [
             0.6666666666666666,
             "#ed7953"
            ],
            [
             0.7777777777777778,
             "#fb9f3a"
            ],
            [
             0.8888888888888888,
             "#fdca26"
            ],
            [
             1,
             "#f0f921"
            ]
           ]
          },
          "colorway": [
           "#636efa",
           "#EF553B",
           "#00cc96",
           "#ab63fa",
           "#FFA15A",
           "#19d3f3",
           "#FF6692",
           "#B6E880",
           "#FF97FF",
           "#FECB52"
          ],
          "font": {
           "color": "#2a3f5f"
          },
          "geo": {
           "bgcolor": "white",
           "lakecolor": "white",
           "landcolor": "#E5ECF6",
           "showlakes": true,
           "showland": true,
           "subunitcolor": "white"
          },
          "hoverlabel": {
           "align": "left"
          },
          "hovermode": "closest",
          "mapbox": {
           "style": "light"
          },
          "paper_bgcolor": "white",
          "plot_bgcolor": "#E5ECF6",
          "polar": {
           "angularaxis": {
            "gridcolor": "white",
            "linecolor": "white",
            "ticks": ""
           },
           "bgcolor": "#E5ECF6",
           "radialaxis": {
            "gridcolor": "white",
            "linecolor": "white",
            "ticks": ""
           }
          },
          "scene": {
           "xaxis": {
            "backgroundcolor": "#E5ECF6",
            "gridcolor": "white",
            "gridwidth": 2,
            "linecolor": "white",
            "showbackground": true,
            "ticks": "",
            "zerolinecolor": "white"
           },
           "yaxis": {
            "backgroundcolor": "#E5ECF6",
            "gridcolor": "white",
            "gridwidth": 2,
            "linecolor": "white",
            "showbackground": true,
            "ticks": "",
            "zerolinecolor": "white"
           },
           "zaxis": {
            "backgroundcolor": "#E5ECF6",
            "gridcolor": "white",
            "gridwidth": 2,
            "linecolor": "white",
            "showbackground": true,
            "ticks": "",
            "zerolinecolor": "white"
           }
          },
          "shapedefaults": {
           "line": {
            "color": "#2a3f5f"
           }
          },
          "ternary": {
           "aaxis": {
            "gridcolor": "white",
            "linecolor": "white",
            "ticks": ""
           },
           "baxis": {
            "gridcolor": "white",
            "linecolor": "white",
            "ticks": ""
           },
           "bgcolor": "#E5ECF6",
           "caxis": {
            "gridcolor": "white",
            "linecolor": "white",
            "ticks": ""
           }
          },
          "title": {
           "x": 0.05
          },
          "xaxis": {
           "automargin": true,
           "gridcolor": "white",
           "linecolor": "white",
           "ticks": "",
           "title": {
            "standoff": 15
           },
           "zerolinecolor": "white",
           "zerolinewidth": 2
          },
          "yaxis": {
           "automargin": true,
           "gridcolor": "white",
           "linecolor": "white",
           "ticks": "",
           "title": {
            "standoff": 15
           },
           "zerolinecolor": "white",
           "zerolinewidth": 2
          }
         }
        },
        "title": {
         "text": "Force / Distance of tensile_tests/04.03.25_BslA.csv"
        },
        "xaxis": {
         "anchor": "y",
         "domain": [
          0,
          1
         ],
         "title": {
          "text": "Distance (millimeters)"
         }
        },
        "yaxis": {
         "anchor": "x",
         "domain": [
          0,
          1
         ],
         "title": {
          "text": "Force (Newtons)"
         }
        }
       }
      }
     },
     "metadata": {},
     "output_type": "display_data"
    }
   ],
   "source": [
    "# 5.1 initial distance, 4.5mm width, 0.4mm thickness\n",
    "blsa_filename = \"tensile_tests/04.03.25_BslA.csv\"\n",
    "blsa_df = plot_force_distance(blsa_filename)"
   ]
  },
  {
   "cell_type": "code",
   "execution_count": 56,
   "id": "1faeced1",
   "metadata": {},
   "outputs": [
    {
     "name": "stdout",
     "output_type": "stream",
     "text": [
      "Peak Force Row: Unnamed: 0                 1056.000000\n",
      "Time                      20201.000000\n",
      "Force (Newtons)               6.842268\n",
      "Distance (millimeters)        1.169629\n",
      "Strain (%)                    0.229339\n",
      "Stress (MPa)                  3.801260\n",
      "Name: 1056, dtype: float64\n"
     ]
    },
    {
     "data": {
      "application/vnd.plotly.v1+json": {
       "config": {
        "plotlyServerURL": "https://plot.ly"
       },
       "data": [
        {
         "hovertemplate": "Strain (%)=%{x}<br>Stress (MPa)=%{y}<extra></extra>",
         "legendgroup": "",
         "line": {
          "color": "#636efa",
          "dash": "solid"
         },
         "marker": {
          "symbol": "circle"
         },
         "mode": "lines",
         "name": "",
         "showlegend": false,
         "type": "scattergl",
         "x": {
          "bdata": "AAAAAAAAAAAAAAAAAAAAAAAAAAAAAAAAAAAAAAAAAAAAAAAAAAAAAAAAAAAAAAAAAAAAAAAAAAAAAAAAAAAAAAAAAAAAAAAAAAAAAAAAAAAAAAAAAAAAAAAAAAAAAAAAAAAAAAAAAAAAAAAAAAAAAAAAAAAAAAAAAAAAAAAAAAAAAAAAAAAAAAAAAAAAAAAAAAAAAAAAAAAAAAAAAAAAAAAAAAAAAAAAAAAAAAAAAAAAAAAAAAAAAAAAAAAAAAAAAAAAAAAAAAAAAAAAAAAAAAAAAAAAAAAAAAAAAAAAAAAAAAAAAAAAAAAAAAAAAAAAAAAAAAAAAAAAAAAAAAAAAAAAAAAAAAAAAAAAAAAAAAAAAAAAAAAAAAAAAAAAAAAAAAAAAAAAAAAAAAAAAAAAAAAAAAAAAAAAAAAAAAAAAAAAAAAAAAAAAAAAAAAAAAAAAAAAAAAAAAAAAAAAAAAAAAAAAAAAAAAAAAAAAAAAAAAAAAAAAAAAAAAAAAAAAAAAAAAAAAAAAAAAAAAAAAAAAAAAAAAAAAAAAAAAAAAAAAAAAAAAAAAAAAAAAAAAAAAAAAAAAAAAAAAAAAAAAAAAAAAAAAAAAAAAAAAAAAAAAAAAAAAAAAAAAAAAAAAAAAAAAAAAAAAAAAAAAAAAAAAAAAAAAAAAAAAAAAAAAAAAAAAAAAAAAAAAAAAAAAAAAAAAAAAAAAAAAAAAAAAAAAAAAAAAAAAAAAAAAAAAAAAAAAAAAAAAAAAAAAAAAAAAAAAAAAAAAAAAAAAAAAAAAAAAAAAAAAAAAAAAAAAAAAAAAAAAAAAAAAAAAAAAAAAAAAAAAAAAAAAAAAAAAAAAAAAAAAAAAAAAAAAAAAAAAAAAAAAAAAAAAAAAAAAAAAAAAAAAAAAAAAAAAAAAAAAAAAAAAAAAAAAAAAAAAAAAAAAAAAAAAAAAAAAAAAAAAAAAAAAAAAAAAAAAAAAAAAAAAAAAAAAAAAAAAAAAAAAAAAAAAAAAAAAAAAAAAAAAAAAAAAAAAAAAAAAAAAAAAAAAAAAAAAAAAAAAAAAAAAAAAAAAAAAAAAAAAAAAAAAAAAAAAAAAAAAAAAAAAAAAAAAAAAAAAAAAAAAAAAAAAAAAAAAAAAAAAAAAAAAAAAAAAAAAAAAAAAAAAAAAAAAAAAAAAAAAAAAAAAAAAAAAAAAAAAAAAAAAAAAAAAAAAAAAAAAAAAAAAAAAAAAAAAAAAAAAAAAAAAAAAAAAAAAAAAAAAAAAAAAAAAAAAAAAAAAAAAAAAAAAAAAAAAAAAAAAAAAAAAAAAAAAAAAAAAAAAAAAAAAAAAAAAAAAAAAAAAAAAAAAAAAAAAAAAAAAAAAAAAAAAAAAAAAAAAAAAAAAAAAAAAAAAAAAAAAAAAAAAAAAAAAAAAAAAAAAAAAAAAAAAAAAAAAAAAAAAAAAAAAAAAAAAAAAAAAAAAAAAAAAAAAAAAAAAAAAAAAAAAAAAAAAAAAAAAAAAAAAAAAAAAAAAAAAAAAAAAAAAAAAAAAAAAAAAAAAAAAAAAAAAAAAAAAAAAAAAAAAAAAAAAAAAAAAAAAAAAAAAAAAAAAAAAAAAAAAAAAAAAAAAAAAAAAAAAAAAAAAAAAAAAAAAAAAAAAAAAAAAAAAAAAAAAAAAAAAAAAAAAAAAAAAAAAAAAAAAAAAAAAAAAAAAAAAAAAAAAAAAAAAAAAAAAAAAAAAAAAAAAAAAAAAAAAAAAAAAAAAAAAAAAAAAAAAAAAAAAAAAAAAAAAAAAAAAAAAAAAAAAAAAAAAAAAAAAAAAAAAAAAAAAAAAAAAAAAAAAAAAAAAAAAAAAAAAAAAAAAAAAAAAAAAAAAAAAAAAAAAAAAAAAAAAAAAAAAAAAAAAAAAAAAAAAAAAAAAAAAAAAAAAAAAAAAAAAAAAAAAAAAAAAAAAAAAAAAAAAAAAAAAAAAAAAAAAAAAAAAAAAAAAAAAAAAAAAAAAAAAAAAAAAAAAAAAAAAAAAAAAAAAAAAAAAAAAAAAAAAAAAAAAAAAAAAAAAAAAAAAAAAAAAAAAAAAAAAAAAAAAAAAAAAAAAAAAAAAAAAAAAAAAAAAAAAAAAAAAAAAAAAAAAAAAAAAAAAAAAAAAAAAAAAAAAAAAAAAAAAAAAAAAAAAAAAAAAAAAAAAAAAAAAAAAAAAAAAAAAAAAAAAAAAAAAAAAAAAAAAAAAAAAAAAAAAAAAAAAAAAAAAAAAAAAAAAAAAAAAAAAAAAAAAAAAAAAAAAAAAAAAAAAAAAAAAAAAAAAAAAAAAAAAAAAAAAAAAAAAAAAAAAAAAAAAAAAAAAAAAAAAAAAAAAAAAAAAAAAAAAAAAAAAAAAAAAAAAAAAAAAAAAAAAAAAAAAAAAAAAAAAAAAAAAAAAAAAAAAAAAAAAAAAAAAAAAAAAAAAAAAAAAAAAAAAAAAAAAAAAAAAAAAAAAAAAAAAAAAAAAAAAAAAAAAAAAAAAAAAAAAAAAAAAAAAAAAAAAAAAAAAAAAAAAAAAAAAAAAAAAAAAAAAAAAAAAAAAAAAAAAAAAAAAAAAAAAAAAAAAAAAAAAAAAAAAAAAAAAAAAAAAAAAAAAAAAAAAAAAAAAAAAAAAAAAAAAAAAAAAAAAAAAAAAAAAAAAAAAAAAAAAAAAAAAAAAAAAAAAAAAAAAAAAAAAAAAAAAAAAAAAAAAAAAAAAAAAAAAAAAAAAAAAAAAAAAAAAAAAAAAAAAAAAAAAAAAAAAAAAAAAAAAAAAAAAAAAAAAAAAAAAAAAAAAAAAAAAAAAAAAAAAAAAAAAAAAAAAAAAAAAAAAAAAAAAAAAAAAAAAAAAAAAAAAAAAAAAAAAAAAAAAAAAAAAAAAAAAAAAAAAAAAAAAAAAAAAAAAAAAAAAAAAAAAAAAAAAAAAAAAAAAAAAAAAAAAAAAAAAAAAAAAAAAAAAAAAAAAAAAAAAAAAAAAAAAAAAAAAAAAAAAAAAAAAAAAAAAAAAAAAAAAAAAAAAAAAAAAAAAAAAAAAAAAAAAAAAAAAAAAAAAAAAAAAAAAAAAAAAAAAAAAAAAAAAAAAAAAAAAAAAAAAAAAAAAAAAAAAAAAAAAAAAAAAAAAAAAAAAAAAAAAAAAAAAAAAAAAAAAAAAAAAAAAAAAAAAAAAAAAAAAAAAAAAAAAAAAAAAAAAAAAAAAAAAAAAAAAAAAAAAAAAAAAAAAAAAAAAAAAAAAAAAAAAAAAAAAAAAAAAAAAAAAAAAAAAAAAAAAAAAAAAAAAAAAAAAAAAAAAAAAAAAAAAAAAAAAAAAAAAAAAAAAAAAAAAAAAAAAAAAAAAAAAAAAAAAAAAAAAAAAAAAAAAAAAAAAAAAAAAAAAAAAAAAAAAAAAAAAAAAAAAAAAAAAAAAAAAAAAAAAAAAAAAAAAAAAAAAAAAAAAAAAAAAAAAAAAAAAAAAAAAAAAAAAAAAAAAAAAAAAAAAAAAAAAAAAAAAAAAAAAAAAAAAAAAAAAAAAAAAAAAAAAAAAAAAAAAAAAAAAAAAAAAAAAAAAAAAAAAAAAAAAAAAAAAAAAAAAAAAAAAAAAAAAAAAAAAAAAAAAAAAAAAAAAAAAAAAAAAAAAAAAAAAAAAAAAAAAAAAAAAAAAAAAAAAAAAAAAAAAAAAAAAAAAAAAAAAAAAAAAAAAAAAAAAAAAAAAAAAAAAAAAAAAAAAAAAAAAAAAAAAAAAAAAAAAAAAAAAAAAAAAAAAAAAAAAAAAAAAAAAAAAAAAAAAAAAAAAAAAAAAAAAAAAAAAAAAAAAAAAAAAAAAAAAAAAAAAAAAAAAAAAAAAAAAAAAAAAAAAAAAAAAAAAAAAAAAAAAAAAAAAAAAAAAAAAAAAAAAAAAAAAAAAAAAAAAAAAAAAAAAAAAAAAAAAAAAAAAAAAAAAAAAAAAAAAAAAAAAAAAAAAAAAAAAAAAAAAAAAAAAAAAAAAAAAAAAAAAAAAAAAAAAAAAAAAAAAAAAAAAAAAAAAAAAAAAAAAAAAAAAAAAAAAAAAAAAAAAAAAAAAAAAAAAAAAAAAAAAAAAAAAAAAAAAAAAAAAAAAAAAAAAAAAAAAAAAAAAAAAAAAAAAAAAAAAAAAAAAAAAAAAAAAAAAAAAAAAAAAAAAAAAAAAAAAAAAAAAAAAAAAAAAAAAAAAAAAAAAAAAAAAAAAAAAAAAAAAAAAAAAAAAAAAAAAAAAAAAAAAAAAAAAAAAAAAAAAAAAAAAAAAAAAAAAAAAAAAAAAAAAAAAAAAAAAAAAAAAAAAAAAAAAAAAAAAAAAAAAAAAAAAAAAAAAAAAAAAAAAAAAAAAAAAAAAAAAAAAAAAAAAAAAAAAAAAAAAAAAAAAAAAAAAAAAAAAAAAAAAAAAAAAAAAAAAAAAAAAAAAAAAAAAAAAAAAAAAAAAAAAAAAAAAAAAAAAAAAAAAAAAAAAAAAAAAAAAAAAAAAAAAAAAAAAAAAAAAAAAAAAAAAAAAAAAAAAAAAAAAAAAAAAAAAAAAAAAAAAAAAAAAAAAAAAAAAAAAAAAAAAAAAAAAAAAAAAAAAAAAAAAAAAAAAAAAAAAAAAAAAAAAAAAAAAAAAAAAAAAAAAAAAAAAAAAAAAAAAAAAAAAAAAAAAAAAAAAAAAAAAAAAAAAAAAAAAAAAAAAAAAAAAAAAAAAAAAAAAAAAAAAAAAAAAAAAAAAAAAAAAAAAAAAAAAAAAAAAAAAAAAAAAAAAAAAAAAAAAAAAAAAAAAAAAAAAAAAAAAAAAAAAAAAAAAAAAAAAAAAAAAAAAAAAAAAAAAAAAAAAAAAAAAAAAAAAAAAAAAAAAAAAAAAAAAAAAAAAAAAAAAAAAAAAAAAAAAAAAAAAAAAAAAAAAAAAAAAAAAAAAAAAAAAAAAAAAAAAAAAAAAAAAAAAAAAAAAAAAAAAAAAAAAAAAAAAAAAAAAAAAAAAAAAAAAAAAAAAAAAAAAAAAAAAAAAAAAAAAAAAAAAAAAAAAAAAAAAAAAAAAAAAAAAAAAAAAAAAAAAAAAAAAAAAAAAAAAAAAAAAAAAAAAAAAAAAAAAAAAAAAAAAAAAAAAAAAAAAAAAAAAAAAAAAAAAAAAAAAAAAAAAAAAAAAAAAAAAAAAAAAAAAAAAAAAAAAAAAAAAAAAAAAAAAAAAAAAAAAAAAAAAAAAAAAAAAAAAAAAAAAAAAAAAAAAAAAAAAAAAAAAAAAAAAAAAAAAAAAAAAAAAAAAAAAAAAAAAAAAAAAAAAAAAAAAAAAAAAAAAAAAAAAAAAAAAAAAAAAAAAAAAAAAAAAAAAAAAAAAAAAAAAAAAAAAAAAAAAAAAAAAAAAAAAAAAAAAAAAAAAAAAAAAAAAAAAAAAAAAAAAAAAAAAAAAAAABUUFBQUFAQ/Hh4eHh4eDj8VFBQUFBQUPxoZGRkZGRk/Hh4eHh4eHj8VFBQUFBQkPxoZGRkZGSk/nZubm5ubKz9RUFBQUFAwP9PS0tLS0jI/LpWWlpaWNj8aGRkZGRk5P93c3Nzc3Dw/UVBQUFBQQD/T0tLS0tJCP1ZVVVVVVUU/2NfX19fXRz9bWlpaWlpKP93c3Nzc3Ew/YF9fX19fTz+hoKCgoKBQPzIyMjIyMlI/dHNzc3NzUz8GBQUFBQVVPz2WlpaWllY/KSgoKCgoWD+wCQoKCgpaP+3r6+vr61s/I319fX19XT8QDw8PDw9fP3l4eHh4eGA/amlpaWlpYT9aWlpaWlpiP5ybm5ubm2M/tbS0tLS0ZD+hzc3Nzc1lP7++vr6+vmY/AQAAAAAAaD/7+vr6+vpqPz08PDw8PGw/UX19fX19bT/n5ubm5uZuPxQUFBQUFHA/3dzc3NzccD+SkZGRkZFxPzIyMjIyMnI/6Obm5ubmcj/Ew8PDw8NzP2J4eHh4eHQ/QkFBQUFBdT8LCgoKCgp2P+fm5ubm5nY/rsPDw8PDdz92jIyMjIx4P1VVVVVVVXk/Hh4eHh4eej8kIyMjIyN7P+r//////3s/8fDw8PDwfD/Ozc3Nzc19P9PS0tLS0n4/wdfX19fXfz9kZGRkZGSAP9PS0tLS0oA/dHNzc3NzgT/29fX19fWBP29ubm5uboI/8fDw8PDwgj+Ih4eHh4eDPx4eHh4eHoQ/oKqqqqqqhD84Nzc3NzeFP8PNzc3NzYU/W1paWlpahj/x8PDw8PCGP359fX19fYc/Hx4eHh4eiD+1tLS0tLSIP0xLS0tLS4k/2dfX19fXiT+CjIyMjIyKP1ZVVVVVVYs/9f//////iz+hoKCgoKCMP0FBQUFBQY0/7Ovr6+vrjT+OjIyMjIyOPzc3Nzc3N48/7evr6+vrjz9RUFBQUFCQP6uqqqqqqpA/GhkZGRkZkT9vbm5ubm6RP8TDw8PDw5E/GRkZGRkZkj9+fX19fX2SP9jX19fX15I/ODc3Nzc3kz+cm5ubm5uTPwUFBQUFBZQ/YF9fX19flD+/vr6+vr6UPyMoKCgoKJU/l5aWlpaWlT8BAAAAAACWP2VkZGRkZJY/xMjIyMjIlj89PDw8PDyXP7Cvr6+vr5c/FBQUFBQUmD95eHh4eHiYP+fm5ubm5pg/W1paWlpamT/JyMjIyMiaP2RkZGRkZJs/ycjIyMjImz8oKCgoKCicP42MjIyMjJw/9vr6+vr6nD9aWlpaWlqdP7Gvr6+vr50/CgoKCgoKnj9qaWlpaWmeP8nIyMjIyJ4/Hh4eHh4enz95eHh4eHifP9PX19fX158/oaCgoKAgoD/T0tLS0lKgP4OCgoKCgqA/MzIyMjKyoD/i4eHh4eGgPxQUFBQUFKE/xMPDw8NDoT+DgoKCgoKhP7W0tLS0tKE/aWlpaWnpoT8jIyMjIyOiP1ZVVVVVVaI/jYyMjIyMoj8/QUFBQcGiP4OCgoKCAqM/MDIyMjIyoz9lZGRkZGSjP5eWlpaWlqM/TEtLS0vLoz+Ih4eHhwekP7e5ubm5OaQ/6evr6+trpD8fHh4eHp6kP1paWlpa2qQ/EA8PDw8PpT/Lzc3Nzc2lPwsKCgoKCqY/PTw8PDw8pj9sbm5ubm6mP56goKCgoKY/3dzc3Nzcpj8SFBQUFBSnP0RGRkZGRqc/fn19fX19pz8yMjIyMrKnP2VkZGRk5Kc/FBQUFBQUqD/Lzc3NzU2oP4iHh4eHh6g/urm5ubm5qD/s6+vr6+uoPyMjIyMjI6k/3dzc3NxcqT8UFBQUFJSpP0lLS0tLy6k/g4KCgoICqj+6ubm5uTmqP/Hw8PDwcKo/KCgoKCioqj/i4eHh4eGqPxkZGRkZGas/UVBQUFBQqz+Fh4eHh4erP7u5ubm5uas/bm5ubm7uqz8kIyMjIyOsP+fm5ubmZqw/Hh4eHh6erD/Y19fX19esP42MjIyMDK0/QUFBQUFBrT/39fX19XWtP6yqqqqqqq0/4+Hh4eHhrT8aGRkZGRmuP/z6+vr6+q4/Nzc3Nzc3rz/t6+vr62uvPx8eHh4enq8/1NLS0tLSrz/JyMjIyAiwPyMjIyMjI7A/PDw8PDw8sD9bWlpaWlqwP3Rzc3Nzc7A/zs3Nzc2NsD+mpaWlpaWwP0JBQUFBwbA/YF9fX1/fsD95eHh4ePiwPxQUFBQUFLE/8fDw8PAwsT+NjIyMjEyxPycoKCgoaLE/R0ZGRkaGsT+hoKCgoKCxPz08PDw8vLE/nJubm5vbsT/29fX19fWxPw8PDw8PD7I/LC0tLS0tsj/JyMjIyEiyPyIjIyMjY7I/fn19fX19sj8ZGRkZGZmyP7S0tLS0tLI/zs3Nzc3Nsj+rqqqqquqyP4iHh4eHB7M/IyMjIyMjsz++vr6+vj6zP93c3NzcXLM/ubm5ubl5sz8UFBQUFJSzPzMyMjIysrM/jYyMjIzMsz+rqqqqqiq0P8nIyMjISLQ/4eHh4eFhtD88PDw8PHy0P5eWlpaWlrQ/cnNzc3OztD/Ozc3Nzc20P+fm5ubm5rQ/xMPDw8MDtT+hoKCgoCC1Pzw8PDw8PLU/VlVVVVVVtT+vr6+vr2+1P0xLS0tLi7U/paWlpaWltT+/vr6+vr61P9nX19fX17U/tbS0tLT0tT8PDw8PDw+2P2ppaWlpKbY/BgUFBQVFtj9lZGRkZGS2P7++vr6+frY/2NfX19eXtj83Nzc3N7e2P5KRkZGR0bY/LS0tLS3ttj/JyMjIyAi3P2VkZGRkJLc/AQAAAABAtz+cm5ubm1u3Pzs8PDw8fLc/l5aWlpaWtz90c3Nzc7O3P09QUFBQ0Lc/q6qqqqrqtz8FBQUFBQW4P+Hh4eHhIbg/PDw8PDw8uD/T0tLS0pK4P/Hw8PDwsLg/zs3Nzc3NuD+qqqqqquq4PwUFBQUFBbk/IyMjIyMjuT9+fX19fT25P9jX19fXV7k/9vX19fV1uT+RkZGRkZG5Py8tLS0trbk/RkZGRkbGuT/i4eHh4eG5PwAAAAAAALo/W1paWloauj+2tLS0tDS6P1BQUFBQULo/q6qqqqpquj8GBQUFBYW6P+Lh4eHhobo/wL6+vr6+uj/Z19fX19e6P3Nzc3Nz87o/k5GRkZERuz+sqqqqqiq7P0ZGRkZGRrs/oaCgoKBguz99fX19fX27P9jX19fXl7s/MzIyMjKyuz+SkZGRkdG7P+3r6+vr67s/BAUFBQUFvD/i4eHh4SG8P76+vr6+Prw/2dfX19dXvD8yMjIyMnK8P1JQUFBQkLw/7Ovr6+urvD9HRkZGRsa8PyMjIyMj47w/xMPDw8NDvT/i4eHh4WG9PwAAAAAAgL0/W1paWlqavT83Nzc3N7e9P1ZVVVVV1b0/sa+vr6/vvT9MS0tLSwu+PykoKCgoKL4/goKCgoJCvj8fHh4eHl6+Pzg3Nzc3d74/VlVVVVWVvj8yMjIyMrK+P9DNzc3Nzb4/rKqqqqrqvj+Ih4eHhwe/PyQjIyMjI78/hIKCgoJCvz8eHh4eHl6/P7++vr6+fr8/nZubm5ubvz/29fX19bW/PxYUFBQU1L8/8PDw8PDwvz+mpaWlpQXAP3Rzc3NzE8A/4uHh4eEhwD8PDw8PDy/APzw8PDw8PMA/7Ovr6+tLwD95eHh4eFjAP7q5ubm5ecA/KCgoKCiIwD/Y19fX15fAP0dGRkZGpsA/FBQUFBS0wD+DgoKCgsLAP1FQUFBQ0MA/oaCgoKAAwT8PDw8PDw/BP359fX19HcE/jIyMjIwswT+6ubm5uTnBP+fm5ubmRsE/VlVVVVVVwT8jIyMjI2PBP5KRkZGRccE/YF9fX19/wT/Ozc3NzY3BP52bm5ubm8E/KSgoKCiowT/Z19fX17fBP6alpaWlxcE/VlVVVVXVwT8GBQUFBeXBP9TS0tLS8sE/IyMjIyMDwj/x8PDw8BDCP8C+vr6+HsI/b25ubm4uwj+cm5ubmzvCPykoKCgoSMI/lpaWlpZWwj9lZGRkZGTCPzMyMjIycsI/QkFBQUGBwj+xr6+vr4/CP7++vr6+nsI/Li0tLS2twj/8+vr6+rrCP4iHh4eHx8I/tbS0tLTUwj/Ew8PDw+PCP5ORkZGR8cI/v76+vr7+wj+NjIyMjAzDP1taWlpaGsM/ODc3Nzc3wz+hoKCgoIDDPw8PDw8Pj8M/PTw8PDycwz9qaWlpaanDP3h4eHh4uMM/R0ZGRkbGwz90c3Nzc9PDP4OCgoKC4sM/sa+vr6/vwz/d3Nzc3PzDP6uqqqqqCsQ/WlpaWloaxD8oKCgoKCjEP/b19fX1NcQ/R0ZGRkZGxD+1tLS0tFTEP2VkZGRkZMQ/dHNzc3NzxD+DgoKCgoLEPzMyMjIyksQ/v76+vr6exD/t6+vr66vEPz08PDw8vMQ/TEtLS0vLxD8aGRkZGdnEP4mHh4eH58Q/l5aWlpb2xD8GBQUFBQXFP9TS0tLSEsU/AAAAAAAgxT8uLS0tLS3FP5ybm5ubO8U/CwoKCgpKxT8aGRkZGVnFP4iHh4eHZ8U/l5aWlpZ2xT8FBQUFBYXFP9PS0tLSksU/QkFBQUGhxT9qaWlpacnFP9nX19fX18U/KCgoKCjoxT/29fX19fXFP6alpaWlBcY/c3Nzc3MTxj9CQUFBQSHGP1BQUFBQMMY/Hx4eHh4+xj+NjIyMjEzGP93c3NzcXMY/TEtLS0trxj+6ubm5uXnGPykoKCgoiMY/VlVVVVWVxj/Fw8PDw6PGP3Rzc3Nzs8Y/4uHh4eHBxj/U0tLS0tLGPwAAAAAA4MY/b25ubm7uxj/Avr6+vv7GP87Nzc3NDcc/PTw8PDwcxz9LS0tLSyvHP7q5ubm5Occ/amlpaWlJxz+XlpaWllbHP2VkZGRkZMc/dHNzc3Nzxz+hoKCgoIDHP7Cvr6+vj8c/wL6+vr6exz9MS0tLS6vHP3l4eHh4uMc/iIeHh4fHxz/29fX19dXHPyQjIyMj48c/8fDw8PDwxz8eHh4eHv7HP8rIyMjIKMg/wL6+vr4+yD+NjIyMjEzIP7q5ubm5Wcg/ycjIyMhoyD84Nzc3N3fIP6alpaWlhcg/VlVVVVWVyD/Ew8PDw6PIP7W0tLS0tMg/IyMjIyPDyD+SkZGRkdHIP6GgoKCg4Mg/sK+vr6/vyD9gX19fX//IPy4tLS0tDck/nZubm5sbyT8LCgoKCirJP9nX19fXN8k/R0ZGRkZGyT+XlpaWllbJP6alpaWlZck/mJaWlpZ2yT8GBQUFBYXJP/f19fX1lck/BQUFBQWlyT+1tLS0tLTJP+Ph4eHhwck/sK+vr6/PyT9+fX19fd3JP42MjIyM7Mk/W1paWlr6yT+rqqqqqgrKP3l4eHh4GMo/h4eHh4cnyj+XlpaWljbKP0dGRkZGRso/lpaWlpZWyj8GBQUFBWXKP3Rzc3Nzc8o/4uHh4eGhyj91c3Nzc7PKP4SCgoKCwso/8fDw8PDQyj/k4eHh4eHKPxAPDw8P78o/Hh4eHh7+yj/Ozc3NzQ3LP97c3NzcHMs/7Ovr6+sryz8YGRkZGTnLP4iHh4eHR8s/9vX19fVVyz/Ew8PDw2PLP9TS0tLScss/QkFBQUGByz+wr6+vr4/LP93c3NzcnMs/jIyMjIysyz+cm5ubm7vLP+zr6+vry8s/urm5ubnZyz/KyMjIyOjLP3l4eHh4+Ms/5+bm5uYGzD83Nzc3NxfMP6elpaWlJcw/c3Nzc3MzzD+DgoKCgkLMP7Cvr6+vT8w/v76+vr5ezD/Pzc3NzW3MPz08PDw8fMw/q6qqqqqKzD95eHh4eJjMP0dGRkZGpsw/FBQUFBS0zD9lZGRkZMTMP3Nzc3Nz08w/BgUFBQXlzD+XlpaWlvbMP+Lh4eHhIc0/sK+vr68vzT8eHh4eHj7NPy4tLS0tTc0//Pr6+vpazT9qaWlpaWnNPxoZGRkZec0/iIeHh4eHzT+XlpaWlpbNP6alpaWlpc0/FRQUFBS0zT8FBQUFBcXNPxUUFBQU1M0/BgUFBQXlzT8UFBQUFPTNP2VkZGRkBM4/c3Nzc3MTzj/j4eHh4SHOP/Pw8PDwMM4/v76+vr4+zj8PDw8PD0/OPx8eHh4eXs4/zs3Nzc1tzj/e3Nzc3HzOP+zr6+vri84/nJubm5ubzj8KCgoKCqrOP1taWlpaus4/KSgoKCjIzj9WVVVVVdXOP6alpaWl5c4/1NLS0tLyzj/i4eHh4QHPP5KRkZGREc8/oaCgoKAgzz+xr6+vry/PP319fX19Pc8/jYyMjIxMzz89PDw8PFzPP8nIyMjIiM8/YF9fX1+fzz8QDw8PD6/PP359fX19vc8/7Ovr6+vLzz/8+vr6+trPP8rIyMjI6M8/2tfX19f3zz8VFBQUFATQP0tLS0tLC9A/g4KCgoIS0D9qaWlpaRnQPwEAAAAAINA/2dfX19cn0D8PDw8PDy/QP/b19fX1NdA/LS0tLS090D8UFBQUFETQP0tLS0tLS9A/dHNzc3NT0D9bWlpaWlrQP9PS0tLSYtA/W1paWlpq0D8zMjIyMnLQPwoKCgoKetA/4uHh4eGB0D+6ubm5uYnQP6CgoKCgkNA/eHh4eHiY0D8AAAAAAKDQPzg3Nzc3p9A/EA8PDw+v0D/29fX19bXQPx8eHh4evtA/VlVVVVXF0D88PDw8PMzQP8TDw8PD09A/TEtLS0vb0D+DgoKCguLQP7q5ubm56dA/8vDw8PDw0D9paWlpafnQP0JBQUFBEdE/GhkZGRkZ0T8BAAAAACDRP5eWlpaWJtE/Hx4eHh4u0T+npaWlpTXRP359fX19PdE/tbS0tLRE0T+NjIyMjEzRP2RkZGRkVNE/+/r6+vpa0T/j4eHh4WHRP2ppaWlpadE/oaCgoKBw0T+Ih4eHh3fRP7Cvr6+vf9E/Nzc3NzeH0T+/vr6+vo7RP/b19fX1ldE/LS0tLS2d0T9WVVVVVaXRP93c3NzcrNE/VlVVVVW10T9HRkZGRsbRP6GgoKCg0NE/iIeHh4fX0T++vr6+vt7RP/b19fX15dE/fn19fX3t0T8FBQUFBfXRP42MjIyM/NE/tbS0tLQE0j/s6+vr6wvSP8TDw8PDE9I/7Ovr6+sb0j8jIyMjIyPSP1taWlpaKtI/QkFBQUEx0j8oKCgoKDjSPwEAAAAAUNI/amlpaWlZ0j/i4eHh4WHSPxkZGRkZadI/QkFBQUFx0j8oKCgoKHjSP1FQUFBQgNI/2NfX19eH0j9gX19fX4/SP5iWlpaWltI/Hh4eHh6e0j+XlpaWlqbSP87Nzc3NrdI/9/X19fW10j99fX19fb3SPwUFBQUFxdI/7Ovr6+vL0j/T0tLS0tLSP0xLS0tL29I/g4KCgoLi0j+rqqqqqurSP+Ph4eHh8dI/amlpaWn50j+SkZGRkQHTPxoZGRkZCdM/QkFBQUER0z8oKCgoKBjTPw8PDw8PH9M/5+bm5uYm0z8eHh4eHi7TP5eWlpaWNtM/fn19fX090z+1tLS0tETTPz08PDw8TNM/xMPDw8NT0z+NjIyMjFzTPxQUFBQUZNM/PTw8PDxs0z8VFBQUFHTTPz08PDw8fNM/oaCgoKCQ0z9aWlpaWprTP+Lh4eHhodM/amlpaWmp0z/y8PDw8LDTP3h4eHh4uNM/AAAAAADA0z8oKCgoKMjTPxAPDw8Pz9M/6Obm5ubW0z9vbm5ubt7TP/f19fX15dM/Li0tLS3t0z+1tLS0tPTTP42MjIyM/NM/ZWRkZGQE1D/d3Nzc3AzUP8XDw8PDE9Q/S0tLS0sb1D8jIyMjIyPUPwsKCgoKKtQ/4+Hh4eEx1D/JyMjIyDjUP6GgoKCgQNQ/KSgoKChI1D+wr6+vr0/UPygoKCgoWNQ/sK+vr69f1D8pKCgoKGjUP2BfX19fb9Q/6Obm5uZ21D8fHh4eHn7UP6alpaWlhdQ/Hh4eHh6O1D/n5ubm5pbUP29ubm5untQ/VlVVVVWl1D8uLS0tLa3UP2VkZGRktNQ/jYyMjIy81D/Ew8PDw8PUP+zr6+vr29Q/1NLS0tLi1D8KCgoKCurUP+Lh4eHh8dQ/amlpaWn51D+hoKCgoADVP2ppaWlpCdU/8fDw8PAQ1T95eHh4eBjVP19fX19fH9U/l5aWlpYm1T8fHh4eHi7VP6WlpaWlNdU/z83Nzc091T9VVVVVVUXVP93c3NzcTNU/ZWRkZGRU1T+cm5ubm1vVPyQjIyMjY9U/q6qqqqpq1T+SkZGRkXHVP2ppaWlpedU/8vDw8PCA1T+6ubm5uYnVP0JBQUFBkdU/GhkZGRmZ1T9RUFBQUKDVPxoZGRkZqdU/AQAAAACw1T+Ih4eHh7fVPw8PDw8Pv9U/R0ZGRkbG1T8fHh4eHs7VP1VVVVVV1dU/Hx4eHh7e1T+npaWlpeXVP29ubm5u7tU/9vX19fX11T/d3Nzc3PzVP2VkZGRkBNY/urm5ubkZ1j9lZGRkZCTWP+zr6+vrK9Y/ZWRkZGQ01j+bm5ubmzvWP8XDw8PDQ9Y/S0tLS0tL1j/Fw8PDw1PWP/v6+vr6WtY/g4KCgoJi1j+qqqqqqmrWP4KCgoKCctY/rKqqqqp61j8yMjIyMoLWP6uqqqqqitY/MzIyMjKS1j/7+vr6+prWPzMyMjIyotY/W1paWlqq1j8zMjIyMrLWP6uqqqqqutY/MjIyMjLC1j/8+vr6+srWPzMyMjIy0tY/W1paWlra1j/i4eHh4eHWPwoKCgoK6tY/4uHh4eHx1j8ZGRkZGfnWP6GgoKCgANc/ycjIyMgI1z9RUFBQUBDXP9nX19fXF9c/UFBQUFAg1z95eHh4eCjXP6GgoKCgMNc/KSgoKCg41z+hoKCgoEDXP2ppaWlpSdc/8fDw8PBQ1z8pKCgoKFjXP4OCgoKCctc/S0tLS0t71z+DgoKCgoLXP5ybm5ubi9c/dHNzc3OT1z/8+vr6+prXP9PS0tLSotc/+/r6+vqq1z/T0tLS0rLXP0xLS0tLu9c/1NLS0tLC1z9LS0tLS8vXP4OCgoKC0tc/+/r6+vra1z8zMjIyMuLXP7q5ubm56dc/QkFBQUHx1z95eHh4ePjXP0JBQUFBAdg/KSgoKCgI2D+hoKCgoBDYPygoKCgoGNg/UVBQUFAg2D/Y19fX1yfYPwEAAAAAMNg/eXh4eHg42D+SkZGRkUHYP3l4eHh4SNg/kpGRkZFR2D/JyMjIyFjYP1BQUFBQYNg/2NfX19dn2D9gX19fX2/YP4iHh4eHd9g/EA8PDw9/2D84Nzc3N4fYPx8eHh4ejtg/l5aWlpaW2D8eHh4eHp7YP0dGRkZGptg/fn19fX292D/Y19fX18fYP7Cvr6+vz9g/2NfX19fX2D9RUFBQUODYPykoKCgo6Ng/AQAAAADw2D/Z19fX1/fYP2BfX19f/9g/6Obm5uYG2T9vbm5ubg7ZP+fm5ubmFtk/wL6+vr4e2T+Ih4eHhyfZPxAPDw8PL9k/iYeHh4c32T9vbm5ubj7ZP5eWlpaWRtk/Hx4eHh5O2T+RkZGRkXHZP2lpaWlpedk/g4KCgoKC2T8LCgoKCorZP4KCgoKCktk/WlpaWlqa2T+SkZGRkaHZPxoZGRkZqdk/QkFBQUGx2T/KyMjIyLjZPwAAAAAAwNk/KSgoKCjI2T9RUFBQUNDZP8nIyMjI2Nk/8fDw8PDg2T/JyMjIyOjZP6GgoKCg8Nk/GhkZGRn52T8AAAAAAADaP3p4eHh4CNo/UVBQUFAQ2j/JyMjIyBjaP7++vr6+Lto/CgoKCgo62j/U0tLS0kLaP1taWlpaSto/IyMjIyNT2j9bWlpaWlraP9PS0tLSYto/CwoKCgpq2j/j4eHh4XHaP2tpaWlpedo/oaCgoKCA2j/KyMjIyIjaP/Lw8PDwkNo/urm5ubmZ2j+SkZGRkaHaP7q5ubm5qdo/MzIyMjKy2j+7ubm5ubnaP5ORkZGRwdo/CwoKCgrK2j+SkZGRkdHaP7q5ubm52do/MjIyMjLi2j8KCgoKCuraPzMyMjIy8to/a2lpaWn52j9DQUFBQQHbP2lpaWlpCds/UVBQUFAQ2z8ZGRkZGRnbP1FQUFBQINs/ycjIyMgo2z9SUFBQUDDbP3h4eHh4ONs/UFBQUFBA2z8aGRkZGUnbP6GgoKCgUNs/ycjIyMhY2z9RUFBQUGDbP8nIyMjIaNs/AQAAAACA2z+Ih4eHh4fbPwAAAAAAkNs/KCgoKCiY2z8AAAAAAKDbP3l4eHh4qNs/UVBQUFCw2z8ZGRkZGbnbP6GgoKCgwNs/ycjIyMjI2z8MCgoKCtrbP7e0tLS05Ns/PTw8PDzs2z+1tLS0tPTbP+zr6+vr+9s/ZGRkZGQE3D+OjIyMjAzcP1ZVVVVVFdw/LS0tLS0d3D/39fX19SXcPx8eHh4eLtw/R0ZGRkY23D9ubm5ubj7cP0ZGRkZGRtw/fn19fX1N3D/29fX19VXcP7++vr6+Xtw/iYeHh4dn3D+hoKCgoHDcP3h4eHh4eNw/8vDw8PCA3D/KyMjIyIjcP0NBQUFBkdw/u7m5ubmZ3D+TkZGRkaHcP1taWlpaqtw/4uHh4eGx3D+sqqqqqrrcP4SCgoKCwtw/ODc3NzfX3D9CQUFBQeHcPxkZGRkZ6dw/k5GRkZHx3D/JyMjIyPjcP0JBQUFBAd0/ycjIyMgI3T+hoKCgoBDdP9jX19fXF90/oqCgoKAg3T/Y19fX1yfdP1JQUFBQMN0/2NfX19c33T+hoKCgoEDdPykoKCgoSN0/oaCgoKBQ3T/JyMjIyFjdP5KRkZGRYd0/GhkZGRlp3T9CQUFBQXHdP2ppaWlped0/4+Hh4eGB3T8ZGRkZGYndP0NBQUFBkd0/GxkZGRmZ3T/i4eHh4aHdP2ppaWlpqd0/4uHh4eGx3T9cWlpaWrrdP+Lh4eHhwd0/q6qqqqrK3T/V0tLS0tLdP52bm5ub290/dHNzc3Pj3T/s6+vr6+vdPxQUFBQU9N0/PTw8PDz83T90c3NzcwPeP/z6+vr6Ct4/09LS0tIS3j/Y19fX1yfePyQjIyMjM94/nJubm5s73j/Ew8PDw0PePz08PDw8TN4/ZWRkZGRU3j9/fX19fV3eP6elpaWlZd4/fn19fX1t3j+mpaWlpXXePy4tLS0tfd4/FBQUFBSE3j/e3Nzc3IzeP7a0tLS0lN4/z83Nzc2d3j+npaWlpaXePx8eHh4ert4/9/X19fW13j/Ozc3Nzb3eP0ZGRkZGxt4/cG5ubm7O3j/29fX19dXePx8eHh4e3t4/5+bm5ubm3j8PDw8PD+/eP8rIyMjI+N4/8vDw8PAA3z8aGRkZGQnfP6KgoKCgEN8/KSgoKCgY3z+hoKCgoCDfP3l4eHh4KN8/UVBQUFAw3z95eHh4eDjfP0JBQUFBQd8/urm5ublJ3z/T0tLS0lLfP/36+vr6Wt8/dXNzc3Nj3z9NS0tLS2vfP8bDw8PDg98/nZubm5uL3z9lZGRkZJTfP399fX19nd8/BwUFBQWl3z/e3Nzc3KzfP7a0tLS0tN8/zs3Nzc293z+mpaWlpcXfPx8eHh4ezt8/l5aWlpbW3z9hX19fX9/fPzg3Nzc3598/EA8PDw/v3z+Ih4eHh/ffP7Kvr6+v/98/",
          "dtype": "f8"
         },
         "xaxis": "x",
         "y": {
          "bdata": "8zGpUWh1NT833iiayxA2PzfeKJrLEDY/N94omssQNj833iiayxA2PzfeKJrLEDY/N94omssQNj833iiayxA2P5Zh9vaP6z8/lmH29o/rPz+WYfb2j+s/P5Zh9vaP6z8/lmH29o/rPz+WYfb2j+s/P0mpgHjPx0M/SamAeM/HQz9JqYB4z8dDP0mpgHjPx0M/SamAeM/HQz9JqYB4z8dDP0mpgHjPx0M/HvNGwF4VRj8e80bAXhVGPx7zRsBeFUY/HvNGwF4VRj8e80bAXhVGPx7zRsBeFUY/GgNKNv9iRz8aA0o2/2JHPxoDSjb/Ykc/GgNKNv9iRz8aA0o2/2JHPxoDSjb/Ykc/GgNKNv9iRz8i4UNKvsdEPyLhQ0q+x0Q/IuFDSr7HRD8i4UNKvsdEPyLhQ0q+x0Q/IuFDSr7HRD+NFyOsTsNCP40XI6xOw0I/jRcjrE7DQj+NFyOsTsNCP40XI6xOw0I/jRcjrE7DQj+NFyOsTsNCP7PdX9pfw0E/s91f2l/DQT+z3V/aX8NBP7PdX9pfw0E/s91f2l/DQT+z3V/aX8NBPzCxOujc3kA/MLE66NzeQD8wsTro3N5APzCxOujc3kA/MLE66NzeQD8wsTro3N5AP6OWOu9UGT8/o5Y671QZPz+jljrvVBk/P6OWOu9UGT8/o5Y671QZPz+jljrvVBk/P2R1ataqGTo/ZHVq1qoZOj9kdWrWqhk6P2R1ataqGTo/ZHVq1qoZOj9kdWrWqhk6P2R1ataqGTo/7txebWKsMz/u3F5tYqwzP+7cXm1irDM/7txebWKsMz/u3F5tYqwzP+7cXm1irDM/dOkwRmo1JT906TBGajUlP3TpMEZqNSU/dOkwRmo1JT906TBGajUlP3TpMEZqNSU/7PBLmLYiGz/s8EuYtiIbP+zwS5i2Ihs/7PBLmLYiGz/s8EuYtiIbP+zwS5i2Ihs/7PBLmLYiGz/k5pzsl2wgP+TmnOyXbCA/5Oac7JdsID/k5pzsl2wgP+TmnOyXbCA/5Oac7JdsID/k5pzsl2wgP7gcO7eiax4/uBw7t6JrHj+4HDu3omseP7gcO7eiax4/uBw7t6JrHj+4HDu3omsePxFxM+iytRA/EXEz6LK1ED8RcTPosrUQPxFxM+iytRA/EXEz6LK1ED8RcTPosrUQPxFxM+iytRA/EXEz6LK1ED9On2jYq0fqvk6faNirR+q+Tp9o2KtH6r5On2jYq0fqvk6faNirR+q+Tp9o2KtH6r6r5oyu98chv6vmjK73xyG/q+aMrvfHIb+r5oyu98chv6vmjK73xyG/q+aMrvfHIb+r5oyu98chv2X8pxrhWSe/ZfynGuFZJ7/COSCZkMcnv8I5IJmQxye/wjkgmZDHJ7/COSCZkMcnv8I5IJmQxye/wjkgmZDHJ78BHZvTJVojvwEdm9MlWiO/AR2b0yVaI78BHZvTJVojvwEdm9MlWiO/AR2b0yVaI78BHZvTJVojvwRIILMtbBe/BEggsy1sF78ESCCzLWwXvwRIILMtbBe/BEggsy1sF78ESCCzLWwXvwRIILMtbBe/I6od90dHHL8jqh33R0ccvyOqHfdHRxy/I6od90dHHL8jqh33R0ccvyOqHfdHRxy/I6od90dHHL/vY5yxmOwgv+9jnLGY7CC/72OcsZjsIL/vY5yxmOwgv+9jnLGY7CC/72OcsZjsIL/vY5yxmOwgv5cemYZ5/ia/lx6Zhnn+Jr+XHpmGef4mv5cemYZ5/ia/lx6Zhnn+Jr+XHpmGef4mv5UPpICIoi6/lQ+kgIiiLr+VD6SAiKIuv5UPpICIoi6/lQ+kgIiiLr+VD6SAiKIuv5UPpICIoi6/qZpf9jgaMr+pml/2OBoyv6maX/Y4GjK/qZpf9jgaMr+pml/2OBoyv6maX/Y4GjK/qZpf9jgaMr+pml/2OBoyv5KFIeq0hzW/koUh6rSHNb+ShSHqtIc1v5KFIeq0hzW/koUh6rSHNb+ShSHqtIc1v5KFIeq0hzW/CB4tU/30O78IHi1T/fQ7vwgeLVP99Du/CB4tU/30O78IHi1T/fQ7vwgeLVP99Du/CB4tU/30O79lH1kMNDFAv2UfWQw0MUC/ZR9ZDDQxQL9lH1kMNDFAv2UfWQw0MUC/ZR9ZDDQxQL+4PvphQJpBv7g++mFAmkG/uD76YUCaQb+4PvphQJpBv7g++mFAmkG/uD76YUCaQb+4PvphQJpBvwtem7dMA0O/C16bt0wDQ78LXpu3TANDvwtem7dMA0O/C16bt0wDQ78LXpu3TANDv0neQGFsTEO/Sd5AYWxMQ79J3kBhbExDv0neQGFsTEO/Sd5AYWxMQ79J3kBhbExDv0neQGFsTEO/Sd5AYWxMQ79J3kBhbExDv0neQGFsTEO/Sd5AYWxMQ79J3kBhbExDv0neQGFsTEO/Sd5AYWxMQ7+g695A2GdDv6Dr3kDYZ0O/oOveQNhnQ7+g695A2GdDv6Dr3kDYZ0O/oOveQNhnQ7+zUP3X4OdCv7NQ/dfg50K/s1D91+DnQr+zUP3X4OdCv7NQ/dfg50K/s1D91+DnQr+zUP3X4OdCv5J6vTMvmkK/knq9My+aQr+Ser0zL5pCv5J6vTMvmkK/knq9My+aQr+Ser0zL5pCv5J6vTMvmkK/r14AToE1RL+vXgBOgTVEv69eAE6BNUS/r14AToE1RL+vXgBOgTVEv69eAE6BNUS/r14AToE1RL/uHIMMhR5Gv+4cgwyFHka/7hyDDIUeRr/uHIMMhR5Gv+4cgwyFHka/7hyDDIUeRr91N6WIZ7VFv3U3pYhntUW/dTeliGe1Rb91N6WIZ7VFv3U3pYhntUW/dTeliGe1Rb91N6WIZ7VFv0YqIezwOUa/Rioh7PA5Rr9GKiHs8DlGv0YqIezwOUa/Rioh7PA5Rr9GKiHs8DlGv0YqIezwOUa/27dkdXyeRr/bt2R1fJ5Gv9u3ZHV8nka/27dkdXyeRr/bt2R1fJ5Gv9u3ZHV8nka/27dkdXyeRr/bt2R1fJ5Gv2MSZAZD1Ue/YxJkBkPVR79jEmQGQ9VHv2MSZAZD1Ue/YxJkBkPVR79jEmQGQ9VHv/StqgVvh0m/9K2qBW+HSb/0raoFb4dJv/StqgVvh0m/9K2qBW+HSb/0raoFb4dJv+FKjG5mB0q/4UqMbmYHSr/hSoxuZgdKv+FKjG5mB0q/4UqMbmYHSr/hSoxuZgdKv+FKjG5mB0q/77+tew/VSr/vv617D9VKv++/rXsP1Uq/77+tew/VSr/vv617D9VKv++/rXsP1Uq/S71I5dqiSb9LvUjl2qJJv0u9SOXaokm/S71I5dqiSb9LvUjl2qJJv0u9SOXaokm/S71I5dqiSb8CIcwSGFVKvwIhzBIYVUq/AiHMEhhVSr8CIcwSGFVKvwIhzBIYVUq/AiHMEhhVSr+Z7Oywh1lMv5ns7LCHWUy/mezssIdZTL+Z7Oywh1lMv5ns7LCHWUy/mezssIdZTL+oYQ6+MCdNv6hhDr4wJ02/qGEOvjAnTb+oYQ6+MCdNv6hhDr4wJ02/qGEOvjAnTb+oYQ6+MCdNv8o3TmLidE2/yjdOYuJ0Tb/KN05i4nRNv8o3TmLidE2/yjdOYuJ0Tb/KN05i4nRNvw7kzapFEE6/DuTNqkUQTr8O5M2qRRBOvw7kzapFEE6/DuTNqkUQTr8O5M2qRRBOv6NxETTRdE6/o3ERNNF0Tr+jcRE00XROv6NxETTRdE6/o3ERNNF0Tr+jcRE00XROv6NxETTRdE6/xkVR2ILCTr/GRVHYgsJOv8ZFUdiCwk6/xkVR2ILCTr/GRVHYgsJOv8ZFUdiCwk6/V/qaWw1IUL9X+ppbDUhQv1f6mlsNSFC/V/qaWw1IUL9X+ppbDUhQv1f6mlsNSFC/EXWLWGwjUb8RdYtYbCNRvxF1i1hsI1G/EXWLWGwjUb8RdYtYbCNRvxF1i1hsI1G/EXWLWGwjUb/M73tVy/5Rv8zve1XL/lG/zO97Vcv+Ub/M73tVy/5Rv8zve1XL/lG/zO97Vcv+Ub8NhY7ODHFSvw2Fjs4McVK/DYWOzgxxUr8NhY7ODHFSvw2Fjs4McVK/DYWOzgxxUr/Kd32Qm6VSv8p3fZCbpVK/ynd9kJulUr/Kd32Qm6VSv8p3fZCbpVK/ynd9kJulUr+UPh9V4ddSv5Q+H1Xh11K/lD4fVeHXUr+UPh9V4ddSv5Q+H1Xh11K/lD4fVeHXUr+UPh9V4ddSv0K+7AnHPlK/Qr7sCcc+Ur9CvuwJxz5Sv0K+7AnHPlK/Qr7sCcc+Ur9CvuwJxz5Sv7oEXIPy11G/ugRcg/LXUb+6BFyD8tdRv7oEXIPy11G/ugRcg/LXUb+6BFyD8tdRv7oEXIPy11G/vXtaSCIxUb+9e1pIIjFRv717WkgiMVG/vXtaSCIxUb+9e1pIIjFRv717WkgiMVG/E+yJHZx8UL8T7IkdnHxQvxPsiR2cfFC/E+yJHZx8UL8T7IkdnHxQvxPsiR2cfFC/8RZKeeouUL/xFkp56i5Qv/EWSnnqLlC/8RZKeeouUL/xFkp56i5Qv/EWSnnqLlC/LMoQxZerT78syhDFl6tPvyzKEMWXq0+/LMoQxZerT78syhDFl6tPvyzKEMWXq0+/LMoQxZerT7+y5DJBekJPv7LkMkF6Qk+/suQyQXpCT7+y5DJBekJPv7LkMkF6Qk+/suQyQXpCT7/UuHLlK5BPv9S4cuUrkE+/1Lhy5SuQT7/UuHLlK5BPv9S4cuUrkE+/1Lhy5SuQT7+ffxSqccJPv59/FKpxwk+/n38UqnHCT7+ffxSqccJPv59/FKpxwk+/n38UqnHCT7+ffxSqccJPv3jP2v++lVC/eM/a/76VUL94z9r/vpVQv3jP2v++lVC/eM/a/76VUL94z9r/vpVQvyJfqypFSlG/Il+rKkVKUb8iX6sqRUpRvyJfqypFSlG/Il+rKkVKUb8iX6sqRUpRvyJfqypFSlG/Zmy8aLYVUb9mbLxothVRv2ZsvGi2FVG/Zmy8aLYVUb9mbLxothVRv2ZsvGi2FVG/VIKclt3uUL9UgpyW3e5Qv1SCnJbd7lC/VIKclt3uUL9UgpyW3e5Qv1SCnJbd7lC/751LtLrVUL/vnUu0utVQv++dS7S61VC/751LtLrVUL/vnUu0utVQv++dS7S61VC/751LtLrVUL/vnUu0utVQv++dS7S61VC/751LtLrVUL/vnUu0utVQv++dS7S61VC/751LtLrVUL8k16nvdKNQvyTXqe90o1C/JNep73SjUL8k16nvdKNQvyTXqe90o1C/JNep73SjUL8k16nvdKNQv/EWSnnqLlC/W9OUYQ4nT79b05RhDidPv1vTlGEOJ0+/W9OUYQ4nT79b05RhDidPv+GIaYNKp0u/4Yhpg0qnS7/hiGmDSqdLv+GIaYNKp0u/4Yhpg0qnS78r9v1GGrFBvyv2/UYasUG/K/b9RhqxQb8r9v1GGrFBv/r8K1CwIg2/+vwrULAiDb/6/CtQsCINv/r8K1CwIg2/+vwrULAiDb+rQbuktctNP6tBu6S1y00/q0G7pLXLTT+rQbuktctNP6Ub1LF9VWQ/pRvUsX1VZD+lG9SxfVVkP6Ub1LF9VWQ/pRvUsX1VZD99RKHXZ3xzP31EoddnfHM/fUSh12d8cz99RKHXZ3xzP31EoddnfHM/hc2XqVGGgD+FzZepUYaAP4XNl6lRhoA/hc2XqVGGgD+NDzgGKjeJP40POAYqN4k/jQ84Bio3iT+NDzgGKjeJP9YCYVfv/ZE/1gJhV+/9kT/WAmFX7/2RP9YCYVfv/ZE/sMT911tymD+wxP3XW3KYP7DE/ddbcpg/sMT911tymD+wxP3XW3KYP732mr6T1Z8/vfaavpPVnz+99pq+k9WfP732mr6T1Z8/vfaavpPVnz/fpXm0qPmjP9+lebSo+aM/36V5tKj5oz/fpXm0qPmjPz1cAShwVKg/PVwBKHBUqD89XAEocFSoPz1cAShwVKg/PVwBKHBUqD9WELJhCT+tP1YQsmEJP60/VhCyYQk/rT9WELJhCT+tPzFNDNnAgbE/MU0M2cCBsT8xTQzZwIGxPzFNDNnAgbE/MU0M2cCBsT+vXSpNYuG0P69dKk1i4bQ/r10qTWLhtD+vXSpNYuG0P69dKk1i4bQ/qZXMIWufuD+plcwha5+4P6mVzCFrn7g/qZXMIWufuD/lAMFgAaa8P+UAwWABprw/5QDBYAGmvD/lAMFgAaa8P+UAwWABprw/A6QLgbmawD8DpAuBuZrAPwOkC4G5msA/A6QLgbmawD+5lub8HjbDP7mW5vweNsM/uZbm/B42wz+5lub8HjbDP7mW5vweNsM/iuLEXKcuxj+K4sRcpy7GP4rixFynLsY/iuLEXKcuxj8y0bvnIbHJPzLRu+chsck/MtG75yGxyT8y0bvnIbHJPzLRu+chsck/Kr9uKqG5zT8qv24qobnNPyq/biqhuc0/Kr9uKqG5zT/RS+GecxTRP9FL4Z5zFNE/0UvhnnMU0T8fyVaupK3TPx/JVq6krdM/H8lWrqSt0z8fyVaupK3TP+4bRQcyoNY/7htFBzKg1j/uG0UHMqDWP+4bRQcyoNY/7htFBzKg1j/isz8VDsjZP+KzPxUOyNk/4rM/FQ7I2T/isz8VDsjZP+KzPxUOyNk/Vj3r7LVQ3T9WPevstVDdP1Y96+y1UN0/Vj3r7LVQ3T9WPevstVDdP/18JNoNfOA//Xwk2g184D/9fCTaDXzgP/18JNoNfOA//Xwk2g184D9TiupKkVjiP1OK6kqRWOI/U4rqSpFY4j9TiupKkVjiPyxND9MGWuQ/LE0P0wZa5D8sTQ/TBlrkPyxND9MGWuQ/LE0P0wZa5D8arHIrAlrmPxqscisCWuY/GqxyKwJa5j8arHIrAlrmP9kKccJEdug/2QpxwkR26D/IWDYkRKDqP8hYNiREoOo/yFg2JESg6j/IWDYkRKDqP8hYNiREoOo/e4OyApmr7D97g7ICmavsP3uDsgKZq+w/e4OyApmr7D87RQKGVq3uPztFAoZWre4/O0UChlat7j87RQKGVq3uPztFAoZWre4/mboPl7AX8D+Zug+XsBfwP5m6D5ewF/A/mboPl7AX8D+Zug+XsBfwP8wpZg9Zf/A/zClmD1l/8D/MKWYPWX/wP8wpZg9Zf/A/DkGCEqC48D8OQYISoLjwPw5BghKguPA/DkGCEqC48D/0k/1sqtnwP/ST/Wyq2fA/9JP9bKrZ8D/0k/1sqtnwP/ST/Wyq2fA/TPCHw5kW8T9M8IfDmRbxP0zwh8OZFvE/TPCHw5kW8T8HsTGxTXXxPwexMbFNdfE/B7ExsU118T8HsTGxTXXxPw2rKRJz4PE/DaspEnPg8T+Cymjv7G7yP4LKaO/sbvI/gspo7+xu8j+Cymjv7G7yP4LKaO/sbvI/hco1dLMV8z+FyjV0sxXzP4XKNXSzFfM/hco1dLMV8z+yAZ3lrfDzP7IBneWt8PM/sgGd5a3w8z+yAZ3lrfDzP7IBneWt8PM/jf4oOMLz9D+N/ig4wvP0P43+KDjC8/Q/jf4oOMLz9D9CAz9EqOX1P0IDP0So5fU/QgM/RKjl9T9CAz9EqOX1P1vB/xt52PY/W8H/G3nY9j9bwf8bedj2P1vB/xt52PY/W8H/G3nY9j8ZawemqLz3PxlrB6aovPc/GWsHpqi89z8ZawemqLz3P7oT6FQPlPg/uhPoVA+U+D+6E+hUD5T4P7oT6FQPlPg/uhPoVA+U+D8i31v+SXT5PyLfW/5JdPk/It9b/kl0+T9zeESTj0L6P3N4RJOPQvo/c3hEk49C+j+faxTPwhH7P59rFM/CEfs/n2sUz8IR+z+faxTPwhH7P59rFM/CEfs/ZBHgbELb+z9kEeBsQtv7P2QR4GxC2/s/ZBHgbELb+z/ytLFDapD8P/K0sUNqkPw/8rSxQ2qQ/D/ytLFDapD8P/K0sUNqkPw/L1LgQS1S/T8vUuBBLVL9Py9S4EEtUv0/L1LgQS1S/T/VaeMJlA7+P9Vp4wmUDv4/1WnjCZQO/j/VaeMJlA7+P9Vp4wmUDv4/7LdzI7/O/j/st3Mjv87+P+y3cyO/zv4/7LdzI7/O/j9dEwWzEpn/P10TBbMSmf8/XRMFsxKZ/z9dEwWzEpn/P3vTto4TJwBAe9O2jhMnAEB707aOEycAQHvTto4TJwBAe9O2jhMnAECDdGyNyYQAQIN0bI3JhABAeYXfbDDiAEB5hd9sMOIAQHmF32ww4gBAeYXfbDDiAEBnxw6nTzoBQGfHDqdPOgFAZ8cOp086AUBnxw6nTzoBQGfHDqdPOgFAxj9Kph6aAUDGP0qmHpoBQMY/SqYemgFAxj9Kph6aAUCCGmQmTfABQIIaZCZN8AFAghpkJk3wAUCCGmQmTfABQIIaZCZN8AFAmXO/K/xCAkCZc78r/EICQJlzvyv8QgJAmXO/K/xCAkCvEN8DTZgCQK8Q3wNNmAJArxDfA02YAkCvEN8DTZgCQK8Q3wNNmAJANyZdjl3lAkA3Jl2OXeUCQDcmXY5d5QJANyZdjl3lAkBXrAUavzgDQFesBRq/OANAV6wFGr84A0BXrAUavzgDQFesBRq/OANA1aJ9YoaHA0DVon1ihocDQNWifWKGhwNA9K4RKujOA0D0rhEq6M4DQPSuESrozgNAb+LA8YkaBEBv4sDxiRoEQG/iwPGJGgRAb+LA8YkaBECetMB3OV0EQJ60wHc5XQRAnrTAdzldBECetMB3OV0EQJ60wHc5XQRAVI/eKbqjBEBUj94puqMEQFSP3im6owRAVI/eKbqjBEA9jSI/2OoEQD2NIj/Y6gRAPY0iP9jqBEA9jSI/2OoEQLkxEhbSKAVAuTESFtIoBUC5MRIW0igFQLkxEhbSKAVARSQfvOVtBUBFJB+85W0FQEUkH7zlbQVARSQfvOVtBUBFJB+85W0FQB3bqeoorQVAHdup6iitBUAd26nqKK0FQLXQLkqz6wVAtdAuSrPrBUC10C5Ks+sFQLXQLkqz6wVAtUIn9k0uBkC1Qif2TS4GQA8Jt97eZAZADwm33t5kBkAPCbfe3mQGQA8Jt97eZAZAbK7z2MqgBkBsrvPYyqAGQGyu89jKoAZAbK7z2MqgBkBsrvPYyqAGQCDgYpQ93gZAIOBilD3eBkAg4GKUPd4GQCDgYpQ93gZAnYSoc5oZB0CdhKhzmhkHQJ2EqHOaGQdAnYSoc5oZB0ANH7yo3l4HQA0fvKjeXgdADR+8qN5eB0ANH7yo3l4HQFWg2ySemQdAVaDbJJ6ZB0BVoNsknpkHQFWg2ySemQdAVaDbJJ6ZB0D0J3Hc59AHQPQncdzn0AdA9Cdx3OfQB0D0J3Hc59AHQN+I2UCmBghA34jZQKYGCEDfiNlApgYIQN+I2UCmBghAMa9rx8MvCEAxr2vHwy8IQDGva8fDLwhAMa9rx8MvCEAxr2vHwy8IQLIG6mjTXwhAsgbqaNNfCED4h+KSM4wIQPkKSn/GtQhA+QpKf8a1CED5Ckp/xrUIQPkKSn/GtQhA+QpKf8a1CEDae0bUSeoIQNp7RtRJ6ghA2ntG1EnqCEDae0bUSeoIQPSheeQpGAlA9KF55CkYCUD0oXnkKRgJQPSheeQpGAlAZqZA1f5JCUBmpkDV/kkJQGamQNX+SQlAZqZA1f5JCUA/3KhfZnsJQD/cqF9mewlAP9yoX2Z7CUA/3KhfZnsJQD/cqF9mewlAHvQOY0CdCUAe9A5jQJ0JQB70DmNAnQlAHvQOY0CdCUBTOqJ4iLUJQFM6oniItQlAUzqieIi1CUBTOqJ4iLUJQHGnwVeZyglAcafBV5nKCUBxp8FXmcoJQHGnwVeZyglAzjxHQbPpCUDOPEdBs+kJQM48R0Gz6QlAzjxHQbPpCUDSiYWORxgKQNKJhY5HGApA0omFjkcYCkBtXJkJ1U4KQG1cmQnVTgpAbVyZCdVOCkBtXJkJ1U4KQJlWe+oZigpAmVZ76hmKCkCZVnvqGYoKQJlWe+oZigpAHrXc51O9CkAetdznU70KQB613OdTvQpAHrXc51O9CkAetdznU70KQJGda1i55wpAkZ1rWLnnCkCRnWtYuecKQJGda1i55wpAzPEW/GYTC0DM8Rb8ZhMLQMzxFvxmEwtAzPEW/GYTC0CHfam09y4LQId9qbT3LgtAh32ptPcuC0CHfam09y4LQHvTRsAVTAtAe9NGwBVMC0B700bAFUwLQHvTRsAVTAtAzF5GEN1vC0DMXkYQ3W8LQMxeRhDdbwtAzF5GEN1vC0DMXkYQ3W8LQPU1uz53kwtA9TW7PneTC0D1Nbs+d5MLQPiXTrBQxgtA+JdOsFDGC0D4l06wUMYLQE49ZFjd8wtATj1kWN3zC0BOPWRY3fMLQE49ZFjd8wtA0PJsZ2wbDEDQ8mxnbBsMQNDybGdsGwxA0PJsZ2wbDEAUCBVs+EkMQBQIFWz4SQxAFAgVbPhJDEAUCBVs+EkMQNwz0AqucQxA3DPQCq5xDEDcM9AKrnEMQNwz0AqucQxA3DPQCq5xDECPGhs9kp0MQI8aGz2SnQxAjxobPZKdDEDodAgqPskMQOh0CCo+yQxA6HQIKj7JDEDodAgqPskMQDL0t9mU6QxAMvS32ZTpDEAy9LfZlOkMQDL0t9mU6QxAMvS32ZTpDEAVmWnPWw4NQBWZac9bDg1AFZlpz1sODUAVmWnPWw4NQDoZZqKkLA1AOhlmoqQsDUA6GWaipCwNQDoZZqKkLA1A9bI/n55KDUD1sj+fnkoNQNsTAj4Sbg1A2xMCPhJuDUDbEwI+Em4NQNsTAj4Sbg1A+lEx4rGIDUD6UTHisYgNQPpRMeKxiA1A+lEx4rGIDUBW54tHGqkNQFbni0caqQ1AVueLRxqpDUBW54tHGqkNQISpq1FvyA1AhKmrUW/IDUCEqatRb8gNQISpq1FvyA1ApOChkYHiDUCk4KGRgeINQKTgoZGB4g1ApOChkYHiDUCZDt7OHgMOQJkO3s4eAw5AmQ7ezh4DDkCZDt7OHgMOQC2PbQoxGQ5ALY9tCjEZDkAtj20KMRkOQC2PbQoxGQ5ALY9tCjEZDkDGeVbHHi4OQMZ5VsceLg5AxnlWxx4uDkDGeVbHHi4OQBOLbNeXRA5AE4ts15dEDkATi2zXl0QOQBOLbNeXRA5AZmQ7UrpSDkBmZDtSulIOQAqrNkwaZA5ACqs2TBpkDkAKqzZMGmQOQAqrNkwaZA5AWenzHPtoDkBZ6fMc+2gOQFnp8xz7aA5AWenzHPtoDkCSOUC061sOQJI5QLTrWw5AkjlAtOtbDkCSOUC061sOQLT3BOTVMg5AtPcE5NUyDkC09wTk1TIOQLT3BOTVMg5AXjLXIgjJDUBeMtciCMkNQF4y1yIIyQ1AXjLXIgjJDUB8vO6oNgoNQHy87qg2Cg1AfLzuqDYKDUB8vO6oNgoNQEEqYBJG3AtAQSpgEkbcC0BBKmASRtwLQEEqYBJG3AtA+yxwoE9KCkD7LHCgT0oKQPsscKBPSgpA+yxwoE9KCkD7LHCgT0oKQI5ul8cVZwhAjm6XxxVnCECObpfHFWcIQI5ul8cVZwhAqpMm7vhjBkCqkybu+GMGQDcNwC7HhwRANw3ALseHBEA3DcAux4cEQITANABVxwJAhMA0AFXHAkCEwDQAVccCQITANABVxwJAtnsAo14WAUC2ewCjXhYBQLZ7AKNeFgFAtnsAo14WAUC2ewCjXhYBQOxLVnkkKv4/7EtWeSQq/j/sS1Z5JCr+P+xLVnkkKv4/1GO9tvFv+T/UY7228W/5P9Rjvbbxb/k/1GO9tvFv+T8CPrOpthf1PwI+s6m2F/U/Aj6zqbYX9T8CPrOpthf1PxuoJMnUk/E/G6gkydST8T8bqCTJ1JPxPxuoJMnUk/E/BlIs2eAB7z8GUizZ4AHvPwZSLNngAe8/BlIs2eAB7z/yoeVTluTsP/Kh5VOW5Ow/8qHlU5bk7D/yoeVTluTsP8snjNDEUuk/yyeM0MRS6T/LJ4zQxFLpP8snjNDEUuk//K/7/chb5D/8r/v9yFvkP/zYYS0sjN4//NhhLSyM3j/82GEtLIzeP/zYYS0sjN4/IZZyJxxf1T8hlnInHF/VPyGWciccX9U/IZZyJxxf1T/0nyN13V/QP/SfI3XdX9A/9J8jdd1f0D/0nyN13V/QP/SfI3XdX9A/gsAhrGUyzT+CwCGsZTLNP4LAIaxlMs0/gsAhrGUyzT8ehyI4NAXLPx6HIjg0Bcs/HociODQFyz8ehyI4NAXLPy3gFJZma8k/LeAUlmZryT+tEsJ0IC7IP60SwnQgLsg/rRLCdCAuyD+tEsJ0IC7IP/OAZKifKcc/84BkqJ8pxz/zgGSonynHP/OAZKifKcc/M5p9wCE+xj8zmn3AIT7GPzOafcAhPsY/M5p9wCE+xj/FeS4l2WnFP8V5LiXZacU/xXkuJdlpxT/FeS4l2WnFP5pJJ2rLncQ/mkknasudxD9+04+81M7DP37Tj7zUzsM/ftOPvNTOwz9+04+81M7DP/8i0WRiA8M//yLRZGIDwz//ItFkYgPDP/8i0WRiA8M/G3ALpms1wj8bcAumazXCPxtwC6ZrNcI/G3ALpms1wj838xh+EGXBPzfzGH4QZcE/N/MYfhBlwT838xh+EGXBP+nmJdNUnMA/6eYl01ScwD/p5iXTVJzAP+nmJdNUnMA/oSwQBR7Fvz+hLBAFHsW/P6EsEAUexb8/oSwQBR7Fvz953SfU4Iq+P3ndJ9Tgir4/ed0n1OCKvj953SfU4Iq+P+Co3M07gb0/4KjczTuBvT/gqNzNO4G9P+Co3M07gb0/gG8jdF2cvD+AbyN0XZy8P4BvI3RdnLw/gG8jdF2cvD8EaD6Xqti7PwRoPpeq2Ls/BGg+l6rYuz91tqYILh27P3W2pgguHbs/dbamCC4duz/TGLbrnXS6P9MYtuuddLo/0xi26510uj/TGLbrnXS6P8oaiOlD17k/yhqI6UPXuT/KGojpQ9e5P8oaiOlD17k/c1FPC/M5uT9zUU8L8zm5P3NRTwvzObk/c1FPC/M5uT/uIH7Nc6a4P+4gfs1zprg/7iB+zXOmuD/uIH7Nc6a4P62xMdKYF7g/rbEx0pgXuD+tsTHSmBe4P62xMdKYF7g/rbEx0pgXuD8p0xOKmJO3PynTE4qYk7c/KdMTipiTtz9UCJh3/BS3P1QImHf8FLc/VAiYd/wUtz9UCJh3/BS3PyV0XjXFkrY/JXReNcWStj8ldF41xZK2PyV0XjXFkrY/L9nJeCkPtj8v2cl4KQ+2Py/ZyXgpD7Y/L9nJeCkPtj+/botLV4W1P79ui0tXhbU/Qdlzlo0FtT9B2XOWjQW1P0HZc5aNBbU/Qdlzlo0FtT/LqELT3Zu0P8uoQtPdm7Q/y6hC092btD/LqELT3Zu0P4aP46AIP7Q/ho/joAg/tD+Gj+OgCD+0P4aP46AIP7Q/WNBwUanwsz9Y0HBRqfCzP1jQcFGp8LM/WNBwUanwsz9Y0HBRqfCzP2od1oOAp7M/ah3Wg4Cnsz9qHdaDgKezP2od1oOAp7M/09VyqsVasz/T1XKqxVqzP9PVcqrFWrM/d+U6ktMTsz935TqS0xOzP3flOpLTE7M/d+U6ktMTsz+IaHNbRsiyP4hoc1tGyLI/iGhzW0bIsj+IaHNbRsiyP4hoc1tGyLI/ZKezX4t9sj9kp7Nfi32yP2Sns1+LfbI/7vmVmTQ4sj/u+ZWZNDiyP+75lZk0OLI/KIFt9+bysT8ogW335vKxPyiBbffm8rE/MiLTy5i1sT8yItPLmLWxPzIi08uYtbE/MiLTy5i1sT/DPJXCSnaxP8M8lcJKdrE/wzyVwkp2sT/DPJXCSnaxP+2FYJxqNLE/7YVgnGo0sT/thWCcajSxP+2FYJxqNLE/CZuli0rxsD8Jm6WLSvGwPwmbpYtK8bA/CZuli0rxsD++Hk2OhqSwP74eTY6GpLA/vh5NjoaksD/up3GYlFuwP+6ncZiUW7A/7qdxmJRbsD/up3GYlFuwP2dx9A4ZGbA/Z3H0DhkZsD9ncfQOGRmwP2dx9A4ZGbA/H50ydgO4rz8fnTJ2A7ivPx+dMnYDuK8/H50ydgO4rz+WFk+jZGKvP5YWT6NkYq8/lhZPo2Rirz+WFk+jZGKvP7CXOsB7Gq8/sJc6wHsarz+wlzrAexqvP36roTzJ2a4/fquhPMnZrj/dynEBhJ+uP93KcQGEn64/3cpxAYSfrj/dynEBhJ+uPwjVvOG/VK4/CNW84b9Urj8I1bzhv1SuPwjVvOG/VK4/EFpCV44Frj8QWkJXjgWuPxBaQleOBa4/EFpCV44Frj8hrBoZJ6WtPyGsGhknpa0/IawaGSelrT8hrBoZJ6WtPzCL7PabOq0/MIvs9ps6rT8wi+z2mzqtPzCL7PabOq0/ucZhYSPMrD+5xmFhI8ysP7nGYWEjzKw/ucZhYSPMrD8rCL7QvVKsPysIvtC9Uqw/Kwi+0L1SrD8VzCPFoOKrPxXMI8Wg4qs/FcwjxaDiqz8VzCPFoOKrPxIilt/weqs/EiKW3/B6qz8SIpbf8HqrPxIilt/weqs/8PmiRcAdqz/w+aJFwB2rP/D5okXAHas/ugaqCyHOqj+6BqoLIc6qP7oGqgshzqo/XwM/95OAqj9fAz/3k4CqP18DP/eTgKo/XwM/95OAqj+ZbOlJBy2qP5ls6UkHLao/mWzpSQctqj+ZbOlJBy2qP2jllj2f2Kk/aOWWPZ/YqT9o5ZY9n9ipP+O/X4mTdqk/479fiZN2qT/jv1+Jk3apP+O/X4mTdqk/wCIZX+MSqT9E/eGq17CoP0T94arXsKg/RP3hqtewqD8HPs/gqDioPwc+z+CoOKg/Bz7P4Kg4qD8HPs/gqDioP8noFZhVv6c/yegVmFW/pz/J6BWYVb+nP8noFZhVv6c/RiglW5RJpz9GKCVblEmnP0YoJVuUSac/RiglW5RJpz/W7kY1nNSmP9buRjWc1KY/1u5GNZzUpj/W7kY1nNSmP1LHwtQ0dqY/UsfC1DR2pj9Sx8LUNHamP5u9ZkOEGKY/m71mQ4QYpj8+gO7E1KqlPz6A7sTUqqU/PoDuxNSqpT8+gO7E1KqlPwO/jk5KNqU/A7+OTko2pT8Dv45OSjalPwO/jk5KNqU/xGsislK5pD/EayKyUrmkP8RrIrJSuaQ/xGsislK5pD/lF0fckT2kP+UXR9yRPaQ/5RdH3JE9pD/lF0fckT2kP2bpYsU90KM/ZulixT3Qoz9m6WLFPdCjP2bpYsU90KM/4cMrETJuoz/hwysRMm6jP+HDKxEybqM/ICQpAV0Poz8gJCkBXQ+jPyAkKQFdD6M/ICQpAV0Poz93qozpvb2iP3eqjOm9vaI/d6qM6b29oj93qozpvb2iP4ObuIzDaaI/g5u4jMNpoj+Dm7iMw2miP4ObuIzDaaI/1flo0JIOoj/V+WjQkg6iP6NnHLWGsqE/o2cctYayoT+jZxy1hrKhP6NnHLWGsqE/srtBI3tOoT+yu0Eje06hP7K7QSN7TqE/srtBI3tOoT+OIEilJuegP44gSKUm56A/jiBIpSbnoD8L+cNEv4igPwv5w0S/iKA/C/nDRL+IoD+e96XcjTegP573pdyNN6A/nvel3I03oD8MxxgqTL6fPwzHGCpMvp8/DMcYKky+nz8MxxgqTL6fP3Ve57M23Z4/dV7nszbdnj91XuezNt2eP3Ve57M23Z4/tm/c4pLBnT+2b9ziksGdP7Zv3OKSwZ0/tm/c4pLBnT8aMFfYqlycPxowV9iqXJw/GjBX2KpcnD/V5GiFVfGaP9XkaIVV8Zo/1eRohVXxmj/V5GiFVfGaPz/OD9HYr5k/P84P0divmT8/zg/R2K+ZPz/OD9HYr5k/KuZaPhGImD8q5lo+EYiYPwE4sxVsgJc/ATizFWyAlz8BOLMVbICXPxudQyXqjJY/G51DJeqMlj8bnUMl6oyWPxudQyXqjJY/5jFWya+wlT/mMVbJr7CVP+YxVsmvsJU/5jFWya+wlT9v+/0LTv6UP2/7/QtO/pQ/b/v9C07+lD9v+/0LTv6UP6r0J+MzY5Q/qvQn4zNjlD+q9CfjM2OUP6r0J+MzY5Q/3gxY/GLGkz/eDFj8YsaTP94MWPxixpM/3gxY/GLGkz9a7PNcSSOTP1rs81xJI5M/WuzzXEkjkz+f08NunnGSP5/Tw26ecZI/n9PDbp5xkj+f08NunnGSPza415rOxJE/NrjXms7EkT82uNeazsSRPza415rOxJE/RXspn5AekT9FeymfkB6RP0V7KZ+QHpE/RXspn5AekT+ddLg3L2eQPxw0jlzmR48/HDSOXOZHjz8cNI5c5kePPxw0jlzmR48/cJHPkXCfjT9wkc+RcJ+NP3CRz5Fwn40/cJHPkXCfjT/6/a6mZhKMP/r9rqZmEow/+v2upmYSjD/6/a6mZhKMPw6R/iujrYo/DpH+K6Otij8Okf4ro62KP1I7IEK6VYk/UjsgQrpViT9SOyBCulWJP1I7IEK6VYk/SIjK0DwfiD9IiMrQPB+IP0iIytA8H4g/SIjK0DwfiD/jcurNmfeGP+Ny6s2Z94Y/43LqzZn3hj+j40jnPe6FP6PjSOc97oU/o+NI5z3uhT+j40jnPe6FP6lRIZhLIoU/qVEhmEsihT+pUSGYSyKFP6lRIZhLIoU/hsylxRE+hD+GzKXFET6EP4bMpcURPoQ/hsylxRE+hD+GbmTmj0mDP6mrphI1MII/qaumEjUwgj+pq6YSNTCCP6mrphI1MII/i7pEHSX9gD+LukQdJf2AP4u6RB0l/YA/i7pEHSX9gD8kOIUwEBSAPyQ4hTAQFIA/JDiFMBAUgD8JXCMlGXN+PwlcIyUZc34/CVwjJRlzfj8JXCMlGXN+PwG07I5Z1Hw/",
          "dtype": "f8"
         },
         "yaxis": "y"
        }
       ],
       "layout": {
        "legend": {
         "tracegroupgap": 0
        },
        "template": {
         "data": {
          "bar": [
           {
            "error_x": {
             "color": "#2a3f5f"
            },
            "error_y": {
             "color": "#2a3f5f"
            },
            "marker": {
             "line": {
              "color": "#E5ECF6",
              "width": 0.5
             },
             "pattern": {
              "fillmode": "overlay",
              "size": 10,
              "solidity": 0.2
             }
            },
            "type": "bar"
           }
          ],
          "barpolar": [
           {
            "marker": {
             "line": {
              "color": "#E5ECF6",
              "width": 0.5
             },
             "pattern": {
              "fillmode": "overlay",
              "size": 10,
              "solidity": 0.2
             }
            },
            "type": "barpolar"
           }
          ],
          "carpet": [
           {
            "aaxis": {
             "endlinecolor": "#2a3f5f",
             "gridcolor": "white",
             "linecolor": "white",
             "minorgridcolor": "white",
             "startlinecolor": "#2a3f5f"
            },
            "baxis": {
             "endlinecolor": "#2a3f5f",
             "gridcolor": "white",
             "linecolor": "white",
             "minorgridcolor": "white",
             "startlinecolor": "#2a3f5f"
            },
            "type": "carpet"
           }
          ],
          "choropleth": [
           {
            "colorbar": {
             "outlinewidth": 0,
             "ticks": ""
            },
            "type": "choropleth"
           }
          ],
          "contour": [
           {
            "colorbar": {
             "outlinewidth": 0,
             "ticks": ""
            },
            "colorscale": [
             [
              0,
              "#0d0887"
             ],
             [
              0.1111111111111111,
              "#46039f"
             ],
             [
              0.2222222222222222,
              "#7201a8"
             ],
             [
              0.3333333333333333,
              "#9c179e"
             ],
             [
              0.4444444444444444,
              "#bd3786"
             ],
             [
              0.5555555555555556,
              "#d8576b"
             ],
             [
              0.6666666666666666,
              "#ed7953"
             ],
             [
              0.7777777777777778,
              "#fb9f3a"
             ],
             [
              0.8888888888888888,
              "#fdca26"
             ],
             [
              1,
              "#f0f921"
             ]
            ],
            "type": "contour"
           }
          ],
          "contourcarpet": [
           {
            "colorbar": {
             "outlinewidth": 0,
             "ticks": ""
            },
            "type": "contourcarpet"
           }
          ],
          "heatmap": [
           {
            "colorbar": {
             "outlinewidth": 0,
             "ticks": ""
            },
            "colorscale": [
             [
              0,
              "#0d0887"
             ],
             [
              0.1111111111111111,
              "#46039f"
             ],
             [
              0.2222222222222222,
              "#7201a8"
             ],
             [
              0.3333333333333333,
              "#9c179e"
             ],
             [
              0.4444444444444444,
              "#bd3786"
             ],
             [
              0.5555555555555556,
              "#d8576b"
             ],
             [
              0.6666666666666666,
              "#ed7953"
             ],
             [
              0.7777777777777778,
              "#fb9f3a"
             ],
             [
              0.8888888888888888,
              "#fdca26"
             ],
             [
              1,
              "#f0f921"
             ]
            ],
            "type": "heatmap"
           }
          ],
          "histogram": [
           {
            "marker": {
             "pattern": {
              "fillmode": "overlay",
              "size": 10,
              "solidity": 0.2
             }
            },
            "type": "histogram"
           }
          ],
          "histogram2d": [
           {
            "colorbar": {
             "outlinewidth": 0,
             "ticks": ""
            },
            "colorscale": [
             [
              0,
              "#0d0887"
             ],
             [
              0.1111111111111111,
              "#46039f"
             ],
             [
              0.2222222222222222,
              "#7201a8"
             ],
             [
              0.3333333333333333,
              "#9c179e"
             ],
             [
              0.4444444444444444,
              "#bd3786"
             ],
             [
              0.5555555555555556,
              "#d8576b"
             ],
             [
              0.6666666666666666,
              "#ed7953"
             ],
             [
              0.7777777777777778,
              "#fb9f3a"
             ],
             [
              0.8888888888888888,
              "#fdca26"
             ],
             [
              1,
              "#f0f921"
             ]
            ],
            "type": "histogram2d"
           }
          ],
          "histogram2dcontour": [
           {
            "colorbar": {
             "outlinewidth": 0,
             "ticks": ""
            },
            "colorscale": [
             [
              0,
              "#0d0887"
             ],
             [
              0.1111111111111111,
              "#46039f"
             ],
             [
              0.2222222222222222,
              "#7201a8"
             ],
             [
              0.3333333333333333,
              "#9c179e"
             ],
             [
              0.4444444444444444,
              "#bd3786"
             ],
             [
              0.5555555555555556,
              "#d8576b"
             ],
             [
              0.6666666666666666,
              "#ed7953"
             ],
             [
              0.7777777777777778,
              "#fb9f3a"
             ],
             [
              0.8888888888888888,
              "#fdca26"
             ],
             [
              1,
              "#f0f921"
             ]
            ],
            "type": "histogram2dcontour"
           }
          ],
          "mesh3d": [
           {
            "colorbar": {
             "outlinewidth": 0,
             "ticks": ""
            },
            "type": "mesh3d"
           }
          ],
          "parcoords": [
           {
            "line": {
             "colorbar": {
              "outlinewidth": 0,
              "ticks": ""
             }
            },
            "type": "parcoords"
           }
          ],
          "pie": [
           {
            "automargin": true,
            "type": "pie"
           }
          ],
          "scatter": [
           {
            "fillpattern": {
             "fillmode": "overlay",
             "size": 10,
             "solidity": 0.2
            },
            "type": "scatter"
           }
          ],
          "scatter3d": [
           {
            "line": {
             "colorbar": {
              "outlinewidth": 0,
              "ticks": ""
             }
            },
            "marker": {
             "colorbar": {
              "outlinewidth": 0,
              "ticks": ""
             }
            },
            "type": "scatter3d"
           }
          ],
          "scattercarpet": [
           {
            "marker": {
             "colorbar": {
              "outlinewidth": 0,
              "ticks": ""
             }
            },
            "type": "scattercarpet"
           }
          ],
          "scattergeo": [
           {
            "marker": {
             "colorbar": {
              "outlinewidth": 0,
              "ticks": ""
             }
            },
            "type": "scattergeo"
           }
          ],
          "scattergl": [
           {
            "marker": {
             "colorbar": {
              "outlinewidth": 0,
              "ticks": ""
             }
            },
            "type": "scattergl"
           }
          ],
          "scattermap": [
           {
            "marker": {
             "colorbar": {
              "outlinewidth": 0,
              "ticks": ""
             }
            },
            "type": "scattermap"
           }
          ],
          "scattermapbox": [
           {
            "marker": {
             "colorbar": {
              "outlinewidth": 0,
              "ticks": ""
             }
            },
            "type": "scattermapbox"
           }
          ],
          "scatterpolar": [
           {
            "marker": {
             "colorbar": {
              "outlinewidth": 0,
              "ticks": ""
             }
            },
            "type": "scatterpolar"
           }
          ],
          "scatterpolargl": [
           {
            "marker": {
             "colorbar": {
              "outlinewidth": 0,
              "ticks": ""
             }
            },
            "type": "scatterpolargl"
           }
          ],
          "scatterternary": [
           {
            "marker": {
             "colorbar": {
              "outlinewidth": 0,
              "ticks": ""
             }
            },
            "type": "scatterternary"
           }
          ],
          "surface": [
           {
            "colorbar": {
             "outlinewidth": 0,
             "ticks": ""
            },
            "colorscale": [
             [
              0,
              "#0d0887"
             ],
             [
              0.1111111111111111,
              "#46039f"
             ],
             [
              0.2222222222222222,
              "#7201a8"
             ],
             [
              0.3333333333333333,
              "#9c179e"
             ],
             [
              0.4444444444444444,
              "#bd3786"
             ],
             [
              0.5555555555555556,
              "#d8576b"
             ],
             [
              0.6666666666666666,
              "#ed7953"
             ],
             [
              0.7777777777777778,
              "#fb9f3a"
             ],
             [
              0.8888888888888888,
              "#fdca26"
             ],
             [
              1,
              "#f0f921"
             ]
            ],
            "type": "surface"
           }
          ],
          "table": [
           {
            "cells": {
             "fill": {
              "color": "#EBF0F8"
             },
             "line": {
              "color": "white"
             }
            },
            "header": {
             "fill": {
              "color": "#C8D4E3"
             },
             "line": {
              "color": "white"
             }
            },
            "type": "table"
           }
          ]
         },
         "layout": {
          "annotationdefaults": {
           "arrowcolor": "#2a3f5f",
           "arrowhead": 0,
           "arrowwidth": 1
          },
          "autotypenumbers": "strict",
          "coloraxis": {
           "colorbar": {
            "outlinewidth": 0,
            "ticks": ""
           }
          },
          "colorscale": {
           "diverging": [
            [
             0,
             "#8e0152"
            ],
            [
             0.1,
             "#c51b7d"
            ],
            [
             0.2,
             "#de77ae"
            ],
            [
             0.3,
             "#f1b6da"
            ],
            [
             0.4,
             "#fde0ef"
            ],
            [
             0.5,
             "#f7f7f7"
            ],
            [
             0.6,
             "#e6f5d0"
            ],
            [
             0.7,
             "#b8e186"
            ],
            [
             0.8,
             "#7fbc41"
            ],
            [
             0.9,
             "#4d9221"
            ],
            [
             1,
             "#276419"
            ]
           ],
           "sequential": [
            [
             0,
             "#0d0887"
            ],
            [
             0.1111111111111111,
             "#46039f"
            ],
            [
             0.2222222222222222,
             "#7201a8"
            ],
            [
             0.3333333333333333,
             "#9c179e"
            ],
            [
             0.4444444444444444,
             "#bd3786"
            ],
            [
             0.5555555555555556,
             "#d8576b"
            ],
            [
             0.6666666666666666,
             "#ed7953"
            ],
            [
             0.7777777777777778,
             "#fb9f3a"
            ],
            [
             0.8888888888888888,
             "#fdca26"
            ],
            [
             1,
             "#f0f921"
            ]
           ],
           "sequentialminus": [
            [
             0,
             "#0d0887"
            ],
            [
             0.1111111111111111,
             "#46039f"
            ],
            [
             0.2222222222222222,
             "#7201a8"
            ],
            [
             0.3333333333333333,
             "#9c179e"
            ],
            [
             0.4444444444444444,
             "#bd3786"
            ],
            [
             0.5555555555555556,
             "#d8576b"
            ],
            [
             0.6666666666666666,
             "#ed7953"
            ],
            [
             0.7777777777777778,
             "#fb9f3a"
            ],
            [
             0.8888888888888888,
             "#fdca26"
            ],
            [
             1,
             "#f0f921"
            ]
           ]
          },
          "colorway": [
           "#636efa",
           "#EF553B",
           "#00cc96",
           "#ab63fa",
           "#FFA15A",
           "#19d3f3",
           "#FF6692",
           "#B6E880",
           "#FF97FF",
           "#FECB52"
          ],
          "font": {
           "color": "#2a3f5f"
          },
          "geo": {
           "bgcolor": "white",
           "lakecolor": "white",
           "landcolor": "#E5ECF6",
           "showlakes": true,
           "showland": true,
           "subunitcolor": "white"
          },
          "hoverlabel": {
           "align": "left"
          },
          "hovermode": "closest",
          "mapbox": {
           "style": "light"
          },
          "paper_bgcolor": "white",
          "plot_bgcolor": "#E5ECF6",
          "polar": {
           "angularaxis": {
            "gridcolor": "white",
            "linecolor": "white",
            "ticks": ""
           },
           "bgcolor": "#E5ECF6",
           "radialaxis": {
            "gridcolor": "white",
            "linecolor": "white",
            "ticks": ""
           }
          },
          "scene": {
           "xaxis": {
            "backgroundcolor": "#E5ECF6",
            "gridcolor": "white",
            "gridwidth": 2,
            "linecolor": "white",
            "showbackground": true,
            "ticks": "",
            "zerolinecolor": "white"
           },
           "yaxis": {
            "backgroundcolor": "#E5ECF6",
            "gridcolor": "white",
            "gridwidth": 2,
            "linecolor": "white",
            "showbackground": true,
            "ticks": "",
            "zerolinecolor": "white"
           },
           "zaxis": {
            "backgroundcolor": "#E5ECF6",
            "gridcolor": "white",
            "gridwidth": 2,
            "linecolor": "white",
            "showbackground": true,
            "ticks": "",
            "zerolinecolor": "white"
           }
          },
          "shapedefaults": {
           "line": {
            "color": "#2a3f5f"
           }
          },
          "ternary": {
           "aaxis": {
            "gridcolor": "white",
            "linecolor": "white",
            "ticks": ""
           },
           "baxis": {
            "gridcolor": "white",
            "linecolor": "white",
            "ticks": ""
           },
           "bgcolor": "#E5ECF6",
           "caxis": {
            "gridcolor": "white",
            "linecolor": "white",
            "ticks": ""
           }
          },
          "title": {
           "x": 0.05
          },
          "xaxis": {
           "automargin": true,
           "gridcolor": "white",
           "linecolor": "white",
           "ticks": "",
           "title": {
            "standoff": 15
           },
           "zerolinecolor": "white",
           "zerolinewidth": 2
          },
          "yaxis": {
           "automargin": true,
           "gridcolor": "white",
           "linecolor": "white",
           "ticks": "",
           "title": {
            "standoff": 15
           },
           "zerolinecolor": "white",
           "zerolinewidth": 2
          }
         }
        },
        "title": {
         "text": "Stress / Strain of tensile_tests/04.03.25_BslA.csv"
        },
        "xaxis": {
         "anchor": "y",
         "domain": [
          0,
          1
         ],
         "title": {
          "text": "Strain (%)"
         }
        },
        "yaxis": {
         "anchor": "x",
         "domain": [
          0,
          1
         ],
         "title": {
          "text": "Stress (MPa)"
         }
        }
       }
      }
     },
     "metadata": {},
     "output_type": "display_data"
    }
   ],
   "source": [
    "blsa_filtered_df = calculate_stress_strain(\n",
    "    filename=blsa_filename,\n",
    "    df=blsa_df,\n",
    "    width=4.5,\n",
    "    thickness=0.4,\n",
    "    total_length=5.1,\n",
    "    init_distance=0,\n",
    "    final_distance=1.174,\n",
    ")\n"
   ]
  },
  {
   "cell_type": "code",
   "execution_count": 57,
   "id": "6a088382",
   "metadata": {},
   "outputs": [
    {
     "name": "stdout",
     "output_type": "stream",
     "text": [
      "Failure Strain 0.2326 Peak Stress (MPa) 3.7940\n",
      "Young's Modulus 16.3134 MPa\n",
      "Total Toughness: 0.607112 J/m^3\n"
     ]
    },
    {
     "name": "stderr",
     "output_type": "stream",
     "text": [
      "/var/folders/_t/vlf4bw_n38x9ytx94_479wt80000gp/T/ipykernel_24667/155169248.py:57: SettingWithCopyWarning:\n",
      "\n",
      "\n",
      "A value is trying to be set on a copy of a slice from a DataFrame.\n",
      "Try using .loc[row_indexer,col_indexer] = value instead\n",
      "\n",
      "See the caveats in the documentation: https://pandas.pydata.org/pandas-docs/stable/user_guide/indexing.html#returning-a-view-versus-a-copy\n",
      "\n",
      "/var/folders/_t/vlf4bw_n38x9ytx94_479wt80000gp/T/ipykernel_24667/155169248.py:64: SettingWithCopyWarning:\n",
      "\n",
      "\n",
      "A value is trying to be set on a copy of a slice from a DataFrame.\n",
      "Try using .loc[row_indexer,col_indexer] = value instead\n",
      "\n",
      "See the caveats in the documentation: https://pandas.pydata.org/pandas-docs/stable/user_guide/indexing.html#returning-a-view-versus-a-copy\n",
      "\n",
      "/var/folders/_t/vlf4bw_n38x9ytx94_479wt80000gp/T/ipykernel_24667/155169248.py:69: FutureWarning:\n",
      "\n",
      "A value is trying to be set on a copy of a DataFrame or Series through chained assignment using an inplace method.\n",
      "The behavior will change in pandas 3.0. This inplace method will never work because the intermediate object on which we are setting values always behaves as a copy.\n",
      "\n",
      "For example, when doing 'df[col].method(value, inplace=True)', try using 'df.method({col: value}, inplace=True)' or df[col] = df[col].method(value) instead, to perform the operation inplace on the original object.\n",
      "\n",
      "\n",
      "\n",
      "/var/folders/_t/vlf4bw_n38x9ytx94_479wt80000gp/T/ipykernel_24667/155169248.py:69: SettingWithCopyWarning:\n",
      "\n",
      "\n",
      "A value is trying to be set on a copy of a slice from a DataFrame\n",
      "\n",
      "See the caveats in the documentation: https://pandas.pydata.org/pandas-docs/stable/user_guide/indexing.html#returning-a-view-versus-a-copy\n",
      "\n"
     ]
    }
   ],
   "source": [
    "calculate_youngs_modulus(blsa_filtered_df, final_strain=0.23257, final_stress=3.794)"
   ]
  },
  {
   "cell_type": "markdown",
   "id": "72db6a76",
   "metadata": {},
   "source": [
    "# Wildtype Young's Modulus Calculation\n"
   ]
  },
  {
   "cell_type": "code",
   "execution_count": 58,
   "id": "ee46d2bc",
   "metadata": {},
   "outputs": [
    {
     "data": {
      "application/vnd.plotly.v1+json": {
       "config": {
        "plotlyServerURL": "https://plot.ly"
       },
       "data": [
        {
         "hovertemplate": "Distance (millimeters)=%{x}<br>Force (Newtons)=%{y}<extra></extra>",
         "legendgroup": "",
         "line": {
          "color": "#636efa",
          "dash": "solid"
         },
         "marker": {
          "symbol": "circle"
         },
         "mode": "lines",
         "name": "",
         "showlegend": false,
         "type": "scattergl",
         "x": {
          "bdata": "AAAAAAAAAAAAAAAAAAAAAAAAAAAAAAAAAAAAAAAAAAAAAAAAAAAAAAAAAAAAAAAAAAAAAAAAAAAAAAAAAAAAAAAAAAAAAAAAAAAAAAAAAAAAAAAAAAAAAAAAAAAAAAAAAAAAAAAAAAAAAAAAAAAAAAAAAAAAAAAAAAAAAAAAAAAAAAAAAAAAAAAAAAAAAAAAAAAAAAAAAAAAAAAAAAAAAAAAAAAAAAAAAAAAAAAAAAAAAAAAAAAAAAAAAAAAAAAAAAAAAAAAAAAAAAAAAAAAAAAAAAAAAAAAAAAAAAAAAAAAAAAAAAAAAAAAAAAAAAAAAAAAAAAAAAAAAAAAAAAAAAAAAAAAAAAAAAAAAAAAAAAAAAAAAAAAAAAAAAAAAAAAAAAAAAAAAAAAAAAAAAAAAAAAAAAAAAAAAAAAAAAAAAAAAAAAAAAAAAAAAAAAAAAAAAAAAAAAAAAAAAAAAAAAAAAAAAAAAAAAAAAAAAAAAAAAAAAAAAAAAAAAAAAAAAAAAAAAAAAAAAAAAAAAAAAAAAAAAAAAAAAAAAAAAAAAAAAAAAAAAAAAAAAAAAAAAAAAAAAAAAAAAAAAAAAAAAAAAAAAAAAAAAAAAAAAAAAAAAAAAAAAAAAAAAAAAAAAAAAAAAAAAAAAAAAAAAAAAAAAAAAAAAAAAAAAAAAAAAAAAAAAAAAAAAAAAAAAAAAAAAAAAAAAAAAAAAAAAAAAAAAAAAAAAAAAAAAAAAAAAAAAAAAAAAAAAAAAAAAAAAAAAAAAAAAAAAAAAAAAAAAAAAAAAAAAAAAAAAAAAAAAAAAAAAAAAAAAAAAAAAAAAAAAAAAAAAAAAAAAAAAAAAAAAAAAAAAAAAAAAAAAAAAAAAAAAAAAAAAAAAAAAAAAAAAAAAAAAAAAAAAAAAAAAAAAAAAAAAAAAAAAAAAAAAAAAAAAAAAAAAAAAAAAAAAAAAAAAAAAAAAAAAAAAAAAAAAAAAAAAAAAAAAAAAAAAAAAAAAAAAAAAAAAAAAAAAAAAAAAAAAAAAAAAAAAAAAAAAAAAAAAAAAAAAAAAAAAAAAAAAAAAAAAAAAAAAAAAAAAAAAAAAAAAAAAAAAAAAAAAAAAAAAAAAAAAAAAAAAAAAAAAAAAAAAAAAAAAAAAAAAAAAAAAAAAAAAAAAAAAAAAAAAAAAAAAAAAAAAAAAAAAAAAAAAAAAAAAAAAAAAAAAAAAAAAAAAAAAAAAAAAAAAAAAAAAAAAAAAAAAAAAAAAAAAAAAAAAAAAAAAAAAAAAAAAAAAAAAAAAAAAAAAAAAAAAAAAAAAAAAAAAAAAAAAAAAAAAAAAAAAAAAAAAAAAAAAAAAAAAAAAAAAAAAAAAAAAAAAAAAAAAAAAAAAAAAAAAAAAAAAAAAAAAAAAAAAAAAAAAAAAAAAAAAAAAAAAAAAAAAAAAAAAAAAAAAAAAAAAAAAAAAAAAAAAAAAAAAAAAAAAAAAAAAAAAAAAAAAAAAAAAAAAAAAAAAAAAAAAAAAAAAAAAAAAAAAAAAAAAAAAAAAAAAAAAAAAAAAAAAAAAAAAAAAAAAAAAAAAAAAAAAAAAAAAAAAAAAAAAAAAAAAAAAAAAAAAAAAAAAAAAAAAAAAAAAAAAAAAAAAAAAAAAAAAAAAAAAAAAAAAAAAAAAAAAAAAAAAAAAAAAAAAAAAAAAAAAAAAAAAAAAAAAAAAAAAAAAAAAAAAAAAAAAAAAAAAAAAAAAAAAAAAAAAAAAAAAAAAAAAAAAAAAAAAAAAAAAAAAAAAAAAAAAAAAAAAAAAAAAAAAAAAAAAAAAAAAAAAAAAAAAAAAAAAAAAAAAAAAAAAAAAAAAAAAAAAAAAAAAAAAAAAAAAAAAAAAAAAAAAAAAAAAAAAAAAAAAAAAAAAAAAAAAAAAAAAAAAAAAAAAAAAAAAAAAAAAAAAAAAAAAAAAAAAAAAAAAAAAAAAAAAAAAAAAAAAAAAAAAAAAAAAAAAAAAAAAAAAAAAAAAAAAAAAAAAAAAAAAAAAAAAAAAAAAAAAAAAAAAAAAAAAAAAAAAAAAAAAAAAAAAAAAAAAAAAAAAAAAAAAAAAAAAAAAAAAAAAAAAAAAAAAAAAAAAAAAAAAAAAAAAAAAAAAAAAAAAAAAAAAAAAAAAAAAAAAAAAAAAAAAAAAAAAAAAAAAAAAAAAAAAAAAAAAAAAAAAAAAAAAAAAAAAAAAAAAAAAAAAAAAAAAAAAAAAAAAAAAAAAAAAAAAAAAAAAAAAAAAAAAAAAAAAAAAAAAAAAAAAAAAAAAAAAAAAAAAAAAAAAAAAAAAAAAAAAAAAAAAAAAAAAAAAAAAAAAAAAAAAAAAAAAAAAAAAAAAAAAAAAAAAAAAAAAAAAAAAAAAAAAAAAAAAAAAAAAAAAAAAAAAAAAAAAAAAAAAAAAAAAAAAAAAAAAAAAAAAAAAAAAAAAAAAAAAAAAAAAAAAAAAAAAAAAAAAAAAAAAAAAAAAAAAAAAAAAAAAAAAAAAAAAAAAAAAAAAAAAAAAAAAAAAAAAAAAAAAAAAAAAAAAAAAAAAAAAAAAAAAAAAAAAAAAAAAAAAAAAAAAAAAAAAAAAAAAAAAAAAAAAAAAAAAAAAAAAAAAAAAAAAAAAAAAAAAAAAAAAAAAAAAAAAAAAAAAAAAAAAAAAAAAAAAAAAAAAAAAAAAAAAAAAAAAAAAAAAAAAAAAAAAAAAAAAAAAAAAAAAAAAAAAAAAAAAAAAAAAAAAAAAAAAAAAAAAAAAAAAAAAAAAAAAAAAAAAAAAAAAAAAAAAAAAAAAAAAAAAAAAAAAAAAAAAAAAAAAAAAAAAAAAAAAAAAAAAAAAAAAAAAAAAAAAAAAAAAAAAAAAAAAAAAAAAAAAAAAAAAAAAAAAAAAAAAAAAAAAAAAAAAAAAAAAAAAAAAAAAAAAAAAAAAAAAAAAAAAAAAAAAAAAAAAAAAAAAAAAAAAAAAAAAAAAAAAAAAAAAAAAAAAAAAAAAAAAAAAAAAAAAAAAAAAAAAAAAAAAAAAAAAAAAAAAAAAAAAAAAAAAAAAAAAAAAAAAAAAAAAAAAAAAAAAAAAAAAAAAAAAAAAAAAAAAAAAAAAAAAAAAAAAAAAAAAAAAAAAAAAAAAAAAAAAAAAAAAAAAAAAAAAAAAAAAAAAAAAAAAAAAAAAAAAAAAAAAAAAAAAAAAAAAAAAAAAAAAAAAAAAAAAAAAAAAAAAAAAAAAAAAAAAAAAAAAAAAAAAAAAAAAAAAAAAAAAAAAAAAAAAAAAAAAAAAAAAAAAAAAAAAAAAAAAAAAAAAAAAAAAAAAAAAAAAAAAAAAAAAAAAAAAAAAAAAAAAAAAAAAAAAAAAAAAAAAAAAAAAAAAAAAAAAAAAAAAAAAAAAAAAAAAAAAAAAAAAAAAAAAAAAAAAAAAAAAAAAAAAAAAAAAAAAAAAAAAAAAAAAAAAAAAAAAAAAAAAAAAAAAAAAAAAAAAAAAAAAAAAAAAAAAAAAAAAAAAAAAAAAAAAAAAAAAAAAAAAAAAAAAAAAAAAAAAAAAAAAAAAAAAAAAAAAAAAAAAAAAAAAAAAAAAAAAAAAAAAAAAAAAAAAAAAAAAAAAAAAAAAAAAAAAAAAAAAAAAAAAAAAAAAAAAAAAAAAAAAAAAAAAAAAAAAAAAAAAAAAAAAAAAAAAAAAAAAAAAAAAAAAAAAAAAAAAAAAAAAAAAAAAAAAAAAAAAAAAAAAAAAAAAAAAAAAAAAAAAAAAAAAAAAAAAAAAAAAAAAAAAAAAAAAAAAAAAAAAAAAAAAAAAAAAAAAAAAAAAAAAAAAAAAAAAAAAAAAAAAAAAAAAAAAAAAAAAAAAAAAAAAAAAAAAAAAAAAAAAAAAAAAAAAAAAAAAAAAAAAAAAAAAAAAAAAAAAAAAAAAAAAAAAAAAAAAAAAAAAAAAAAAAAAAAAAAAAAAAAAAAAAAAAAAAAAAAAAAAAAAAAAAAAAAAAAAAAAAAAAAAAAAAAAAAAAAAAAAAAAAAAAAAAAAAAAAAAAAAAAAAAAAAAAAAAAAAAAAAAAAAAAAAAAAAAAAAAAAAAAAAAAAAAAAAAAAAAAAAAAAAAAAAAAAAAAAAAAAAAAAAAAAAAAAAAAAAAAAAAAAAAAAAAAAAAAAAAAAAAAAAAAAAAAAAAAAAAAAAAAAAAAAAAAAAAAAAAAAAAAAAAAAAAAAAAAAAAAAAAAAAAAAAAAAAAAAAAAAAAAAAAAAAAAAAAAAAAAAAAAAAAAAAAAAAAAAAAAAAAAAAAAAAAAAAAAAAAAAAAAAAAAAAAAAAAAAAAAAAAAAAAAAAAAAAAAAAAAAAAAAAAAAAAAAAAAAAAAAAAAAAAAAAAAAAAAAAAAAAAAAAAAAAAAAAAAAAAAAAAAAAAAAAAAAAAAAAAAAAAAAAAAAAAAAAAAAAAAAAAAAAAAAAAAAAAAAAAAAAAAAAAAAAAAAAAAAAAAAAAAAAAAAAAAAAAAAAAAAAAAAAAAAAAAAAAAAAAAAAAAAAAAAAAAAAAAAAAAAAAAAAAAAAAAAAAAAAAAAAAAAAAAAAAAAAAAAAAAAAAAAAAAAAAAAAAAAAAAAAAAAAAAAAAAAAAAAAAAAAAAAAAAAAAAAAAAAAAAAAAAAAAAAAAAAAAAAAAAAAAAAAAAAAAAAAAAAAAAAAAAAAAAAAAAAAAAAAAAAAAAAAAAAAAAAAAAAAAAAAAAAAAAAAAAAAAAAAAAAAAAAAAAAAAAAAAAAAAAAAAAAAAAAAAAAAAAAAAAAAAAAAAAAAAAAAAAAAAAAAAAAAAAAAAAAAAAAAAAAAAAAAAAAAAAAAAAAAAAAAAAAAAAAAAAAAAAAAAAAAAAAAAAAAAAAAAAAAAAAAAAAAAAAAAAAAAAAAAAAAAAAAAAAAAAAAAAAAAAAAAAAAAAAAAAAAAAAAAAAAAAAAAAAAAAAAAAAAAAAAAAAAAAAAAAAAAAAAAAAAAAAAAAAAAAAAAAAAAAAAAAAAAAAAAAAAAAAAAAAAAAAAAAAAAAAAAAAAAAAAAAAAAAAAAAAAAAAAAAAAAAAAAAAAAAAAAAAAAAAAAAAAAAAAAAAAAAAAAAAAAAAAAAAAAAAAAAAAAAAAAAAAAAAAAAAAAAAAAAAAAAAAAAAAAAAAAAAAAAAAAAAAAAAAAAAAAAAAAAAAAAAAAAAAAAAAAAAAAAAAAAAAAAAAAAAAAAAAAAAAAAAAAAAAAAAAAAAAAAAAAAAAAAAAAAAAAAAAAAAAAAAAAAAAAAAAAAAAAAAAAAAAAAAAAAAAAAAAAAAAAAAAAAAAAAAAAAAAAAAAAAAAAAAAAAAAAAAAAAAAAAAAAAAAAAAAAAAAAAAAAAAAAAAAAAAAAAAAAAAAAAAJqZmZmZmRk/mpmZmZmZGT8AAAAAAABAPzMzMzMzM0M/mpmZmZmZST8yyczMzMxMP5qZmZmZmVE/zczMzMzMVD+amZmZmZlZPwDLzMzMzFw/zczMzMzMYD8zMzMzMzNjP83MzMzMzGQ/MzMzMzMzZz+amZmZmZlpP+bLzMzMzGw/AAAAAAAAcD+amZmZmZlxPzMzMzMzM3M/zczMzMzMdD9mZmZmZmZ2P2ZmZmZmZng/AAAAAAAAej8AAAAAAAB8PwAAAAAAAH4/MzMzMzMzgD8zMzMzMzOBP2ZmZmZmZoI/mpmZmZmZgz8AAAAAAACFPzMzMzMzM4Y/ZmZmZmZmhz+amZmZmZmIPwAAAAAAAIo/ZmZmZmZmiz+TzMzMzMyMPzMzMzMzM44/zczMzMzMjz8zMzMzM7OQPwAAAAAAgJE/MzMzMzMzkj8AAAAAAACTP83MzMzMzJM/MzMzMzOzlD+amZmZmZmVPwAAAAAAgJY/zczMzMxMlz8zMzMzMzOYP32ZmZmZGZk/AAAAAAAAmj8AAAAAAACbPwAAAAAAAJw/AAAAAAAAnT8AAAAAAACeP32ZmZmZGZ8/mpmZmZkZoD8AAAAAAMCgPwAAAAAAgKE/MzMzMzMzoj8zMzMzM/OiP83MzMzMjKM/ZmZmZmYmpD9mZmZmZuakP77MzMzMjKU/MzMzMzMzpj+amZmZmdmmPwAAAAAAgKc/AAAAAABAqD8zMzMzM/OoP2ZmZmZmpqk/ZmZmZmZmqj/NzMzMzAyrP77MzMzMzKs/zczMzMyMrD9mZmZmZmatPzMzMzMzM64/MzMzMzPzrj9mZmZmZqavP5qZmZmZObA/ZmZmZmamsD8zMzMzMxOxP5qZmZmZebE/AAAAAADgsT8zMzMzM1OyPwAAAAAAwLI/ZmZmZmYmsz/NzMzMzIyzP5qZmZmZ+bM/zczMzMxstD9mZmZmZua0P5KZmZmZWbU/MzMzMzPTtT8AAAAAAEC2PwAAAAAAwLY/MzMzMzNTtz9mZmZmZsa3PwAAAAAAQLg/xszMzMysuD/NzMzMzCy5PzMzMzMzs7k/zczMzMwsuj9mZmZmZsa6P2ZmZmZmZrs/ZmZmZmbmuz8zMzMzM3O8PwAAAAAAAL0/AAAAAACAvT/GzMzMzAy+P5qZmZmZmb4/MzMzMzMzvz/NzMzMzMy/P2ZmZmZmJsA/AAAAAABwwD8AAAAAALDAP2ZmZmZm9sA/lpmZmZk5wT8zMzMzM4PBP2ZmZmZmxsE/AAAAAAAQwj8zMzMzM1PCP83MzMzMnMI/MzMzMzPjwj+amZmZmSnDPwAAAAAAcMM/MzMzMzOzwz+amZmZmfnDP83MzMzMPMQ/AAAAAACAxD8zMzMzM8PEPwAAAAAAEMU/ZmZmZmZWxT8zMzMzM5PFP8nMzMzMjMY/AAAAAADQxj/NzMzMzAzHPzMzMzMzU8c/ZmZmZmaWxz/NzMzMzNzHPwAAAAAAIMg/yczMzMxcyD8zMzMzM6PIP2ZmZmZm5sg/lpmZmZkpyT+WmZmZmWnJP8nMzMzMrMk/yczMzMzsyT8zMzMzMzPKPwAAAAAAgMo/ZmZmZmbGyj9mZmZmZhbLPzMzMzMzU8s/ZmZmZmaWyz8AAAAAAODLP2ZmZmZmJsw/AAAAAABwzD8AAAAAAMDMPzMzMzMzA80/ZmZmZmZGzT8AAAAAAJDNP8nMzMzM/M0/ZmZmZmZGzj9mZmZmZobOP2ZmZmZmxs4/AAAAAAAQzz/NzMzMzFzPPwAAAAAAoM8/MzMzMzPjzz9mZmZmZhbQPwAAAAAAONA/ZmZmZmZW0D+amZmZmXnQP8vMzMzM7NA/mpmZmZkp0T8zMzMzM0vRPwAAAAAAcNE/mpmZmZmR0T9mZmZmZrbRP2ZmZmZm1tE/zczMzMz00T8AAAAAABjSPwAAAAAAONI/mpmZmZlZ0j8AAAAAAHjSP5qZmZmZmdI/zczMzMy80j/NzMzMzNzSP83MzMzM/NI/ZmZmZmYe0z8zMzMzM0PTP2ZmZmZmZtM/mpmZmZmJ0z+amZmZmanTP2ZmZmZmztM/MzMzMzPz0z8zMzMzMxPUP2ZmZmZmNtQ/MzMzMzNb1D/NzMzMzHzUPwAAAAAAoNQ/mpmZmZnB1D+YmZmZmeHUP83MzMzMBNU/y8zMzMwk1T+amZmZmUnVP83MzMzMbNU/MzMzMzOL1T9mZmZmZq7VP83MzMzMzNU/y8zMzMzs1T8AAAAAABDWP5iZmZmZMdY/ZmZmZmam1j+amZmZmcnWPzMzMzMz69Y/zczMzMwM1z9mZmZmZi7XPwAAAAAAUNc/mJmZmZlx1z8zMzMzM5PXP83MzMzMtNc/AAAAAADY1z+amZmZmfnXP8vMzMzMHNg/zczMzMw82D+YmZmZmWHYP8vMzMzMhNg/zczMzMyk2D/NzMzMzMTYP5qZmZmZ6dg/ZmZmZmYO2T8AAAAAADDZP2ZmZmZmTtk/mpmZmZlx2T+amZmZmZnZP5iZmZmZudk/ZmZmZmbe2T+amZmZmQHaP5qZmZmZIdo/mJmZmZlB2j8zMzMzM2PaP2ZmZmZmhto/AAAAAACo2j+amZmZmcnaP5qZmZmZ6do/mJmZmZkJ2z9mZmZmZi7bPwAAAAAAUNs/MzMzMzNz2z+YmZmZmZnbP2ZmZmZmvts/AAAAAADg2z+YmZmZmUncPwAAAAAAgNw/MzMzMzOj3D9mZmZmZsbcP2ZmZmZm5tw/MzMzMzML3T9mZmZmZi7dP5iZmZmZUd0/MzMzMzNz3T8AAAAAAJjdP5qZmZmZud0/MzMzMzPb3T8zMzMzM/vdP83MzMzMHN4/ZmZmZmY+3j+amZmZmWHePzMzMzMzg94/MzMzMzOj3j8AAAAAAMjeP8vMzMzM7N4/ZmZmZmYO3z8zMzMzMzPfPwAAAAAAWN8/mpmZmZl53z8zMzMzM5vfP83MzMzMvN8/mJmZmZnh3z/NzMzMzADgP8zMzMzMEOA/MzMzMzMj4D8AAAAAADTgP83MzMzMROA/zczMzMxU4D9mZmZmZmbgP83MzMzMeOA/mpmZmZmJ4D8AAAAAANTgP5qZmZmZ9eA/AAAAAAAI4T/NzMzMzBjhP2ZmZmZmUuE/ZmZmZmZm4T/MzMzMzHjhPzMzMzMzi+E/zczMzMyc4T/NzMzMzKzhPzMzMzMzv+E/zczMzMzQ4T8AAAAAAOThPzMzMzMz9+E/AAAAAAAI4j/MzMzMzBjiP2dmZmZmKuI/zczMzMw84j/NzMzMzEziP5qZmZmZXeI/ZmZmZmZy4j8zMzMzM4PiPwAAAAAAlOI/zMzMzMyk4j8AAAAAALjiP5mZmZmZyeI/NDMzMzPb4j/NzMzMzOziP5qZmZmZ/eI/ZmZmZmYO4z8zMzMzMx/jP8zMzMzMMOM/mZmZmZlB4z80MzMzM1PjP83MzMzMZOM/zczMzMx04z+amZmZmYXjP5qZmZmZleM/zMzMzMyo4z8AAAAAALzjP83MzMzMzOM/ZmZmZmbe4z8AAAAAAPDjP5mZmZmZAeQ/zMzMzMw45D+ZmZmZmVHkP2dmZmZmYuQ/zMzMzMx05D8zMzMzM4fkP8zMzMzMmOQ/ZmZmZmaq5D/NzMzMzLzkP2ZmZmZmzuQ/NDMzMzPf5D/NzMzMzPDkP2dmZmZmAuU/MzMzMzMT5T8AAAAAACTlP5qZmZmZNeU/AAAAAABI5T9mZmZmZlrlP83MzMzMbOU/ZmZmZmZ+5T8AAAAAAJDlP5qZmZmZoeU/Z2ZmZmay5T8zMzMzM8PlPwAAAAAA1OU/mZmZmZnl5T9mZmZmZvrlP2ZmZmZmDuY/ZmZmZmYi5j8AAAAAADTmP83MzMzMROY/MzMzMzNX5j/MzMzMzGjmP8zMzMzMfOY/MzMzMzOP5j9nZmZmZqLmPzMzMzMzs+Y/zczMzMzE5j+ZmZmZmdXmPwAAAAAA6OY/mZmZmZn55j/NzMzMzDTnPwAAAAAASOc/zczMzMxc5z8zMzMzM2/nP2dmZmZmguc/AAAAAACU5z/MzMzMzKTnPzMzMzMzt+c/mpmZmZnJ5z9mZmZmZtrnP5mZmZmZ7ec/NDMzMzP/5z8AAAAAABDoP8zMzMzMIOg/zMzMzMw06D+amZmZmUXoP2ZmZmZmVug/ZmZmZmZq6D8AAAAAAHzoP83MzMzMjOg/ZmZmZmai6D8AAAAAALToP2ZmZmZmxug/zczMzMzY6D9nZmZmZuroP8zMzMzM/Og/AAAAAAAQ6T9nZmZmZiLpPzMzMzMzM+k/MzMzMzNH6T80MzMzM1fpP2ZmZmZmauk/zczMzMx86T9mZmZmZo7pPzMzMzMzn+k/mpmZmZmx6T9nZmZmZsLpPwAAAAAA1Ok/zczMzMzk6T80MzMzM/fpPwAAAAAACOo/mZmZmZlB6j9mZmZmZlbqP5mZmZmZaeo/Z2ZmZmZ66j8zMzMzM4vqP8zMzMzMnOo/mpmZmZmt6j80MzMzM7/qP2ZmZmZm0uo/zczMzMzk6j/NzMzMzPjqPzQzMzMzC+s/zczMzMwc6z8AAAAAADDrP5qZmZmZQes/Z2ZmZmZS6z/MzMzMzGTrPzMzMzMzd+s/zczMzMyI6z+ZmZmZmZnrP83MzMzMrOs/mZmZmZm96z9nZmZmZs7rP2dmZmZm4us/MzMzMzPz6z8zMzMzMwPsPwAAAAAAFOw/mZmZmZkl7D80MzMzMzfsP83MzMzMSOw/Z2ZmZmZa7D+amZmZmW3sP5qZmZmZfew/zMzMzMyQ7D8AAAAAAKTsP83MzMzMtOw/NDMzMzPH7D/NzMzMzNjsPzMzMzMz6+w/mpmZmZn97D9mZmZmZjrtPwAAAAAATO0/mpmZmZld7T8AAAAAAHDtP5qZmZmZge0/AAAAAACU7T/NzMzMzKTtP2ZmZmZmtu0/AAAAAADI7T8AAAAAANztP5qZmZmZ7e0/AAAAAAAA7j8zMzMzMxPuP83MzMzMJO4/MzMzMzM37j8zMzMzM0vuP5qZmZmZXe4/mpmZmZlx7j8zMzMzM4PuP5qZmZmZle4/MzMzMzOn7j+amZmZmbnuP2ZmZmZmyu4/zczMzMzc7j9mZmZmZu7uPzMzMzMz/+4/mpmZmZkR7z/NzMzMzCTvP5qZmZmZNe8/ZmZmZmZG7z8AAAAAAFzvP2ZmZmZmbu8/MzMzMzOD7z+amZmZmZXvPwAAAAAAqO8/MzMzMzO77z/NzMzMzMzvPzMzMzMz3+8/MzMzMzPz7z+amZmZmQHwP2ZmZmZmIPA/AAAAAAAq8D8AAAAAADLwP2ZmZmZmPPA/mpmZmZlF8D/NzMzMzE7wP83MzMzMWPA/ZmZmZmZi8D8AAAAAAGzwP8zMzMzMdPA/MzMzMzN98D9mZmZmZobwP5qZmZmZj/A/zczMzMyY8D/NzMzMzKLwPzQzMzMzq/A/mpmZmZmz8D8AAAAAAL7wP83MzMzMxvA/MzMzMzPP8D9mZmZmZtjwPzMzMzMz4fA/AAAAAADq8D+amZmZmfPwPzMzMzMz/fA/ZmZmZmYG8T8AAAAAABDxP2ZmZmZmGPE/MzMzMzMh8T8zMzMzMyvxP2ZmZmZmNPE/mpmZmZk98T9mZmZmZkbxPzMzMzMzT/E/mpmZmZlX8T/NzMzMzGDxPwAAAAAAavE/ZmZmZmZy8T8zMzMzM3vxP2ZmZmZmhPE/zMzMzMyM8T/NzMzMzKjxPzMzMzMzt/E/ZmZmZmbA8T8AAAAAAMrxPzMzMzMz0/E/zMzMzMzc8T8zMzMzM+XxP2ZmZmZm7vE/mpmZmZn38T/NzMzMzADyPzQzMzMzCfI/ZmZmZmYS8j8AAAAAABzyP5qZmZmZJfI/mpmZmZkv8j/NzMzMzDjyP5qZmZmZQfI/MzMzMzNL8j8AAAAAAFTyP8zMzMzMXvI/AAAAAABo8j/MzMzMzHLyPwAAAAAAfPI/zczMzMyE8j/NzMzMzI7yPwAAAAAAmPI/AAAAAACi8j8zMzMzM6vyP5qZmZmZs/I/NDMzMzO98j9mZmZmZsbyPzMzMzMzz/I/mpmZmZnZ8j/NzMzMzOLyP5qZmZmZ7fI/ZmZmZmb28j8zMzMzM//yPzMzMzMzCfM/zMzMzMwS8z8AAAAAABzzPzMzMzMzJfM/zczMzMxC8z8AAAAAAEzzPzMzMzMzVfM/AAAAAABe8z/NzMzMzGbzP2ZmZmZmcPM/mpmZmZl58z8AAAAAAITzP5qZmZmZjfM/mpmZmZmX8z9mZmZmZqDzPwAAAAAAqvM/ZmZmZma08z+amZmZmb3zP8zMzMzMxvM/ZmZmZmbQ8z8AAAAAANrzPzMzMzMz4/M/mpmZmZnr8z9mZmZmZvTzP5qZmZmZ/fM/NDMzMzMH9D9mZmZmZhD0P8zMzMzMGvQ/AAAAAAAk9D9mZmZmZi70P5qZmZmZN/Q/zMzMzMxM9D8zMzMzM1n0PwAAAAAAYvQ/ZmZmZmZs9D+amZmZmXX0PzQzMzMzf/Q/AAAAAACI9D/NzMzMzJD0P5qZmZmZmfQ/zMzMzMyi9D+amZmZmav0P2ZmZmZmtPQ/zczMzMy+9D+amZmZmcf0PzQzMzMz4/Q/zczMzMzw9D8AAAAAAPz0P83MzMzMBPU/ZmZmZmYO9T8AAAAAABj1PwAAAAAAIvU/MzMzMzMr9T+amZmZmTP1P2ZmZmZmPPU/MzMzMzNF9T+amZmZmU/1P83MzMzMWPU/ZmZmZmZi9T80MzMzM2v1PzQzMzMzdfU/ZmZmZmZ+9T8zMzMzM4f1PwAAAAAAkvU/mpmZmZmb9T8AAAAAAKb1P83MzMzMrvU/mpmZmZm39T+amZmZmcH1P83MzMzMyvU/mpmZmZnT9T80MzMzM931P2ZmZmZm5vU/AAAAAADw9T8zMzMzM/n1PwAAAAAAAvY/MzMzMzMN9j9mZmZmZhb2PwAAAAAAIPY/AAAAAAAq9j+amZmZmTP2P8zMzMzMPPY/AAAAAABG9j9mZmZmZlD2P83MzMzMWPY/AAAAAABi9j8AAAAAAID2P5qZmZmZi/Y/mpmZmZmV9j9mZmZmZp72PwAAAAAAqvY/mpmZmZmz9j/NzMzMzLz2P83MzMzMxvY/AAAAAADQ9j8AAAAAANr2PzMzMzMz4/Y/MzMzMzPt9j8AAAAAAPb2P8zMzMzM/vY/ZmZmZmYI9z8zMzMzMxH3P5qZmZmZGfc/AAAAAAAk9z/MzMzMzCz3PwAAAAAANvc/mpmZmZk/9z/NzMzMzEj3PzMzMzMzU/c/ZmZmZmZc9z/NzMzMzGb3PwAAAAAAcPc/zczMzMx49z/NzMzMzIL3PwAAAAAAjPc/zMzMzMyU9z8AAAAAAJ73P5qZmZmZp/c/MzMzMzOx9z/NzMzMzLr3P2ZmZmZmxPc/mpmZmZnN9z/MzMzMzNb3P2ZmZmZm4Pc/MzMzMzPp9z8zMzMzM/P3P5qZmZmZ/fc/mpmZmZkb+D9mZmZmZib4P2ZmZmZmMPg/MzMzMzM5+D/NzMzMzEL4PwAAAAAATPg/AAAAAABW+D9mZmZmZmD4PzMzMzMzafg/MzMzMzNz+D/NzMzMzHz4PzMzMzMzh/g/ZmZmZmaQ+D+amZmZmZn4PzQzMzMzo/g/zMzMzMys+D9mZmZmZrb4PwAAAAAAwPg/AAAAAADK+D8zMzMzM9P4P2ZmZmZm3Pg/ZmZmZmbm+D+amZmZme/4PzQzMzMz+fg/zMzMzMwC+T8AAAAAAAz5P5qZmZmZFfk/MzMzMzMf+T8zMzMzMyn5P2ZmZmZmMvk/mpmZmZk7+T8zMzMzM0X5P5qZmZmZT/k/ZmZmZmZY+T/NzMzMzGL5PwAAAAAAbPk/zMzMzMx0+T80MzMzM3/5P8zMzMzMiPk/mpmZmZmR+T8AAAAAALD5P8zMzMzMuvk/ZmZmZmbE+T+amZmZmc35P5qZmZmZ1/k/ZmZmZmbg+T/NzMzMzOr5P2ZmZmZm9Pk/NDMzMzP9+T+amZmZmQf6P2ZmZmZmEPo/zMzMzMwa+j+amZmZmSP6PzMzMzMzLfo/MzMzMzM1+j+amZmZmT36PwAAAAAARvo/zczMzMxO+j80MzMzM1f6PwAAAAAAYPo/ZmZmZmZo+j8AAAAAAHL6PzMzMzMze/o/ZmZmZmaE+j9mZmZmZo76P5qZmZmZl/o/NDMzMzOh+j8AAAAAAKr6PwAAAAAAtPo/MzMzMzO9+j9mZmZmZsb6P2ZmZmZm0Po/AAAAAADa+j80MzMzM+P6P2ZmZmZm7Po/AAAAAAD2+j8AAAAAAAD7P5qZmZmZCfs/zczMzMwS+z8AAAAAABz7P83MzMzMOvs/mpmZmZlF+z+amZmZmU/7P5qZmZmZWfs/zczMzMxi+z/NzMzMzGz7P83MzMzMdvs/ZmZmZmaA+z/NzMzMzIr7PzMzMzMzlfs/AAAAAACe+z8AAAAAAKj7P2ZmZmZmsPs/AAAAAAC6+z+amZmZmcP7P2ZmZmZmzPs/ZmZmZmbW+z+amZmZmd/7PzMzMzMz6fs/ZmZmZmby+z8AAAAAAPz7P2ZmZmZmBvw/AAAAAAAQ/D+amZmZmRn8P2ZmZmZmIvw/mpmZmZkr/D9mZmZmZjT8P2ZmZmZmPvw/mpmZmZlH/D+amZmZmVH8P2ZmZmZmWvw/AAAAAABk/D+amZmZmW38PzQzMzMzd/w/ZmZmZmaC/D9mZmZmZoz8P5qZmZmZlfw/zMzMzMye/D80MzMzM6n8P2ZmZmZmxvw/ZmZmZmbU/D8zMzMzM9/8PzMzMzMz6fw/AAAAAADy/D/NzMzMzPz8P5qZmZmZBf0/MzMzMzMP/T9mZmZmZhj9P83MzMzMIv0/zczMzMws/T8AAAAAADb9P2ZmZmZmQP0/mpmZmZlJ/T8zMzMzM1P9PzMzMzMzXf0/mpmZmZln/T8zMzMzM3H9PzMzMzMze/0/ZmZmZmaE/T8zMzMzM439PwAAAAAAlv0/AAAAAACg/T8zMzMzM6n9PzMzMzMzs/0/AAAAAAC8/T8AAAAAAMb9P5qZmZmZz/0/MzMzMzPZ/T+amZmZmeP9P2ZmZmZm7P0/ZmZmZmb2/T8AAAAAAAD+P83MzMzMCv4/mpmZmZkT/j+amZmZmR3+P83MzMzMJv4/ZmZmZmYw/j+amZmZmTn+P5qZmZmZQ/4/AAAAAABg/j9mZmZmZm7+P2ZmZmZmeP4/ZmZmZmaC/j8AAAAAAIz+PwAAAAAAlv4/MzMzMzOf/j8AAAAAAKr+PzMzMzMzs/4/AAAAAAC+/j8AAAAAAMj+P83MzMzM0v4/ZmZmZmbc/j+amZmZmeX+PwAAAAAA8P4/ZmZmZmb6/j8AAAAAAAT/P5qZmZmZDf8/AAAAAAAY/z8AAAAAACL/PwAAAAAALP8/MzMzMzM1/z+amZmZmT//P2ZmZmZmSv8/ZmZmZmZU/z8AAAAAAF7/P2ZmZmZmaP8/mpmZmZlx/z8zMzMzM3v/P2ZmZmZmhv8/AAAAAACS/z/NzMzMzJz/P83MzMzMpv8/ZmZmZmaw/z9mZmZmZrr/P5qZmZmZw/8/MzMzMzPN/z/NzMzMzNb/PwAAAAAA4P8/MzMzMzPp/z8zMzMzM/P/P5qZmZmZ/f8/ZmZmZmYDAECamZmZmREAQJqZmZmZGABAmpmZmZkdAEBnZmZmZiIAQGdmZmZmJwBAZ2ZmZmYsAEAzMzMzMzEAQGdmZmZmNgBAZ2ZmZmY7AEAzMzMzM0AAQM3MzMzMRABAmpmZmZlJAEAAAAAAAE8AQM3MzMzMUwBAZmZmZmZYAEAAAAAAAGMAQGZmZmZmaQBAzczMzMxuAEAAAAAAAHQAQM3MzMzMeQBAMzMzMzN/AECamZmZmYQAQDMzMzMziQBAMzMzMzOOAEAAAAAAAJMAQJqZmZmZmABAmpmZmZmdAEDNzMzMzKIAQDMzMzMzqABAZmZmZmatAEDNzMzMzLEAQAAAAAAAtwBAAAAAAAC8AEBmZmZmZsAAQJqZmZmZxQBAmpmZmZnKAEAzMzMzM9AAQAAAAAAA1QBAMzMzMzPaAEAzMzMzM98AQGZmZmZm5ABAmpmZmZnyAEAzMzMzM/oAQM3MzMzM/wBAmpmZmZkEAUDNzMzMzAkBQM3MzMzMDgFAAAAAAAAUAUAAAAAAABkBQGZmZmZmHgFANDMzMzMjAUAAAAAAACgBQJqZmZmZLAFAZmZmZmYxAUCamZmZmTYBQGZmZmZmOwFAmpmZmZlAAUAzMzMzM0UBQM3MzMzMSgFAZmZmZmZPAUDNzMzMzFQBQJqZmZmZWQFAZmZmZmZfAUA0MzMzM2QBQDQzMzMzaQFAAAAAAABuAUA0MzMzM3MBQAAAAAAAeAFAZmZmZmZ8AUAzMzMzM4EBQDMzMzMzhgFAZmZmZmaLAUAzMzMzM5ABQDMzMzMzlQFAZmZmZmaaAUAAAAAAAKABQAAAAAAApQFAAAAAAACqAUAAAAAAAK8BQJqZmZmZswFAMzMzMzO4AUAAAAAAAMkBQAAAAAAAzgFAMzMzMzPTAUAAAAAAANgBQGZmZmZm3QFAZmZmZmbiAUCamZmZmecBQGZmZmZm7AFAMzMzMzPxAUAzMzMzM/YBQAAAAAAA+wFAMzMzMzMAAkAzMzMzMwUCQAAAAAAACgJAZmZmZmYPAkCamZmZmRQCQDMzMzMzGQJAZmZmZmYeAkBmZmZmZiMCQAAAAAAAKQJAAAAAAAAuAkBmZmZmZjMCQDMzMzMzOAJAmpmZmZk9AkCamZmZmUICQGZmZmZmRwJAZmZmZmZMAkCamZmZmVECQAAAAAAAVgJAAAAAAABbAkDNzMzMzF8CQGZmZmZmZAJAZmZmZmZpAkAzMzMzM24CQJqZmZmZcwJAmpmZmZl4AkDNzMzMzH0CQJqZmZmZggJAzczMzMyHAkDNzMzMzIwCQM3MzMzMmgJAmpmZmZmhAkAAAAAAAKcCQDMzMzMzrAJAZ2ZmZmaxAkAzMzMzM7YCQGdmZmZmuwJAmpmZmZnAAkDNzMzMzMUCQAAAAAAAywJAAAAAAADQAkCamZmZmdQCQM3MzMzM2QJAMzMzMzPfAkCamZmZmeQCQM3MzMzM6QJAzczMzMzuAkDNzMzMzPMCQDQzMzMz+QJANDMzMzP+AkBmZmZmZgMDQDQzMzMzCANAmpmZmZkNA0BmZmZmZhIDQAAAAAAAGANAZmZmZmYdA0CamZmZmSIDQM3MzMzMJwNAAAAAAAAtA0DNzMzMzDIDQGZmZmZmNwNAmpmZmZk8A0DNzMzMzEEDQJqZmZmZRgNAZmZmZmZLA0AzMzMzM1ADQGZmZmZmVQNAZ2ZmZmZbA0DNzMzMzGADQAAAAAAAZgNAMzMzMzN3A0AzMzMzM38DQJqZmZmZhANAmpmZmZmJA0DNzMzMzI4DQM3MzMzMkwNAZmZmZmaYA0CamZmZmZ0DQM3MzMzMogNAAAAAAACoA0CamZmZma0DQJqZmZmZsgNAAAAAAAC4A0AAAAAAAL0DQM3MzMzMwQNAmpmZmZnGA0CamZmZmcsDQJqZmZmZ0ANAAAAAAADWA0AzMzMzM9sDQDMzMzMz4ANAMzMzMzPlA0CamZmZmeoDQGZmZmZm7wNAAAAAAAD0A0DNzMzMzPgDQM3MzMzM/QNAAAAAAAADBEAAAAAAAAgEQGdmZmZmDQRANDMzMzMSBEAAAAAAABgEQGdmZmZmHQRAZ2ZmZmYiBECamZmZmScEQDMzMzMzLQRAmpmZmZkyBECamZmZmTcEQJqZmZmZPARAZmZmZmZBBEBnZmZmZk8EQJqZmZmZVgRANDMzMzNcBEDNzMzMzGEEQAAAAAAAZwRAMzMzMzNtBEAAAAAAAHIEQDMzMzMzdwRAMzMzMzN8BEDNzMzMzIEEQDMzMzMzhwRAmpmZmZmMBEBmZmZmZpEEQM3MzMzMlgRAZmZmZmacBEAzMzMzM6EEQGZmZmZmpgRAMzMzMzOrBEAzMzMzM7AEQAAAAAAAtQRAAAAAAAC6BEAzMzMzM78EQGZmZmZmxARAzczMzMzJBEDNzMzMzM4EQAAAAAAA1ARANDMzMzPZBEDNzMzMzOQEQGdmZmZm6gRAZ2ZmZmbvBEDNzMzMzPQEQDMzMzMz+gRAMzMzMzP/BEDNzMzMzAQFQGZmZmZmCgVAzczMzMwPBUA0MzMzMxUFQDQzMzMzGgVANDMzMzMfBUDNzMzMzCQFQGZmZmZmMwVAAAAAAAA6BUAzMzMzMz8FQJqZmZmZRAVAAAAAAABKBUAAAAAAAE8FQDMzMzMzVAVAmpmZmZlZBUAzMzMzM18FQDMzMzMzZAVAmpmZmZlpBUCamZmZmW4FQM3MzMzMcwVAzczMzMx4BUCamZmZmX4FQM3MzMzMgwVAzczMzMyIBUDNzMzMzI0FQJqZmZmZkgVAZmZmZmaXBUDNzMzMzJwFQM3MzMzMoQVAAAAAAACnBUAAAAAAAKwFQDQzMzMzsQVAAAAAAAC2BUBnZmZmZrsFQGdmZmZmwAVAAAAAAADGBUAAAAAAAMsFQGdmZmZm0AVAAAAAAADVBUAzMzMzM9oFQAAAAAAA4AVAZmZmZmblBUAzMzMzM+sFQAAAAAAA8AVAMzMzMzP1BUAzMzMzM/oFQJqZmZmZ/wVAZmZmZmYEBkBnZmZmZhUGQAAAAAAAGwZAZ2ZmZmYgBkAAAAAAACYGQGZmZmZmKwZAzczMzMwwBkAzMzMzMzYGQAAAAAAAOwZAZmZmZmZABkAAAAAAAEYGQJqZmZmZSwZAZmZmZmZQBkA0MzMzM1UGQGZmZmZmWgZAAAAAAABgBkAAAAAAAGUGQM3MzMzMagZAZ2ZmZmZwBkBnZmZmZnUGQM3MzMzMegZAmpmZmZl/BkCamZmZmYQGQJqZmZmZiQZAmpmZmZmPBkCamZmZmZQGQM3MzMzMmQZAAAAAAACfBkDNzMzMzKMGQM3MzMzMqAZAMzMzMzOuBkDNzMzMzLMGQM3MzMzMuAZANDMzMzO+BkBmZmZmZsMGQAAAAAAAyQZAzczMzMzNBkDNzMzMzNIGQM3MzMzM1wZANDMzMzPdBkBnZmZmZuIGQDMzMzMz6AZAZ2ZmZmb3BkCamZmZmf4GQAAAAAAABAdANDMzMzMJB0BmZmZmZg4HQAAAAAAAGgdAAAAAAAAgB0CamZmZmSUHQJqZmZmZKgdAmpmZmZkvB0BmZmZmZjQHQDMzMzMzOgdAzczMzMw/B0DNzMzMzEQHQM3MzMzMSgdAzczMzMxPB0BnZmZmZlUHQM3MzMzMWgdAmpmZmZlgB0BnZmZmZmUHQJqZmZmZagdAmpmZmZlvB0AAAAAAAHUHQM3MzMzMegdAAAAAAACAB0BmZmZmZoUHQM3MzMzMigdAAAAAAACQB0BmZmZmZpUHQDQzMzMzmgdAmpmZmZmfB0BmZmZmZqQHQDQzMzMzqQdANDMzMzOuB0CamZmZmbMHQAAAAAAAuQdANDMzMzO+B0CamZmZmcMHQAAAAAAAyQdAmpmZmZnOB0AzMzMzM98HQJqZmZmZ5AdAAAAAAADqB0BmZmZmZu8HQM3MzMzM9AdAzczMzMz5B0AAAAAAAP8HQAAAAAAABAhANDMzMzMJCEA0MzMzMw4IQJqZmZmZEwhAzczMzMwYCEAAAAAAAB4IQAAAAAAAIwhAMzMzMzMoCECamZmZmS0IQDMzMzMzMwhAMzMzMzM4CEBmZmZmZj0IQDMzMzMzQghAmpmZmZlHCEDNzMzMzEwIQAAAAAAAUghAAAAAAABXCEAzMzMzM1wIQGZmZmZmYQhANDMzMzNnCEA0MzMzM2wIQGZmZmZmcQhAZ2ZmZmZ3CEAAAAAAAH0IQGdmZmZmgghAmpmZmZmHCEDNzMzMzIwIQDMzMzMzkghAZmZmZmaXCEBmZmZmZpwIQJqZmZmZoQhAAAAAAACnCECamZmZmbUIQJqZmZmZvAhAZ2ZmZmbCCEBnZmZmZscIQM3MzMzMzAhAzczMzMzRCEAzMzMzM9cIQGdmZmZm3AhAAAAAAADiCEBmZmZmZucIQGZmZmZm7AhAAAAAAADyCEAAAAAAAPcIQGZmZmZm/AhAZmZmZmYBCUCamZmZmQYJQJqZmZmZCwlAzczMzMwQCUDNzMzMzBUJQDQzMzMzGwlAZmZmZmYgCUDNzMzMzCUJQDQzMzMzKwlAZ2ZmZmYwCUCamZmZmTYJQJqZmZmZOwlAzczMzMxACUAAAAAAAEYJQM3MzMzMSwlAZmZmZmZRCUBmZmZmZlYJQDQzMzMzXAlAmpmZmZlhCUA0MzMzM2cJQM3MzMzMbAlAzczMzMxxCUBnZmZmZncJQAAAAAAAfQlAMzMzMzOCCUBmZmZmZocJQJqZmZmZjAlAmpmZmZmRCUCamZmZmaAJQM3MzMzMpQlAMzMzMzOrCUDNzMzMzLAJQAAAAAAAtglAmpmZmZm7CUBnZmZmZsEJQJqZmZmZxwlAmpmZmZnMCUCamZmZmdEJQAAAAAAA1wlAAAAAAADcCUBmZmZmZuEJQJqZmZmZ5glAMzMzMzPsCUDNzMzMzPEJQJqZmZmZ9glAAAAAAAD8CUAAAAAAAAEKQM3MzMzMBgpAAAAAAAAMCkA0MzMzMxEKQJqZmZmZFgpAAAAAAAAcCkDNzMzMzCAKQDMzMzMzJgpAzczMzMwrCkAzMzMzMzEKQM3MzMzMNgpAAAAAAAA8CkCamZmZmUEKQJqZmZmZRwpAmpmZmZlMCkAAAAAAAFIKQAAAAAAAVwpAAAAAAABcCkA0MzMzM2EKQDQzMzMzZgpAmpmZmZlrCkAAAAAAAHEKQAAAAAAAdgpAmpmZmZl7CkDNzMzMzIgKQM3MzMzMjgpAMzMzMzOUCkCamZmZmZkKQM3MzMzMngpAzczMzMyjCkBmZmZmZqkKQAAAAAAArwpANDMzMzO1CkA0MzMzM7oKQM3MzMzMvwpAAAAAAADFCkA0MzMzM8oKQJqZmZmZzwpAmpmZmZnUCkAAAAAAANoKQJqZmZmZ3wpAZmZmZmblCkDNzMzMzOoKQAAAAAAA8ApAzczMzMz1CkCamZmZmfsKQJqZmZmZAAtAZ2ZmZmYGC0BnZmZmZgsLQM3MzMzMEAtAMzMzMzMWC0CamZmZmRsLQAAAAAAAIQtAMzMzMzMmC0DNzMzMzCsLQM3MzMzMMAtAMzMzMzM2C0BmZmZmZjsLQGZmZmZmQAtAmpmZmZlFC0A0MzMzM0sLQGZmZmZmUAtAzczMzMxVC0CamZmZmVsLQJqZmZmZawtAZmZmZmZyC0DNzMzMzHcLQAAAAAAAfQtANDMzMzOCC0A0MzMzM4cLQJqZmZmZjAtAmpmZmZmSC0DNzMzMzJcLQDMzMzMznQtAmpmZmZmiC0DNzMzMzKcLQM3MzMzMrQtAAAAAAACzC0AzMzMzM7gLQJqZmZmZvQtAzczMzMzCC0A0MzMzM8gLQJqZmZmZzQtAAAAAAADTC0AAAAAAANgLQJqZmZmZ3QtAAAAAAADjC0BnZmZmZugLQJqZmZmZ7QtAAAAAAADzC0DNzMzMzPgLQAAAAAAA/gtAZmZmZmYDDECamZmZmQgMQAAAAAAADgxAzczMzMwTDEA0MzMzMxkMQAAAAAAAHwxAZmZmZmYlDEDNzMzMzCoMQJqZmZmZMAxAzczMzMw1DEDNzMzMzDoMQAAAAAAAQAxAAAAAAABFDEAAAAAAAFQMQJqZmZmZWQxANDMzMzNfDEDNzMzMzGQMQDMzMzMzagxAmpmZmZlvDEDNzMzMzHQMQAAAAAAAiwxAmpmZmZmQDEDNzMzMzJYMQAAAAAAAnAxAMzMzMzOhDEBmZmZmZqcMQJqZmZmZrAxAMzMzMzOyDEA0MzMzM7gMQDQzMzMzvQxAzczMzMzCDEA0MzMzM8gMQM3MzMzMzQxAzczMzMzTDEAAAAAAANkMQAAAAAAA3gxAAAAAAADkDEBmZmZmZukMQGZmZmZm7wxAZmZmZmb1DEAAAAAAAPsMQGZmZmZmAA1AmpmZmZkGDUDNzMzMzAsNQJqZmZmZEQ1AzczMzMwXDUDNzMzMzBwNQDMzMzMzIg1AZmZmZmYnDUBmZmZmZiwNQJqZmZmZMQ1AAAAAAAA3DUBmZmZmZj0NQAAAAAAATQ1AmpmZmZlVDUDNzMzMzFoNQGZmZmZmYA1AAAAAAABmDUAAAAAAAGsNQGZmZmZmcA1AMzMzMzN1DUAzMzMzM3sNQDMzMzMzgQ1AmpmZmZmGDUAzMzMzM4wNQJqZmZmZkQ1AAAAAAACXDUCamZmZmZwNQAAAAAAAog1AMzMzMzOnDUBmZmZmZqwNQJqZmZmZsQ1AAAAAAAC3DUCamZmZmbwNQJqZmZmZwg1AzczMzMzHDUAzMzMzM80NQDMzMzMz0w1AzczMzMzfDUDNzMzMzOUNQGZmZmZm6w1AZmZmZmbwDUAAAAAAAPYNQDMzMzMz+w1AAAAAAAABDkCamZmZmQYOQJqZmZmZCw5AAAAAAAAVDkBmZmZmZhoOQJqZmZmZHw5AZmZmZmYlDkDNzMzMzCoOQAAAAAAAMA5AmpmZmZk1DkAAAAAAAEUOQAAAAAAASw5AmpmZmZlQDkAzMzMzM1YOQAAAAAAAXA5AZmZmZmZhDkAzMzMzM2cOQGZmZmZmbQ5AzczMzMxyDkBmZmZmZngOQAAAAAAAfg5AzczMzMyDDkAzMzMzM4kOQM3MzMzMjg5AZmZmZmaUDkCamZmZmZkOQAAAAAAAnw5AZmZmZmakDkAzMzMzM6oOQJqZmZmZrw5AAAAAAAC1DkBmZmZmZroOQJqZmZmZvw5AZmZmZmbFDkAAAAAAAMsOQJqZmZmZ0A5AMzMzMzPWDkDNzMzMzNsOQDMzMzMz4Q5AMzMzMzPmDkCamZmZmesOQAAAAAAA8Q5AMzMzMzP2DkCamZmZmfwOQM3MzMzMAQ9AmpmZmZkHD0AAAAAAAA0PQGZmZmZmEg9AAAAAAAAYD0BmZmZmZicPQGZmZmZmLw9AZmZmZmY0D0AAAAAAADoPQGZmZmZmPw9AAAAAAABFD0BmZmZmZkoPQM3MzMzMTw9AZmZmZmZVD0AAAAAAAFsPQM3MzMzMYA9AZmZmZmZmD0AAAAAAAGwPQGZmZmZmcQ9AAAAAAAB3D0AzMzMzM3wPQAAAAAAAgg9AmpmZmZmHD0AAAAAAAI0PQJqZmZmZkg9AMzMzMzOYD0CamZmZmZ0PQJqZmZmZow9AMzMzMzOpD0DNzMzMzK4PQDMzMzMztQ9AMzMzMzO7D0BmZmZmZsAPQJqZmZmZxg9AmpmZmZnMD0DNzMzMzNEPQDMzMzMz1w9AmpmZmZncD0BmZmZmZuIPQGZmZmZm6A9AAAAAAADuD0BmZmZmZvMPQJqZmZmZ+Q9AzczMzMz/D0AzMzMzswIQQAAAAAAACxBANDMzM7MNEEBmZmZmZhAQQDMzMzMzExBAAAAAAAAWEECamZmZmRgQQM3MzMxMGxBAMzMzMzMeEEAAAAAAACEQQJqZmZkZJBBAMzMzMzMnEEAAAAAAACoQQGZmZmbmLBBAZmZmZuYvEEDNzMzMzDIQQAAAAACANRBAmpmZmZk4EEAzMzMzszsQQJqZmZmZPhBAMzMzMzNBEEAzMzMzM0QQQGZmZmbmRhBANDMzM7NJEEAzMzMzs0wQQGdmZmZmTxBAzczMzExSEEDNzMzMTFUQQM3MzMxMWBBAZmZmZuZaEEDNzMzMzF0QQAAAAACAYBBAzMzMzExjEEBmZmZmZmYQQGZmZmZmaRBAZmZmZmZsEEA0MzMzM28QQGZmZmbmcRBAmpmZmZl0EEAAAAAAgHcQQJqZmZkZgBBANDMzMzODEEBmZmZm5oUQQDMzMzOziBBAAAAAAICLEEDNzMzMTI4QQDMzMzMzkRBAMzMzMzOUEEAAAAAAAJcQQDQzMzOzmRBAMzMzM7OcEECamZmZmZ8QQM3MzMxMohBAZmZmZmalEECamZmZmagQQM3MzMxMqxBAZ2ZmZmauEEBmZmZmZrEQQAAAAAAAtBBAmpmZmZm2EEDNzMzMTLkQQM3MzMzMuxBAAAAAAIC+EEAzMzMzM8EQQM3MzMxMxBBAAAAAAADHEEAzMzMzs8kQQJqZmZmZzBBAmpmZmZnPEEBmZmZmZtIQQDMzMzMz1RBAAAAAAADYEEA0MzMzs9oQQGdmZmbm3RBAmpmZmZngEECamZmZmeMQQAAAAACA5hBAAAAAAIDpEEBmZmZmZuwQQDMzMzMz7xBAAAAAAADyEEDNzMzMzPkQQMzMzMxMAxFAmpmZmZkGEUBmZmZmZgkRQGZmZmZmDBFANDMzMzMPEUBmZmZm5hERQJqZmZmZFBFAzMzMzEwXEUAzMzMzMxoRQJqZmZkZHRFAZmZmZuYfEUCamZmZmSIRQAAAAACAJRFAZmZmZmYoEUAzMzMzMysRQAAAAAAALhFAzczMzMwwEUBmZmZm5jMRQAAAAAAANxFAmpmZmZk5EUCamZmZGTwRQJqZmZkZPxFAzMzMzMxBEUBnZmZmZkQRQAAAAACARxFAmpmZmZlKEUDNzMzMTE0RQM3MzMxMUBFAmpmZmRlTEUBnZmZm5lURQJqZmZkZWRFAZmZmZuZbEUCamZmZmV4RQAAAAACAYRFANDMzMzNkEUBmZmZm5mYRQGdmZmbmaRFAmpmZmZlsEUCamZmZmW8RQGZmZmZmeBFAZ2ZmZmZ7EUDNzMzMTH4RQAAAAAAAgRFAmpmZmZmDEUBmZmZmZoYRQDMzMzMziRFANDMzMzOMEUCamZmZGY8RQDMzMzOzkRFAZ2ZmZmaUEUAAAAAAgJcRQDMzMzMzmhFAmpmZmRmdEUAAAAAAAKARQDQzMzOzohFAzMzMzMylEUCamZmZmagRQJqZmZmZqxFAZmZmZmauEUCamZmZGbERQGZmZmbmsxFANDMzM7O2EUAzMzMzs7kRQMzMzMxMvBFAZmZmZma/EUDNzMzMTMIRQAAAAAAAxRFAZmZmZubHEUA0MzMzs8oRQAAAAACAzRFAzMzMzEzQEUAAAAAAANMRQAAAAACA1RFAzczMzMzYEUCamZmZmdsRQGZmZmZm3hFANDMzMzPhEUBmZmZm5uMRQGdmZmbm5hFAZmZmZubpEUAAAAAAAPIRQM3MzMzM9BFANDMzM7P3EUAzMzMzs/oRQJqZmZmZ/RFAZmZmZmYAEkAzMzMzswMSQGZmZmZmBhJANDMzMzMJEkBmZmZm5gsSQDMzMzOzDhJAAAAAAIAREkCamZmZmRQSQGZmZmZmFxJAMzMzMzMaEkCamZmZGR0SQAAAAAAAIBJAZ2ZmZuYiEkBmZmZm5iUSQJqZmZkZKRJAzczMzMwrEkA0MzMzsy4SQJqZmZmZMRJAMzMzM7M0EkCamZmZmTcSQDMzMzOzOhJAmpmZmZk9EkCamZmZmUASQAAAAACAQxJAMzMzMzNGEkAzMzMzM0kSQAAAAAAATBJAMzMzM7NOEkA0MzMzs1ESQDMzMzOzVBJAMzMzM7NXEkAzMzMzs1oSQJqZmZmZXRJAMzMzMzNgEkCamZmZGWMSQGZmZmbmZRJAzMzMzMxoEkCamZmZGXESQGZmZmbmcxJAmpmZmZl2EkCamZmZmXkSQMzMzMzMfBJAMzMzM7N/EkAAAAAAgIISQGZmZmZmhRJAAAAAAICIEkA0MzMzM4sSQM3MzMzMjRJAmpmZmZmTEkAAAAAAAJcSQM3MzMzMmRJAAAAAAICcEkDNzMzMTJ8SQGdmZmZmohJAzczMzEylEkAzMzMzM6gSQGZmZmbmqhJAMzMzM7OtEkA0MzMzs7ASQGZmZmZmsxJAZ2ZmZma2EkAAAAAAALkSQAAAAAAAvBJAZmZmZua+EkCamZmZmcESQGZmZmZmxBJANDMzMzPHEkCamZmZGcoSQDMzMzMzzRJAAAAAAIDQEkAAAAAAgNMSQDQzMzMz1hJAZmZmZubYEkCamZmZmdsSQAAAAACA3hJAAAAAAADnEkAAAAAAgOoSQAAAAACA7RJAZmZmZmbwEkDNzMzMTPMSQDMzMzMz9hJAmpmZmRn5EkDNzMzMzPsSQDMzMzOz/hJAmpmZmZkBE0BmZmZmZgQTQGZmZmZmBxNAAAAAAIAKE0AAAAAAgA0TQMzMzMxMEBNAzczMzEwTE0AAAAAAgBYTQJqZmZmZGRNAAAAAAIAcE0AzMzMzMx8TQM3MzMxMIhNAMzMzMzMlE0BmZmZm5icTQAAAAAAAKxNAMzMzMzMuE0AAAAAAADETQM3MzMzMMxNAmpmZmZk3E0DNzMzMTD8TQJqZmZkZQxNAMzMzMzNGE0DMzMzMzEkTQGZmZmbmTBNAMzMzM7NPE0CamZmZmVITQJqZmZmZVRNAZ2ZmZuZYE0AAAAAAgGATQAAAAACAYxNAzczMzExmE0CamZmZGWkTQDQzMzMzbBNAAAAAAABvE0CamZmZGXITQGZmZmbmdBNAAAAAAAB4E0CamZmZGXsTQJqZmZkZfhNAAAAAAACBE0AAAAAAAIQTQJqZmZkZhxNAmpmZmRmKE0BmZmZm5owTQDMzMzOzjxNAZmZmZuaSE0DNzMzMzJUTQJqZmZmZmBNANDMzM7ObE0BnZmZm5p4TQAAAAAAAohNAZmZmZuakE0DNzMzMzKcTQAAAAAAAqxNAZ2ZmZuatE0DNzMzMzLATQDMzMzOzsxNAZmZmZua2E0BmZmZm5rkTQMzMzMzMvBNAMzMzM7O/E0BmZmZm5sITQAAAAAAAxhNAZmZmZubIE0DMzMzMzMsTQDMzMzOzzhNAzczMzMzRE0DNzMzMzNQTQM3MzMzM3RNAMzMzM7PgE0AzMzMzs+MTQJqZmZmZ5hNAAAAAAIDpE0DMzMzMTOwTQM3MzMxM7xNAAAAAAIDyE0AAAAAAgPUTQDQzMzMz+BNAmpmZmZn6E0CamZmZmfwTQAAAAAAA/hNAAAAAAAD/E0DNzMzMzP8TQAAAAAAAABRA",
          "dtype": "f8"
         },
         "xaxis": "x",
         "y": {
          "bdata": "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",
          "dtype": "f8"
         },
         "yaxis": "y"
        }
       ],
       "layout": {
        "legend": {
         "tracegroupgap": 0
        },
        "template": {
         "data": {
          "bar": [
           {
            "error_x": {
             "color": "#2a3f5f"
            },
            "error_y": {
             "color": "#2a3f5f"
            },
            "marker": {
             "line": {
              "color": "#E5ECF6",
              "width": 0.5
             },
             "pattern": {
              "fillmode": "overlay",
              "size": 10,
              "solidity": 0.2
             }
            },
            "type": "bar"
           }
          ],
          "barpolar": [
           {
            "marker": {
             "line": {
              "color": "#E5ECF6",
              "width": 0.5
             },
             "pattern": {
              "fillmode": "overlay",
              "size": 10,
              "solidity": 0.2
             }
            },
            "type": "barpolar"
           }
          ],
          "carpet": [
           {
            "aaxis": {
             "endlinecolor": "#2a3f5f",
             "gridcolor": "white",
             "linecolor": "white",
             "minorgridcolor": "white",
             "startlinecolor": "#2a3f5f"
            },
            "baxis": {
             "endlinecolor": "#2a3f5f",
             "gridcolor": "white",
             "linecolor": "white",
             "minorgridcolor": "white",
             "startlinecolor": "#2a3f5f"
            },
            "type": "carpet"
           }
          ],
          "choropleth": [
           {
            "colorbar": {
             "outlinewidth": 0,
             "ticks": ""
            },
            "type": "choropleth"
           }
          ],
          "contour": [
           {
            "colorbar": {
             "outlinewidth": 0,
             "ticks": ""
            },
            "colorscale": [
             [
              0,
              "#0d0887"
             ],
             [
              0.1111111111111111,
              "#46039f"
             ],
             [
              0.2222222222222222,
              "#7201a8"
             ],
             [
              0.3333333333333333,
              "#9c179e"
             ],
             [
              0.4444444444444444,
              "#bd3786"
             ],
             [
              0.5555555555555556,
              "#d8576b"
             ],
             [
              0.6666666666666666,
              "#ed7953"
             ],
             [
              0.7777777777777778,
              "#fb9f3a"
             ],
             [
              0.8888888888888888,
              "#fdca26"
             ],
             [
              1,
              "#f0f921"
             ]
            ],
            "type": "contour"
           }
          ],
          "contourcarpet": [
           {
            "colorbar": {
             "outlinewidth": 0,
             "ticks": ""
            },
            "type": "contourcarpet"
           }
          ],
          "heatmap": [
           {
            "colorbar": {
             "outlinewidth": 0,
             "ticks": ""
            },
            "colorscale": [
             [
              0,
              "#0d0887"
             ],
             [
              0.1111111111111111,
              "#46039f"
             ],
             [
              0.2222222222222222,
              "#7201a8"
             ],
             [
              0.3333333333333333,
              "#9c179e"
             ],
             [
              0.4444444444444444,
              "#bd3786"
             ],
             [
              0.5555555555555556,
              "#d8576b"
             ],
             [
              0.6666666666666666,
              "#ed7953"
             ],
             [
              0.7777777777777778,
              "#fb9f3a"
             ],
             [
              0.8888888888888888,
              "#fdca26"
             ],
             [
              1,
              "#f0f921"
             ]
            ],
            "type": "heatmap"
           }
          ],
          "histogram": [
           {
            "marker": {
             "pattern": {
              "fillmode": "overlay",
              "size": 10,
              "solidity": 0.2
             }
            },
            "type": "histogram"
           }
          ],
          "histogram2d": [
           {
            "colorbar": {
             "outlinewidth": 0,
             "ticks": ""
            },
            "colorscale": [
             [
              0,
              "#0d0887"
             ],
             [
              0.1111111111111111,
              "#46039f"
             ],
             [
              0.2222222222222222,
              "#7201a8"
             ],
             [
              0.3333333333333333,
              "#9c179e"
             ],
             [
              0.4444444444444444,
              "#bd3786"
             ],
             [
              0.5555555555555556,
              "#d8576b"
             ],
             [
              0.6666666666666666,
              "#ed7953"
             ],
             [
              0.7777777777777778,
              "#fb9f3a"
             ],
             [
              0.8888888888888888,
              "#fdca26"
             ],
             [
              1,
              "#f0f921"
             ]
            ],
            "type": "histogram2d"
           }
          ],
          "histogram2dcontour": [
           {
            "colorbar": {
             "outlinewidth": 0,
             "ticks": ""
            },
            "colorscale": [
             [
              0,
              "#0d0887"
             ],
             [
              0.1111111111111111,
              "#46039f"
             ],
             [
              0.2222222222222222,
              "#7201a8"
             ],
             [
              0.3333333333333333,
              "#9c179e"
             ],
             [
              0.4444444444444444,
              "#bd3786"
             ],
             [
              0.5555555555555556,
              "#d8576b"
             ],
             [
              0.6666666666666666,
              "#ed7953"
             ],
             [
              0.7777777777777778,
              "#fb9f3a"
             ],
             [
              0.8888888888888888,
              "#fdca26"
             ],
             [
              1,
              "#f0f921"
             ]
            ],
            "type": "histogram2dcontour"
           }
          ],
          "mesh3d": [
           {
            "colorbar": {
             "outlinewidth": 0,
             "ticks": ""
            },
            "type": "mesh3d"
           }
          ],
          "parcoords": [
           {
            "line": {
             "colorbar": {
              "outlinewidth": 0,
              "ticks": ""
             }
            },
            "type": "parcoords"
           }
          ],
          "pie": [
           {
            "automargin": true,
            "type": "pie"
           }
          ],
          "scatter": [
           {
            "fillpattern": {
             "fillmode": "overlay",
             "size": 10,
             "solidity": 0.2
            },
            "type": "scatter"
           }
          ],
          "scatter3d": [
           {
            "line": {
             "colorbar": {
              "outlinewidth": 0,
              "ticks": ""
             }
            },
            "marker": {
             "colorbar": {
              "outlinewidth": 0,
              "ticks": ""
             }
            },
            "type": "scatter3d"
           }
          ],
          "scattercarpet": [
           {
            "marker": {
             "colorbar": {
              "outlinewidth": 0,
              "ticks": ""
             }
            },
            "type": "scattercarpet"
           }
          ],
          "scattergeo": [
           {
            "marker": {
             "colorbar": {
              "outlinewidth": 0,
              "ticks": ""
             }
            },
            "type": "scattergeo"
           }
          ],
          "scattergl": [
           {
            "marker": {
             "colorbar": {
              "outlinewidth": 0,
              "ticks": ""
             }
            },
            "type": "scattergl"
           }
          ],
          "scattermap": [
           {
            "marker": {
             "colorbar": {
              "outlinewidth": 0,
              "ticks": ""
             }
            },
            "type": "scattermap"
           }
          ],
          "scattermapbox": [
           {
            "marker": {
             "colorbar": {
              "outlinewidth": 0,
              "ticks": ""
             }
            },
            "type": "scattermapbox"
           }
          ],
          "scatterpolar": [
           {
            "marker": {
             "colorbar": {
              "outlinewidth": 0,
              "ticks": ""
             }
            },
            "type": "scatterpolar"
           }
          ],
          "scatterpolargl": [
           {
            "marker": {
             "colorbar": {
              "outlinewidth": 0,
              "ticks": ""
             }
            },
            "type": "scatterpolargl"
           }
          ],
          "scatterternary": [
           {
            "marker": {
             "colorbar": {
              "outlinewidth": 0,
              "ticks": ""
             }
            },
            "type": "scatterternary"
           }
          ],
          "surface": [
           {
            "colorbar": {
             "outlinewidth": 0,
             "ticks": ""
            },
            "colorscale": [
             [
              0,
              "#0d0887"
             ],
             [
              0.1111111111111111,
              "#46039f"
             ],
             [
              0.2222222222222222,
              "#7201a8"
             ],
             [
              0.3333333333333333,
              "#9c179e"
             ],
             [
              0.4444444444444444,
              "#bd3786"
             ],
             [
              0.5555555555555556,
              "#d8576b"
             ],
             [
              0.6666666666666666,
              "#ed7953"
             ],
             [
              0.7777777777777778,
              "#fb9f3a"
             ],
             [
              0.8888888888888888,
              "#fdca26"
             ],
             [
              1,
              "#f0f921"
             ]
            ],
            "type": "surface"
           }
          ],
          "table": [
           {
            "cells": {
             "fill": {
              "color": "#EBF0F8"
             },
             "line": {
              "color": "white"
             }
            },
            "header": {
             "fill": {
              "color": "#C8D4E3"
             },
             "line": {
              "color": "white"
             }
            },
            "type": "table"
           }
          ]
         },
         "layout": {
          "annotationdefaults": {
           "arrowcolor": "#2a3f5f",
           "arrowhead": 0,
           "arrowwidth": 1
          },
          "autotypenumbers": "strict",
          "coloraxis": {
           "colorbar": {
            "outlinewidth": 0,
            "ticks": ""
           }
          },
          "colorscale": {
           "diverging": [
            [
             0,
             "#8e0152"
            ],
            [
             0.1,
             "#c51b7d"
            ],
            [
             0.2,
             "#de77ae"
            ],
            [
             0.3,
             "#f1b6da"
            ],
            [
             0.4,
             "#fde0ef"
            ],
            [
             0.5,
             "#f7f7f7"
            ],
            [
             0.6,
             "#e6f5d0"
            ],
            [
             0.7,
             "#b8e186"
            ],
            [
             0.8,
             "#7fbc41"
            ],
            [
             0.9,
             "#4d9221"
            ],
            [
             1,
             "#276419"
            ]
           ],
           "sequential": [
            [
             0,
             "#0d0887"
            ],
            [
             0.1111111111111111,
             "#46039f"
            ],
            [
             0.2222222222222222,
             "#7201a8"
            ],
            [
             0.3333333333333333,
             "#9c179e"
            ],
            [
             0.4444444444444444,
             "#bd3786"
            ],
            [
             0.5555555555555556,
             "#d8576b"
            ],
            [
             0.6666666666666666,
             "#ed7953"
            ],
            [
             0.7777777777777778,
             "#fb9f3a"
            ],
            [
             0.8888888888888888,
             "#fdca26"
            ],
            [
             1,
             "#f0f921"
            ]
           ],
           "sequentialminus": [
            [
             0,
             "#0d0887"
            ],
            [
             0.1111111111111111,
             "#46039f"
            ],
            [
             0.2222222222222222,
             "#7201a8"
            ],
            [
             0.3333333333333333,
             "#9c179e"
            ],
            [
             0.4444444444444444,
             "#bd3786"
            ],
            [
             0.5555555555555556,
             "#d8576b"
            ],
            [
             0.6666666666666666,
             "#ed7953"
            ],
            [
             0.7777777777777778,
             "#fb9f3a"
            ],
            [
             0.8888888888888888,
             "#fdca26"
            ],
            [
             1,
             "#f0f921"
            ]
           ]
          },
          "colorway": [
           "#636efa",
           "#EF553B",
           "#00cc96",
           "#ab63fa",
           "#FFA15A",
           "#19d3f3",
           "#FF6692",
           "#B6E880",
           "#FF97FF",
           "#FECB52"
          ],
          "font": {
           "color": "#2a3f5f"
          },
          "geo": {
           "bgcolor": "white",
           "lakecolor": "white",
           "landcolor": "#E5ECF6",
           "showlakes": true,
           "showland": true,
           "subunitcolor": "white"
          },
          "hoverlabel": {
           "align": "left"
          },
          "hovermode": "closest",
          "mapbox": {
           "style": "light"
          },
          "paper_bgcolor": "white",
          "plot_bgcolor": "#E5ECF6",
          "polar": {
           "angularaxis": {
            "gridcolor": "white",
            "linecolor": "white",
            "ticks": ""
           },
           "bgcolor": "#E5ECF6",
           "radialaxis": {
            "gridcolor": "white",
            "linecolor": "white",
            "ticks": ""
           }
          },
          "scene": {
           "xaxis": {
            "backgroundcolor": "#E5ECF6",
            "gridcolor": "white",
            "gridwidth": 2,
            "linecolor": "white",
            "showbackground": true,
            "ticks": "",
            "zerolinecolor": "white"
           },
           "yaxis": {
            "backgroundcolor": "#E5ECF6",
            "gridcolor": "white",
            "gridwidth": 2,
            "linecolor": "white",
            "showbackground": true,
            "ticks": "",
            "zerolinecolor": "white"
           },
           "zaxis": {
            "backgroundcolor": "#E5ECF6",
            "gridcolor": "white",
            "gridwidth": 2,
            "linecolor": "white",
            "showbackground": true,
            "ticks": "",
            "zerolinecolor": "white"
           }
          },
          "shapedefaults": {
           "line": {
            "color": "#2a3f5f"
           }
          },
          "ternary": {
           "aaxis": {
            "gridcolor": "white",
            "linecolor": "white",
            "ticks": ""
           },
           "baxis": {
            "gridcolor": "white",
            "linecolor": "white",
            "ticks": ""
           },
           "bgcolor": "#E5ECF6",
           "caxis": {
            "gridcolor": "white",
            "linecolor": "white",
            "ticks": ""
           }
          },
          "title": {
           "x": 0.05
          },
          "xaxis": {
           "automargin": true,
           "gridcolor": "white",
           "linecolor": "white",
           "ticks": "",
           "title": {
            "standoff": 15
           },
           "zerolinecolor": "white",
           "zerolinewidth": 2
          },
          "yaxis": {
           "automargin": true,
           "gridcolor": "white",
           "linecolor": "white",
           "ticks": "",
           "title": {
            "standoff": 15
           },
           "zerolinecolor": "white",
           "zerolinewidth": 2
          }
         }
        },
        "title": {
         "text": "Force / Distance of tensile_tests/04.03.25_WT.csv"
        },
        "xaxis": {
         "anchor": "y",
         "domain": [
          0,
          1
         ],
         "title": {
          "text": "Distance (millimeters)"
         }
        },
        "yaxis": {
         "anchor": "x",
         "domain": [
          0,
          1
         ],
         "title": {
          "text": "Force (Newtons)"
         }
        }
       }
      }
     },
     "metadata": {},
     "output_type": "display_data"
    }
   ],
   "source": [
    "wt_filename = \"tensile_tests/04.03.25_WT.csv\"\n",
    "wt_df = plot_force_distance(wt_filename)"
   ]
  },
  {
   "cell_type": "code",
   "execution_count": 59,
   "id": "7b20c747",
   "metadata": {},
   "outputs": [
    {
     "name": "stdout",
     "output_type": "stream",
     "text": [
      "Peak Force Row: Unnamed: 0                 1392.000000\n",
      "Time                      28403.000000\n",
      "Force (Newtons)              10.464828\n",
      "Distance (millimeters)        1.987598\n",
      "Strain (%)                    0.342423\n",
      "Stress (MPa)                  2.180172\n",
      "Name: 1392, dtype: float64\n"
     ]
    },
    {
     "data": {
      "application/vnd.plotly.v1+json": {
       "config": {
        "plotlyServerURL": "https://plot.ly"
       },
       "data": [
        {
         "hovertemplate": "Strain (%)=%{x}<br>Stress (MPa)=%{y}<extra></extra>",
         "legendgroup": "",
         "line": {
          "color": "#636efa",
          "dash": "solid"
         },
         "marker": {
          "symbol": "circle"
         },
         "mode": "lines",
         "name": "",
         "showlegend": false,
         "type": "scattergl",
         "x": {
          "bdata": "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",
          "dtype": "f8"
         },
         "xaxis": "x",
         "y": {
          "bdata": "EqKUDLjkmz/yCg63Hg2gP/IKDrceDaA/8goOtx4NoD/yCg63Hg2gP82YvyOva6I/zZi/I69roj/NmL8jr2uiP82YvyOva6I/Fg/VfPP1pD8WD9V88/WkPxYP1Xzz9aQ/Fg/VfPP1pD8Jtig5FNinPwm2KDkU2Kc/CbYoORTYpz8Jtig5FNinPwm2KDkU2Kc/CofEn2X0qj8Kh8SfZfSqPwqHxJ9l9Ko/CofEn2X0qj8lYU1enm+uPyVhTV6eb64/Bc0tIqossT8FzS0iqiyxPwXNLSKqLLE/Bc0tIqossT9vnbB9XDuzP2+dsH1cO7M/b52wfVw7sz9vnbB9XDuzP2+dsH1cO7M/uZyJUUiJtT+5nIlRSIm1P7mciVFIibU/uZyJUUiJtT+5nIlRSIm1P68YKVKLBbg/rxgpUosFuD+vGClSiwW4P68YKVKLBbg/BfswZJyvuj8F+zBknK+6PwX7MGScr7o/BfswZJyvuj8F+zBknK+6PzPMMYymr70/M8wxjKavvT8zzDGMpq+9PzPMMYymr70/eGqcW6dmwD94apxbp2bAP3hqnFunZsA/eGqcW6dmwD94apxbp2bAP1B3so7PFcI/UHeyjs8Vwj9Qd7KOzxXCP1B3so7PFcI/q3t1lKfpwz+re3WUp+nDP6t7dZSn6cM/q3t1lKfpwz8V8ZvJ5M3FPxXxm8nkzcU/FfGbyeTNxT8enHcjEuPHPx6cdyMS48c/Hpx3IxLjxz8enHcjEuPHPx6cdyMS48c/T52nICcGyj9PnacgJwbKP0+dpyAnBso/T52nICcGyj9v5lyb9DLMP2/mXJv0Msw/b+Zcm/QyzD9v5lyb9DLMP2/mXJv0Msw/GnfVdK2Czj8ad9V0rYLOPxp31XStgs4/GnfVdK2Czj8ad9V0rYLOP62CJIAFZNA/rYIkgAVk0D+tgiSABWTQP62CJIAFZNA/o2iD+JaR0T+jaIP4lpHRP6Nog/iWkdE/o2iD+JaR0T+jaIP4lpHRPw4E9fyEv9I/DgT1/IS/0j8OBPX8hL/SPw4E9fyEv9I/K20ohwbb0z8rbSiHBtvTPyttKIcG29M/K20ohwbb0z8rbSiHBtvTP8aOkE748tQ/3Ck6fIHL1T/cKTp8gcvVP9wpOnyBy9U/3Ck6fIHL1T/cKTp8gcvVP2uhnU58WNY/a6GdTnxY1j9roZ1OfFjWP2uhnU58WNY/lYJxMSbv1j+VgnExJu/WP5WCcTEm79Y/lYJxMSbv1j+VgnExJu/WPwmrr0f5ldc/CauvR/mV1z8Jq69H+ZXXPwmrr0f5ldc/CauvR/mV1z9aiqH3l4LYP1qKofeXgtg/Woqh95eC2D9aiqH3l4LYP05yyF0ewNk/TnLIXR7A2T9OcshdHsDZP05yyF0ewNk/TnLIXR7A2T/rU8+Qff7aP+tTz5B9/to/61PPkH3+2j/rU8+Qff7aP9D7H2xTN9w/0PsfbFM33D/Q+x9sUzfcP+LgCm+TWN0/4uAKb5NY3T/9hvTr2nTeP/2G9OvadN4/hKeHrhSN3z+Ep4euFI3fP4Snh64Ujd8/hKeHrhSN3z8QAm+960rgPxACb73rSuA/EAJvvetK4D8QAm+960rgPxACb73rSuA/1exkhyLU4D/V7GSHItTgP9XsZIci1OA/1exkhyLU4D985Pkt5VbhP3zk+S3lVuE/fOT5LeVW4T985Pkt5VbhP3zk+S3lVuE/Ug3+lNfU4T9SDf6U19ThP1IN/pTX1OE/Ug3+lNfU4T9Bt5a6d1TiP0G3lrp3VOI/QbeWundU4j9Bt5a6d1TiP9rRULqhuuI/2tFQuqG64j/a0VC6obriP9rRULqhuuI/2tFQuqG64j/s5QnBL+viP+zlCcEv6+I/7OUJwS/r4j/s5QnBL+viPzpEYDdmKOM/OkRgN2Yo4z86RGA3ZijjPzpEYDdmKOM/OkRgN2Yo4z8Lz389yHbjPwvPfz3IduM//uHljtXi4z/+4eWO1eLjP/7h5Y7V4uM//uHljtXi4z8uPL0hqobkPy48vSGqhuQ/Ljy9IaqG5D8uPL0hqobkPy48vSGqhuQ/yrHRLiAf5T/KsdEuIB/lP8qx0S4gH+U/yrHRLiAf5T/19R9pzaHlP/X1H2nNoeU/9fUfac2h5T/19R9pzaHlP3FHTPmVEOY/cUdM+ZUQ5j9xR0z5lRDmP3FHTPmVEOY/cUdM+ZUQ5j/+rnlH03zmP/6ueUfTfOY//q55R9N85j/+rnlH03zmP26xd/Ss5eY/brF39Kzl5j9usXf0rOXmP26xd/Ss5eY/1/8EeZ9M5z/X/wR5n0znP9f/BHmfTOc/1/8EeZ9M5z/X/wR5n0znPzOwsHhNu+c/M7CweE275z8zsLB4TbvnPwdKIoxyIug/B0oijHIi6D8HSiKMciLoP/G0QhzTeeg/8bRCHNN56D/xtEIc03noP/G0QhzTeeg/gUDvhpa16D+BQO+GlrXoP4FA74aWteg/gUDvhpa16D/gLVC25+XoP+AtULbn5eg/4C1Qtufl6D/gLVC25+XoP+AtULbn5eg/cjjYY6Yb6T9yONhjphvpP3I42GOmG+k/cjjYY6Yb6T+zoBnu1FnpP7OgGe7UWek/s6AZ7tRZ6T+zoBnu1FnpP+aAhwpNrek/5oCHCk2t6T/mgIcKTa3pP+aAhwpNrek/5oCHCk2t6T91CKVcSQjqP3UIpVxJCOo/dQilXEkI6j91CKVcSQjqP5HnvOf0X+o/kee85/Rf6j+R57zn9F/qP5HnvOf0X+o/DssmbVe+6j8OyyZtV77qPw7LJm1Xvuo/DssmbVe+6j9KD+0MUh3rP0oP7QxSHes/Sg/tDFId6z+YpQVaeHbrP5ilBVp4dus/mKUFWnh26z+YpQVaeHbrP1uTqN6k0Os/W5Oo3qTQ6z9bk6jepNDrP1uTqN6k0Os/GeA61F8m7D8Z4DrUXybsPxngOtRfJuw/GeA61F8m7D8Z4DrUXybsPzWXxgzZguw/NZfGDNmC7D81l8YM2YLsPzWXxgzZguw/oDyjgZTo7D+gPKOBlOjsP6A8o4GU6Ow/oDyjgZTo7D+gPKOBlOjsP2sipGzSTe0/ayKkbNJN7T9rIqRs0k3tP2sipGzSTe0/yWZVTw+87T/JZlVPD7ztP8lmVU8PvO0/yWZVTw+87T9ZJVEBASvuP1klUQEBK+4/WSVRAQEr7j9ZJVEBASvuP1klUQEBK+4/kAYe1gya7j+QBh7WDJruP9c1M/7jDu8/1zUz/uMO7z/XNTP+4w7vP9c1M/7jDu8/ZkWsWEl47z9mRaxYSXjvP2ZFrFhJeO8/ZkWsWEl47z9mRaxYSXjvP98+pYFO4O8/3z6lgU7g7z/fPqWBTuDvP98+pYFO4O8/pEYZg6Aj8D+kRhmDoCPwP6RGGYOgI/A/pEYZg6Aj8D90tPU/OVTwP3S09T85VPA/dLT1PzlU8D90tPU/OVTwPyJ4E9v5ifA/IngT2/mJ8D8ieBPb+YnwPyJ4E9v5ifA/IngT2/mJ8D9QbtKYtr3wP1Bu0pi2vfA/UG7SmLa98D9QbtKYtr3wP6YDRsdG8fA/pgNGx0bx8D+mA0bHRvHwP6YDRsdG8fA/O5dKM6Qn8T87l0ozpCfxPzuXSjOkJ/E/O5dKM6Qn8T88G5aWMVnxPzwblpYxWfE/UJSPyY6N8T9QlI/Jjo3xP1CUj8mOjfE/UJSPyY6N8T+iHHe/J8DxP6Icd78nwPE/ohx3vyfA8T+iHHe/J8DxPySWrVLr7vE/JJatUuvu8T8klq1S6+7xPySWrVLr7vE/JJatUuvu8T+RJb0hpiHyP5ElvSGmIfI/kSW9IaYh8j+RJb0hpiHyP+BFe0dFTvI/4EV7R0VO8j/gRXtHRU7yP+BFe0dFTvI/EaKdADBw8j8Rop0AMHDyPxGinQAwcPI/EaKdADBw8j8Rop0AMHDyP/lfBH3/ivI/+V8Eff+K8j/5XwR9/4ryP/lfBH3/ivI/a9Fp5rij8j9r0WnmuKPyP2vRaea4o/I/a9Fp5rij8j++/c/NVMnyP779z81UyfI/vv3PzVTJ8j++/c/NVMnyP779z81UyfI/1Z3uNqz88j/Vne42rPzyP3tuX/16OfM/e25f/Xo58z97bl/9ejnzP/mL1SndePM/+YvVKd148z/5i9Up3XjzP/mL1SndePM/+YvVKd148z/tY07MH63zP+1jTswfrfM/7WNOzB+t8z/tY07MH63zP4zJrB7K4fM/jMmsHsrh8z+MyaweyuHzP4zJrB7K4fM/WTju3nEW9D9ZOO7ecRb0P1k47t5xFvQ/WTju3nEW9D+M83pKhEf0P4zzekqER/Q/jPN6SoRH9D+M83pKhEf0PwFCA9oBf/Q/AUID2gF/9D8BQgPaAX/0PwFCA9oBf/Q/oTQuq62y9D+hNC6rrbL0P6E0LqutsvQ/oTQuq62y9D+hNC6rrbL0P0rvD87Z5fQ/Su8Pztnl9D9K7w/O2eX0P0rvD87Z5fQ/rPSDQekd9T+s9INB6R31P6z0g0HpHfU/rPSDQekd9T8/WcUPsFD1Pz9ZxQ+wUPU/MpArCliI9T8ykCsKWIj1PzKQKwpYiPU/MpArCliI9T+NJDgcsL/1P40kOBywv/U/jSQ4HLC/9T+NJDgcsL/1P7nhkKcJ8fU/ueGQpwnx9T+54ZCnCfH1P7nhkKcJ8fU/CHy5mQsn9j8IfLmZCyf2Pwh8uZkLJ/Y/CHy5mQsn9j8hMB4s/Ff2PyEwHiz8V/Y/ITAeLPxX9j8hMB4s/Ff2PyEwHiz8V/Y/2Nnb1qKJ9j/Y2dvWoon2P9jZ29aiifY/2Nnb1qKJ9j9WUQ09Nr72P1ZRDT02vvY/7GAESGTs9j/sYARIZOz2P+xgBEhk7PY/7GAESGTs9j8V/YpxLR/3PxX9inEtH/c/Ff2KcS0f9z8V/YpxLR/3PxX9inEtH/c/GJgFon5Q9z8YmAWiflD3PxiYBaJ+UPc/fXOkSFKB9z99c6RIUoH3P31zpEhSgfc/+gJqf7i59z/6Amp/uLn3P/oCan+4ufc/+gJqf7i59z8utFNW/uv3Py60U1b+6/c/LrRTVv7r9z8utFNW/uv3PwypXyXaIPg/DKlfJdog+D8MqV8l2iD4PwypXyXaIPg/52VqxWFX+D/nZWrFYVf4P+dlasVhV/g/52VqxWFX+D9GkIHneIj4P0aQged4iPg/RpCB53iI+D9GkIHneIj4P4INcLd4wPg/gg1wt3jA+D+CDXC3eMD4P4INcLd4wPg/gg1wt3jA+D/tRTCWavT4P+1FMJZq9Pg/7UUwlmr0+D/tRTCWavT4P+x8z537Jfk/7HzPnfsl+T/sfM+d+yX5P+x8z537Jfk/A7JY7fBc+T8Dsljt8Fz5PwOyWO3wXPk/A7JY7fBc+T+GF0lXG475P4YXSVcbjvk/z0Pzi5DF+T/PQ/OLkMX5P89D84uQxfk/1wZ3adb9+T/XBndp1v35P9cGd2nW/fk/1wZ3adb9+T/XBndp1v35P3unQBsUL/o/e6dAGxQv+j97p0AbFC/6P3unQBsUL/o/bAeYa/1l+j9sB5hr/WX6P2wHmGv9Zfo/bAeYa/1l+j/KroWj35b6P8quhaPflvo/yq6Fo9+W+j/KroWj35b6P4qtxh4Ix/o/iq3GHgjH+j+KrcYeCMf6P4qtxh4Ix/o/eysHLVf6+j97KwctV/r6P3srBy1X+vo/eysHLVf6+j/b1PmRaSX7P9vU+ZFpJfs/29T5kWkl+z/b1PmRaSX7P9O4GvaoUvs/07ga9qhS+z/TuBr2qFL7P9O4GvaoUvs/07ga9qhS+z/Xz4fFynv7P9fPh8XKe/s/18+Hxcp7+z+g1bs+fqL7P6DVuz5+ovs/rDUEHSXR+z+sNQQdJdH7P6w1BB0l0fs/rDUEHSXR+z+sNQQdJdH7P5NxIw2R+/s/k3EjDZH7+z+TcSMNkfv7P5NxIw2R+/s/5Bf0wI8q/D/kF/TAjyr8P+QX9MCPKvw/5Bf0wI8q/D9XFYJN11v8P1cVgk3XW/w/VxWCTddb/D9XFYJN11v8P8QghLtihvw/xCCEu2KG/D/EIIS7Yob8P8QghLtihvw/stv7SIy2/D+y2/tIjLb8P7Lb+0iMtvw/stv7SIy2/D+bYV1kteL8P5thXWS14vw/m2FdZLXi/D+bYV1kteL8PzjD7ps6Df0/OMPumzoN/T84w+6bOg39PzjD7ps6Df0/LLlQ/OI9/T8suVD84j39Pyy5UPziPf0/LLlQ/OI9/T822flDmWn9PzbZ+UOZaf0/H7r49sSa/T8fuvj2xJr9Px+6+PbEmv0/H7r49sSa/T/BXhJpZcr9P8FeEmllyv0/wV4SaWXK/T/BXhJpZcr9P3bE4tXh8v0/dsTi1eHy/T92xOLV4fL9P3bE4tXh8v0/5MVBr6Ae/j/kxUGvoB7+P+TFQa+gHv4/5MVBr6Ae/j/kxUGvoB7+P01pGk0yQ/4/TWkaTTJD/j9NaRpNMkP+P01pGk0yQ/4/94rEbpto/j/3isRum2j+P/eKxG6baP4/94rEbpto/j/qdgbgtI7+P+p2BuC0jv4/6nYG4LSO/j/qdgbgtI7+P/gC5WrurP4/+ALlau6s/j/4AuVq7qz+P/gC5WrurP4/+ALlau6s/j9OUB20GtH+P05QHbQa0f4/TlAdtBrR/j9OUB20GtH+PwYJ72km8v4/BgnvaSby/j/m1hJCQxL/P+bWEkJDEv8/5tYSQkMS/z9DDjlCjzj/P0MOOUKPOP8/Qw45Qo84/z9DDjlCjzj/P1OaF83IVv8/U5oXzchW/z9TmhfNyFb/P1OaF83IVv8/U5oXzchW/z/B4eu2H3r/P8Hh67Yfev8/weHrth96/z/B4eu2H3r/P1Sqi1PkoP8/VKqLU+Sg/z9UqotT5KD/P1Sqi1PkoP8/AeNkQhHG/z8B42RCEcb/PwHjZEIRxv8/AeNkQhHG/z99idzrePL/P32J3Ot48v8/fYnc63jy/z99idzrePL/P1ZCBhBnCwBAVkIGEGcLAEBWQgYQZwsAQFZCBhBnCwBAfbDugyEdAEB9sO6DIR0AQH2w7oMhHQBAfbDugyEdAEB/EQAKZi8AQH8RAApmLwBAf/LSYsk7AEB/8tJiyTsAQH/y0mLJOwBAAx31HthJAEADHfUe2EkAQAMd9R7YSQBAAx31HthJAEC9p6V5l1UAQL2npXmXVQBAvaeleZdVAEC9p6V5l1UAQL2npXmXVQBAnaTuerBgAECdpO56sGAAQJ2k7nqwYABAwoUKcGlzAEDChQpwaXMAQMKFCnBpcwBAwoUKcGlzAEAZAudVfYYAQBkC51V9hgBAGQLnVX2GAEAZAudVfYYAQBkC51V9hgBAnjNAXfCcAECeM0Bd8JwAQJ4zQF3wnABAnjNAXfCcAEDaNP6LwbMAQNo0/ovBswBA2jT+i8GzAEDaNP6LwbMAQLSTwUiAxQBAtJPBSIDFAEC0k8FIgMUAQLSTwUiAxQBA/7oaXhLaAED/uhpeEtoAQP+6Gl4S2gBA/7oaXhLaAED2KIEojusAQC0uEKTW/ABALS4QpNb8AEAtLhCk1vwAQC0uEKTW/ABAachlRqcQAUBpyGVGpxABQGnIZUanEAFAachlRqcQAUDw8aFykh4BQPDxoXKSHgFA8PGhcpIeAUDw8aFykh4BQNWN06LrLgFA1Y3TousuAUDVjdOi6y4BQNWN06LrLgFA0db0F3M+AUDR1vQXcz4BQNHW9BdzPgFA0db0F3M+AUB+csnqt0sBQH5yyeq3SwFAfnLJ6rdLAUB+csnqt0sBQMiK7/M1XAFAyIrv8zVcAUDIiu/zNVwBQMiK7/M1XAFAjeXR1BBnAUCN5dHUEGcBQI3l0dQQZwFABYje7rhwAUAFiN7uuHABQAWI3u64cAFABYje7rhwAUB+sIA8/nABQH6wgDz+cAFAfrCAPP5wAUB+sIA8/nABQH6wgDz+cAFACBFdxoBpAUAIEV3GgGkBQNerGWReaQFA16sZZF5pAUDXqxlkXmkBQB4IEMOAZgFAHggQw4BmAUAeCBDDgGYBQB4IEMOAZgFAvERB1rRqAUC8REHWtGoBQLxEQda0agFAvERB1rRqAUAequfgZlYBQB6q5+BmVgFAHqrn4GZWAUAequfgZlYBQIzablJRHgFAjNpuUlEeAUCM2m5SUR4BQB59jmqV5QBAHn2OapXlAEAefY5qleUAQIMJnTX4ogBAgwmdNfiiAECDCZ01+KIAQIMJnTX4ogBAA61r6Z9oAEADrWvpn2gAQAOta+mfaABAA61r6Z9oAEBtXc0Wduf/P21dzRZ25/8/bV3NFnbn/z9tXc0Wduf/PzVzSFj9nP4/NXNIWP2c/j81c0hY/Zz+PzVzSFj9nP4/Gm0WkPLL/D8abRaQ8sv8PxptFpDyy/w/VMoxXAdI+j9UyjFcB0j6P/qswVmSUvc/+qzBWZJS9z/6rMFZklL3P/qswVmSUvc/bp1sM2Y38z9unWwzZjfzP26dbDNmN/M/bp1sM2Y38z+I/S9O5nXtP4j9L07mde0/iP0vTuZ17T+I/S9O5nXtPzgk2p1GZeU/OCTanUZl5T84JNqdRmXlPzgk2p1GZeU/egaEnoOM3j96BoSeg4zeP3oGhJ6DjN4/CogPGhUl2D8KiA8aFSXYPwqIDxoVJdg/CogPGhUl2D9RwMOzOlPVP1HAw7M6U9U/UcDDszpT1T9RwMOzOlPVP/9YfvK6stM//1h+8rqy0z//WH7yurLTP/9YfvK6stM/F8tL005k0j8Xy0vTTmTSPxfLS9NOZNI/F8tL005k0j/MBJGM0yLRP8wEkYzTItE/zASRjNMi0T/MBJGM0yLRP32g7nWYANA/faDudZgA0D9bMt/NZTnOP1sy381lOc4/WzLfzWU5zj9yJjfFE67MP3ImN8UTrsw/ciY3xROuzD9yJjfFE67MP32THCDIS8s/fZMcIMhLyz99kxwgyEvLP32THCDIS8s/JDa5uJUSyj8kNrm4lRLKPyQ2ubiVEso/JDa5uJUSyj/23o82vfjIP/bejza9+Mg/9t6PNr34yD/23o82vfjIP8lCkpCQHMg/yUKSkJAcyD/JQpKQkBzIP8lCkpCQHMg/pCwk04VOxz+kLCTThU7HP6QsJNOFTsc/pCwk04VOxz+4cA8eTlPGP7hwDx5OU8Y/uHAPHk5Txj+4cA8eTlPGPze8ckYzS8U/N7xyRjNLxT83vHJGM0vFP0EO1qSROcQ/QQ7WpJE5xD9BDtakkTnEP0EO1qSROcQ/HlSp2vxWwz8eVKna/FbDPwyx32K8xMI/DLHfYrzEwj8Msd9ivMTCPwyx32K8xMI/OVkULOFSwj85WRQs4VLCPzlZFCzhUsI/OVkULOFSwj9Z1NQc9NHBP1nU1Bz00cE/WdTUHPTRwT9elduNgyfBP16V242DJ8E/XpXbjYMnwT9elduNgyfBPxYkpISmasA/FiSkhKZqwD8WJKSEpmrAPxYkpISmasA/c//NQtkwvz9z/81C2TC/P3P/zULZML8/c//NQtkwvz9kyk3TVYe9P2TKTdNVh70/ZMpN01WHvT/FRXGSv+W7P8VFcZK/5bs/xUVxkr/luz/FRXGSv+W7P2rsIljBMro/auwiWMEyuj9q7CJYwTK6P2rsIljBMro/8FhajkObuD/wWFqOQ5u4P/BYWo5Dm7g/8FhajkObuD8bNjXuhiW3P0A9ZI7xurU/QD1kjvG6tT9APWSO8bq1P+97oZWeTrQ/73uhlZ5OtD/ve6GVnk60P+97oZWeTrQ/ZHsFeKXGsj9kewV4pcayP2R7BXilxrI/ZHsFeKXGsj8tXnLjiyOxPy1ecuOLI7E/LV5y44sjsT8tXnLjiyOxP3ru48wtvK4/eu7jzC28rj967uPMLbyuP3ru48wtvK4//vHhU3oUqz/+8eFTehSrP/7x4VN6FKs//vHhU3oUqz+XijVxwwWoP5eKNXHDBag/l4o1ccMFqD+XijVxwwWoP8xroNK3o6U/zGug0rejpT/Ma6DSt6OlP4KMsM4lKaQ/goywziUppD+CjLDOJSmkP4KMsM4lKaQ/UywF29KIoz9TLAXb0oijP1MsBdvSiKM/UywF29KIoz/thwkBxvOiP+2HCQHG86I/Q23cI6daoj9Dbdwjp1qiP0Nt3COnWqI/ajH3lirjoT9qMfeWKuOhP2ox95Yq46E/ajH3lirjoT9A6v26sIehP0Dq/bqwh6E/QOr9urCHoT9kW9Ra7kShP2Rb1FruRKE/ZFvUWu5EoT9kW9Ra7kShPxPjZXPJBaE/E+Nlc8kFoT8T42VzyQWhPxPjZXPJBaE/engSQiatoD96eBJCJq2gP3p4EkImraA/engSQiatoD9Gg3yeQ0ygP0aDfJ5DTKA/RoN8nkNMoD9Gg3yeQ0ygP+9ty2yg7Z8/723LbKDtnz/W6nd6qHWfP9bqd3qodZ8/1up3eqh1nz/W6nd6qHWfP5QLdm/dTZ8/lAt2b91Nnz+UC3Zv3U2fP7DkO3wlXp8/sOQ7fCVenz+w5Dt8JV6fP7DkO3wlXp8/OaZldSGanz85pmV1IZqfP4VdVFYq4p8/hV1UVirinz+FXVRWKuKfPzmBP7owEaA/OYE/ujARoD85gT+6MBGgPzmBP7owEaA/LRRoNGMwoD8tFGg0YzCgPy0UaDRjMKA/LRRoNGMwoD/NhA+QdkKgP82ED5B2QqA/zYQPkHZCoD/NhA+QdkKgP3aM3n8sUKA/dozefyxQoD92jN5/LFCgP3aM3n8sUKA/uVRzu9VOoD+5VHO71U6gP7lUc7vVTqA/m5DVNfhLoD+bkNU1+EugP5uQ1TX4S6A/m5DVNfhLoD/vHlWj2kmgP+8eVaPaSaA/7x5Vo9pJoD/vHlWj2kmgP2mKoZsZFaA/aYqhmxkVoD9piqGbGRWgPx3Nn2jZiZ8/Hc2faNmJnz8dzZ9o2YmfPx3Nn2jZiZ8/1BGsSKxwnj/UEaxIrHCeP1Sn10OfiZw/VKfXQ5+JnD9Up9dDn4mcP6W1sDIqTpo/pbWwMipOmj+ltbAyKk6aP6W1sDIqTpo/SVPqKUbhlz9JU+opRuGXP0lT6ilG4Zc/SVPqKUbhlz/pnySW08SVP+mfJJbTxJU/6Z8kltPElT/r8ZFx/4uUP+vxkXH/i5Q/6/GRcf+LlD/r8ZFx/4uUPw==",
          "dtype": "f8"
         },
         "yaxis": "y"
        }
       ],
       "layout": {
        "legend": {
         "tracegroupgap": 0
        },
        "template": {
         "data": {
          "bar": [
           {
            "error_x": {
             "color": "#2a3f5f"
            },
            "error_y": {
             "color": "#2a3f5f"
            },
            "marker": {
             "line": {
              "color": "#E5ECF6",
              "width": 0.5
             },
             "pattern": {
              "fillmode": "overlay",
              "size": 10,
              "solidity": 0.2
             }
            },
            "type": "bar"
           }
          ],
          "barpolar": [
           {
            "marker": {
             "line": {
              "color": "#E5ECF6",
              "width": 0.5
             },
             "pattern": {
              "fillmode": "overlay",
              "size": 10,
              "solidity": 0.2
             }
            },
            "type": "barpolar"
           }
          ],
          "carpet": [
           {
            "aaxis": {
             "endlinecolor": "#2a3f5f",
             "gridcolor": "white",
             "linecolor": "white",
             "minorgridcolor": "white",
             "startlinecolor": "#2a3f5f"
            },
            "baxis": {
             "endlinecolor": "#2a3f5f",
             "gridcolor": "white",
             "linecolor": "white",
             "minorgridcolor": "white",
             "startlinecolor": "#2a3f5f"
            },
            "type": "carpet"
           }
          ],
          "choropleth": [
           {
            "colorbar": {
             "outlinewidth": 0,
             "ticks": ""
            },
            "type": "choropleth"
           }
          ],
          "contour": [
           {
            "colorbar": {
             "outlinewidth": 0,
             "ticks": ""
            },
            "colorscale": [
             [
              0,
              "#0d0887"
             ],
             [
              0.1111111111111111,
              "#46039f"
             ],
             [
              0.2222222222222222,
              "#7201a8"
             ],
             [
              0.3333333333333333,
              "#9c179e"
             ],
             [
              0.4444444444444444,
              "#bd3786"
             ],
             [
              0.5555555555555556,
              "#d8576b"
             ],
             [
              0.6666666666666666,
              "#ed7953"
             ],
             [
              0.7777777777777778,
              "#fb9f3a"
             ],
             [
              0.8888888888888888,
              "#fdca26"
             ],
             [
              1,
              "#f0f921"
             ]
            ],
            "type": "contour"
           }
          ],
          "contourcarpet": [
           {
            "colorbar": {
             "outlinewidth": 0,
             "ticks": ""
            },
            "type": "contourcarpet"
           }
          ],
          "heatmap": [
           {
            "colorbar": {
             "outlinewidth": 0,
             "ticks": ""
            },
            "colorscale": [
             [
              0,
              "#0d0887"
             ],
             [
              0.1111111111111111,
              "#46039f"
             ],
             [
              0.2222222222222222,
              "#7201a8"
             ],
             [
              0.3333333333333333,
              "#9c179e"
             ],
             [
              0.4444444444444444,
              "#bd3786"
             ],
             [
              0.5555555555555556,
              "#d8576b"
             ],
             [
              0.6666666666666666,
              "#ed7953"
             ],
             [
              0.7777777777777778,
              "#fb9f3a"
             ],
             [
              0.8888888888888888,
              "#fdca26"
             ],
             [
              1,
              "#f0f921"
             ]
            ],
            "type": "heatmap"
           }
          ],
          "histogram": [
           {
            "marker": {
             "pattern": {
              "fillmode": "overlay",
              "size": 10,
              "solidity": 0.2
             }
            },
            "type": "histogram"
           }
          ],
          "histogram2d": [
           {
            "colorbar": {
             "outlinewidth": 0,
             "ticks": ""
            },
            "colorscale": [
             [
              0,
              "#0d0887"
             ],
             [
              0.1111111111111111,
              "#46039f"
             ],
             [
              0.2222222222222222,
              "#7201a8"
             ],
             [
              0.3333333333333333,
              "#9c179e"
             ],
             [
              0.4444444444444444,
              "#bd3786"
             ],
             [
              0.5555555555555556,
              "#d8576b"
             ],
             [
              0.6666666666666666,
              "#ed7953"
             ],
             [
              0.7777777777777778,
              "#fb9f3a"
             ],
             [
              0.8888888888888888,
              "#fdca26"
             ],
             [
              1,
              "#f0f921"
             ]
            ],
            "type": "histogram2d"
           }
          ],
          "histogram2dcontour": [
           {
            "colorbar": {
             "outlinewidth": 0,
             "ticks": ""
            },
            "colorscale": [
             [
              0,
              "#0d0887"
             ],
             [
              0.1111111111111111,
              "#46039f"
             ],
             [
              0.2222222222222222,
              "#7201a8"
             ],
             [
              0.3333333333333333,
              "#9c179e"
             ],
             [
              0.4444444444444444,
              "#bd3786"
             ],
             [
              0.5555555555555556,
              "#d8576b"
             ],
             [
              0.6666666666666666,
              "#ed7953"
             ],
             [
              0.7777777777777778,
              "#fb9f3a"
             ],
             [
              0.8888888888888888,
              "#fdca26"
             ],
             [
              1,
              "#f0f921"
             ]
            ],
            "type": "histogram2dcontour"
           }
          ],
          "mesh3d": [
           {
            "colorbar": {
             "outlinewidth": 0,
             "ticks": ""
            },
            "type": "mesh3d"
           }
          ],
          "parcoords": [
           {
            "line": {
             "colorbar": {
              "outlinewidth": 0,
              "ticks": ""
             }
            },
            "type": "parcoords"
           }
          ],
          "pie": [
           {
            "automargin": true,
            "type": "pie"
           }
          ],
          "scatter": [
           {
            "fillpattern": {
             "fillmode": "overlay",
             "size": 10,
             "solidity": 0.2
            },
            "type": "scatter"
           }
          ],
          "scatter3d": [
           {
            "line": {
             "colorbar": {
              "outlinewidth": 0,
              "ticks": ""
             }
            },
            "marker": {
             "colorbar": {
              "outlinewidth": 0,
              "ticks": ""
             }
            },
            "type": "scatter3d"
           }
          ],
          "scattercarpet": [
           {
            "marker": {
             "colorbar": {
              "outlinewidth": 0,
              "ticks": ""
             }
            },
            "type": "scattercarpet"
           }
          ],
          "scattergeo": [
           {
            "marker": {
             "colorbar": {
              "outlinewidth": 0,
              "ticks": ""
             }
            },
            "type": "scattergeo"
           }
          ],
          "scattergl": [
           {
            "marker": {
             "colorbar": {
              "outlinewidth": 0,
              "ticks": ""
             }
            },
            "type": "scattergl"
           }
          ],
          "scattermap": [
           {
            "marker": {
             "colorbar": {
              "outlinewidth": 0,
              "ticks": ""
             }
            },
            "type": "scattermap"
           }
          ],
          "scattermapbox": [
           {
            "marker": {
             "colorbar": {
              "outlinewidth": 0,
              "ticks": ""
             }
            },
            "type": "scattermapbox"
           }
          ],
          "scatterpolar": [
           {
            "marker": {
             "colorbar": {
              "outlinewidth": 0,
              "ticks": ""
             }
            },
            "type": "scatterpolar"
           }
          ],
          "scatterpolargl": [
           {
            "marker": {
             "colorbar": {
              "outlinewidth": 0,
              "ticks": ""
             }
            },
            "type": "scatterpolargl"
           }
          ],
          "scatterternary": [
           {
            "marker": {
             "colorbar": {
              "outlinewidth": 0,
              "ticks": ""
             }
            },
            "type": "scatterternary"
           }
          ],
          "surface": [
           {
            "colorbar": {
             "outlinewidth": 0,
             "ticks": ""
            },
            "colorscale": [
             [
              0,
              "#0d0887"
             ],
             [
              0.1111111111111111,
              "#46039f"
             ],
             [
              0.2222222222222222,
              "#7201a8"
             ],
             [
              0.3333333333333333,
              "#9c179e"
             ],
             [
              0.4444444444444444,
              "#bd3786"
             ],
             [
              0.5555555555555556,
              "#d8576b"
             ],
             [
              0.6666666666666666,
              "#ed7953"
             ],
             [
              0.7777777777777778,
              "#fb9f3a"
             ],
             [
              0.8888888888888888,
              "#fdca26"
             ],
             [
              1,
              "#f0f921"
             ]
            ],
            "type": "surface"
           }
          ],
          "table": [
           {
            "cells": {
             "fill": {
              "color": "#EBF0F8"
             },
             "line": {
              "color": "white"
             }
            },
            "header": {
             "fill": {
              "color": "#C8D4E3"
             },
             "line": {
              "color": "white"
             }
            },
            "type": "table"
           }
          ]
         },
         "layout": {
          "annotationdefaults": {
           "arrowcolor": "#2a3f5f",
           "arrowhead": 0,
           "arrowwidth": 1
          },
          "autotypenumbers": "strict",
          "coloraxis": {
           "colorbar": {
            "outlinewidth": 0,
            "ticks": ""
           }
          },
          "colorscale": {
           "diverging": [
            [
             0,
             "#8e0152"
            ],
            [
             0.1,
             "#c51b7d"
            ],
            [
             0.2,
             "#de77ae"
            ],
            [
             0.3,
             "#f1b6da"
            ],
            [
             0.4,
             "#fde0ef"
            ],
            [
             0.5,
             "#f7f7f7"
            ],
            [
             0.6,
             "#e6f5d0"
            ],
            [
             0.7,
             "#b8e186"
            ],
            [
             0.8,
             "#7fbc41"
            ],
            [
             0.9,
             "#4d9221"
            ],
            [
             1,
             "#276419"
            ]
           ],
           "sequential": [
            [
             0,
             "#0d0887"
            ],
            [
             0.1111111111111111,
             "#46039f"
            ],
            [
             0.2222222222222222,
             "#7201a8"
            ],
            [
             0.3333333333333333,
             "#9c179e"
            ],
            [
             0.4444444444444444,
             "#bd3786"
            ],
            [
             0.5555555555555556,
             "#d8576b"
            ],
            [
             0.6666666666666666,
             "#ed7953"
            ],
            [
             0.7777777777777778,
             "#fb9f3a"
            ],
            [
             0.8888888888888888,
             "#fdca26"
            ],
            [
             1,
             "#f0f921"
            ]
           ],
           "sequentialminus": [
            [
             0,
             "#0d0887"
            ],
            [
             0.1111111111111111,
             "#46039f"
            ],
            [
             0.2222222222222222,
             "#7201a8"
            ],
            [
             0.3333333333333333,
             "#9c179e"
            ],
            [
             0.4444444444444444,
             "#bd3786"
            ],
            [
             0.5555555555555556,
             "#d8576b"
            ],
            [
             0.6666666666666666,
             "#ed7953"
            ],
            [
             0.7777777777777778,
             "#fb9f3a"
            ],
            [
             0.8888888888888888,
             "#fdca26"
            ],
            [
             1,
             "#f0f921"
            ]
           ]
          },
          "colorway": [
           "#636efa",
           "#EF553B",
           "#00cc96",
           "#ab63fa",
           "#FFA15A",
           "#19d3f3",
           "#FF6692",
           "#B6E880",
           "#FF97FF",
           "#FECB52"
          ],
          "font": {
           "color": "#2a3f5f"
          },
          "geo": {
           "bgcolor": "white",
           "lakecolor": "white",
           "landcolor": "#E5ECF6",
           "showlakes": true,
           "showland": true,
           "subunitcolor": "white"
          },
          "hoverlabel": {
           "align": "left"
          },
          "hovermode": "closest",
          "mapbox": {
           "style": "light"
          },
          "paper_bgcolor": "white",
          "plot_bgcolor": "#E5ECF6",
          "polar": {
           "angularaxis": {
            "gridcolor": "white",
            "linecolor": "white",
            "ticks": ""
           },
           "bgcolor": "#E5ECF6",
           "radialaxis": {
            "gridcolor": "white",
            "linecolor": "white",
            "ticks": ""
           }
          },
          "scene": {
           "xaxis": {
            "backgroundcolor": "#E5ECF6",
            "gridcolor": "white",
            "gridwidth": 2,
            "linecolor": "white",
            "showbackground": true,
            "ticks": "",
            "zerolinecolor": "white"
           },
           "yaxis": {
            "backgroundcolor": "#E5ECF6",
            "gridcolor": "white",
            "gridwidth": 2,
            "linecolor": "white",
            "showbackground": true,
            "ticks": "",
            "zerolinecolor": "white"
           },
           "zaxis": {
            "backgroundcolor": "#E5ECF6",
            "gridcolor": "white",
            "gridwidth": 2,
            "linecolor": "white",
            "showbackground": true,
            "ticks": "",
            "zerolinecolor": "white"
           }
          },
          "shapedefaults": {
           "line": {
            "color": "#2a3f5f"
           }
          },
          "ternary": {
           "aaxis": {
            "gridcolor": "white",
            "linecolor": "white",
            "ticks": ""
           },
           "baxis": {
            "gridcolor": "white",
            "linecolor": "white",
            "ticks": ""
           },
           "bgcolor": "#E5ECF6",
           "caxis": {
            "gridcolor": "white",
            "linecolor": "white",
            "ticks": ""
           }
          },
          "title": {
           "x": 0.05
          },
          "xaxis": {
           "automargin": true,
           "gridcolor": "white",
           "linecolor": "white",
           "ticks": "",
           "title": {
            "standoff": 15
           },
           "zerolinecolor": "white",
           "zerolinewidth": 2
          },
          "yaxis": {
           "automargin": true,
           "gridcolor": "white",
           "linecolor": "white",
           "ticks": "",
           "title": {
            "standoff": 15
           },
           "zerolinecolor": "white",
           "zerolinewidth": 2
          }
         }
        },
        "title": {
         "text": "Stress / Strain of tensile_tests/04.03.25_WT.csv"
        },
        "xaxis": {
         "anchor": "y",
         "domain": [
          0,
          1
         ],
         "title": {
          "text": "Strain (%)"
         }
        },
        "yaxis": {
         "anchor": "x",
         "domain": [
          0,
          1
         ],
         "title": {
          "text": "Stress (MPa)"
         }
        }
       }
      }
     },
     "metadata": {},
     "output_type": "display_data"
    }
   ],
   "source": [
    "# 5.2 initial distance, 6mm width, 0.8mm thickness\n",
    "wt_filtered_df = calculate_stress_strain(\n",
    "    filename=wt_filename,\n",
    "    df=wt_df,\n",
    "    width=6,\n",
    "    thickness=0.8,\n",
    "    total_length=5.2,\n",
    "    init_distance=0.207,\n",
    "    final_distance=2.033594,\n",
    ")"
   ]
  },
  {
   "cell_type": "code",
   "execution_count": 60,
   "id": "57a6c95e",
   "metadata": {},
   "outputs": [
    {
     "name": "stdout",
     "output_type": "stream",
     "text": [
      "Failure Strain 0.3513 Peak Stress (MPa) 2.1770\n",
      "Young's Modulus 6.1975 MPa\n",
      "Total Toughness: 0.476844 J/m^3\n"
     ]
    },
    {
     "name": "stderr",
     "output_type": "stream",
     "text": [
      "/var/folders/_t/vlf4bw_n38x9ytx94_479wt80000gp/T/ipykernel_24667/155169248.py:57: SettingWithCopyWarning:\n",
      "\n",
      "\n",
      "A value is trying to be set on a copy of a slice from a DataFrame.\n",
      "Try using .loc[row_indexer,col_indexer] = value instead\n",
      "\n",
      "See the caveats in the documentation: https://pandas.pydata.org/pandas-docs/stable/user_guide/indexing.html#returning-a-view-versus-a-copy\n",
      "\n",
      "/var/folders/_t/vlf4bw_n38x9ytx94_479wt80000gp/T/ipykernel_24667/155169248.py:64: SettingWithCopyWarning:\n",
      "\n",
      "\n",
      "A value is trying to be set on a copy of a slice from a DataFrame.\n",
      "Try using .loc[row_indexer,col_indexer] = value instead\n",
      "\n",
      "See the caveats in the documentation: https://pandas.pydata.org/pandas-docs/stable/user_guide/indexing.html#returning-a-view-versus-a-copy\n",
      "\n",
      "/var/folders/_t/vlf4bw_n38x9ytx94_479wt80000gp/T/ipykernel_24667/155169248.py:69: FutureWarning:\n",
      "\n",
      "A value is trying to be set on a copy of a DataFrame or Series through chained assignment using an inplace method.\n",
      "The behavior will change in pandas 3.0. This inplace method will never work because the intermediate object on which we are setting values always behaves as a copy.\n",
      "\n",
      "For example, when doing 'df[col].method(value, inplace=True)', try using 'df.method({col: value}, inplace=True)' or df[col] = df[col].method(value) instead, to perform the operation inplace on the original object.\n",
      "\n",
      "\n",
      "\n",
      "/var/folders/_t/vlf4bw_n38x9ytx94_479wt80000gp/T/ipykernel_24667/155169248.py:69: SettingWithCopyWarning:\n",
      "\n",
      "\n",
      "A value is trying to be set on a copy of a slice from a DataFrame\n",
      "\n",
      "See the caveats in the documentation: https://pandas.pydata.org/pandas-docs/stable/user_guide/indexing.html#returning-a-view-versus-a-copy\n",
      "\n"
     ]
    }
   ],
   "source": [
    "calculate_youngs_modulus(wt_filtered_df, final_strain=0.351268, final_stress=2.177)"
   ]
  },
  {
   "cell_type": "markdown",
   "id": "caf6af89",
   "metadata": {},
   "source": [
    "# Graphing them together"
   ]
  },
  {
   "cell_type": "code",
   "execution_count": 67,
   "id": "87cfc20d",
   "metadata": {},
   "outputs": [
    {
     "data": {
      "image/png": "[encoded data removed]",
      "text/plain": [
       "<Figure size 1200x900 with 1 Axes>"
      ]
     },
     "metadata": {},
     "output_type": "display_data"
    }
   ],
   "source": [
    "import numpy as np\n",
    "import matplotlib.pyplot as plt\n",
    "from matplotlib import cm, colors\n",
    "import matplotlib as mpl\n",
    "\n",
    "# Global plot style\n",
    "plt.style.use('seaborn-v0_8-whitegrid')\n",
    "mpl.rcParams['font.family'] = 'Arial'\n",
    "mpl.rcParams['figure.facecolor'] = 'white'\n",
    "mpl.rcParams['axes.facecolor'] = 'white'\n",
    "mpl.rcParams['axes.linewidth'] = 1.0\n",
    "mpl.rcParams['axes.edgecolor'] = '#333333'\n",
    "mpl.rcParams['grid.alpha'] = 0.3\n",
    "mpl.rcParams['grid.linestyle'] = '--'\n",
    "\n",
    "# Create figure and axis\n",
    "fig, ax = plt.subplots(figsize=(8, 6), dpi=150)\n",
    "\n",
    "# Plotting the first dataframe\n",
    "ax.plot(100 * blsa_filtered_df['Strain (%)'], blsa_filtered_df['Stress (MPa)'],\n",
    "        label='NaOH Treated BslA-Activated', color='#5DADE2', linewidth=2, linestyle='-', marker='o')\n",
    "\n",
    "#         light_blue = '#5DADE2'\n",
    "# light_orange = '#F5B041'\n",
    "\n",
    "\n",
    "# Plotting the second dataframe\n",
    "ax.plot(100 * wt_filtered_df['Strain (%)'], wt_filtered_df['Stress (MPa)'],\n",
    "        label='Untreated Wild Type', color='#F5B041', linewidth=2, linestyle='--', marker='x')\n",
    "\n",
    "# Axis labels\n",
    "ax.set_xlabel('Strain (%)', fontsize=12, fontweight='bold')\n",
    "ax.set_ylabel('Stress (MPa)', fontsize=12, fontweight='bold')\n",
    "\n",
    "# Title (optional)\n",
    "# ax.set_title('Stress vs. Strain for BslA and WT Materials', fontsize=14, fontweight='bold', pad=15)\n",
    "\n",
    "# Ticks and grid\n",
    "ax.tick_params(axis='both', which='major', labelsize=10, width=1, length=4)\n",
    "ax.grid(True, linestyle='--', alpha=0.6)\n",
    "\n",
    "# Remove top and right spines for a cleaner look\n",
    "ax.spines['top'].set_visible(False)\n",
    "ax.spines['right'].set_visible(False)\n",
    "\n",
    "# Legend\n",
    "# ax.legend(fontsize=12, frameon=False)\n",
    "\n",
    "# Final layout adjustments\n",
    "plt.tight_layout()\n",
    "\n",
    "# Optional save\n",
    "# plt.savefig(\"stress_strain_comparison_styled.png\", dpi=300, bbox_inches='tight')\n",
    "\n",
    "# Show plot\n",
    "plt.show()\n"
   ]
  },
  {
   "cell_type": "markdown",
   "id": "f0ed1117",
   "metadata": {},
   "source": [
    "# Second experiment"
   ]
  },
  {
   "cell_type": "code",
   "execution_count": null,
   "id": "69b3e2b2",
   "metadata": {},
   "outputs": [
    {
     "data": {
      "application/vnd.plotly.v1+json": {
       "config": {
        "plotlyServerURL": "https://plot.ly"
       },
       "data": [
        {
         "hovertemplate": "Distance (millimeters)=%{x}<br>Force (Newtons)=%{y}<extra></extra>",
         "legendgroup": "",
         "line": {
          "color": "#636efa",
          "dash": "solid"
         },
         "marker": {
          "symbol": "circle"
         },
         "mode": "lines",
         "name": "",
         "showlegend": false,
         "type": "scattergl",
         "x": {
          "bdata": "AAAAAAAAAAAAAAAAAAAAAAAAAAAAAAAAAAAAAAAAAAAAAAAAAAAAAAAAAAAAAAAAAAAAAAAAAAAAAAAAAAAAAAAAAAAAAAAAAAAAAAAAAAAAAAAAAAAAAAAAAAAAAAAAAAAAAAAAAAAAAAAAAAAAAAAAAAAAAAAAAAAAAAAAAAAAAAAAAAAAAAAAAAAAAAAAAAAAAAAAAAAAAAAAAAAAAAAAAAAAAAAAAAAAAAAAAAAAAAAAAAAAAAAAAAAAAAAAAAAAAAAAAAAAAAAAAAAAAAAAAAAAAAAAAAAAAAAAAAAAAAAAAAAAAAAAAAAAAAAAAAAAAAAAAAAAAAAAAAAAAAAAAAAAAAAAAAAAAAAAAAAAAAAAAAAAAAAAAAAAAAAAAAAAAAAAAAAAAAAAAAAAAAAAAAAAAAAAAAAAAAAAAAAAAAAAAAAAAAAAAAAAAAAAAAAAAAAAAAAAAAAAAAAAAAAAAAAAAAAAAAAAAAAAAAAAAAAAAAAAAAAAAAAAAAAAAAAAAAAAAAAAAAAAAAAAAAAAAAAAAAAAAAAAAAAAAAAAAAAAAAAAAAAAAAAAAAAAAAAAAAAAAAAAAAAAAAAAAAAAAAAAAAAAAAAAAAAAAAAAAAAAAAAAAAAAAAAAAAAAAAAAAAAAAAAAAAAAAAAAAAAAAAAAAAAAAAAAAAAAAAAAAAAAAAAAAAAAAAAAAAAAAAAAAAAAAAAAAAAAAAAAAAAAAAAAAAAAAAAAAAAAAAAAAAAAAAAAAAAAAAAAAAAAAAAAAAAAAAAAAAAAAAAAAAAAAAAAAAAAAAAAAAAAAAAAAAAAAAAAAAAAAAAAAAAAAAAAAAAAAAAAAAAAAAAAAAAAAAAAAAAAAAAAAAAAAAAAAAAAAAAAAAAAAAAAAAAAAAAAAAAAAAAAAAAAAAAAAAAAAAAAAAAAAAAAAAAAAAAAAAAAAAAAAAAAAAAAAAAAAAAAAAAAAAAAAAAAAAAAAAAAAAAAAAAAAAAAAAAAAAAAAAAAAAAAAAAAAAAAAAAAAAAAAAAAAAAAAAAAAAAAAAAAAAAAAAAAAAAAAAAAAAAAAAAAAAAAAAAAAAAAAAAAAAAAAAAAAAAAAAAAAAAAAAAAAAAAAAAAAAAAAAAAAAAAAAAAAAAAAAAAAAAAAAAAAAAAAAAAAAAAAAAAAAAAAAAAAAAAAAAAAAAAAAAAAAAAAAAAAAAAAAAAAAAAAAAAAAAAAAAAAAAAAAAAAAAAAAAAAAAAAAAAAAAAAAAAAAAAAAAAAAAAAAAAAAAAAAAAAAAAAAAAAAAAAAAAAAAAAAAAAAAAAAAAAAAAAAAAAAAAAAAAAAAAAAAAAAAAAAAAAAAAAAAAAAAAAAAAAAAAAAAAAAAAAAAAAAAAAAAAAAAAAAAAAAAAAAAAAAAAAAAAAAAAAAAAAAAAAAAAAAAAAAAAAAAAAAAAAAAAAAAAAAAAAAAAAAAAAAAAAAAAAAAAAAAAAAAAAAAAAAAAAAAAAAAAAAAAAAAAAAAAAAAAAAAAAAAAAAAAAAAAAAAAAAAAAAAAAAAAAAAAAAAAAAAAAAAAAAAAAAAAAAAAAAAAAAAAAAAAAAAAAAAAAAAAAAAAAAAAAAAAAAAAAAAAAAAAAAAAAAAAAAAAAAAAAAAAAAAAAAAAAAAAAAAAAAAAAAAAAAAAAAAAAAAAAAAAAAAAAAAAAAAAAAAAAAAAAAAAAAAAAAAAAAAAAAAAAAAAAAAAAAAAAAAAAAAAAAAAAAAAAAAAAAAAAAAAAAAAAAAAAAAAAAAAAAAAAAAAAAAAAAAAAAAAAAAAAAAAAAAAAAAAAAAAAAAAAAAAAAAAAAAAAAAAAAAAAAAAAAAAAAAAAAAAAAAAAAAAAAAAAAAAAAAAAAAAAAAAAAAAAAAAAAAAAAAAAAAAAAAAAAAAAAAAAAAAAAAAAAAAAAAAAAAAAAAAAAAAAAAAAAAAAAAAAAAAAAAAAAAAAAAAAAAAAAAAAAAAAAAAAAAAAAAAAAAAAAAAAAAAAAAAAAAAAAAAAAAAAAAAAAAAAAAAAAAAAAAAAAAAAAAAAAAAAAAAAAAAAAAAAAAAAAAAAAAAAAAAAAAAAAAAAAAAAAAAAAAAAAAAAAAAAAAAAAAAAAAAAAAAAAAAAAAAAAAAAAAAAAAAAAAAAAAAAAAAAAAAAAAAAAAAAAAAAAAAAAAAAAAAAAAAAAAAAAAAAAAAAAAAAAAAAAAAAAAAAAAAAAAAAAAAAAAAAAAAAAAAAAAAAAAAAAAAAAAAAAAAAAAAAAAAAAAAAAAAAAAAAAAAAAAAAAAAAAAAAAAAAAAAAAAAAAAAAAAAAAAAAAAAAAAAAAAAAAAAAAAAAAAAAAAAAAAAAAAAAAAAAAAAAAAAAAAAAAAAAAAAAAAAAAAAAAAAAAAAAAAAAAAAAAAAAAAAAAAAAAAAAAAAAAAAAAAAAAAAAAAAAAAAAAAAAAAAAAAAAAAAAAAAAAAAAAAAAAAAAAAAAAAAAAAAAAAAAAAAAAAAAAAAAAAAAAAAAAAAAAAAAAAAAAAAAAAAAAAAAAAAAAAAAAAAAAAAAAAAAAAAAAAAAAAAAAAAAAAAAAAAAAAAAAAAAAAAAAAAAAAAAAAAAAAAAAAAAAAAAAAAAAAAAAAAAAAAAAAAAAAAAAAAAAAAAAAAAAAAAAAAAAAAAAAAAAAAAAAAAAAAAAAAAAAAAAAAAAAAAAAAAAAAAAAAAAAAAAAAAAAAAAAAAAAAAAAAAAAAAAAAAAAAAAAAAAAAAAAAAAAAAAAAAAAAAAAAAAAAAAAAAAAAAAAAAAAAAAAAAAAAAAAAAAAAAAAAAAAAAAAAAAAAAAAAAAAAAAAAAAAAAAAAAAAAAAAAAAAAAAAAAAAAAAAAAAAAAAAAAAAAAAAAAAAAAAAAAAAAAAAAAAAAAAAAAAAAAAAAAAAAAAAAAAAAAAAAAAAAAAAAAAAAAAAAAAAAAAAAAAAAAAAAAAAAAAAAAAAAAAAAAAAAAAAAAAAAAAAAAAAAAAAAAAAAAAAAAAAAAAAAAAAAAAAAAAAAAAAAAAAAAAAAAAAAAAAAAAAAAAAAAAAAAAAAAAAAAAAAAAAAAAAAAAAAAAAAAAAAAAAAAAAAAAAAAAAAAAAAAAAAAAAAAAAAAAAAAAAAAAAAAAAAAAAAAAAAAAAAAAAAAAAAAAAAAAAAAAAAAAAAAAAAAAAAAAAAAAAAAAAAAAAAAAAAAAAAAAAAAAAAAAAAAAAAAAAAAAAAAAAAAAAAAAAAAAAAAAAAAAAAAAAAAAAAAAAAAAAAAAAAAAAAAAAAAAAAAAAAAAAAAAAAAAAAAAAAAAAAAAAAAAAAAAAAAAAAAAAAAAAAAAAAAAAAAAAAAAAAAAAAAAAAAAAAAAAAAAAAAAAAAAAAAAAAAAAAAAAAAAAAAAAAAAAAAAAAAAAAAAAAAAAAAAAAAAAAAAAAAAAAAAAAAAAAAAAAAAAAAAAAAAAAAAAAAAAAAAAAAAAAAAAAAAAAAAAAAAAAAAAAAAAAAAAAAAAAAAAAAAAAAAAAAAAAAAAAAAAAAAAAAAAAAAAAAAAAAAAAAAAAAAAAAAAAAAAAAAAAAAAAAAAAAAAAAAAAAAAAAAAAAAAAAAAAAAAAAAAAAAAAAAAAAAAAAAAAAAAAAAAAAAAAAAAAAAAAAAAAAAAAAAAAAAAAAAAAAAAAAAAAAAAAAAAAAAAAAAAAAAAAAAAAAAAAAAAAAAAAAAAAAAAAAAAAAAAAAAAAAAAAAAAAAAAAAAAAAAAAAAAAAAAAAAAAAAAAAAAAAAAAAAAAAAAAAAAAAAAAAAAAAAAAAAAAAAAAAAAAAAAAAAAAAAAAAAAAAAAAAAAAAAAAAAAAAAAAAAAAAAAAAAAAAAAAAAAAAAAAAAAAAAAAAAAAAAAAAAAAAAAAAAAAAAAAAAAAAAAAAAAAAAAAAAAAAAAAAAAAAAAAAAAAAAAAAAAAAAAAAAAAAAAAAAAAAAAAAAAAAAAAAAAAAAAAAAAAAAAAAAAAAAAAAAAAAAAAAAAAAAAAAAAAAAAAAAAAAAAAAAAAAAAAAAAAAAAAAAAAAAAAAAAAAAAAAAAAAAAAAAAAAAAAAAAAAAAAAAAAAAAAAAAAAAAAAAAAAAAAAAAAAAAAAAAAAAAAAAAAAAAAAAAAAAAAAAAAAAAAAAAAAAAAAAAAAAAAAAAAAAAAAAAAAAAAAAAAAAAAAAAAAAAAAAAAAAAAAAAAAAAAAAAAAAAAAAAAAAAAAAAAAAAAAAAAAAAAAAAAAAAAAAAAAAAAAAAAAAAAAAAAAAAAAAAAAAAAAAAAAAAAAAAAAAAAAAAAAAAAAAAAAAAAAAAAAAAAAAAAAAAAAAAAAAAAAAAAAAAAAAAAAAAAAAAAAAAAAAAAAAAAAAAAAAAAAAAAAAAAAAAAAAAAAAAAAAAAAAAAAAAAAAAAAAAAAAAAAAAAAAAAAAAAAAAAAAAAAAAAAAAAAAAAAAAAAAAAAAAAAAAAAAAAAAAAAAAAAAAAAAAAAAAAAAAAAAAAAAAAAAAAAAAAAAAAAAAAAAAAAAAAAAAAAAAAAAAAAAAAAAAAAAAAAAAAAAAAAAAAAAAAAAAAAAAAAAAAAAAAAAAAAAAAAAAAAAAAAAAAAAAAAAAAAAAAAAAAAAAAAAAAAAAAAAAAAAAAAAAAAAAAAAAAAAAAAAAAAAAAAAAAAAAAAAAAAAAAAAAAAAAAAAAAAAAAAAAAAAAAAAAAAAAAAAAAAAAAAAAAAAAAAAAAAAAAAAAAAAAAAAAAAAAAAAAAAAAAAAAAAAAAAAAAAAAAAAAAAAAAAAAAAAAAAAAAAAAAAAAAAAAAAAAAAAAAAAAAAAAAAAAAAAAAAAAAAAAAAAAAAAAAAAAAAAAAAAAAAAAAAAAAAAAAAAAAAAAAAAAAAAAAAAAAAAAAAAAAAAAAAAAAAAAAAAAAAAAAAAAAAAAAAAAAAAAAAAAAAAAAAAAAAAAAAAAAAAAAAAAAAAAAAAAAAAAAAAAAAAAAAAAAAAAAAAAAAAAAAAAAAAAAAAAAAAAAAAAAAAAAAAAAAAAAAAAAAAAAAAAAAAAAAAAAAAAAAAAAAAAAAAAAAAAAAAAAAAAAAAAAAAAAAAAAAAAAAAAAAAAAAAAAAAAAAAAAAAAAAAAAAAAAAAAAAAAAAAAAAAAAAAAAAAAAAAAAAAAAAAAAAAAAAAAAAAAAAAAAAAAAAAAAAAAAAAAAAAAAAAAAAAAAAAAAAAAAAAAAAAAAAAAAAAAAAAAAAAAAAAAAAAAAAAAAAAAAAAAAAAAAAAAAAAAAAAAAAAAAAAAAAAAAAAAAAAAAAAAAAAAAAAAAAAAAAAAAAJqZmZmZmRk/mpmZmZmZGT+amZmZmZkpPzMzMzMzMzM/mpmZmZmZOT8AAAAAAABAPzLJzMzMzEw/MzMzMzMzUz9mZmZmZmZWPzMzMzMzM1s/ZmZmZmZmXj+amZmZmZlhPwAAAAAAAGQ/MzMzMzMzZz+amZmZmZlpP+bLzMzMzGw/MzMzMzMzbz8zMzMzMzNxPzMzMzMzM3M/zczMzMzMdD9azMzMzMx2P2ZmZmZmZng/ZmZmZmZmej8AAAAAAAB8P2ZmZmZmZn4/MzMzMzMzgD8zMzMzMzOBPwAAAAAAAIM/MzMzMzMzhD9mZmZmZmaFP2CZmZmZmYY/k8zMzMzMhz8zMzMzMzOJP2ZmZmZmZoo/k8zMzMzMiz8zMzMzMzONP83MzMzMzI4/mpmZmZkZkD9mZmZmZuaQPzMzMzMzs5E/ZmZmZmZmkj/NzMzMzEyTP32ZmZmZGZQ/AAAAAAAAlT/NzMzMzMyVP2ZmZmZm5pY/sMzMzMzMlz8zMzMzM7OYP5qZmZmZmZk/mpmZmZmZmj8zMzMzM7ObPzMzMzMzs5w/mpmZmZmZnT8zMzMzM7OePzMzMzMzs58/ZmZmZmZmoD9mZmZmZuagPwAAAAAAgKE/zczMzMwMoj+amZmZmZmiPwAAAAAAQKM/zczMzMzMoz9mZmZmZmakPwAAAAAAAKU/vszMzMyMpT8zMzMzMzOmP77MzMzMzKY/zczMzMyMpz8AAAAAAECoPzMzMzMz86g/ZmZmZmamqT++zMzMzEyqP83MzMzMDKs/vszMzMzMqz/NzMzMzIysP83MzMzMTK0/AAAAAAAArj/NzMzMzMyuP77MzMzMjK8/ZmZmZmYmsD8AAAAAAICwP8bMzMzM7LA/mpmZmZlZsT8AAAAAAMCxP8bMzMzMLLI/AAAAAACgsj/NzMzMzAyzP8bMzMzMbLM/mpmZmZnZsz8AAAAAAEC0P5KZmZmZubQ/ZmZmZmYmtT8zMzMzM5O1P2ZmZmZmBrY/AAAAAACAtj8AAAAAAAC3P5qZmZmZebc/MzMzMzPztz/GzMzMzGy4P2ZmZmZm5rg/AAAAAABguT+amZmZmdm5PzMzMzMzU7o/MzMzMzPTuj/NzMzMzEy7P8bMzMzMzLs/MzMzMzNTvD+SmZmZmdm8P5qZmZmZWb0/AAAAAADgvT8AAAAAAGC+P8bMzMzM7L4/MzMzMzNzvz+SmZmZmfm/P5qZmZmZOcA/zczMzMwMwT8zMzMzM4PBP2ZmZmZmxsE/zczMzMwMwj/NzMzMzEzCP83MzMzMjMI/yczMzMzMwj8zMzMzMxPDPwAAAAAAYMM/MzMzMzOjwz+amZmZmenDP2ZmZmZmJsQ/lpmZmZlpxD+amZmZmanEP5qZmZmZScU/AAAAAACQxT9mZmZmZtbFP2ZmZmZmFsY/zczMzMxcxj/NzMzMzJzGPzMzMzMz48Y/ZmZmZmYmxz+amZmZmWnHP5qZmZmZqcc/MzMzMzPzxz/NzMzMzDzIPwAAAAAAgMg/MzMzMzPDyD8zMzMzMwPJP5qZmZmZSck/mpmZmZmJyT8AAAAAANDJPwAAAAAAEMo/ZmZmZmZWyj+amZmZmZnKPwAAAAAA4Mo/MzMzMzMjyz+amZmZmQnMPwAAAAAAUMw/zczMzMyMzD+amZmZmcnMP8nMzMzMDM0/ZmZmZmZWzT+amZmZmZnNPzMzMzMz480/lpmZmZkpzj8AAAAAAHDOPwAAAAAAsM4/ZmZmZmb2zj/JzMzMzDzPPzMzMzMzg88/mpmZmZnJzz+amZmZmQnQP83MzMzMLNA/ZmZmZmZO0D+YmZmZmXHQPwAAAAAAmNA/mpmZmZm50D8zMzMzM9vQP83MzMzM/NA/MzMzMzMj0T/NzMzMzETRP8vMzMzMZNE/zczMzMyE0T8AAAAAAKjRP2ZmZmZmxtE/ZmZmZmbm0T8AAAAAAAjSPwAAAAAAKNI/zczMzMxM0j9mZmZmZm7SPwAAAAAAkNI/mpmZmZmx0j8zMzMzM9PSP8vMzMzM9NI/mpmZmZlh0z/NzMzMzJzTP2ZmZmZmvtM/mJmZmZnh0z/NzMzMzATUP5iZmZmZKdQ/MzMzMzNL1D/NzMzMzGzUP83MzMzMjNQ/y8zMzMys1D8AAAAAANDUPzMzMzMz89Q/AAAAAAAY1T8zMzMzMzvVP8vMzMzMZNU/MzMzMzOL1T/NzMzMzKzVP5iZmZmZ0dU/MzMzMzPz1T/LzMzMzBTWP2ZmZmZmNtY/MzMzMzNb1j/LzMzMzHzWP83MzMzMnNY/zczMzMy81j+amZmZmeHWP2ZmZmZmBtc/mpmZmZkp1z+YmZmZmUnXP8vMzMzMbNc/zczMzMyM1z/NzMzMzKzXPwAAAAAA0Nc/ZmZmZmZG2D/LzMzMzGzYP2ZmZmZmjtg/mJmZmZmx2D8zMzMzM9PYP2ZmZmZm9tg/MzMzMzMb2T8AAAAAAEDZP2ZmZmZmZtk/ZmZmZmaG2T8zMzMzM6vZP2ZmZmZmztk/mJmZmZnx2T+YmZmZmRnaP8vMzMzMPNo/MzMzMzNj2j8zMzMzM4vaP83MzMzMrNo/zczMzMzU2j9mZmZmZvbaP83MzMzMHNs/AAAAAABA2z8zMzMzM2PbP8vMzMzMjNs/MzMzMzOz2z/LzMzMzNzbPwAAAAAAANw/zczMzMwk3D/LzMzMzETcPwAAAAAAaNw/MzMzMzOL3D+YmZmZmbHcP83MzMzM1Nw/AAAAAAD43D8AAAAAABjdP5iZmZmZOd0/y8zMzMxc3T+amZmZmYHdP83MzMzMBN4/mpmZmZlJ3j9mZmZmZm7eP2ZmZmZmlt4/MzMzMzO73j9mZmZmZt7eP83MzMzMBN8/AAAAAAAo3z/NzMzMzFTfP5qZmZmZed8/MzMzMzOb3z/LzMzMzMTfP5qZmZmZ6d8/zczMzMwE4D+amZmZmRngPzMzMzMzL+A/ZmZmZmZG4D9nZmZmZl7gP5mZmZmZceA/MzMzMzOH4D/NzMzMzJjgP83MzMzMrOA/NDMzMzO/4D+amZmZmdHgP2ZmZmZm4uA/AAAAAAD04D+amZmZmQnhPzMzMzMzG+E/MzMzMzMv4T9mZmZmZkLhP2ZmZmZmUuE/zMzMzMy04T+amZmZmcnhPwAAAAAA3OE/mZmZmZnt4T9mZmZmZv7hPwAAAAAAEOI/ZmZmZmYi4j9mZmZmZjLiPwAAAAAAROI/zMzMzMxU4j9nZmZmZmbiP83MzMzMeOI/mpmZmZmJ4j9mZmZmZpriPwAAAAAArOI/AAAAAADA4j9mZmZmZtLiPwAAAAAA5OI/AAAAAAD44j/MzMzMzAjjP83MzMzMGOM/ZmZmZmYq4z8AAAAAADzjP83MzMzMTOM/ZmZmZmZe4z/NzMzMzHDjPwAAAAAAhOM/AAAAAACU4z+ZmZmZmaXjP2ZmZmZmtuM/MzMzMzPH4z9mZmZmZtbjP5qZmZmZ5eM/mZmZmZn14z/NzMzMzCjkPzMzMzMzO+Q/Z2ZmZmZK5D8AAAAAAFzkPzMzMzMzb+Q/AAAAAACA5D80MzMzM5PkP2ZmZmZmpuQ/ZmZmZma65D+ZmZmZmc3kP2ZmZmZm3uQ/ZmZmZmby5D+ZmZmZmQXlP83MzMzMGOU/MzMzMzMr5T8AAAAAADzlP2dmZmZmTuU/zMzMzMxg5T9mZmZmZnLlP5qZmZmZheU/AAAAAACY5T80MzMzM6vlPwAAAAAAwOU/zczMzMzQ5T+ZmZmZmeHlP2ZmZmZm9uU/NDMzMzML5j8AAAAAACDmP2ZmZmZmMuY/mZmZmZlF5j8zMzMzM1fmP8zMzMzMaOY/zMzMzMx85j+amZmZmY3mPzMzMzMzn+Y/MzMzMzOz5j+amZmZmcXmP83MzMzM2OY/zczMzMwQ5z8AAAAAACTnP5mZmZmZNec/zczMzMxI5z8AAAAAAFznPwAAAAAAcOc/MzMzMzOD5z9nZmZmZpbnP2dmZmZmquc/AAAAAAC85z8AAAAAANDnP5qZmZmZ4ec/AAAAAAD05z/MzMzMzAjoPwAAAAAAHOg/MzMzMzMv6D9mZmZmZkLoP5qZmZmZVeg/AAAAAABo6D9mZmZmZnroP83MzMzMjOg/zczMzMyg6D9mZmZmZrLoP5mZmZmZxeg/MzMzMzPX6D9nZmZmZuroP2dmZmZm/ug/AAAAAAAQ6T9nZmZmZiLpP2dmZmZmNuk/AAAAAABI6T9nZmZmZl7pP5qZmZmZcek/zMzMzMyE6T8AAAAAAJjpP5qZmZmZrek/mpmZmZnB6T9nZmZmZgLqPzQzMzMzH+o/mZmZmZkx6j9mZmZmZkbqPwAAAAAAWOo/ZmZmZmZq6j9mZmZmZn7qPzMzMzMzj+o/Z2ZmZmai6j/MzMzMzLTqP2dmZmZmxuo/AAAAAADY6j8AAAAAAPzqP5mZmZmZDes/zMzMzMwo6z8AAAAAADzrP83MzMzMTOs/NDMzMzNf6z9mZmZmZnLrPzQzMzMzg+s/AAAAAACU6z9nZmZmZqbrPwAAAAAAuOs/zMzMzMzI6z8zMzMzM9vrP2ZmZmZm7us/AAAAAAAA7D9mZmZmZhLsP2ZmZmZmJuw/mZmZmZk57D8AAAAAAEzsP2ZmZmZmiuw/AAAAAACg7D80MzMzM7PsP2ZmZmZmxuw/zczMzMzY7D8zMzMzM+vsPwAAAAAAAO0/zczMzMwQ7T8AAAAAAFTtP2ZmZmZmZu0/mpmZmZl57T/NzMzMzIztPwAAAAAAvO0/zczMzMzU7T/NzMzMzOjtP2ZmZmZm+u0/ZmZmZmYO7j/NzMzMzCDuPzMzMzMzM+4/MzMzMzNH7j9mZmZmZlruPzMzMzMzb+4/mpmZmZmB7j/NzMzMzJTuP83MzMzMqO4/MzMzMzO77j8AAAAAANDuPzMzMzMz4+4/MzMzMzP37j/NzMzMzAjvPzMzMzMzG+8/ZmZmZmYu7z/NzMzMzEDvP2ZmZmZmUu8/zczMzMxk7z+amZmZmXXvPzMzMzMzh+8/zczMzMyc7z8zMzMzM6/vPzMzMzMzw+8/mpmZmZnV7z+amZmZmenvP5qZmZmZ/e8/mpmZmZkH8D9mZmZmZhDwP5qZmZmZGfA/zczMzMw68D8AAAAAAETwP8zMzMzMTPA/ZmZmZmZW8D8zMzMzM1/wP83MzMzMaPA/zczMzMxy8D9mZmZmZnzwPzMzMzMzh/A/zczMzMyQ8D8AAAAAAJrwP83MzMzMovA/AAAAAACs8D8AAAAAALbwP83MzMzMvvA/ZmZmZmbI8D9mZmZmZtLwP5qZmZmZ2/A/mpmZmZnl8D8zMzMzM+/wPzMzMzMz+fA/ZmZmZmYC8T8zMzMzMwvxPzMzMzMzFfE/AAAAAAAe8T8AAAAAACjxP83MzMzMMPE/MzMzMzM78T8zMzMzM0XxP83MzMzMTvE/zczMzMxY8T8AAAAAAGLxPzMzMzMza/E/AAAAAAB28T/NzMzMzIbxPwAAAAAAkPE/MzMzMzOZ8T9mZmZmZrTxPwAAAAAAvvE/mpmZmZnH8T8AAAAAANDxP2ZmZmZm2PE/mpmZmZnh8T/NzMzMzOrxPwAAAAAA9PE/MzMzMzP98T/NzMzMzAbyP5qZmZmZD/I/AAAAAAAa8j+amZmZmSPyP5qZmZmZLfI/mpmZmZk38j8zMzMzM0HyP2ZmZmZmSvI/mpmZmZlT8j/NzMzMzFzyPwAAAAAAZvI/zczMzMxu8j9mZmZmZnjyP83MzMzMgPI/MzMzMzOJ8j+amZmZmZPyPzMzMzMznfI/mpmZmZmn8j/NzMzMzLDyP2ZmZmZmuvI/ZmZmZmbE8j8zMzMzM83yPwAAAAAA1vI/mpmZmZnf8j/NzMzMzOjyP2ZmZmZm8vI/mpmZmZn78j/NzMzMzATzP2ZmZmZmDvM/NDMzMzMr8z9mZmZmZjTzP5qZmZmZPfM/MzMzMzNH8z+amZmZmU/zP5qZmZmZWfM/zMzMzMxi8z8AAAAAAGzzPwAAAAAAdvM/mpmZmZl/8z+amZmZmYnzPwAAAAAAkvM/mpmZmZmb8z8zMzMzM6XzP2ZmZmZmrvM/zczMzMy28z8AAAAAAMDzP2ZmZmZmyPM/MzMzMzPR8z8zMzMzM9vzP2ZmZmZm5PM/AAAAAADu8z+amZmZmffzP83MzMzMAPQ/ZmZmZmYK9D8AAAAAABT0PzMzMzMzHfQ/AAAAAAAm9D80MzMzMy/0PwAAAAAAOPQ/ZmZmZmZC9D9mZmZmZkz0PwAAAAAAVvQ/MzMzMzNf9D8AAAAAAGj0PwAAAAAAcvQ/mpmZmZmN9D8AAAAAAJj0P2ZmZmZmovQ/mpmZmZmr9D+amZmZmbX0P83MzMzMvvQ/MzMzMzPH9D/NzMzMzND0PwAAAAAA2vQ/NDMzMzPj9D9mZmZmZuz0P5qZmZmZ9fQ/ZmZmZmb+9D8AAAAAAAj1P8zMzMzMEPU/zMzMzMwa9T9mZmZmZiT1P5qZmZmZLfU/MzMzMzM39T9mZmZmZkD1PwAAAAAASvU/AAAAAABU9T8AAAAAAF71P2ZmZmZmaPU/mpmZmZlx9T8AAAAAAHz1P5qZmZmZhfU/AAAAAACO9T/MzMzMzJb1P2ZmZmZmoPU/mpmZmZmp9T/NzMzMzLL1PwAAAAAAvPU/AAAAAADG9T9mZmZmZs71P5qZmZmZ1/U/mpmZmZn19T/NzMzMzP71PwAAAAAACPY/AAAAAAAS9j8AAAAAABz2P83MzMzMJPY/AAAAAAAu9j8AAAAAADj2PwAAAAAAQvY/zMzMzMxK9j+amZmZmVP2PzMzMzMzXfY/AAAAAABm9j80MzMzM2/2P2ZmZmZmePY/mpmZmZmB9j/NzMzMzIr2P2ZmZmZmlPY/MzMzMzOd9j8zMzMzM6f2PwAAAAAAsPY/NDMzMzO59j8AAAAAAML2PzMzMzMzy/Y/ZmZmZmbU9j8AAAAAAN72PzQzMzMz5/Y/zMzMzMzw9j80MzMzM/v2P8zMzMzMBPc/zMzMzMwc9z9mZmZmZib3PwAAAAAAMPc/AAAAAAA69z+amZmZmUX3P8zMzMzMTvc/mpmZmZlX9z+amZmZmWH3PzMzMzMzf/c/zczMzMyI9z8AAAAAAJL3P5qZmZmZm/c/AAAAAACm9z+amZmZma/3PwAAAAAAuvc/mpmZmZnD9z8AAAAAAM73P5qZmZmZ1/c/zMzMzMzg9z8AAAAAAOr3PzMzMzMz8/c/MzMzMzP99z/NzMzMzAb4P2ZmZmZmEPg/mpmZmZkZ+D8zMzMzMyP4PzMzMzMzLfg/zczMzMw2+D8zMzMzM0H4PzMzMzMzS/g/ZmZmZmZU+D8AAAAAAF74P5qZmZmZZ/g/mpmZmZlx+D/MzMzMzHr4PwAAAAAAhPg/mpmZmZmN+D9mZmZmZpb4P83MzMzMoPg/AAAAAACq+D8AAAAAALT4P5qZmZmZvfg/AAAAAADI+D80MzMzM9H4P2ZmZmZm2vg/MzMzMzP3+D/NzMzMzAD5P2ZmZmZmCvk/MzMzMzMT+T8zMzMzMx35PzMzMzMzJ/k/MzMzMzMx+T/NzMzMzDr5PwAAAAAARPk/NDMzMzNN+T80MzMzM1f5P5qZmZmZYfk/NDMzMzNr+T/MzMzMzHT5P2ZmZmZmfvk/ZmZmZmaI+T9mZmZmZpL5P2ZmZmZmnPk/AAAAAACm+T8zMzMzM6/5PzMzMzMzufk/AAAAAADC+T80MzMzM8v5P5qZmZmZ1fk/ZmZmZmbe+T8AAAAAAOr5P5qZmZmZ8/k/zMzMzMz8+T+amZmZmQf6PzQzMzMzEfo/NDMzMzMb+j9mZmZmZiT6PwAAAAAALvo/mpmZmZk3+j8AAAAAAEL6P5qZmZmZS/o/MzMzMzNV+j9mZmZmZl76P83MzMzMevo/MzMzMzOH+j9mZmZmZpD6PzMzMzMzm/o/MzMzMzOl+j8zMzMzM6/6PwAAAAAAuPo/mpmZmZnB+j+amZmZmcv6P2ZmZmZm1Po/AAAAAADe+j9mZmZmZuj6P5qZmZmZ8fo/NDMzMzP7+j8AAAAAAAT7P8zMzMzMDvs/AAAAAAAY+z8zMzMzMyH7PzMzMzMzK/s/AAAAAAA0+z+amZmZmT37P5qZmZmZR/s/MzMzMzNd+z8AAAAAAGr7P8zMzMzMcvs/NDMzMzN9+z/MzMzMzIb7PzQzMzMzkfs/zMzMzMya+z+amZmZmaX7PzQzMzMzr/s/mpmZmZm5+z80MzMzM8P7P5qZmZmZzfs/ZmZmZmbW+z+amZmZmd/7PwAAAAAA6vs/mpmZmZnz+z/NzMzMzPz7P5qZmZmZG/w/zczMzMwo/D+amZmZmTH8PwAAAAAAPPw/mpmZmZlF/D9mZmZmZlD8PwAAAAAAWvw/zczMzMxk/D8AAAAAAG78PzMzMzMzefw/zczMzMyC/D8AAAAAAI78P5qZmZmZl/w/ZmZmZmai/D+amZmZmav8P83MzMzMtvw/AAAAAADA/D8zMzMzM8v8P83MzMzM1Pw/mpmZmZnf/D8zMzMzM+n8P2ZmZmZm9Pw/AAAAAAD+/D/NzMzMzAj9PwAAAAAAEv0/MzMzMzMb/T8AAAAAACb9PwAAAAAAMP0/ZmZmZmY6/T8AAAAAAET9PzMzMzMzT/0/zczMzMxa/T8AAAAAAGT9P5qZmZmZbf0/AAAAAAB4/T8AAAAAAIL9P83MzMzMjP0/ZmZmZmaW/T8zMzMzM6H9PwAAAAAAvP0/MzMzMzPJ/T8zMzMzM9P9P83MzMzM3P0/ZmZmZmbm/T8AAAAAAPD9P5qZmZmZ+f0/mpmZmZkD/j/NzMzMzAz+P2ZmZmZmFv4/zczMzMwg/j8AAAAAACr+P83MzMzMNP4/ZmZmZmY+/j+amZmZmUn+PzMzMzMzU/4/MzMzMzNd/j9mZmZmZmb+PzMzMzMzcf4/ZmZmZmZ6/j9mZmZmZoT+P2ZmZmZmjv4/mpmZmZmX/j9mZmZmZqL+P5qZmZmZq/4/zczMzMy2/j8AAAAAAMD+PwAAAAAAyv4/AAAAAADU/j8AAAAAAOD+PwAAAAAA6v4/MzMzMzP1/j8zMzMzM//+PzMzMzMzCf8/AAAAAAAS/z8zMzMzMx3/P2ZmZmZmJv8/zczMzMxE/z/NzMzMzFL/P2ZmZmZmXP8/ZmZmZmZm/z9mZmZmZnD/P5qZmZmZef8/mpmZmZmD/z+amZmZmY3/P2ZmZmZmmP8/mpmZmZmh/z9mZmZmZqz/P2ZmZmZmtv8/MzMzMzPB/z9mZmZmZsr/P5qZmZmZ1f8/zczMzMze/z8AAAAAAOr/P5qZmZmZ8/8/ZmZmZmb+/z8zMzMzMwQAQGdmZmZmCQBAMzMzMzMOAEDNzMzMzBMAQJqZmZmZGABAAAAAAAAeAEDNzMzMzCIAQDMzMzMzKABAzczMzMwsAEBmZmZmZjIAQDMzMzMzNwBAmpmZmZk8AEBmZmZmZkEAQAAAAAAARwBAmpmZmZlLAEA0MzMzM1EAQM3MzMzMVQBAZmZmZmZbAEA0MzMzM2AAQGZmZmZmbgBAzczMzMx0AEAAAAAAAHoAQAAAAAAAfwBAZmZmZmaEAEAzMzMzM4kAQJqZmZmZjgBAMzMzMzOTAEDNzMzMzJgAQJqZmZmZnQBAAAAAAACjAEDNzMzMzKcAQGZmZmZmrQBAMzMzMzOyAECamZmZmbcAQM3MzMzMvABAzczMzMzBAEBmZmZmZsYAQAAAAAAAzABAAAAAAADRAEAzMzMzM9YAQDMzMzMz2wBAmpmZmZngAECamZmZmeUAQM3MzMzM6gBAzczMzMzvAEAAAAAAAPUAQDMzMzMz+gBAMzMzMzP/AEAzMzMzMwQBQJqZmZmZCQFAZmZmZmYOAUDNzMzMzBMBQGZmZmZmGAFAMzMzMzMdAUCamZmZmSIBQDQzMzMzKAFAmpmZmZk3AUDNzMzMzDwBQJqZmZmZQQFAAAAAAABHAUAAAAAAAEwBQGZmZmZmUQFAZmZmZmZWAUCamZmZmVsBQDMzMzMzYAFAmpmZmZllAUCamZmZmWoBQM3MzMzMbwFAzczMzMx0AUAzMzMzM3oBQAAAAAAAfwFAZmZmZmaEAUAAAAAAAIkBQJqZmZmZjgFAmpmZmZmTAUDNzMzMzJgBQM3MzMzMnQFAAAAAAACjAUDNzMzMzKcBQAAAAAAArgFAmpmZmZmyAUAzMzMzM7gBQDMzMzMzvQFAZmZmZmbCAUDNzMzMzMcBQJqZmZmZzAFAmpmZmZnRAUAAAAAAANcBQAAAAAAA3AFANDMzMzPhAUBmZmZmZuYBQJqZmZmZ6wFANDMzMzPwAUCamZmZmfUBQAAAAAAA+wFAAAAAAAALAkAAAAAAABACQDMzMzMzFQJAMzMzMzMaAkBmZmZmZh8CQJqZmZmZJAJAMzMzMzMpAkDNzMzMzC4CQM3MzMzMMwJAAAAAAAA5AkDNzMzMzD0CQAAAAAAAQwJAzczMzMxHAkCamZmZmUwCQM3MzMzMUQJAAAAAAABXAkAAAAAAAFwCQDMzMzMzYQJAZ2ZmZmZmAkAzMzMzM2wCQDMzMzMzcQJAMzMzMzN2AkAAAAAAAHsCQM3MzMzMfwJAAAAAAACFAkAAAAAAAIoCQDMzMzMzjwJAmpmZmZmUAkCamZmZmZkCQGZmZmZmngJAzczMzMyjAkCamZmZmagCQAAAAAAArgJANDMzMzOzAkBmZmZmZrgCQM3MzMzMvQJAAAAAAADDAkAAAAAAANECQDMzMzMz2AJAZmZmZmbdAkCamZmZmeICQJqZmZmZ5wJAAAAAAADtAkAzMzMzM/ICQDMzMzMz9wJAAAAAAAD8AkAzMzMzMwEDQGdmZmZmBgNAmpmZmZkLA0CamZmZmRADQAAAAAAAFgNAzczMzMwaA0CamZmZmR8DQDMzMzMzJQNAZmZmZmYqA0AzMzMzMy8DQJqZmZmZNANAmpmZmZk5A0DNzMzMzD4DQM3MzMzMQwNAAAAAAABJA0A0MzMzM04DQDQzMzMzUwNAZmZmZmZYA0BmZmZmZl0DQJqZmZmZYgNAzczMzMxnA0AzMzMzM20DQAAAAAAAcgNAZmZmZmZ3A0CamZmZmXwDQGZmZmZmgQNAZmZmZmaGA0DNzMzMzIsDQGZmZmZmmwNAMzMzMzOiA0CamZmZmagDQAAAAAAArgNAMzMzMzOzA0AzMzMzM7gDQGZmZmZmvQNAZmZmZmbCA0CamZmZmccDQJqZmZmZzANAzczMzMzRA0AAAAAAANcDQAAAAAAA3ANAMzMzMzPhA0AzMzMzM+YDQGZmZmZm6wNAmpmZmZnwA0DNzMzMzPUDQAAAAAAA+wNAMzMzMzMABEAzMzMzMwUEQDMzMzMzCgRAMzMzMzMPBEBmZmZmZhQEQDMzMzMzGQRAmpmZmZkeBECamZmZmSMEQM3MzMzMKARAAAAAAAAuBEAzMzMzMzMEQGZmZmZmOARAMzMzMzM9BEAzMzMzM0IEQJqZmZmZRwRAmpmZmZlMBECamZmZmVcEQJqZmZmZXgRAMzMzMzNkBEAzMzMzM2kEQM3MzMzMdwRAmpmZmZl/BEAAAAAAAIUEQDQzMzMzigRANDMzMzOPBEBnZmZmZpQEQJqZmZmZmQRAmpmZmZmeBEDNzMzMzKMEQM3MzMzMqARAMzMzMzOuBEAAAAAAALQEQAAAAAAAuQRAZmZmZma+BEAzMzMzM8MEQGZmZmZmyARAmpmZmZnNBEAAAAAAANMEQDMzMzMz2ARAZmZmZmbdBECamZmZmeIEQM3MzMzM5wRAAAAAAADtBEAAAAAAAPIEQGZmZmZm9wRAZmZmZmb8BEBmZmZmZgEFQGZmZmZmBgVAmpmZmZkLBUAAAAAAABEFQDQzMzMzFgVANDMzMzMbBUA0MzMzMyAFQGdmZmZmJQVAZ2ZmZmYqBUAAAAAAADAFQDMzMzMzNQVAZ2ZmZmY6BUAzMzMzM0AFQAAAAAAATwVAzczMzMxUBUDNzMzMzFkFQDMzMzMzXwVAmpmZmZlkBUA0MzMzM2sFQJqZmZmZcAVAmpmZmZl1BUDNzMzMzHoFQM3MzMzMfwVAMzMzMzOFBUAzMzMzM4oFQGdmZmZmjwVAmpmZmZmUBUBnZmZmZpkFQDMzMzMzngVAmpmZmZmjBUBnZmZmZqgFQAAAAAAArgVAZmZmZmazBUCamZmZmbgFQJqZmZmZvQVAZmZmZmbCBUAAAAAAAMgFQGZmZmZmzQVAzczMzMzSBUBmZmZmZtgFQJqZmZmZ3QVAzczMzMziBUAAAAAAAOgFQAAAAAAA7QVANDMzMzPyBUBnZmZmZvcFQGdmZmZm/AVAmpmZmZkBBkDNzMzMzAYGQJqZmZmZFQZAMzMzMzMcBkDNzMzMzCEGQJqZmZmZJgZAZmZmZmYsBkCamZmZmTEGQAAAAAAAOAZANDMzMzM9BkCamZmZmUIGQJqZmZmZRwZAAAAAAABNBkAAAAAAAFIGQDMzMzMzVwZAZ2ZmZmZcBkDNzMzMzGEGQJqZmZmZZgZAAAAAAABsBkAAAAAAAHEGQAAAAAAAdgZAZmZmZmZ7BkAzMzMzM4EGQDMzMzMzhgZAZmZmZmaLBkBmZmZmZpAGQM3MzMzMlQZAAAAAAACbBkA0MzMzM6AGQJqZmZmZpQZAzczMzMyqBkA0MzMzM7AGQDQzMzMztQZAzczMzMy6BkAAAAAAAMAGQDMzMzMzxQZAZ2ZmZmbKBkCamZmZmc8GQJqZmZmZ1AZAAAAAAADaBkDNzMzMzN4GQM3MzMzM7QZAMzMzMzPzBkCamZmZmfgGQM3MzMzM/QZAAAAAAAADB0AzMzMzMwgHQDMzMzMzEAdAZ2ZmZmYVB0DNzMzMzBoHQGZmZmZmIAdAZmZmZmYlB0CamZmZmSoHQM3MzMzMLwdAzczMzMw0B0AzMzMzMzoHQDQzMzMzQAdAZmZmZmZFB0CamZmZmUoHQJqZmZmZTwdAAAAAAABVB0BnZmZmZloHQDMzMzMzYQdAAAAAAABnB0DNzMzMzGwHQAAAAAAAcgdAZmZmZmZ3B0DNzMzMzHwHQAAAAAAAggdAZ2ZmZmaHB0A0MzMzM4wHQAAAAAAAkgdAMzMzMzOXB0BnZmZmZpwHQM3MzMzMoQdAmpmZmZmpB0AAAAAAAK8HQDQzMzMztAdAAAAAAADDB0AzMzMzM8oHQAAAAAAA0AdAMzMzMzPVB0AzMzMzM90HQJqZmZmZ4gdAZmZmZmboB0BmZmZmZu4HQGZmZmZm8wdAzczMzMz4B0CamZmZmf0HQAAAAAAAAwhAAAAAAAAICEA0MzMzMw0IQGZmZmZmEghAzczMzMwaCEAzMzMzMyAIQDMzMzMzJQhAZmZmZmYqCEBmZmZmZi8IQDQzMzMzNQhAmpmZmZk6CEAAAAAAAEAIQM3MzMzMRAhAAAAAAABKCEAAAAAAAE8IQDQzMzMzVAhANDMzMzNZCECamZmZmV4IQAAAAAAAZAhAmpmZmZlpCEAAAAAAAG8IQGZmZmZmdghAmpmZmZl7CEAAAAAAAIEIQGdmZmZmhghAzczMzMyLCEAAAAAAAJEIQAAAAAAAoAhAZ2ZmZmalCEAAAAAAAKsIQAAAAAAAsQhAzczMzMy1CEAAAAAAALsIQAAAAAAAwAhAZmZmZmbFCEAzMzMzM8oIQGZmZmZmzwhAmpmZmZnUCEAAAAAAANoIQM3MzMzM3ghAAAAAAADkCEBmZmZmZukIQJqZmZmZ7ghANDMzMzP0CEAAAAAAAPwIQAAAAAAAAQlAAAAAAAAGCUAzMzMzMwsJQM3MzMzMEAlAzczMzMwVCUCamZmZmRsJQDQzMzMzIQlAmpmZmZkmCUDNzMzMzCsJQDMzMzMzMQlAzczMzMw4CUA0MzMzMz4JQM3MzMzMQwlAAAAAAABJCUCamZmZmU4JQGdmZmZmVAlAzczMzMxZCUAAAAAAAF8JQM3MzMzMZAlAzczMzMxzCUAzMzMzM3kJQJqZmZmZgAlAmpmZmZmFCUBnZmZmZosJQM3MzMzMkAlAAAAAAACWCUAzMzMzM5sJQGZmZmZmoAlAAAAAAACmCUBmZmZmZqsJQDQzMzMzsQlANDMzMzO2CUCamZmZmbsJQAAAAAAAwQlAMzMzMzPICUBmZmZmZs0JQJqZmZmZ0glAzczMzMzXCUCamZmZmd0JQM3MzMzM4glAAAAAAADoCUA0MzMzM+0JQGZmZmZm8glAzczMzMz3CUAAAAAAAP0JQGdmZmZmAgpAzczMzMwHCkBnZmZmZg0KQM3MzMzMEgpAmpmZmZkaCkDNzMzMzCAKQM3MzMzMJQpAzczMzMwqCkAAAAAAADAKQGdmZmZmNQpAZ2ZmZmY6CkBmZmZmZkoKQJqZmZmZTwpAAAAAAABVCkDNzMzMzFwKQGdmZmZmYgpAMzMzMzNnCkAAAAAAAG0KQDMzMzMzcgpAZmZmZmZ3CkBmZmZmZnwKQGZmZmZmgQpAMzMzMzOHCkCamZmZmYwKQDQzMzMzkgpANDMzMzOXCkCamZmZmZ0KQAAAAAAApQpAZmZmZmaqCkDNzMzMzK8KQAAAAAAAtQpANDMzMzO6CkBmZmZmZr8KQDQzMzMzxQpAAAAAAADLCkAAAAAAANMKQGZmZmZm2ApAAAAAAADeCkDNzMzMzOMKQGdmZmZm6QpAMzMzMzPvCkAAAAAAAPcKQGdmZmZm/ApAZ2ZmZmYCC0BmZmZmZggLQJqZmZmZEAtAMzMzMzMWC0AAAAAAACcLQDMzMzMzLwtAZ2ZmZmY0C0AAAAAAADoLQM3MzMzMPwtAZmZmZmZFC0BmZmZmZksLQDMzMzMzUwtAzczMzMxYC0AzMzMzM14LQJqZmZmZYwtAmpmZmZlpC0AAAAAAAHcLQDQzMzMzggtAZ2ZmZmaIC0CamZmZmY0LQAAAAAAAlgtAZmZmZmabC0DNzMzMzKALQM3MzMzMpgtAMzMzMzOsC0DNzMzMzLQLQDQzMzMzugtAmpmZmZm/C0AzMzMzM8YLQAAAAAAAzgtAmpmZmZnTC0AzMzMzM9kLQJqZmZmZ3gtAzczMzMzkC0DNzMzMzOwLQDMzMzMz8gtAAAAAAAD4C0BmZmZmZv0LQGZmZmZmAwxAZ2ZmZmYLDEAAAAAAABEMQAAAAAAAIAxAZmZmZmYlDECamZmZmSoMQAAAAAAAMAxAAAAAAAA2DEBmZmZmZjsMQM3MzMzMQwxAzczMzMxJDEDNzMzMzE4MQM3MzMzMVAxANDMzMzNaDEAAAAAAAGMMQDQzMzMzaQxAzczMzMxuDEAAAAAAAHcMQM3MzMzMfAxAmpmZmZmCDEBnZmZmZogMQGdmZmZmjQxAzczMzMyVDEBnZmZmZpsMQJqZmZmZoAxAMzMzMzOmDEBnZmZmZqsMQGZmZmZmsQxAmpmZmZm5DEAzMzMzM78MQJqZmZmZxAxAzczMzMzJDEDNzMzMzM8MQAAAAAAA1QxAzczMzMzdDEAAAAAAAOMMQGZmZmZm6AxAMzMzMzPuDECamZmZmfMMQGZmZmZm+QxAMzMzMzMBDUCamZmZmQYNQDMzMzMzDA1AMzMzMzMbDUAzMzMzMyUNQDMzMzMzKw1AmpmZmZkwDUAzMzMzMzYNQDMzMzMzOw1AAAAAAABBDUDNzMzMzEgNQJqZmZmZTg1AzczMzMxUDUDNzMzMzFkNQAAAAAAAYA1AmpmZmZlnDUAAAAAAAG0NQJqZmZmZcg1AAAAAAAB4DUBmZmZmZn0NQAAAAAAAgw1AMzMzMzOJDUCamZmZmZANQAAAAAAAlg1AmpmZmZmbDUAAAAAAAKENQAAAAAAApw1AMzMzMzOsDUCamZmZmbQNQDMzMzMzug1AZmZmZma/DUAAAAAAAMUNQDMzMzMzyg1AZmZmZmbQDUAzMzMzM9gNQJqZmZmZ3Q1AZmZmZmbjDUAAAAAAAOkNQM3MzMzM7g1AAAAAAAD3DUDNzMzMzPwNQGZmZmZmDA5AmpmZmZkVDkAzMzMzMxsOQM3MzMzMIA5AMzMzMzMmDkCamZmZmSwOQGZmZmZmNA5AMzMzMzM6DkBmZmZmZkAOQM3MzMzMRQ5AzczMzMxNDkCamZmZmVMOQM3MzMzMWA5AzczMzMxeDkBmZmZmZmQOQAAAAAAAbQ5AmpmZmZlyDkBmZmZmZngOQAAAAAAAfw5AAAAAAACHDkAzMzMzM4wOQDMzMzMzkg5AzczMzMyXDkDNzMzMzKAOQAAAAAAAsA5AZmZmZma6DkBmZmZmZsQOQM3MzMzMyg5AzczMzMzTDkAAAAAAANoOQJqZmZmZ3w5AzczMzMznDkBmZmZmZu0OQJqZmZmZ8g5AMzMzMzP4DkAzMzMzM/0OQAAAAAAABA9AmpmZmZkWD0AAAAAAABwPQJqZmZmZIg9AzczMzMwqD0CamZmZmTAPQAAAAAAANw9AZmZmZmY/D0CamZmZmUQPQJqZmZmZSg9AMzMzMzNQD0AzMzMzM1kPQM3MzMzMXw9AMzMzMzNoD0BmZmZmZm4PQAAAAAAAhw9AzczMzMyMD0DNzMzMzJMPQGZmZmZmmw9AAAAAAAChD0AAAAAAAKcPQDMzMzMzrA9AZmZmZma1D0CamZmZmbsPQM3MzMzMwA9AZmZmZmbJD0AAAAAAAM8PQAAAAAAA1A9AmpmZmZnZD0AAAAAAAN8PQDMzMzMz5Q9AZmZmZmbtD0DNzMzMzPIPQAAAAAAA+Q9AZmZmZmb+D0AAAAAAgAMQQDQzMzMzBhBAzczMzMwIEEBmZmZmZhAQQGZmZmZmFRBAzMzMzEwYEEAzMzMzMxsQQM3MzMzMHRBAmpmZmRkiEEAzMzMzMyUQQGZmZmbmJxBAAAAAAAArEEAAAAAAAC8QQGZmZmbmMRBAMzMzM7M0EEBmZmZmZjcQQGZmZmbmOxBAZmZmZuY+EECamZmZmUEQQJqZmZkZRhBAmpmZmRlJEEAzMzMzs00QQJqZmZmZUBBAzczMzMxTEEAAAAAAAFgQQDQzMzMzWxBAAAAAAIBfEEBmZmZmZmIQQAAAAAAAZRBAAAAAAABoEEBmZmZmZmwQQM3MzMxMbxBAmpmZmZlyEEA0MzMzs3YQQGZmZmZmeRBAZ2ZmZmZ8EEAzMzMzM38QQMzMzMzMgxBAAAAAAACHEEAzMzMzM4sQQGdmZmbmjRBAZmZmZuaVEEAAAAAAgJgQQJqZmZmZmxBAMzMzM7OfEEAAAAAAgKIQQGZmZmbmpRBAZmZmZuapEECamZmZmawQQJqZmZmZrxBAmpmZmRm0EEAzMzMzM7cQQM3MzMxMuhBAZmZmZma+EECamZmZGcEQQJqZmZmZxBBAmpmZmZnIEECamZmZmcsQQMzMzMzMzhBAzczMzMzSEEAAAAAAgNUQQAAAAACA2BBAzMzMzEzbEEA0MzMzs98QQGZmZmZm4hBAmpmZmRnlEEAAAAAAgOgQQGZmZmZm7BBAAAAAAADvEEAzMzMzs/EQQGdmZmZm9BBAMzMzMzP3EEAAAAAAAPoQQM3MzMzM/hBAAAAAAIABEUDNzMzMTAQRQJqZmZmZCBFAMzMzMzMLEUAAAAAAgBIRQJqZmZmZFhFAAAAAAIAaEUDNzMzMTB0RQDMzMzMzIBFAZmZmZuYiEUDNzMzMTCcRQDMzMzMzKhFAAAAAAAAtEUCamZmZGTARQJqZmZkZNBFAmpmZmZk2EUBmZmZmZjkRQAAAAAAAPBFANDMzM7M+EUBmZmZmZkERQJqZmZmZRBFAmpmZmZlIEUBmZmZmZksRQMzMzMxMThFAZmZmZuZSEUDMzMzMzFURQJqZmZkZWRFAmpmZmRldEUBnZmZm5l8RQJqZmZkZYxFAZ2ZmZmZnEUCamZmZGWoRQJqZmZkZbRFAMzMzM7NvEUDNzMzMTHQRQJqZmZkZdxFAZmZmZuZ5EUDNzMzMTH4RQGZmZmZmgRFAAAAAAACEEUA0MzMzM4cRQJqZmZkZixFAZmZmZmaVEUCamZmZGZgRQJqZmZkZmxFAZmZmZuadEUCamZmZmaIRQGdmZmbmpRFAZmZmZuapEUCamZmZmawRQJqZmZmZrxFAMzMzMzOyEUCamZmZmbYRQAAAAACAuRFAMzMzMzO8EUAAAAAAgL8RQAAAAACAwxFAmpmZmRnGEUCamZmZGckRQM3MzMzMyxFAZ2ZmZmbQEUAAAAAAgNMRQDMzMzMz1hFAAAAAAADeEUAzMzMzM+IRQAAAAAAA5RFAAAAAAADoEUBmZmZmZuwRQDMzMzMz7xFAMzMzMzPyEUBmZmZm5vQRQGZmZmZm+RFAzczMzEz8EUAAAAAAAP8RQAAAAACAAxJAzczMzEwGEkA0MzMzMwkSQMzMzMxMDBJAzczMzEwQEkBmZmZm5hcSQM3MzMzMGxJAmpmZmZkfEkAAAAAAgCISQGdmZmZmJRJAZmZmZuYpEkDMzMzMzCwSQDMzMzOzLxJAmpmZmRk0EkCamZmZGTcSQJqZmZkZOhJAzMzMzEw+EkAzMzMzM0ESQDMzMzMzRBJAmpmZmZlIEkAAAAAAgEsSQGZmZmbmThJAzczMzMxSEkDNzMzMzFUSQJqZmZkZWRJAmpmZmRldEkDNzMzMzF8SQM3MzMzMYhJAzczMzExnEkCamZmZGWoSQAAAAAAAbRJANDMzM7NvEkDNzMzMTHQSQM3MzMxMdxJAzczMzMx7EkDNzMzMzH4SQJqZmZkZghJAAAAAAACGEkDNzMzMzIgSQJqZmZkZjBJAzczMzEyQEkAAAAAAAJMSQDMzMzMzlhJAmpmZmZmfEkBmZmZm5qISQAAAAACApxJAmpmZmZmqEkAzMzMzM60SQDMzMzOzsRJAZmZmZua0EkAzMzMzM7kSQDMzMzMzvBJAAAAAAIC/EkAAAAAAgMMSQDMzMzMzxhJAAAAAAADJEkDNzMzMzMsSQM3MzMzMzhJAzczMzMzSEkCamZmZmdUSQDQzMzOz2BJAmpmZmRndEkDNzMzMzN8SQM3MzMzM4hJAZmZmZmblEkBmZmZm5ukSQJqZmZkZ7RJAAAAAAIDxEkAzMzMzs/QSQGZmZmbm9xJAzczMzMz7EkAAAAAAgP4SQJqZmZmZARNAAAAAAAAGE0BnZmZm5ggTQM3MzMzMCxNAzMzMzEwQE0AAAAAAABMTQAAAAAAAFhNAAAAAAIAaE0AAAAAAgB0TQM3MzMzMIBNAZmZmZuYqE0AAAAAAAC8TQDMzMzOzMRNAMzMzM7M0E0AzMzMzMzkTQDMzMzMzPBNAmpmZmRk/E0AAAAAAgEMTQJqZmZmZRhNAZmZmZmZJE0AzMzMzs00TQDQzMzOzUBNAAAAAAIBTE0BmZmZm5lcTQAAAAAAAWxNAZmZmZmZeE0A0MzMzM2ITQJqZmZkZZRNAAAAAAABoE0BmZmZmZmwTQDMzMzMzbxNAAAAAAAByE0AzMzMzs3QTQGZmZmbmdxNAzMzMzMx7E0BnZmZmZn4TQGZmZmZmgRNAmpmZmRmEE0AzMzMzM4cTQJqZmZkZixNAAAAAAACOE0DNzMzMTJETQGZmZmZmlRNAzczMzEyYE0BmZmZmZpsTQJqZmZmZnxNAzczMzEyiE0AAAAAAgKUTQAAAAAAArxNAZmZmZuaxE0BmZmZm5rQTQDMzMzMzuRNAmpmZmRm8E0BmZmZm5r4TQAAAAACAwxNANDMzMzPGE0AzMzMzM8kTQDQzMzOzzRNAZmZmZmbQE0CamZmZmdMTQM3MzMxM1hNAzMzMzMzaE0AzMzMzs90TQGZmZmZm4BNAzMzMzMzkE0DNzMzMzOcTQJqZmZmZ6hNAmpmZmRnvE0BmZmZmZvITQJqZmZmZ9hNAAAAAAAD5E0CamZmZGfsTQGZmZmbm/BNAZmZmZub+E0A0MzMzs/8TQAAAAAAAABRA",
          "dtype": "f8"
         },
         "xaxis": "x",
         "y": {
          "bdata": "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",
          "dtype": "f8"
         },
         "yaxis": "y"
        }
       ],
       "layout": {
        "legend": {
         "tracegroupgap": 0
        },
        "template": {
         "data": {
          "bar": [
           {
            "error_x": {
             "color": "#2a3f5f"
            },
            "error_y": {
             "color": "#2a3f5f"
            },
            "marker": {
             "line": {
              "color": "#E5ECF6",
              "width": 0.5
             },
             "pattern": {
              "fillmode": "overlay",
              "size": 10,
              "solidity": 0.2
             }
            },
            "type": "bar"
           }
          ],
          "barpolar": [
           {
            "marker": {
             "line": {
              "color": "#E5ECF6",
              "width": 0.5
             },
             "pattern": {
              "fillmode": "overlay",
              "size": 10,
              "solidity": 0.2
             }
            },
            "type": "barpolar"
           }
          ],
          "carpet": [
           {
            "aaxis": {
             "endlinecolor": "#2a3f5f",
             "gridcolor": "white",
             "linecolor": "white",
             "minorgridcolor": "white",
             "startlinecolor": "#2a3f5f"
            },
            "baxis": {
             "endlinecolor": "#2a3f5f",
             "gridcolor": "white",
             "linecolor": "white",
             "minorgridcolor": "white",
             "startlinecolor": "#2a3f5f"
            },
            "type": "carpet"
           }
          ],
          "choropleth": [
           {
            "colorbar": {
             "outlinewidth": 0,
             "ticks": ""
            },
            "type": "choropleth"
           }
          ],
          "contour": [
           {
            "colorbar": {
             "outlinewidth": 0,
             "ticks": ""
            },
            "colorscale": [
             [
              0,
              "#0d0887"
             ],
             [
              0.1111111111111111,
              "#46039f"
             ],
             [
              0.2222222222222222,
              "#7201a8"
             ],
             [
              0.3333333333333333,
              "#9c179e"
             ],
             [
              0.4444444444444444,
              "#bd3786"
             ],
             [
              0.5555555555555556,
              "#d8576b"
             ],
             [
              0.6666666666666666,
              "#ed7953"
             ],
             [
              0.7777777777777778,
              "#fb9f3a"
             ],
             [
              0.8888888888888888,
              "#fdca26"
             ],
             [
              1,
              "#f0f921"
             ]
            ],
            "type": "contour"
           }
          ],
          "contourcarpet": [
           {
            "colorbar": {
             "outlinewidth": 0,
             "ticks": ""
            },
            "type": "contourcarpet"
           }
          ],
          "heatmap": [
           {
            "colorbar": {
             "outlinewidth": 0,
             "ticks": ""
            },
            "colorscale": [
             [
              0,
              "#0d0887"
             ],
             [
              0.1111111111111111,
              "#46039f"
             ],
             [
              0.2222222222222222,
              "#7201a8"
             ],
             [
              0.3333333333333333,
              "#9c179e"
             ],
             [
              0.4444444444444444,
              "#bd3786"
             ],
             [
              0.5555555555555556,
              "#d8576b"
             ],
             [
              0.6666666666666666,
              "#ed7953"
             ],
             [
              0.7777777777777778,
              "#fb9f3a"
             ],
             [
              0.8888888888888888,
              "#fdca26"
             ],
             [
              1,
              "#f0f921"
             ]
            ],
            "type": "heatmap"
           }
          ],
          "histogram": [
           {
            "marker": {
             "pattern": {
              "fillmode": "overlay",
              "size": 10,
              "solidity": 0.2
             }
            },
            "type": "histogram"
           }
          ],
          "histogram2d": [
           {
            "colorbar": {
             "outlinewidth": 0,
             "ticks": ""
            },
            "colorscale": [
             [
              0,
              "#0d0887"
             ],
             [
              0.1111111111111111,
              "#46039f"
             ],
             [
              0.2222222222222222,
              "#7201a8"
             ],
             [
              0.3333333333333333,
              "#9c179e"
             ],
             [
              0.4444444444444444,
              "#bd3786"
             ],
             [
              0.5555555555555556,
              "#d8576b"
             ],
             [
              0.6666666666666666,
              "#ed7953"
             ],
             [
              0.7777777777777778,
              "#fb9f3a"
             ],
             [
              0.8888888888888888,
              "#fdca26"
             ],
             [
              1,
              "#f0f921"
             ]
            ],
            "type": "histogram2d"
           }
          ],
          "histogram2dcontour": [
           {
            "colorbar": {
             "outlinewidth": 0,
             "ticks": ""
            },
            "colorscale": [
             [
              0,
              "#0d0887"
             ],
             [
              0.1111111111111111,
              "#46039f"
             ],
             [
              0.2222222222222222,
              "#7201a8"
             ],
             [
              0.3333333333333333,
              "#9c179e"
             ],
             [
              0.4444444444444444,
              "#bd3786"
             ],
             [
              0.5555555555555556,
              "#d8576b"
             ],
             [
              0.6666666666666666,
              "#ed7953"
             ],
             [
              0.7777777777777778,
              "#fb9f3a"
             ],
             [
              0.8888888888888888,
              "#fdca26"
             ],
             [
              1,
              "#f0f921"
             ]
            ],
            "type": "histogram2dcontour"
           }
          ],
          "mesh3d": [
           {
            "colorbar": {
             "outlinewidth": 0,
             "ticks": ""
            },
            "type": "mesh3d"
           }
          ],
          "parcoords": [
           {
            "line": {
             "colorbar": {
              "outlinewidth": 0,
              "ticks": ""
             }
            },
            "type": "parcoords"
           }
          ],
          "pie": [
           {
            "automargin": true,
            "type": "pie"
           }
          ],
          "scatter": [
           {
            "fillpattern": {
             "fillmode": "overlay",
             "size": 10,
             "solidity": 0.2
            },
            "type": "scatter"
           }
          ],
          "scatter3d": [
           {
            "line": {
             "colorbar": {
              "outlinewidth": 0,
              "ticks": ""
             }
            },
            "marker": {
             "colorbar": {
              "outlinewidth": 0,
              "ticks": ""
             }
            },
            "type": "scatter3d"
           }
          ],
          "scattercarpet": [
           {
            "marker": {
             "colorbar": {
              "outlinewidth": 0,
              "ticks": ""
             }
            },
            "type": "scattercarpet"
           }
          ],
          "scattergeo": [
           {
            "marker": {
             "colorbar": {
              "outlinewidth": 0,
              "ticks": ""
             }
            },
            "type": "scattergeo"
           }
          ],
          "scattergl": [
           {
            "marker": {
             "colorbar": {
              "outlinewidth": 0,
              "ticks": ""
             }
            },
            "type": "scattergl"
           }
          ],
          "scattermap": [
           {
            "marker": {
             "colorbar": {
              "outlinewidth": 0,
              "ticks": ""
             }
            },
            "type": "scattermap"
           }
          ],
          "scattermapbox": [
           {
            "marker": {
             "colorbar": {
              "outlinewidth": 0,
              "ticks": ""
             }
            },
            "type": "scattermapbox"
           }
          ],
          "scatterpolar": [
           {
            "marker": {
             "colorbar": {
              "outlinewidth": 0,
              "ticks": ""
             }
            },
            "type": "scatterpolar"
           }
          ],
          "scatterpolargl": [
           {
            "marker": {
             "colorbar": {
              "outlinewidth": 0,
              "ticks": ""
             }
            },
            "type": "scatterpolargl"
           }
          ],
          "scatterternary": [
           {
            "marker": {
             "colorbar": {
              "outlinewidth": 0,
              "ticks": ""
             }
            },
            "type": "scatterternary"
           }
          ],
          "surface": [
           {
            "colorbar": {
             "outlinewidth": 0,
             "ticks": ""
            },
            "colorscale": [
             [
              0,
              "#0d0887"
             ],
             [
              0.1111111111111111,
              "#46039f"
             ],
             [
              0.2222222222222222,
              "#7201a8"
             ],
             [
              0.3333333333333333,
              "#9c179e"
             ],
             [
              0.4444444444444444,
              "#bd3786"
             ],
             [
              0.5555555555555556,
              "#d8576b"
             ],
             [
              0.6666666666666666,
              "#ed7953"
             ],
             [
              0.7777777777777778,
              "#fb9f3a"
             ],
             [
              0.8888888888888888,
              "#fdca26"
             ],
             [
              1,
              "#f0f921"
             ]
            ],
            "type": "surface"
           }
          ],
          "table": [
           {
            "cells": {
             "fill": {
              "color": "#EBF0F8"
             },
             "line": {
              "color": "white"
             }
            },
            "header": {
             "fill": {
              "color": "#C8D4E3"
             },
             "line": {
              "color": "white"
             }
            },
            "type": "table"
           }
          ]
         },
         "layout": {
          "annotationdefaults": {
           "arrowcolor": "#2a3f5f",
           "arrowhead": 0,
           "arrowwidth": 1
          },
          "autotypenumbers": "strict",
          "coloraxis": {
           "colorbar": {
            "outlinewidth": 0,
            "ticks": ""
           }
          },
          "colorscale": {
           "diverging": [
            [
             0,
             "#8e0152"
            ],
            [
             0.1,
             "#c51b7d"
            ],
            [
             0.2,
             "#de77ae"
            ],
            [
             0.3,
             "#f1b6da"
            ],
            [
             0.4,
             "#fde0ef"
            ],
            [
             0.5,
             "#f7f7f7"
            ],
            [
             0.6,
             "#e6f5d0"
            ],
            [
             0.7,
             "#b8e186"
            ],
            [
             0.8,
             "#7fbc41"
            ],
            [
             0.9,
             "#4d9221"
            ],
            [
             1,
             "#276419"
            ]
           ],
           "sequential": [
            [
             0,
             "#0d0887"
            ],
            [
             0.1111111111111111,
             "#46039f"
            ],
            [
             0.2222222222222222,
             "#7201a8"
            ],
            [
             0.3333333333333333,
             "#9c179e"
            ],
            [
             0.4444444444444444,
             "#bd3786"
            ],
            [
             0.5555555555555556,
             "#d8576b"
            ],
            [
             0.6666666666666666,
             "#ed7953"
            ],
            [
             0.7777777777777778,
             "#fb9f3a"
            ],
            [
             0.8888888888888888,
             "#fdca26"
            ],
            [
             1,
             "#f0f921"
            ]
           ],
           "sequentialminus": [
            [
             0,
             "#0d0887"
            ],
            [
             0.1111111111111111,
             "#46039f"
            ],
            [
             0.2222222222222222,
             "#7201a8"
            ],
            [
             0.3333333333333333,
             "#9c179e"
            ],
            [
             0.4444444444444444,
             "#bd3786"
            ],
            [
             0.5555555555555556,
             "#d8576b"
            ],
            [
             0.6666666666666666,
             "#ed7953"
            ],
            [
             0.7777777777777778,
             "#fb9f3a"
            ],
            [
             0.8888888888888888,
             "#fdca26"
            ],
            [
             1,
             "#f0f921"
            ]
           ]
          },
          "colorway": [
           "#636efa",
           "#EF553B",
           "#00cc96",
           "#ab63fa",
           "#FFA15A",
           "#19d3f3",
           "#FF6692",
           "#B6E880",
           "#FF97FF",
           "#FECB52"
          ],
          "font": {
           "color": "#2a3f5f"
          },
          "geo": {
           "bgcolor": "white",
           "lakecolor": "white",
           "landcolor": "#E5ECF6",
           "showlakes": true,
           "showland": true,
           "subunitcolor": "white"
          },
          "hoverlabel": {
           "align": "left"
          },
          "hovermode": "closest",
          "mapbox": {
           "style": "light"
          },
          "paper_bgcolor": "white",
          "plot_bgcolor": "#E5ECF6",
          "polar": {
           "angularaxis": {
            "gridcolor": "white",
            "linecolor": "white",
            "ticks": ""
           },
           "bgcolor": "#E5ECF6",
           "radialaxis": {
            "gridcolor": "white",
            "linecolor": "white",
            "ticks": ""
           }
          },
          "scene": {
           "xaxis": {
            "backgroundcolor": "#E5ECF6",
            "gridcolor": "white",
            "gridwidth": 2,
            "linecolor": "white",
            "showbackground": true,
            "ticks": "",
            "zerolinecolor": "white"
           },
           "yaxis": {
            "backgroundcolor": "#E5ECF6",
            "gridcolor": "white",
            "gridwidth": 2,
            "linecolor": "white",
            "showbackground": true,
            "ticks": "",
            "zerolinecolor": "white"
           },
           "zaxis": {
            "backgroundcolor": "#E5ECF6",
            "gridcolor": "white",
            "gridwidth": 2,
            "linecolor": "white",
            "showbackground": true,
            "ticks": "",
            "zerolinecolor": "white"
           }
          },
          "shapedefaults": {
           "line": {
            "color": "#2a3f5f"
           }
          },
          "ternary": {
           "aaxis": {
            "gridcolor": "white",
            "linecolor": "white",
            "ticks": ""
           },
           "baxis": {
            "gridcolor": "white",
            "linecolor": "white",
            "ticks": ""
           },
           "bgcolor": "#E5ECF6",
           "caxis": {
            "gridcolor": "white",
            "linecolor": "white",
            "ticks": ""
           }
          },
          "title": {
           "x": 0.05
          },
          "xaxis": {
           "automargin": true,
           "gridcolor": "white",
           "linecolor": "white",
           "ticks": "",
           "title": {
            "standoff": 15
           },
           "zerolinecolor": "white",
           "zerolinewidth": 2
          },
          "yaxis": {
           "automargin": true,
           "gridcolor": "white",
           "linecolor": "white",
           "ticks": "",
           "title": {
            "standoff": 15
           },
           "zerolinecolor": "white",
           "zerolinewidth": 2
          }
         }
        },
        "title": {
         "text": "Force / Distance of tensile_tests/04.03.25_WT_idx1_already_stressed.csv"
        },
        "xaxis": {
         "anchor": "y",
         "domain": [
          0,
          1
         ],
         "title": {
          "text": "Distance (millimeters)"
         }
        },
        "yaxis": {
         "anchor": "x",
         "domain": [
          0,
          1
         ],
         "title": {
          "text": "Force (Newtons)"
         }
        }
       }
      }
     },
     "metadata": {},
     "output_type": "display_data"
    }
   ],
   "source": [
    "filename = \"tensile_tests/04.03.25_WT_idx1_already_stressed.csv\"\n",
    "df = plot_force_distance(filename)"
   ]
  },
  {
   "cell_type": "code",
   "execution_count": null,
   "id": "dfb566cf",
   "metadata": {},
   "outputs": [
    {
     "name": "stdout",
     "output_type": "stream",
     "text": [
      "Peak Force Row: Unnamed: 0                 1353.000000\n",
      "Time                      27828.000000\n",
      "Force (Newtons)               9.325871\n",
      "Distance (millimeters)        1.954297\n",
      "Strain (%)                    0.250551\n",
      "Stress (MPa)                  0.666134\n",
      "Name: 1353, dtype: float64\n"
     ]
    },
    {
     "data": {
      "application/vnd.plotly.v1+json": {
       "config": {
        "plotlyServerURL": "https://plot.ly"
       },
       "data": [
        {
         "hovertemplate": "Strain (%)=%{x}<br>Stress (MPa)=%{y}<extra></extra>",
         "legendgroup": "",
         "line": {
          "color": "#636efa",
          "dash": "solid"
         },
         "marker": {
          "symbol": "circle"
         },
         "mode": "lines",
         "name": "",
         "showlegend": false,
         "type": "scattergl",
         "x": {
          "bdata": "AAAAAAAAAAAAAAAAAAAAAAAAAAAAAAAAAAAAAAAAAAAAAAAAAAAAAAAAAAAAAAAAAAAAAAAAAAAAAAAAAAAAAAAAAAAAAAAAAAAAAAAAAAAAAAAAAAAAAAAAAAAAAAAAAAAAAAAAAAAAAAAAAAAAAAAAAAAAAAAAAAAAAAAAAAAAAAAAAAAAAAAAAAAAAAAAAAAAAAAAAAAAAAAAAAAAAAAAAAAAAAAAAAAAAAAAAAAAAAAAAAAAAAAAAAAAAAAAAAAAAAAAAAAAAAAAAAAAAAAAAAAAAAAAAAAAAAAAAAAAAAAAAAAAAAAAAAAAAAAAAAAAAAAAAAAAAAAAAAAAAAAAAAAAAAAAAAAAAAAAAAAAAAAAAAAAAAAAAAAAAAAAAAAAAAAAAAAAAAAAAAAAAAAAAAAAAAAAAAAAAAAAAAAAAAAAAAAAAAAAAAAAAAAAAAAAAAAAAAAAAAAAAAAAAAAAAAAAAAAAAAAAAAAAAAAAAAAAAAAAAAAAAAAAAAAAAAAAAAAAAAAAAAAAAAAAAAAAAAAAAAAAAAAAAAAAAAAAAAAAAAAAAAAAAAAAAAAAAAAAAAAAAAAAAAAAAAAAAAAAAAAAAAAAAAAAAAAAAAAAAAAAAAAAAAAAAAAAAAAAAAAAAAAAAAAAAAAAAAAAAAAAAAAAAAAAAAAAAAAAAAAAAAAAAAAAAAAAAAAAAAAAAAAAAAAAAAAAAAAAAAAAAAAAAAAAAAAAAAAAAAAAAAAAAAAAAAAAAAAAAAAAAAAAAAAAAAAAAAAAAAAAAAAAAAAAAAAAAAAAAAAAAAAAAAAAAAAAAAAAAAAAAAAAAAAAAAAAAAAAAAAAAAAAAAAAAAAAAAAAAAAAAAAAAAAAAAAAAAAAAAAAAAAAAAAAAAAAAAAAAAAAAAAAAAAAAAAAAAAAAAAAAAAAAAAAAAAAAAAAAAAAAAAAAAAAAAAAAAAAAAAAAAAAAAAAAAAAAAAAAAAAAAAAAAAAAAAAAAAAAAAAAAAAAAAAAAAAAAAAAAAAAAAAAAAAAAAAAAAAAAAAAAAAAAAAAAAAAAAAAAAAAAAAAAAAAAAAAAAAAAAAAAAAAAAAAAAAAAAAAAAAAAAAAAAAAAAAAAAAAAAAAAAAAAAAAAAAAAAAAAAAAAAAAAAAAAAAAAAAAAAAAAAAAAAAAAAAAAAAAAAAAAAAAAAAAAAAAAAAAAAAAAAAAAAAAAAAAAAAAAAAAAAAAAAAAAAAAAAAAAAAAAAAAAAAAAAAAAAAAAAAAAAAAAAAAAAAAAAAAAAAAAAAAAAAAAAAAAAAAAAAAAAAAAAAAAAAAAAAAAAAAAAAAAAAAAAAAAAAAAAAAAAAAAAAAAAAAAAAAAAAAAAAAAAAAAAAAAAAAAAAAAAAAAAAAAAAAAAAAAAAAAAAAAAAAAAAAAAAAAAAAAAAAAAAAAAAAAAAAAAAAAAAAAAAAAAAAAAAAAAAAAAAAAAAAAAAAAAAAAAAAAAAAAAAAAAAAAAAAAAAAAAAAAAAAAAAAAAAAAAAAAAAAAAAAAAAAAAAAAAAAAAAAAAAAAAAAAAAAAAAAAAAAAAAAAAAAAAAAAAAAAAAAAAAAAAAAAAAAAAAAAAAAAAAAAAAAAAAAAAAAAAAAAAAAAAAAAAAAAAAAAAAAAAAAAAAAAAAAAAAAAAAAAAAAAAAAAAAAAAAAAAAAAAAAAAAAAAAAAAAAAAAAAAAAAAAAAAAAAAAAAAAAAAAAAAAAAAAAAAAAAAAAAAAAAAAAAAAAAAAAAAAAAAAAAAAAAAAAAAAAAAAAAAAAAAAAAAAAAAAAAAAAAAAAAAAAAAAAAAAAAAAAAAAAAAAAAAAAAAAAAAAAAAAAAAAAAAAAAAAAAAAAAAAAAAAAAAAAAAAAAAAAAAAAAAAAAAAAAAAAAAAAAAAAAAAAAAAAAAAAAAAAAAAAAAAAAAAAAAAAAAAAAAAAAAAAAAAAAAAAAAAAAAAAAAAAAAAAAAAAAAAAAAAAAAAAAAAAAAAAAAAAAAAAAAAAAAAAAAAAAAAAAAAAAAAAAAAAAAAAAAAAAAAAAAAAAAAAAAAAAAAAAAAAAAAAAAAAAAAAAAAAAAAAAAAAAAAAAAAAAAAAAAAAAAAAAAAAAAAAAAAAAAAAAAAAAAAAAAAAAAAAAAAAAAAAAAAAAAAAAAAAAAAAAAAAAAAAAAAAAAAAAAAAAAAAAAAAAAAAAAAAAAAAAAAAAAAAAAAAAAAAAAAAAAAAAAAAAAAAAAAAAAAAAAAAAAAAAAAAAAAAAAAAAAAAAAAAAAAAAAAAAAAAAAAAAAAAAAAAAAAAAAAAAAAAAAAAAAAAAAAAAAAAAAAAAAAAAAAAAAAAAAAAAAAAAAAAAAAAAAAAAAAAAAAAAAAAAAAAAAAAAAAAAAAAAAAAAAAAAAAAAAAAAAAAAAAAAAAAAAAAAAAAAAAAAAAAAAAAAAAAAAAAAAAAAAAAAAAAAAAAAAAAAAAAAAAAAAAAAAAAAAAAAAAAAAAAAAAAAAAAAAAAAAAAAAAAAAAAAAAAAAAAAAAAAAAAAAAAAAAAAAAAAAAAAAAAAAAAAAAAAAAAAAAAAAAAAAAAAAAAAAAAAAAAAAAAAAAAAAAAAAAAAAAAAAAAAAAAAAAAAAAAAAAAAAAAAAAAAAAAAAAAAAAAAAAAAAAAAAAAAAAAAAAAAAAAAAAAAAAAAAAAAAAAAAAAAAAAAAAAAAAAAAAAAAAAAAAAAAAAAAAAAAAAAAAAAAAAAAAAAAAAAAAAAAAAAAAAAAAAAAAAAAAAAAAAAAAAAAAAAAAAAAAAAAAAAAAAAAAAAAAAAAAAAAAAAAAAAAAAAAAAAAAAAAAAAAAAAAAAAAAAAAAAAAAAAAAAAAAAAAAAAAAAAAAAAAAAAAAAAAAAAAAAAAAAAAAAAAAAAAAAAAAAAAAAAAAAAAAAAAAAAAAAAAAAAAAAAAAAAAAAAAAAAAAAAAAAAAAAAAAAAAAAAAAAAAAAAAAAAAAAAAAAAAAAAAAAAAAAAAAAAAAAAAAAAAAAAAAAAAAAAAAAAAAAAAAAAAAAAAAAAAAAAAAAAAAAAAAAAAAAAAAAAAAAAAAAAAAAAAAAAAAAAAAAAAAAAAAAAAAAAAAAAAAAAAAAAAAAAAAAAAAAAAAAAAAAAAAAAAAAAAAAAAAAAAAAAAAAAAAAAAAAAAAAAAAAAAAAAAAAAAAAAAAAAAAAAAAAAAAAAAAAAAAAAAAAAAAAAAAAAAAAAAAAAAAAAAAAAAAAAAAAAAAAAAAAAAAAAAAAAAAAAAAAAAAAAAAAAAAAAAAAAAAAAAAAAAAAAAAAAAAAAAAAAAAAAAAAAAAAAAAAAAAAAAAAAAAAAAAAAAAAAAAAAAAAAAAAAAAAAAAAAAAAAAAAAAAAAAAAAAAAAAAAAAAAAAAAAAAAAAAAAAAAAAAAAAAAAAAAAAAAAAAAAAAAAAAAAAAAAAAAAAAAAAAAAAAAAAAAAAAAAAAAAAAAAAAAAAAAAAAAAAAAAAAAAAAAAAAAAAAAAAAAAAAAAAAAAAAAAAAAAAAAAAAAAAAAAAAAAAAAAAAAAAAAAAAAAAAAAAAAAAAAAAAAAAAAAAAAAAAAAAAAAAAAAAAAAAAAAAAAAAAAAAAAAAAAAAAAAAAAAAAAAAAAAAAAAAAAAAAAAAAAAAAAAAAAAAAAAAAAAAAAAAAAAAAAAAAAAAAAAAAAAAAAAAAAAAAAAAAAAAAAAAAAAAAAAAAAAAAAAAAAAAAAAAAAAAAAAAAAAAAAAAAAAAAAAAAAAAAAAAAAAAAAAAAAAAAAAAAAAAAAAAAAAAAAAAAAAAAAAAAAAAAAAAAAAAAAAAAAAAAAAAAAAAAAAAAAAAAAAAAAAAAAAAAAAAAAAAAAAAAAAAAAAAAAAAAAAAAAAAAAAAAAAAAAAAAAAAAAAAAAAAAAAAAAAAAAAAAAAAAAAAAAAAAAAAAAAAAAAAAAAAAAAAAAAAAAAAAAAAAAAAAAAAAAAAAAAAAAAAAAAAAAAAAAAAAAAAAAAAAAAAAAAAAAAAAAAAAAAAAAAAAAAAAAAAAAAAAAAAAAAAAAAAAAAAAAAAAAAAAAAAAAAAAAAAAAAAAAAAAAAAAAAAAAAAAAAAAAAAAAAAAAAAAAAAAAAAAAAAAAAAAAAAAAAAAAAAAAAAAAAAAAAAAAAAAAAAAAAAAAAAAAAAAAAAAAAAAAAAAAAAAAAAAAAAAAAAAAAAAAAAAAAAAAAAAAAAAAAAAAAAAAAAAAAAAAAAAAAAAAAAAAAAAAAAAAAAAAAAAAAAAAAAAAAAAAAAAAAAAAAAAAAAAAAAAAAAAAAAAAAAAAAAAAAAAAAAAAAAAAAAAAAAAAAAAAAAAAAAAAAAAAAAAAAAAAAAAAAAAAAAAAAAAAAAAAAAAAAAAAAAAAAAAAAAAAAAAAAAAAAAAAAAAAAAAAAAAAAAAAAAAAAAAAAAAAAAAAAAAAAAAAAAAAAAAAAAAAAAAAAAAAAAAAAAAAAAAAAAAAAAAAAAAAAAAAAAAAAAAAAAAAAAAAAAAAAAAAAAAAAAAAAAAAAAAAAAAAAAAAAAAAAAAAAAAAAAAAAAAAAAAAAAAAAAAAAAAAAAAAAAAAAAAAAAAAAAAAAAAAAAAAAAAAAAAAAAAAAAAAAAAAAAAAAAAAAAAAAAAAAAAAAAAAAAAAAAAAAAAAAAAAAAAAAAAAAAAAAAAAAAAAAAAAAAAAAAAAAAAAAAAAAAAAAAAAAAAAAAAAAAAAAAAAAAAAAAAAAAAAAAAAAAAAAAAAAAAAAAAAAAAAAAAAAAAAAAAAAAAAAAAAAAAAAAAAAAAAAAAAAAAAAAAAAAAAAAAAAAAAAAAAAAAAAAAAAAAAAAAAAAAAAAAAAAAAAAAAAAAAAAAAAAAAAAAAAAAAAAAAAAAAAAAAAAAAAAAAAAAAAAAAAAAAAAAAAAAAAAAAAAAAAAAAAAAAAAAAAAAAAAAAAAAAAAAAAAAAAAAAAAAAAAAAAAAAAAAAAAAAAAAAAAAAAAAAAAAAAAAAAAAAAAAAAAAAAAAAAAAAAAAAAAAAAAAAAAAAAAAAAAAAAAAAAAAAAAAAAAAAAAAAAAAAAAAAAAAAAAAAAAAAAAAAAAAAAAAAAAAAAAAAAAAAAAAAAAAAAAAAAAAAAAAAAAAAAAAAAAAAAAAAAAAAAAAAAAAAAAAAAAAAAAAAAAAAAAAAAAAAAAAAAAAAAAAAAAAAAAAAAAAAAAAAAAAAAAAAAAAAAAAAAAAAAAAAAAAAAAAAAAAAAAAAAAAAAAAAAAAAAAAAAAAAAAAAAAAAAAAAAAAAAAAAAAAAAAAAAAAAAAAAAAAAAAAABukQRqkQeo+G6RBGqRB6j4bpEEapEH6PhQ7sRM7sQM/G6RBGqRBCj+RBmmQBmkQP+vUiZ3YiR0/FDuxEzuxIz+Xb/mWb/kmP1y+5Vu+5Ss/3/It3/ItLz/TIA3SIA0yPzVIgzRIgzQ/uHzLt3zLNz8bpEEapEE6P7HXiZ3YiT0/AAAAAAAAQD9CGqRBGqRBPxQ7sRM7sUM/VlVVVVVVRT+ydWIndmJHP2mQBmmQBkk/O7ETO7ETSz99y7d8y7dMP9/yLd/yLU8/2Ymd2ImdUD9CGqRBGqRRP8y3fMu3fFM/fcu3fMu3VD8u3/It3/JVP6TyLd/yLVc/VQZpkAZpWD+KndiJndhZPzuxEzuxE1s/+UeDNEiDXD8u3/It3/JdP3D5lm/5ll8/NUiDNEiDYD9VVVVVVVVhP3ZiJ3ZiJ2I/8y3f8i3fYj+4fMu3fMtjP7uJndiJnWQ/ntiJndiJZT+/5Vu+5VtmP8u3fMu3fGc/cwZpkAZpaD9VVVVVVVVpPxukQRqkQWo/hDRIgzRIaz+QBmmQBmlsP/mWb/mWb20/v+VbvuVbbj/Lt3zLt3xvPxqkQRqkQXA/IQ3SIA3ScD9VVVVVVVVxPy7f8i3f8nE/NUiDNEiDcj88sRM7sRNzP+ZbvuVbvnM/7cRO7MROdD/FTuzETux0P57YiZ3YiXU/lUEapEEadj9P7MRO7MR2Pxh2Yid2Ync/d2IndmIneD/zLd/yLd94P3D5lm/5lnk/7MRO7MROej+Ib/mWb/l6P+ZbvuVbvns/JkiDNEiDfD+ENEiDNEh9P9IgDdIgDX4/T+zETuzEfj9w+ZZv+ZZ/P9jyLd/yLYA/BmmQBmmQgD/FTuzETuyAP7flW77lW4E/uHzLt3zLgT9IgzRIgzSCPzsapEEapII/pEEapEEagz+e2Imd2ImDP75O7MRO7IM/v+VbvuVbhD9P7MRO7MSEPxOkQRqkQYU/EzuxEzuxhT8N0iAN0iCGP2/5lm/5loY/O7ETO7EThz9w+ZZv+ZaHPzyxEzuxE4g/B2mQBmmQiD/LIA3SIA2JP53YiZ3YiYk/aZAGaZAGij81SIM0SIOKPwAAAAAAAIs/NEiDNEiDiz8AAAAAAACMPy5IgzRIg4w/0iAN0iANjT9o+ZZv+ZaNP6VBGqRBGo4/QhqkQRqkjj92Yid2YiePP3bLt3zLt48/DdIgDdIgkD9YvuVbvmWQP0IapEEapJA/zLd8y7d8kT9iJ3ZiJ/aRP7ETO7ETO5I/NUiDNEiDkj9P7MRO7MSSP2mQBmmQBpM/gDRIgzRIkz8GaZAGaZCTP/Mt3/It35M/QhqkQRoklD/FTuzETmyUP6qqqqqqqpQ/9pZv+ZbvlD8UO7ETOzGVP1ZVVVVV1ZU/2Ymd2Ikdlj9cvuVbvmWWP3ZiJ3Zip5Y/+pZv+Zbvlj8UO7ETOzGXP5dv+ZZveZc/5Vu+5Vu+lz81SIM0SAOYP0/sxE7sRJg/B2mQBmmQmD+/5Vu+5duYPw3SIA3SIJk/XL7lW75lmT92Yid2YqeZP/qWb/mW75k/FDuxEzsxmj+Xb/mWb3maP7ETO7ETu5o/NEiDNEgDmz+ENEiDNEibPwdpkAZpkJs/VVVVVVXVmz8bpEEapMGcP57YiZ3YCZ0/hDRIgzRInT9qkAZpkIadP7R8y7d8y50/b/mWb/kWnj+/5Vu+5VueP3ZiJ3Zip54/9pZv+Zbvnj99y7d8yzefP5dv+ZZveZ8/GqRBGqTBnz9N7MRO7ASgP5AGaZAGKaA/0iAN0iBNoD8u3/It33KgP3D5lm/5lqA/l2/5lm+5oD/XiZ3Yid2gP0/sxE7sBKE/d2IndmInoT+d2Imd2EmhP8VO7MRObKE/O7ETO7GToT9jJ3ZiJ7ahP275lm/51qE/fcu3fMv3oT++5Vu+5RuiP7ETO7ETO6I/vuVbvuVboj/mW77lW36iP/Mt3/Itn6I/T+zETuzEoj92Yid2YueiP57YiZ3YCaM/xU7sxE4soz/sxE7sxE6jPxI7sRM7caM/DtIgDdLgoz/ZiZ3YiR2kPwAAAAAAQKQ/QBqkQRpkpD+ENEiDNIikP97yLd/yraQ/BmmQBmnQpD8u3/It3/KkPzuxEzuxE6U/RoM0SIM0pT+KndiJnVilP8u3fMu3fKU/KHZiJ3aipT9pkAZpkMalPxI7sRM78aU/ip3YiZ0Ypj+yEzuxEzumPwzSIA3SYKY/NEiDNEiDpj9avuVbvqWmP4M0SIM0yKY/3/It3/Ltpj8FaZAGaRCnPxQ7sRM7Mac/IQ3SIA1Spz99y7d8y3enP9iJndiJnac/G6RBGqTBpz8mdmInduKnP2eQBmmQBqg/d2IndmInqD+ENEiDNEioP8VO7MRObKg/XL7lW77lqD/QIA3SIA2pP/mWb/mWL6k/OrETO7FTqT9iJ3ZiJ3apP6RBGqRBmqk/AAAAAADAqT9cvuVbvuWpP9IgDdIgDao/3/It3/Itqj87sRM7sVOqP3zLt3zLd6o/veVbvuWbqj9N7MRO7MSqP48GaZAG6ao/B2mQBmkQqz+Xb/mWbzmrP7/lW77lW6s/T+zETuyEqz92Yid2YqerP+3ETuzEzqs/Lt/yLd/yqz9w+ZZv+RasPxmkQRqkQaw/kAZpkAZprD85sRM7sZOsP33Lt3zLt6w/2Ymd2IndrD/kW77lW/6sPyh2Yid2Iq0/aZAGaZBGrT/e8i3f8m2tPyEN0iANkq0/Yyd2Yie2rT9w+ZZv+datP5Zv+ZZv+a0/14md2Ikdrj81SIM0SEOuP57YiZ3Yya4/B2mQBmkQrz9iJ3ZiJzavP/Mt3/ItX68/T+zETuyErz+QBmmQBqmvPwdpkAZp0K8/SIM0SIP0rz8UO7ETOxGwP0IapEEaJLA/VVVVVVU1sD+qqqqqqkqwP9mJndiJXbA/3/It3/JtsD81SIM0SIOwP5dv+ZZvmbA/EzuxEzuxsD+e2Imd2MmwP9iJndiJ3bA/O7ETO7HzsD9cvuVbvgWxP6RBGqRBGrE/0yAN0iAtsT8BAAAAAECxPxM7sRM7UbE/NUiDNEhjsT+Xb/mWb3mxP7h8y7d8i7E/AAAAAACgsT87sRM7sbOxP0EapEEaxLE/kAZpkAYpsj/mW77lWz6yPxQ7sRM7UbI/NEiDNEhjsj9IgzRIg3SyP2mQBmmQhrI/l2/5lm+Zsj+d2Imd2KmyP77lW77lu7I/0SAN0iDNsj/0Ld/yLd+yPyEN0iAN8rI/NUiDNEgDsz9IgzRIgxSzP2mQBmmQJrM/sRM7sRM7sz/f8i3f8k2zPwAAAAAAYLM/SIM0SIN0sz9bvuVbvoWzP2MndmInlrM/gzRIgzSosz+kQRqkQbqzP7h8y7d8y7M/2Imd2Indsz8HaZAGafCzP0IapEEaBLQ/SIM0SIMUtD9pkAZpkCa0P3zLt3zLN7Q/kAZpkAZJtD+KndiJnVi0P4Q0SIM0aLQ/iZ3YiZ14tD/SIA3SIK20PwAAAAAAwLQ/+pZv+ZbPtD8apEEapOG0P1VVVVVV9bQ/aZAGaZAGtT+lQRqkQRq1P9/yLd/yLbU/J3ZiJ3ZCtT9iJ3ZiJ1a1P3ZiJ3ZiZ7U/vuVbvuV7tT/5lm/5lo+1PzVIgzRIo7U/Yid2Yie2tT92Yid2Yse1P6VBGqRB2rU/0SAN0iDttT/zLd/yLf+1Py/f8i3fErY/XL7lW74ltj+Yb/mWbzm2P+zETuzETrY/AAAAAABgtj8TO7ETO3G2P2mQBmmQhrY/v+VbvuWbtj8UO7ETO7G2P0EapEEaxLY/fMu3fMvXtj+d2Imd2Om2P77lW77l+7Y/BmmQBmkQtz8bpEEapCG3PzuxEzuxM7c/gzRIgzRItz+yEzuxE1u3P+3ETuzEbrc/hDRIgzSotz+/5Vu+5bu3P9/yLd/yzbc/G6RBGqThtz9VVVVVVfW3P57YiZ3YCbg/2Ymd2IkduD8UO7ETOzG4P12+5Vu+Rbg/fcu3fMtXuD/FTuzETmy4P+ZbvuVbfrg/FDuxEzuRuD9okAZpkKa4P6RBGqRBurg/3/It3/LNuD8apEEapOG4P1ZVVVVV9bg/gzRIgzQIuT+xEzuxExu5P+DyLd/yLbk/KHZiJ3ZCuT9IgzRIg1S5P4M0SIM0aLk/pEEapEF6uT/g8i3f8o25Pyh2Yid2ork/SIM0SIO0uT93Yid2Yse5P7/lW77l27k/3/It3/LtuT9Q7MRO7AS6P4qd2ImdGLo/xE7sxE4suj8AAAAAAEC6P2MndmInVro/q6qqqqpquj/TIA3SIK26P6yqqqqqyro/2Imd2Induj8u3/It3/K6P0/sxE7sBLs/fMu3fMsXuz/FTuzETiy7P9mJndiJPbs/FDuxEztRuz9BGqRBGmS7P2MndmIndrs/gzRIgzSIuz/SIA3SIK27P/It3/Itv7s/sRM7sRPbuz/sxE7sxO67PwAAAAAAALw/L9/yLd8SvD9pkAZpkCa8P37Lt3zLN7w/kQZpkAZJvD+/5Vu+5Vu8P9/yLd/ybbw/8i3f8i1/vD8hDdIgDZK8P1y+5Vu+pbw/fcu3fMu3vD+qqqqqqsq8P/Mt3/It37w/Lt/yLd/yvD9cvuVbvgW9P1y+5Vu+Rb0/v+VbvuVbvT/6lm/5lm+9PzRIgzRIg70/Yyd2YieWvT+QBmmQBqm9P+ZbvuVbvr0/+pZv+ZbPvT9IgzRIgxS+P3ZiJ3ZiJ74/shM7sRM7vj/txE7sxE6+P/Mt3/Itf74/ip3YiZ2Yvj/SIA3SIK2+P/Mt3/Itv74/O7ETO7HTvj9pkAZpkOa+P5dv+ZZv+b4/3/It3/INvz8apEEapCG/P3D5lm/5Nr8/ntiJndhJvz/ZiZ3YiV2/PyEN0iANcr8/T+zETuyEvz+kQRqkQZq/P9/yLd/yrb8/J3ZiJ3bCvz9JgzRIg9S/P3ZiJ3Zi578/sRM7sRP7vz9w+ZZv+QbAPwAAAAAAEMA/l2/5lm8ZwD8hDdIgDSLAP7ETO7ETK8A/Yyd2Yic2wD/5lm/5lj/AP57YiZ3YScA/NUiDNEhTwD/ZiZ3YiV3AP33Lt3zLZ8A/DtIgDdJwwD+d2Imd2HnAPzVIgzRIg8A/VlVVVVWlwD/sxE7sxK7AP3zLt3zLt8A/GqRBGqTBwD+rqqqqqsrAP0mDNEiD1MA/7cRO7MTewD+KndiJnejAPzuxEzux88A/2Ymd2In9wD9w+ZZv+QbBPwAAAAAAEME/l2/5lm8ZwT87sRM7sSPBP8y3fMu3LME/aZAGaZA2wT8N0iAN0kDBP6VBGqRBSsE/SYM0SINUwT/mW77lW17BP4qd2ImdaME/IQ3SIA1ywT+xEzuxE3vBP1VVVVVVhcE/5lu+5VuOwT+KndiJnZjBPxukQRqkocE/xU7sxE6swT9pkAZpkLbBPwdpkAZpwME/q6qqqqrKwT9CGqRBGtTBP9mJndiJ3cE/ip3YiZ3owT+e2Imd2PnBPzVIgzRIA8I/y7d8y7cMwj+KndiJnSjCPyh2Yid2MsI/xU7sxE48wj9P7MRO7ETCP9iJndiJTcI/cPmWb/lWwj8HaZAGaWDCP57YiZ3YacI/NEiDNEhzwj/SIA3SIH3CP2MndmInhsI/DdIgDdKQwj+rqqqqqprCP0/sxE7spMI/8y3f8i2vwj+QBmmQBrnCPyd2Yid2wsI/v+VbvuXLwj9WVVVVVdXCP+zETuzE3sI/fcu3fMvnwj8apEEapPHCP6RBGqRB+sI/Lt/yLd8Cwz/ZiZ3YiQ3DP3ZiJ3ZiF8M/IQ3SIA0iwz+4fMu3fCvDP1VVVVVVNcM/+ZZv+ZY/wz+KndiJnUjDPxqkQRqkUcM/uHzLt3xbwz9P7MRO7GTDP+zETuzEbsM/hDRIgzR4wz8bpEEapIHDP7h8y7d8i8M/kQZpkAapwz8ndmIndrLDP7/lW77lu8M/XL7lW77Fwz/mW77lW87DP4qd2Imd2MM/IA3SIA3iwz+4fMu3fOvDP1y+5Vu+9cM/+pZv+Zb/wz+e2Imd2AnEPyh2Yid2EsQ/xU7sxE4cxD9iJ3ZiJybEP/mWb/mWL8Q/hDRIgzQ4xD8apEEapEHEP6RBGqRBSsQ/NEiDNEhTxD/ZiZ3YiV3EP2/5lm/5ZsQ/DdIgDdJwxD+rqqqqqnrEP0IapEEahMQ/3/It3/KNxD99y7d8y5fEPxQ7sRM7ocQ/pEEapEGqxD88sRM7sbPEP8y3fMu3vMQ/dmIndmLHxD8apEEapNHEP7h8y7d828Q/T+zETuzkxD/f8i3f8u3EP4M0SIM0+MQ/SYM0SIMUxT/zLd/yLR/FP53YiZ3YKcU/NUiDNEgzxT/ZiZ3YiT3FP3D5lm/5RsU/+ZZv+ZZPxT+Xb/mWb1nFPy7f8i3fYsU/xk7sxE5sxT9cvuVbvnXFP/Mt3/Itf8U/gzRIgzSIxT8hDdIgDZLFP7ETO7ETm8U/VVVVVVWlxT/zLd/yLa/FP4qd2ImduMU/J3ZiJ3bCxT++5Vu+5cvFP1y+5Vu+1cU/AAAAAADgxT+kQRqkQerFP07sxE7s9MU/5lu+5Vv+xT+RBmmQBgnGPy/f8i3fEsY/uHzLt3wbxj9IgzRIgyTGP+VbvuVbLsY/fcu3fMs3xj8UO7ETO0HGP6uqqqqqSsY/T+zETuxUxj/YiZ3YiV3GP3D5lm/5ZsY/XL7lW76Fxj/zLd/yLY/GP4qd2ImdmMY/Lt/yLd+ixj/SIA3SIK3GP2MndmIntsY/+pZv+Za/xj+e2Imd2MnGP0IapEEa1MY/0SAN0iDdxj9jJ3ZiJ+bGPwAAAAAA8MY/kQZpkAb5xj8odmIndgLHP77lW77lC8c/VlVVVVUVxz/txE7sxB7HP4qd2ImdKMc/GqRBGqQxxz++5Vu+5TvHP0/sxE7sRMc/51u+5VtOxz92Yid2YlfHPw3SIA3SYMc/pEEapEFqxz9CGqRBGnTHP9qJndiJfcc/dWIndmKHxz8iDdIgDZLHP77lW77lm8c/SIM0SIO0xz/lW77lW77HP4M0SIM0yMc/KHZiJ3bSxz/mW77lW97HP3zLt3zL58c/DtIgDdLwxz+yEzuxE/vHP5dv+ZZvGcg/NUiDNEgjyD/Mt3zLtyzIP2qQBmmQNsg/FDuxEztByD+yEzuxE0vIP1y+5Vu+Vcg/+pZv+ZZfyD+kQRqkQWrIP0IapEEadMg/2Imd2Il9yD9w+ZZv+YbIPwdpkAZpkMg/q6qqqqqayD9JgzRIg6TIP+VbvuVbrsg/fcu3fMu3yD8apEEapMHIP77lW77ly8g/XL7lW77VyD8HaZAGaeDIP6uqqqqq6sg/QRqkQRr0yD/f8i3f8v3IP33Lt3zLB8k/IQ3SIA0SyT+3fMu3fBvJP0/sxE7sJMk/7cRO7MQuyT98y7d8yzfJPyh2Yid2Qsk/v+VbvuVLyT9jJ3ZiJ1bJPwEAAAAAYMk/q6qqqqpqyT9DGqRBGnTJP9iJndiJfck/sRM7sRObyT9P7MRO7KTJP+zETuzErsk/fcu3fMu3yT8hDdIgDcLJP8VO7MROzMk/aZAGaZDWyT8HaZAGaeDJP57YiZ3Y6ck/NUiDNEjzyT/aiZ3Yif3JP4Q0SIM0CMo/Ig3SIA0Syj++5Vu+5RvKP1y+5Vu+Jco/AAAAAAAwyj+kQRqkQTrKP0iDNEiDRMo/5lu+5VtOyj99y7d8y1fKPyEN0iANYso/sRM7sRNryj9JgzRIg3TKP/Mt3/Itf8o/gzRIgzSIyj9CGqRBGpTKP+DyLd/ynco/dmIndmKnyj8odmIndrLKP8ZO7MROvMo/apAGaZDGyj8AAAAAANDKP57YiZ3Y2co/PLETO7Hjyj/mW77lW+7KP4Q0SIM0+Mo/IQ3SIA0Cyz+4fMu3fAvLP4qd2ImdKMs/VVVVVVU1yz/sxE7sxD7LP57YiZ3YScs/QhqkQRpUyz/mW77lW17LP3ZiJ3ZiZ8s/FDuxEztxyz+4fMu3fHvLP0iDNEiDhMs/5lu+5VuOyz+QBmmQBpnLPyh2Yid2oss/xk7sxE6syz9WVVVVVbXLPwZpkAZpwMs/ntiJndjJyz80SIM0SNPLP9mJndiJ3cs/aZAGaZDmyz8HaZAGafDLP6uqqqqq+ss/DdIgDdIQzD/f8i3f8h3MP2/5lm/5Jsw/G6RBGqQxzD+3fMu3fDvMP2MndmInRsw///////9PzD+yEzuxE1vMP1DsxE7sZMw/+pZv+ZZvzD+Yb/mWb3nMP0IapEEahMw/0iAN0iCNzD9qkAZpkJbMPxQ7sRM7ocw/shM7sROrzD9JgzRIg7TMP0IapEEa1Mw/G6RBGqThzD+rqqqqqurMP1ZVVVVV9cw/8y3f8i3/zD+kQRqkQQrNP0IapEEaFM0/8y3f8i0fzT+KndiJnSjNP0IapEEaNM0/4PIt3/I9zT+Xb/mWb0nNPzVIgzRIU80/5lu+5VtezT99y7d8y2fNPzVIgzRIc80/zLd8y7d8zT+DNEiDNIjNPyEN0iANks0/0yAN0iCdzT9w+ZZv+abNPyd2Yid2ss0/xU7sxE68zT93Yid2YsfNPw3SIA3S0M0/pEEapEHazT9WVVVVVeXNP/qWb/mW780/pEEapEH6zT9CGqRBGgTOP/mWb/mWD84/uHzLt3wbzj9P7MRO7CTOP+3ETuzELs4/l2/5lm85zj87sRM7sUPOP+3ETuzETs4/ip3YiZ1Yzj87sRM7sWPOP/Mt3/Itf84/y7d8y7eMzj9w+ZZv+ZbOPw7SIA3SoM4/qqqqqqqqzj9IgzRIg7TOP+ZbvuVbvs4/ip3YiZ3Izj8hDdIgDdLOP77lW77l284/aZAGaZDmzj8AAAAAAPDOP7ITO7ET+84/T+zETuwEzz8HaZAGaRDPP6RBGqRBGs8/SIM0SIMkzz/f8i3f8i3PP5AGaZAGOc8/J3ZiJ3ZCzz/Lt3zLt0zPP2/5lm/5Vs8/B2mQBmlgzz+4fMu3fGvPP0/sxE7sdM8/B2mQBmmAzz+e2Imd2InPP0IapEEalM8/5lu+5Vuezz+rqqqqqqrPP0/sxE7stM8/B2mQBmnAzz+rqqqqqsrPP0/sxE7s1M8/3/It3/Ldzz+Xb/mWb+nPPy7f8i3f8s8/kQZpkAYJ0D+DNEiDNBDQP9IgDdIgFdA/pEEapEEa0D92Yid2Yh/QP0IapEEaJNA/FDuxEzsp0D/mW77lWy7QP77lW77lM9A/ip3YiZ040D9iJ3ZiJz7QPzRIgzRIQ9A/DdIgDdJI0D/ZiZ3YiU3QPzVIgzRIU9A/AAAAAABY0D9cvuVbvl3QP6uqqqqqYtA/gzRIgzRo0D9VVVVVVW3QP6uqqqqqctA/+ZZv+ZZ30D9WVVVVVX3QP6VBGqRBgtA/fcu3fMuH0D/Mt3zLt4zQP6RBGqRBktA/cPmWb/mW0D/Lt3zLt5zQPxqkQRqkodA/8y3f8i2n0D9BGqRBGqzQP57YiZ3YsdA/apAGaZC20D/GTuzETrzQP5EGaZAGwdA/7MRO7MTG0D88sRM7scvQP6RBGqRB2tA/DdIgDdLg0D9jJ3ZiJ+bQPzVIgzRI69A/DdIgDdLw0D9cvuVbvvXQPzVIgzRI+9A/AAAAAAAA0T9cvuVbvgXRP6uqqqqqCtE/gzRIgzQQ0T/SIA3SIBXRPy7f8i3fGtE/fcu3fMsf0T9WVVVVVSXRP6uqqqqqKtE/fcu3fMsv0T9IgzRIgzTRP6RBGqRBOtE/dmIndmI/0T/Lt3zLt0TRP53YiZ3YSdE/d2IndmJP0T9JgzRIg1TRP57YiZ3YWdE/cPmWb/le0T/FTuzETmTRPxqkQRqkadE/7MRO7MRu0T++5Vu+5XPRP5dv+ZZvedE/5Vu+5Vt+0T+/5Vu+5YPRP4qd2ImdiNE/2Ymd2ImN0T+yEzuxE5PRPw7SIA3SmNE/ip3YiZ2o0T/f8i3f8q3RPy7f8i3fstE/B2mQBmm40T/ZiZ3Yib3RP7ETO7ETw9E/gzRIgzTI0T/ZiZ3Yic3RP6RBGqRB0tE/fcu3fMvX0T9P7MRO7NzRP6RBGqRB4tE/dmIndmLn0T9P7MRO7OzRP57YiZ3Y8dE/dmIndmL30T9CGqRBGvzRP57YiZ3YAdI/cPmWb/kG0j/FTuzETgzSP5dv+ZZvEdI/7MRO7MQW0j87sRM7sRvSPyEN0iANItI/7cRO7MQm0j9IgzRIgyzSPxqkQRqkMdI/b/mWb/k20j9JgzRIgzzSP5hv+ZZvQdI/apAGaZBG0j9CGqRBGkzSPxQ7sRM7UdI/apAGaZBW0j++5Vu+5VvSPxQ7sRM7YdI/4PIt3/Jl0j+4fMu3fGvSP5EGaZAGcdI/l2/5lm+B0j9pkAZpkIbSP77lW77li9I/kAZpkAaR0j/lW77lW5bSPzyxEzuxm9I/BmmQBmmg0j9jJ3ZiJ6bSPzVIgzRIq9I/ip3YiZ2w0j/ZiZ3YibXSPy7f8i3futI/fcu3fMu/0j/Mt3zLt8TSPyEN0iANytI/dmIndmLP0j9IgzRIg9TSP53YiZ3Y2dI/9C3f8i3f0j/SIA3SIOXSP6RBGqRB6tI/dmIndmLv0j/FTuzETvTSPxQ7sRM7+dI/aZAGaZD+0j87sRM7sQPTP5AGaZAGCdM/apAGaZAO0z88sRM7sRPTP4qd2ImdGNM/Yyd2Yice0z+yEzuxEyPTP4qd2ImdKNM/4PIt3/It0z80SIM0SDPTPw3SIA3SONM/Yyd2Yic+0z9IgzRIg0zTP77lW77lU9M/EzuxEztZ0z9qkAZpkF7TPzyxEzuxY9M/FDuxEztp0z9pkAZpkG7TPzuxEzuxc9M/ip3YiZ140z/f8i3f8n3TPzVIgzRIg9M/ip3YiZ2I0z9cvuVbvo3TPzVIgzRIk9M/hDRIgzSY0z/TIA3SIJ3TPy7f8i3fotM/gzRIgzSo0z/SIA3SIK3TP6uqqqqqstM/fcu3fMu30z/SIA3SIL3TP6RBGqRBwtM/+pZv+ZbH0z9Q7MRO7MzTPyIN0iAN0tM/dmIndmLX0z9IgzRIg9zTP57YiZ3Y4dM/8y3f8i3n0z/Lt3zLt+zTPxqkQRqk8dM/8y3f8i330z9JgzRIg/zTP5dv+ZZvAdQ/aZAGaZAG1D9CGqRBGgzUP0EapEEaHNQ/sRM7sRMj1D8bpEEapCnUP/Mt3/ItL9Q/SIM0SIM01D8apEEapDnUP2/5lm/5PtQ/QRqkQRpE1D+Yb/mWb0nUP2qQBmmQTtQ/v+VbvuVT1D8UO7ETO1nUP+ZbvuVbXtQ/O7ETO7Fj1D8N0iAN0mjUP2IndmInbtQ/uHzLt3xz1D8N0iAN0njUP2MndmInftQ/uHzLt3yD1D+KndiJnYjUP1y+5Vu+jdQ/Lt/yLd+S1D+DNEiDNJjUP9IgDdIgndQ/q6qqqqqi1D99y7d8y6fUP9IgDdIgrdQ/KHZiJ3ay1D99y7d8y7fUP9IgDdIgvdQ/IQ3SIA3C1D/zLd/yLcfUP8y3fMu3zNQ/ntiJndjR1D/TIA3SIN3UP8VO7MRO5NQ/IQ3SIA3q1D/zLd/yLe/UP2MndmIn/tQ/Yyd2YicG1T87sRM7sQvVP5EGaZAGEdU/Yyd2YicW1T+5fMu3fBvVPw7SIA3SINU/4PIt3/Il1T81SIM0SCvVPwdpkAZpMNU/3/It3/I11T++5Vu+5TvVP5EGaZAGQdU/aZAGaZBG1T+4fMu3fEvVPw3SIA3SUNU/Yyd2YidW1T87sRM7sVvVP5AGaZAGYdU/5Vu+5Vtm1T88sRM7sWvVP5EGaZAGcdU/5lu+5Vt21T+4fMu3fHvVP5AGaZAGgdU/Yid2YieG1T80SIM0SIvVPwZpkAZpkNU/XL7lW76V1T81SIM0SJvVP4ud2ImdoNU/Xb7lW76l1T8v3/It36rVP4Q0SIM0sNU/VlVVVVW11T+xEzuxE7vVPwZpkAZpwNU/Xb7lW77F1T87sRM7scvVPy7f8i3f2tU/DdIgDdLg1T/g8i3f8uXVP7h8y7d869U/kQZpkAbx1T9+y7d8y/fVP1ZVVVVV/dU/KHZiJ3YC1j99y7d8ywfWP0/sxE7sDNY/J3ZiJ3YS1j/5lm/5lhfWP1DsxE7sHNY/pUEapEEi1j/0Ld/yLSfWP0IapEEaLNY/G6RBGqQx1j9qkAZpkDbWP8VO7MROPNY/ndiJndhB1j/zLd/yLUfWP8VO7MROTNY/EzuxEztR1j9w+ZZv+VbWP0iDNEiDXNY/IQ3SIA1i1j98y7d8y2fWP9MgDdIgbdY/KHZiJ3Zy1j99y7d8y3fWP0/sxE7sfNY/pUEapEGC1j/6lm/5lofWP8y3fMu3jNY/IQ3SIA2S1j93Yid2YpfWP2qQBmmQptY/VVVVVVWt1j+yEzuxE7PWPwEAAAAAuNY/3/It3/K91j81SIM0SMPWP57YiZ3YydY/9C3f8i3P1j/Mt3zLt9TWP57YiZ3Y2dY/dmIndmLf1j9IgzRIg+TWP53YiZ3Y6dY/9C3f8i3v1j/Mt3zLt/TWPxukQRqk+dY/8y3f8i3/1j/FTuzETgTXP5dv+ZZvCdc/b/mWb/kO1z9P7MRO7BTXPyEN0iANGtc/dmIndmIf1z9IgzRIgyTXPyEN0iANKtc/dmIndmIv1z/Mt3zLtzTXP6VBGqRBOtc/+pZv+ZY/1z/TIA3SIEXXP6VBGqRBStc/AAAAAABQ1z9VVVVVVVXXP6uqqqqqWtc/AQAAAABg1z9WVVVVVWXXPyh2Yid2atc/AAAAAABw1z9P7MRO7HTXP8VO7MROhNc/ndiJndiJ1z93Yid2Yo/XP8y3fMu3lNc/IQ3SIA2a1z92Yid2Yp/XP/mWb/mWp9c/UOzETuys1z8odmIndrLXP4M0SIM0uNc/VVVVVVW91z+rqqqqqsLXPwAAAAAAyNc/0iAN0iDN1z+rqqqqqtLXPw7SIA3S2Nc/Yid2Yife1z+4fMu3fOPXP4qd2Imd6Nc/Yyd2Yifu1z88sRM7sfPXP6uqqqqq+tc/ip3YiZ0A2D9pkAZpkAbYP7/lW77lC9g/l2/5lm8R2D9w+ZZv+RbYP8VO7MROHNg/ntiJndgh2D/txE7sxCbYP8y3fMu3LNg/IQ3SIA0y2D93Yid2YjfYP0/sxE7sPNg/T+zETuxE2D8odmIndkrYP37Lt3zLT9g/cPmWb/le2D/mW77lW2bYP8VO7MRObNg/GqRBGqRx2D+d2Imd2HnYP3diJ3Zif9g/VVVVVVWF2D+4fMu3fIvYP4qd2ImdkNg/Yyd2YieW2D+yEzuxE5vYP4qd2ImdoNg/XL7lW76l2D+yEzuxE6vYPwZpkAZpsNg/kQZpkAa52D9pkAZpkL7YPzuxEzuxw9g/kAZpkAbJ2D9iJ3ZiJ87YP0MapEEa1Ng/G6RBGqTZ2D/zLd/yLd/YP0IapEEa5Ng/l2/5lm/p2D9pkAZpkO7YP7/lW77l89g/kQZpkAb52D9qkAZpkP7YP0IapEEaBNk/ntiJndgJ2T92Yid2Yg/ZP2/5lm/5Ftk/xU7sxE4c2T+e2Imd2CHZP3diJ3ZiJ9k/T+zETuws2T+kQRqkQTLZPxqkQRqkQdk/9C3f8i1H2T9P7MRO7EzZP7ETO7ETU9k/AAAAAABY2T9VVVVVVV3ZPyh2Yid2Ytk/AAAAAABo2T9P7MRO7GzZP6RBGqRBctk/+pZv+ZZ32T/SIA3SIH3ZPyEN0iANgtk/dmIndmKH2T9P7MRO7IzZP6VBGqRBktk/AQAAAACY2T8AAAAAAKDZP9IgDdIgpdk/pEEapEGq2T/5lm/5lq/ZP1ZVVVVVtdk/KHZiJ3a62T8HaZAGacDZP2MndmInxtk/PLETO7HL2T+RBmmQBtHZP2mQBmmQ1tk/5lu+5Vve2T+/5Vu+5ePZPxukQRqk6dk/cPmWb/nu2T/Mt3zLt/TZP6uqqqqq+tk/hDRIgzQA2j/ZiZ3YiQXaP7h8y7d8C9o/Lt/yLd8a2j8HaZAGaSDaPwEAAAAAKNo/0yAN0iAt2j+yEzuxEzPaP4qd2ImdONo/3/It3/I92j80SIM0SEPaP4qd2ImdSNo/5lu+5VtO2j++5Vu+5VPaP5/YiZ3YWdo/cfmWb/le2j9JgzRIg2TaPyEN0iANato/l2/5lm9x2j/sxE7sxHbaP0IapEEafNo/l2/5lm+B2j93Yid2YofaP8y3fMu3jNo/IQ3SIA2S2j93Yid2YpfaP8u3fMu3nNo/pEEapEGi2j/6lm/5lqfaP9MgDdIgrdo/q6qqqqqy2j8HaZAGabjaP+DyLd/yvdo/4PIt3/LF2j/FTuzETszaP5dv+ZZv0do/aZAGaZDW2j+/5Vu+5dvaP5hv+ZZv4do/apAGaZDm2j9v+ZZv+fbaP8ZO7MRO/No/ntiJndgB2z+e2Imd2AnbP/qWb/mWD9s/SIM0SIMU2z8odmIndhrbP33Lt3zLH9s/0iAN0iAl2z+kQRqkQSrbP3ZiJ3ZiL9s/VVVVVVU12z8v3/It3zrbP4ud2ImdQNs/Xb7lW75F2z/GTuzETkzbP7/lW77lU9s/l2/5lm9Z2z9w+ZZv+V7bP8VO7MROZNs/G6RBGqRp2z9v+ZZv+W7bP1DsxE7sdNs/Lt/yLd962z+xEzuxE4PbP4qd2ImdiNs/5lu+5VuO2z/FTuzETpTbPyIN0iANmts/AAAAAACg2z8AAAAAAKjbP9mJndiJrds/PLETO7Gz2z+d2Imd2LnbP6VBGqRBwts/AAAAAADI2z8UO7ETO9nbPxqkQRqk4ds/cPmWb/nm2z/Mt3zLt+zbP6uqqqqq8ts/BmmQBmn42z9pkAZpkP7bP2mQBmmQBtw/xU7sxE4M3D+e2Imd2BHcP3diJ3ZiF9w/2Ymd2Ikd3D81SIM0SCvcP+3ETuzENtw/0yAN0iA93D8odmIndkLcP7ETO7ETS9w/ip3YiZ1Q3D9jJ3ZiJ1bcP8VO7MROXNw/ntiJndhh3D+rqqqqqmrcP4Q0SIM0cNw/XL7lW7513D9IgzRIg3zcP0iDNEiDhNw/pUEapEGK3D8AAAAAAJDcP9mJndiJldw/v+VbvuWb3D9CGqRBGqTcPxqkQRqkqdw/+pZv+Zav3D/SIA3SILXcPzRIgzRIu9w/uXzLt3zD3D8UO7ETO8ncP4qd2Imd2Nw/Yid2Yife3D+4fMu3fOPcP5EGaZAG6dw/8y3f8i3v3D/Lt3zLt/TcP1ZVVVVV/dw/uHzLt3wD3T+KndiJnQjdP+3ETuzEDt0/xk7sxE4U3T9WVVVVVR3dPzyxEzuxI90/l2/5lm8p3T+e2Imd2DHdP33Lt3zLN90/XL7lW7493T88sRM7sUPdPw7SIA3SSN0/l2/5lm9R3T/0Ld/yLVfdP0mDNEiDXN0/pEEapEFi3T/6lm/5lmfdP1y+5Vu+bd0/Yyd2Yid23T++5Vu+5XvdP5hv+ZZvgd0/7cRO7MSG3T9P7MRO7IzdP6RBGqRBkt0/NUiDNEib3T+KndiJnaDdP2IndmInpt0/QhqkQRqs3T8bpEEapLHdP/mWb/mWt90/+ZZv+Za/3T/TIA3SIMXdPy7f8i3fyt0/pEEapEHa3T9IgzRIg+TdP6uqqqqq6t0/hDRIgzTw3T/f8i3f8vXdP7ETO7ET+90/kQZpkAYB3j+RBmmQBgneP3D5lm/5Dt4/VlVVVVUV3j8odmIndhrePw3SIA3SIN4/ip3YiZ0o3j9jJ3ZiJy7eP7/lW77lM94/l2/5lm853j9v+ZZv+T7eP8y3fMu3RN4/sRM7sRNL3j+rqqqqqlLeP4M0SIM0WN4/4PIt3/Jd3j+4fMu3fGPePxqkQRqkad4/cPmWb/lu3j/6lm/5lnfeP1VVVVVVfd4/qqqqqqqC3j8HaZAGaYjeP1y+5Vu+jd4/QRqkQRqU3j9CGqRBGpzePxukQRqkod4/+ZZv+Zan3j9WVVVVVa3ePzVIgzRIs94/O7ETO7G73j8bpEEapMHePxqkQRqk0d4/shM7sRPb3j8N0iAN0uDeP2mQBmmQ5t4/QhqkQRrs3j+rqqqqqvLeP6qqqqqq+t4/ip3YiZ0A3z9v+ZZv+QbfP0mDNEiDDN8/zLd8y7cU3z+rqqqqqhrfPwAAAAAAIN8/Yyd2Yicm3z++5Vu+5SvfP8y3fMu3NN8/KHZiJ3Y63z8GaZAGaUDfP/Mt3/ItR98/dmIndmJP3z/Lt3zLt1TfPy7f8i3fWt8/ip3YiZ1g3z+e2Imd2GnfP5dv+ZZved8/QRqkQRqE3z/mW77lW47fP0/sxE7slN8/Yyd2Yiee3z9IgzRIg6TfP6VBGqRBqt8/q6qqqqqy3z8GaZAGabjfP12+5Vu+vd8/uHzLt3zD3z+KndiJncjfP/qWb/mWz98/q6qqqqri3z+DNEiDNOjfP3D5lm/57t8/d2IndmL33z9WVVVVVf3fPw==",
          "dtype": "f8"
         },
         "xaxis": "x",
         "y": {
          "bdata": "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",
          "dtype": "f8"
         },
         "yaxis": "y"
        }
       ],
       "layout": {
        "legend": {
         "tracegroupgap": 0
        },
        "template": {
         "data": {
          "bar": [
           {
            "error_x": {
             "color": "#2a3f5f"
            },
            "error_y": {
             "color": "#2a3f5f"
            },
            "marker": {
             "line": {
              "color": "#E5ECF6",
              "width": 0.5
             },
             "pattern": {
              "fillmode": "overlay",
              "size": 10,
              "solidity": 0.2
             }
            },
            "type": "bar"
           }
          ],
          "barpolar": [
           {
            "marker": {
             "line": {
              "color": "#E5ECF6",
              "width": 0.5
             },
             "pattern": {
              "fillmode": "overlay",
              "size": 10,
              "solidity": 0.2
             }
            },
            "type": "barpolar"
           }
          ],
          "carpet": [
           {
            "aaxis": {
             "endlinecolor": "#2a3f5f",
             "gridcolor": "white",
             "linecolor": "white",
             "minorgridcolor": "white",
             "startlinecolor": "#2a3f5f"
            },
            "baxis": {
             "endlinecolor": "#2a3f5f",
             "gridcolor": "white",
             "linecolor": "white",
             "minorgridcolor": "white",
             "startlinecolor": "#2a3f5f"
            },
            "type": "carpet"
           }
          ],
          "choropleth": [
           {
            "colorbar": {
             "outlinewidth": 0,
             "ticks": ""
            },
            "type": "choropleth"
           }
          ],
          "contour": [
           {
            "colorbar": {
             "outlinewidth": 0,
             "ticks": ""
            },
            "colorscale": [
             [
              0,
              "#0d0887"
             ],
             [
              0.1111111111111111,
              "#46039f"
             ],
             [
              0.2222222222222222,
              "#7201a8"
             ],
             [
              0.3333333333333333,
              "#9c179e"
             ],
             [
              0.4444444444444444,
              "#bd3786"
             ],
             [
              0.5555555555555556,
              "#d8576b"
             ],
             [
              0.6666666666666666,
              "#ed7953"
             ],
             [
              0.7777777777777778,
              "#fb9f3a"
             ],
             [
              0.8888888888888888,
              "#fdca26"
             ],
             [
              1,
              "#f0f921"
             ]
            ],
            "type": "contour"
           }
          ],
          "contourcarpet": [
           {
            "colorbar": {
             "outlinewidth": 0,
             "ticks": ""
            },
            "type": "contourcarpet"
           }
          ],
          "heatmap": [
           {
            "colorbar": {
             "outlinewidth": 0,
             "ticks": ""
            },
            "colorscale": [
             [
              0,
              "#0d0887"
             ],
             [
              0.1111111111111111,
              "#46039f"
             ],
             [
              0.2222222222222222,
              "#7201a8"
             ],
             [
              0.3333333333333333,
              "#9c179e"
             ],
             [
              0.4444444444444444,
              "#bd3786"
             ],
             [
              0.5555555555555556,
              "#d8576b"
             ],
             [
              0.6666666666666666,
              "#ed7953"
             ],
             [
              0.7777777777777778,
              "#fb9f3a"
             ],
             [
              0.8888888888888888,
              "#fdca26"
             ],
             [
              1,
              "#f0f921"
             ]
            ],
            "type": "heatmap"
           }
          ],
          "histogram": [
           {
            "marker": {
             "pattern": {
              "fillmode": "overlay",
              "size": 10,
              "solidity": 0.2
             }
            },
            "type": "histogram"
           }
          ],
          "histogram2d": [
           {
            "colorbar": {
             "outlinewidth": 0,
             "ticks": ""
            },
            "colorscale": [
             [
              0,
              "#0d0887"
             ],
             [
              0.1111111111111111,
              "#46039f"
             ],
             [
              0.2222222222222222,
              "#7201a8"
             ],
             [
              0.3333333333333333,
              "#9c179e"
             ],
             [
              0.4444444444444444,
              "#bd3786"
             ],
             [
              0.5555555555555556,
              "#d8576b"
             ],
             [
              0.6666666666666666,
              "#ed7953"
             ],
             [
              0.7777777777777778,
              "#fb9f3a"
             ],
             [
              0.8888888888888888,
              "#fdca26"
             ],
             [
              1,
              "#f0f921"
             ]
            ],
            "type": "histogram2d"
           }
          ],
          "histogram2dcontour": [
           {
            "colorbar": {
             "outlinewidth": 0,
             "ticks": ""
            },
            "colorscale": [
             [
              0,
              "#0d0887"
             ],
             [
              0.1111111111111111,
              "#46039f"
             ],
             [
              0.2222222222222222,
              "#7201a8"
             ],
             [
              0.3333333333333333,
              "#9c179e"
             ],
             [
              0.4444444444444444,
              "#bd3786"
             ],
             [
              0.5555555555555556,
              "#d8576b"
             ],
             [
              0.6666666666666666,
              "#ed7953"
             ],
             [
              0.7777777777777778,
              "#fb9f3a"
             ],
             [
              0.8888888888888888,
              "#fdca26"
             ],
             [
              1,
              "#f0f921"
             ]
            ],
            "type": "histogram2dcontour"
           }
          ],
          "mesh3d": [
           {
            "colorbar": {
             "outlinewidth": 0,
             "ticks": ""
            },
            "type": "mesh3d"
           }
          ],
          "parcoords": [
           {
            "line": {
             "colorbar": {
              "outlinewidth": 0,
              "ticks": ""
             }
            },
            "type": "parcoords"
           }
          ],
          "pie": [
           {
            "automargin": true,
            "type": "pie"
           }
          ],
          "scatter": [
           {
            "fillpattern": {
             "fillmode": "overlay",
             "size": 10,
             "solidity": 0.2
            },
            "type": "scatter"
           }
          ],
          "scatter3d": [
           {
            "line": {
             "colorbar": {
              "outlinewidth": 0,
              "ticks": ""
             }
            },
            "marker": {
             "colorbar": {
              "outlinewidth": 0,
              "ticks": ""
             }
            },
            "type": "scatter3d"
           }
          ],
          "scattercarpet": [
           {
            "marker": {
             "colorbar": {
              "outlinewidth": 0,
              "ticks": ""
             }
            },
            "type": "scattercarpet"
           }
          ],
          "scattergeo": [
           {
            "marker": {
             "colorbar": {
              "outlinewidth": 0,
              "ticks": ""
             }
            },
            "type": "scattergeo"
           }
          ],
          "scattergl": [
           {
            "marker": {
             "colorbar": {
              "outlinewidth": 0,
              "ticks": ""
             }
            },
            "type": "scattergl"
           }
          ],
          "scattermap": [
           {
            "marker": {
             "colorbar": {
              "outlinewidth": 0,
              "ticks": ""
             }
            },
            "type": "scattermap"
           }
          ],
          "scattermapbox": [
           {
            "marker": {
             "colorbar": {
              "outlinewidth": 0,
              "ticks": ""
             }
            },
            "type": "scattermapbox"
           }
          ],
          "scatterpolar": [
           {
            "marker": {
             "colorbar": {
              "outlinewidth": 0,
              "ticks": ""
             }
            },
            "type": "scatterpolar"
           }
          ],
          "scatterpolargl": [
           {
            "marker": {
             "colorbar": {
              "outlinewidth": 0,
              "ticks": ""
             }
            },
            "type": "scatterpolargl"
           }
          ],
          "scatterternary": [
           {
            "marker": {
             "colorbar": {
              "outlinewidth": 0,
              "ticks": ""
             }
            },
            "type": "scatterternary"
           }
          ],
          "surface": [
           {
            "colorbar": {
             "outlinewidth": 0,
             "ticks": ""
            },
            "colorscale": [
             [
              0,
              "#0d0887"
             ],
             [
              0.1111111111111111,
              "#46039f"
             ],
             [
              0.2222222222222222,
              "#7201a8"
             ],
             [
              0.3333333333333333,
              "#9c179e"
             ],
             [
              0.4444444444444444,
              "#bd3786"
             ],
             [
              0.5555555555555556,
              "#d8576b"
             ],
             [
              0.6666666666666666,
              "#ed7953"
             ],
             [
              0.7777777777777778,
              "#fb9f3a"
             ],
             [
              0.8888888888888888,
              "#fdca26"
             ],
             [
              1,
              "#f0f921"
             ]
            ],
            "type": "surface"
           }
          ],
          "table": [
           {
            "cells": {
             "fill": {
              "color": "#EBF0F8"
             },
             "line": {
              "color": "white"
             }
            },
            "header": {
             "fill": {
              "color": "#C8D4E3"
             },
             "line": {
              "color": "white"
             }
            },
            "type": "table"
           }
          ]
         },
         "layout": {
          "annotationdefaults": {
           "arrowcolor": "#2a3f5f",
           "arrowhead": 0,
           "arrowwidth": 1
          },
          "autotypenumbers": "strict",
          "coloraxis": {
           "colorbar": {
            "outlinewidth": 0,
            "ticks": ""
           }
          },
          "colorscale": {
           "diverging": [
            [
             0,
             "#8e0152"
            ],
            [
             0.1,
             "#c51b7d"
            ],
            [
             0.2,
             "#de77ae"
            ],
            [
             0.3,
             "#f1b6da"
            ],
            [
             0.4,
             "#fde0ef"
            ],
            [
             0.5,
             "#f7f7f7"
            ],
            [
             0.6,
             "#e6f5d0"
            ],
            [
             0.7,
             "#b8e186"
            ],
            [
             0.8,
             "#7fbc41"
            ],
            [
             0.9,
             "#4d9221"
            ],
            [
             1,
             "#276419"
            ]
           ],
           "sequential": [
            [
             0,
             "#0d0887"
            ],
            [
             0.1111111111111111,
             "#46039f"
            ],
            [
             0.2222222222222222,
             "#7201a8"
            ],
            [
             0.3333333333333333,
             "#9c179e"
            ],
            [
             0.4444444444444444,
             "#bd3786"
            ],
            [
             0.5555555555555556,
             "#d8576b"
            ],
            [
             0.6666666666666666,
             "#ed7953"
            ],
            [
             0.7777777777777778,
             "#fb9f3a"
            ],
            [
             0.8888888888888888,
             "#fdca26"
            ],
            [
             1,
             "#f0f921"
            ]
           ],
           "sequentialminus": [
            [
             0,
             "#0d0887"
            ],
            [
             0.1111111111111111,
             "#46039f"
            ],
            [
             0.2222222222222222,
             "#7201a8"
            ],
            [
             0.3333333333333333,
             "#9c179e"
            ],
            [
             0.4444444444444444,
             "#bd3786"
            ],
            [
             0.5555555555555556,
             "#d8576b"
            ],
            [
             0.6666666666666666,
             "#ed7953"
            ],
            [
             0.7777777777777778,
             "#fb9f3a"
            ],
            [
             0.8888888888888888,
             "#fdca26"
            ],
            [
             1,
             "#f0f921"
            ]
           ]
          },
          "colorway": [
           "#636efa",
           "#EF553B",
           "#00cc96",
           "#ab63fa",
           "#FFA15A",
           "#19d3f3",
           "#FF6692",
           "#B6E880",
           "#FF97FF",
           "#FECB52"
          ],
          "font": {
           "color": "#2a3f5f"
          },
          "geo": {
           "bgcolor": "white",
           "lakecolor": "white",
           "landcolor": "#E5ECF6",
           "showlakes": true,
           "showland": true,
           "subunitcolor": "white"
          },
          "hoverlabel": {
           "align": "left"
          },
          "hovermode": "closest",
          "mapbox": {
           "style": "light"
          },
          "paper_bgcolor": "white",
          "plot_bgcolor": "#E5ECF6",
          "polar": {
           "angularaxis": {
            "gridcolor": "white",
            "linecolor": "white",
            "ticks": ""
           },
           "bgcolor": "#E5ECF6",
           "radialaxis": {
            "gridcolor": "white",
            "linecolor": "white",
            "ticks": ""
           }
          },
          "scene": {
           "xaxis": {
            "backgroundcolor": "#E5ECF6",
            "gridcolor": "white",
            "gridwidth": 2,
            "linecolor": "white",
            "showbackground": true,
            "ticks": "",
            "zerolinecolor": "white"
           },
           "yaxis": {
            "backgroundcolor": "#E5ECF6",
            "gridcolor": "white",
            "gridwidth": 2,
            "linecolor": "white",
            "showbackground": true,
            "ticks": "",
            "zerolinecolor": "white"
           },
           "zaxis": {
            "backgroundcolor": "#E5ECF6",
            "gridcolor": "white",
            "gridwidth": 2,
            "linecolor": "white",
            "showbackground": true,
            "ticks": "",
            "zerolinecolor": "white"
           }
          },
          "shapedefaults": {
           "line": {
            "color": "#2a3f5f"
           }
          },
          "ternary": {
           "aaxis": {
            "gridcolor": "white",
            "linecolor": "white",
            "ticks": ""
           },
           "baxis": {
            "gridcolor": "white",
            "linecolor": "white",
            "ticks": ""
           },
           "bgcolor": "#E5ECF6",
           "caxis": {
            "gridcolor": "white",
            "linecolor": "white",
            "ticks": ""
           }
          },
          "title": {
           "x": 0.05
          },
          "xaxis": {
           "automargin": true,
           "gridcolor": "white",
           "linecolor": "white",
           "ticks": "",
           "title": {
            "standoff": 15
           },
           "zerolinecolor": "white",
           "zerolinewidth": 2
          },
          "yaxis": {
           "automargin": true,
           "gridcolor": "white",
           "linecolor": "white",
           "ticks": "",
           "title": {
            "standoff": 15
           },
           "zerolinecolor": "white",
           "zerolinewidth": 2
          }
         }
        },
        "title": {
         "text": "Stress / Strain of tensile_tests/04.03.25_WT_idx1_already_stressed.csv"
        },
        "xaxis": {
         "anchor": "y",
         "domain": [
          0,
          1
         ],
         "title": {
          "text": "Strain (%)"
         }
        },
        "yaxis": {
         "anchor": "x",
         "domain": [
          0,
          1
         ],
         "title": {
          "text": "Stress (MPa)"
         }
        }
       }
      }
     },
     "metadata": {},
     "output_type": "display_data"
    }
   ],
   "source": [
    "# 7.8 initial distance, 2.8mm thickness\n",
    "# SAVE_FILENAME = \"tensile_tests/04.03.25_WT_idx1_already_stressed.csv\"\n",
    "# 5.2 initial distance, 6mm width, 0.8mm thickness\n",
    "filtered_df = calculate_stress_strain(\n",
    "    filename=filename,\n",
    "    df=df,\n",
    "    width=5,\n",
    "    thickness=2.8,\n",
    "    total_length=7.8,\n",
    "    init_distance=0.0,\n",
    "    final_distance=1.95,\n",
    ")"
   ]
  },
  {
   "cell_type": "code",
   "execution_count": null,
   "id": "9fcb437a",
   "metadata": {},
   "outputs": [
    {
     "name": "stdout",
     "output_type": "stream",
     "text": [
      "Failure Strain 0.2500 Peak Stress (MPa) 0.6660\n",
      "Young's Modulus 2.6640 MPa\n",
      "Total Toughness: 0.111815 J/m^3\n"
     ]
    },
    {
     "name": "stderr",
     "output_type": "stream",
     "text": [
      "/var/folders/_t/vlf4bw_n38x9ytx94_479wt80000gp/T/ipykernel_26403/155169248.py:57: SettingWithCopyWarning:\n",
      "\n",
      "\n",
      "A value is trying to be set on a copy of a slice from a DataFrame.\n",
      "Try using .loc[row_indexer,col_indexer] = value instead\n",
      "\n",
      "See the caveats in the documentation: https://pandas.pydata.org/pandas-docs/stable/user_guide/indexing.html#returning-a-view-versus-a-copy\n",
      "\n",
      "/var/folders/_t/vlf4bw_n38x9ytx94_479wt80000gp/T/ipykernel_26403/155169248.py:64: SettingWithCopyWarning:\n",
      "\n",
      "\n",
      "A value is trying to be set on a copy of a slice from a DataFrame.\n",
      "Try using .loc[row_indexer,col_indexer] = value instead\n",
      "\n",
      "See the caveats in the documentation: https://pandas.pydata.org/pandas-docs/stable/user_guide/indexing.html#returning-a-view-versus-a-copy\n",
      "\n",
      "/var/folders/_t/vlf4bw_n38x9ytx94_479wt80000gp/T/ipykernel_26403/155169248.py:69: FutureWarning:\n",
      "\n",
      "A value is trying to be set on a copy of a DataFrame or Series through chained assignment using an inplace method.\n",
      "The behavior will change in pandas 3.0. This inplace method will never work because the intermediate object on which we are setting values always behaves as a copy.\n",
      "\n",
      "For example, when doing 'df[col].method(value, inplace=True)', try using 'df.method({col: value}, inplace=True)' or df[col] = df[col].method(value) instead, to perform the operation inplace on the original object.\n",
      "\n",
      "\n",
      "\n",
      "/var/folders/_t/vlf4bw_n38x9ytx94_479wt80000gp/T/ipykernel_26403/155169248.py:69: SettingWithCopyWarning:\n",
      "\n",
      "\n",
      "A value is trying to be set on a copy of a slice from a DataFrame\n",
      "\n",
      "See the caveats in the documentation: https://pandas.pydata.org/pandas-docs/stable/user_guide/indexing.html#returning-a-view-versus-a-copy\n",
      "\n"
     ]
    }
   ],
   "source": [
    "calculate_youngs_modulus(filtered_df, final_strain=0.25, final_stress=0.666)"
   ]
  }
 ],
 "metadata": {
  "kernelspec": {
   "display_name": "cellulose_origami_2",
   "language": "python",
   "name": "python3"
  },
  "language_info": {
   "codemirror_mode": {
    "name": "ipython",
    "version": 3
   },
   "file_extension": ".py",
   "mimetype": "text/x-python",
   "name": "python",
   "nbconvert_exporter": "python",
   "pygments_lexer": "ipython3",
   "version": "3.10.16"
  }
 },
 "nbformat": 4,
 "nbformat_minor": 5
}
